{
  "nbformat": 4,
  "nbformat_minor": 0,
  "metadata": {
    "colab": {
      "provenance": [],
      "toc_visible": true
    },
    "kernelspec": {
      "name": "python3",
      "display_name": "Python 3"
    },
    "language_info": {
      "name": "python"
    }
  },
  "cells": [
    {
      "cell_type": "code",
      "execution_count": null,
      "metadata": {
        "id": "7Z8v5Ee2eTLX"
      },
      "outputs": [],
      "source": [
        "import pandas as pd\n",
        "import requests\n",
        "import json\n",
        "from joblib import Parallel, delayed"
      ]
    },
    {
      "cell_type": "code",
      "source": [
        "df = pd.read_csv(\"/content/cleaned_book_details (2).csv\")"
      ],
      "metadata": {
        "id": "o0pXGGpNel2u"
      },
      "execution_count": null,
      "outputs": []
    },
    {
      "cell_type": "code",
      "source": [
        "df.head()"
      ],
      "metadata": {
        "colab": {
          "base_uri": "https://localhost:8080/",
          "height": 380
        },
        "id": "px9rTCdbere3",
        "outputId": "88f6d494-a84f-4645-e030-4c8f8e0d80c3"
      },
      "execution_count": null,
      "outputs": [
        {
          "output_type": "execute_result",
          "data": {
            "text/plain": [
              "                                    book_name                author  \\\n",
              "0                      The 12.30 from Croydon  Freeman Wills Crofts   \n",
              "1  The Final Unfinished Voyage of Jack Aubrey       Patrick O'Brian   \n",
              "2                           30 Days in Sydney           Peter Carey   \n",
              "3                       The Thirty-Nine Steps           John Buchan   \n",
              "4                                 334 (novel)       Thomas M. Disch   \n",
              "\n",
              "           year_of_publishing  \\\n",
              "0                        1934   \n",
              "1                        2004   \n",
              "2  July 15, 2010 (2010-07-15)   \n",
              "3                     1915[1]   \n",
              "4      1972 (MacGibbon & Kee)   \n",
              "\n",
              "                                                plot  \\\n",
              "0  Set in Yorkshire and London in 1933, The 12.30...   \n",
              "1  The story begins with Surprise in the Strait o...   \n",
              "2  The book takes the form of an impressionistic,...   \n",
              "3  The story's narrator, Richard Hannay, arrives ...   \n",
              "4  The future in 334 has brought few technologica...   \n",
              "\n",
              "                        genre  \\\n",
              "0                     Mystery   \n",
              "1            Historical novel   \n",
              "2                         NaN   \n",
              "3             Adventure novel   \n",
              "4  Dystopian, science fiction   \n",
              "\n",
              "                                         description  \\\n",
              "0  The 12.30 from Croydon (U.S. title: Wilful and...   \n",
              "1  The Final Unfinished Voyage of Jack Aubrey is ...   \n",
              "2  30 Days in Sydney is a book written by Austral...   \n",
              "3  The Thirty-Nine Steps is a 1915 adventure nove...   \n",
              "4  334 is a 1972 dystopian science fiction novel ...   \n",
              "\n",
              "                   page_number  \n",
              "0                          NaN  \n",
              "1  144 first edition, hardback  \n",
              "2                          256  \n",
              "3                       253[1]  \n",
              "4                          201  "
            ],
            "text/html": [
              "\n",
              "  <div id=\"df-53d5ef60-f341-4da1-8ebd-01ebf479eaaf\" class=\"colab-df-container\">\n",
              "    <div>\n",
              "<style scoped>\n",
              "    .dataframe tbody tr th:only-of-type {\n",
              "        vertical-align: middle;\n",
              "    }\n",
              "\n",
              "    .dataframe tbody tr th {\n",
              "        vertical-align: top;\n",
              "    }\n",
              "\n",
              "    .dataframe thead th {\n",
              "        text-align: right;\n",
              "    }\n",
              "</style>\n",
              "<table border=\"1\" class=\"dataframe\">\n",
              "  <thead>\n",
              "    <tr style=\"text-align: right;\">\n",
              "      <th></th>\n",
              "      <th>book_name</th>\n",
              "      <th>author</th>\n",
              "      <th>year_of_publishing</th>\n",
              "      <th>plot</th>\n",
              "      <th>genre</th>\n",
              "      <th>description</th>\n",
              "      <th>page_number</th>\n",
              "    </tr>\n",
              "  </thead>\n",
              "  <tbody>\n",
              "    <tr>\n",
              "      <th>0</th>\n",
              "      <td>The 12.30 from Croydon</td>\n",
              "      <td>Freeman Wills Crofts</td>\n",
              "      <td>1934</td>\n",
              "      <td>Set in Yorkshire and London in 1933, The 12.30...</td>\n",
              "      <td>Mystery</td>\n",
              "      <td>The 12.30 from Croydon (U.S. title: Wilful and...</td>\n",
              "      <td>NaN</td>\n",
              "    </tr>\n",
              "    <tr>\n",
              "      <th>1</th>\n",
              "      <td>The Final Unfinished Voyage of Jack Aubrey</td>\n",
              "      <td>Patrick O'Brian</td>\n",
              "      <td>2004</td>\n",
              "      <td>The story begins with Surprise in the Strait o...</td>\n",
              "      <td>Historical novel</td>\n",
              "      <td>The Final Unfinished Voyage of Jack Aubrey is ...</td>\n",
              "      <td>144 first edition, hardback</td>\n",
              "    </tr>\n",
              "    <tr>\n",
              "      <th>2</th>\n",
              "      <td>30 Days in Sydney</td>\n",
              "      <td>Peter Carey</td>\n",
              "      <td>July 15, 2010 (2010-07-15)</td>\n",
              "      <td>The book takes the form of an impressionistic,...</td>\n",
              "      <td>NaN</td>\n",
              "      <td>30 Days in Sydney is a book written by Austral...</td>\n",
              "      <td>256</td>\n",
              "    </tr>\n",
              "    <tr>\n",
              "      <th>3</th>\n",
              "      <td>The Thirty-Nine Steps</td>\n",
              "      <td>John Buchan</td>\n",
              "      <td>1915[1]</td>\n",
              "      <td>The story's narrator, Richard Hannay, arrives ...</td>\n",
              "      <td>Adventure novel</td>\n",
              "      <td>The Thirty-Nine Steps is a 1915 adventure nove...</td>\n",
              "      <td>253[1]</td>\n",
              "    </tr>\n",
              "    <tr>\n",
              "      <th>4</th>\n",
              "      <td>334 (novel)</td>\n",
              "      <td>Thomas M. Disch</td>\n",
              "      <td>1972 (MacGibbon &amp; Kee)</td>\n",
              "      <td>The future in 334 has brought few technologica...</td>\n",
              "      <td>Dystopian, science fiction</td>\n",
              "      <td>334 is a 1972 dystopian science fiction novel ...</td>\n",
              "      <td>201</td>\n",
              "    </tr>\n",
              "  </tbody>\n",
              "</table>\n",
              "</div>\n",
              "    <div class=\"colab-df-buttons\">\n",
              "\n",
              "  <div class=\"colab-df-container\">\n",
              "    <button class=\"colab-df-convert\" onclick=\"convertToInteractive('df-53d5ef60-f341-4da1-8ebd-01ebf479eaaf')\"\n",
              "            title=\"Convert this dataframe to an interactive table.\"\n",
              "            style=\"display:none;\">\n",
              "\n",
              "  <svg xmlns=\"http://www.w3.org/2000/svg\" height=\"24px\" viewBox=\"0 -960 960 960\">\n",
              "    <path d=\"M120-120v-720h720v720H120Zm60-500h600v-160H180v160Zm220 220h160v-160H400v160Zm0 220h160v-160H400v160ZM180-400h160v-160H180v160Zm440 0h160v-160H620v160ZM180-180h160v-160H180v160Zm440 0h160v-160H620v160Z\"/>\n",
              "  </svg>\n",
              "    </button>\n",
              "\n",
              "  <style>\n",
              "    .colab-df-container {\n",
              "      display:flex;\n",
              "      gap: 12px;\n",
              "    }\n",
              "\n",
              "    .colab-df-convert {\n",
              "      background-color: #E8F0FE;\n",
              "      border: none;\n",
              "      border-radius: 50%;\n",
              "      cursor: pointer;\n",
              "      display: none;\n",
              "      fill: #1967D2;\n",
              "      height: 32px;\n",
              "      padding: 0 0 0 0;\n",
              "      width: 32px;\n",
              "    }\n",
              "\n",
              "    .colab-df-convert:hover {\n",
              "      background-color: #E2EBFA;\n",
              "      box-shadow: 0px 1px 2px rgba(60, 64, 67, 0.3), 0px 1px 3px 1px rgba(60, 64, 67, 0.15);\n",
              "      fill: #174EA6;\n",
              "    }\n",
              "\n",
              "    .colab-df-buttons div {\n",
              "      margin-bottom: 4px;\n",
              "    }\n",
              "\n",
              "    [theme=dark] .colab-df-convert {\n",
              "      background-color: #3B4455;\n",
              "      fill: #D2E3FC;\n",
              "    }\n",
              "\n",
              "    [theme=dark] .colab-df-convert:hover {\n",
              "      background-color: #434B5C;\n",
              "      box-shadow: 0px 1px 3px 1px rgba(0, 0, 0, 0.15);\n",
              "      filter: drop-shadow(0px 1px 2px rgba(0, 0, 0, 0.3));\n",
              "      fill: #FFFFFF;\n",
              "    }\n",
              "  </style>\n",
              "\n",
              "    <script>\n",
              "      const buttonEl =\n",
              "        document.querySelector('#df-53d5ef60-f341-4da1-8ebd-01ebf479eaaf button.colab-df-convert');\n",
              "      buttonEl.style.display =\n",
              "        google.colab.kernel.accessAllowed ? 'block' : 'none';\n",
              "\n",
              "      async function convertToInteractive(key) {\n",
              "        const element = document.querySelector('#df-53d5ef60-f341-4da1-8ebd-01ebf479eaaf');\n",
              "        const dataTable =\n",
              "          await google.colab.kernel.invokeFunction('convertToInteractive',\n",
              "                                                    [key], {});\n",
              "        if (!dataTable) return;\n",
              "\n",
              "        const docLinkHtml = 'Like what you see? Visit the ' +\n",
              "          '<a target=\"_blank\" href=https://colab.research.google.com/notebooks/data_table.ipynb>data table notebook</a>'\n",
              "          + ' to learn more about interactive tables.';\n",
              "        element.innerHTML = '';\n",
              "        dataTable['output_type'] = 'display_data';\n",
              "        await google.colab.output.renderOutput(dataTable, element);\n",
              "        const docLink = document.createElement('div');\n",
              "        docLink.innerHTML = docLinkHtml;\n",
              "        element.appendChild(docLink);\n",
              "      }\n",
              "    </script>\n",
              "  </div>\n",
              "\n",
              "\n",
              "<div id=\"df-560c0316-7e21-4e6f-a913-b37f660677c5\">\n",
              "  <button class=\"colab-df-quickchart\" onclick=\"quickchart('df-560c0316-7e21-4e6f-a913-b37f660677c5')\"\n",
              "            title=\"Suggest charts\"\n",
              "            style=\"display:none;\">\n",
              "\n",
              "<svg xmlns=\"http://www.w3.org/2000/svg\" height=\"24px\"viewBox=\"0 0 24 24\"\n",
              "     width=\"24px\">\n",
              "    <g>\n",
              "        <path d=\"M19 3H5c-1.1 0-2 .9-2 2v14c0 1.1.9 2 2 2h14c1.1 0 2-.9 2-2V5c0-1.1-.9-2-2-2zM9 17H7v-7h2v7zm4 0h-2V7h2v10zm4 0h-2v-4h2v4z\"/>\n",
              "    </g>\n",
              "</svg>\n",
              "  </button>\n",
              "\n",
              "<style>\n",
              "  .colab-df-quickchart {\n",
              "      --bg-color: #E8F0FE;\n",
              "      --fill-color: #1967D2;\n",
              "      --hover-bg-color: #E2EBFA;\n",
              "      --hover-fill-color: #174EA6;\n",
              "      --disabled-fill-color: #AAA;\n",
              "      --disabled-bg-color: #DDD;\n",
              "  }\n",
              "\n",
              "  [theme=dark] .colab-df-quickchart {\n",
              "      --bg-color: #3B4455;\n",
              "      --fill-color: #D2E3FC;\n",
              "      --hover-bg-color: #434B5C;\n",
              "      --hover-fill-color: #FFFFFF;\n",
              "      --disabled-bg-color: #3B4455;\n",
              "      --disabled-fill-color: #666;\n",
              "  }\n",
              "\n",
              "  .colab-df-quickchart {\n",
              "    background-color: var(--bg-color);\n",
              "    border: none;\n",
              "    border-radius: 50%;\n",
              "    cursor: pointer;\n",
              "    display: none;\n",
              "    fill: var(--fill-color);\n",
              "    height: 32px;\n",
              "    padding: 0;\n",
              "    width: 32px;\n",
              "  }\n",
              "\n",
              "  .colab-df-quickchart:hover {\n",
              "    background-color: var(--hover-bg-color);\n",
              "    box-shadow: 0 1px 2px rgba(60, 64, 67, 0.3), 0 1px 3px 1px rgba(60, 64, 67, 0.15);\n",
              "    fill: var(--button-hover-fill-color);\n",
              "  }\n",
              "\n",
              "  .colab-df-quickchart-complete:disabled,\n",
              "  .colab-df-quickchart-complete:disabled:hover {\n",
              "    background-color: var(--disabled-bg-color);\n",
              "    fill: var(--disabled-fill-color);\n",
              "    box-shadow: none;\n",
              "  }\n",
              "\n",
              "  .colab-df-spinner {\n",
              "    border: 2px solid var(--fill-color);\n",
              "    border-color: transparent;\n",
              "    border-bottom-color: var(--fill-color);\n",
              "    animation:\n",
              "      spin 1s steps(1) infinite;\n",
              "  }\n",
              "\n",
              "  @keyframes spin {\n",
              "    0% {\n",
              "      border-color: transparent;\n",
              "      border-bottom-color: var(--fill-color);\n",
              "      border-left-color: var(--fill-color);\n",
              "    }\n",
              "    20% {\n",
              "      border-color: transparent;\n",
              "      border-left-color: var(--fill-color);\n",
              "      border-top-color: var(--fill-color);\n",
              "    }\n",
              "    30% {\n",
              "      border-color: transparent;\n",
              "      border-left-color: var(--fill-color);\n",
              "      border-top-color: var(--fill-color);\n",
              "      border-right-color: var(--fill-color);\n",
              "    }\n",
              "    40% {\n",
              "      border-color: transparent;\n",
              "      border-right-color: var(--fill-color);\n",
              "      border-top-color: var(--fill-color);\n",
              "    }\n",
              "    60% {\n",
              "      border-color: transparent;\n",
              "      border-right-color: var(--fill-color);\n",
              "    }\n",
              "    80% {\n",
              "      border-color: transparent;\n",
              "      border-right-color: var(--fill-color);\n",
              "      border-bottom-color: var(--fill-color);\n",
              "    }\n",
              "    90% {\n",
              "      border-color: transparent;\n",
              "      border-bottom-color: var(--fill-color);\n",
              "    }\n",
              "  }\n",
              "</style>\n",
              "\n",
              "  <script>\n",
              "    async function quickchart(key) {\n",
              "      const quickchartButtonEl =\n",
              "        document.querySelector('#' + key + ' button');\n",
              "      quickchartButtonEl.disabled = true;  // To prevent multiple clicks.\n",
              "      quickchartButtonEl.classList.add('colab-df-spinner');\n",
              "      try {\n",
              "        const charts = await google.colab.kernel.invokeFunction(\n",
              "            'suggestCharts', [key], {});\n",
              "      } catch (error) {\n",
              "        console.error('Error during call to suggestCharts:', error);\n",
              "      }\n",
              "      quickchartButtonEl.classList.remove('colab-df-spinner');\n",
              "      quickchartButtonEl.classList.add('colab-df-quickchart-complete');\n",
              "    }\n",
              "    (() => {\n",
              "      let quickchartButtonEl =\n",
              "        document.querySelector('#df-560c0316-7e21-4e6f-a913-b37f660677c5 button');\n",
              "      quickchartButtonEl.style.display =\n",
              "        google.colab.kernel.accessAllowed ? 'block' : 'none';\n",
              "    })();\n",
              "  </script>\n",
              "</div>\n",
              "    </div>\n",
              "  </div>\n"
            ],
            "application/vnd.google.colaboratory.intrinsic+json": {
              "type": "dataframe",
              "variable_name": "df",
              "summary": "{\n  \"name\": \"df\",\n  \"rows\": 2060,\n  \"fields\": [\n    {\n      \"column\": \"book_name\",\n      \"properties\": {\n        \"dtype\": \"string\",\n        \"num_unique_values\": 2030,\n        \"samples\": [\n          \"The Phantom Tollbooth\",\n          \"Lanark: A Life in Four Books\",\n          \"The Horse and His Boy\"\n        ],\n        \"semantic_type\": \"\",\n        \"description\": \"\"\n      }\n    },\n    {\n      \"column\": \"author\",\n      \"properties\": {\n        \"dtype\": \"category\",\n        \"num_unique_values\": 966,\n        \"samples\": [\n          \"Charles G. Finney\",\n          \"Richard Yates\",\n          \"James De Mille\"\n        ],\n        \"semantic_type\": \"\",\n        \"description\": \"\"\n      }\n    },\n    {\n      \"column\": \"year_of_publishing\",\n      \"properties\": {\n        \"dtype\": \"string\",\n        \"num_unique_values\": 1073,\n        \"samples\": [\n          \"October 1942\",\n          \"1925[1]\",\n          \"2011\"\n        ],\n        \"semantic_type\": \"\",\n        \"description\": \"\"\n      }\n    },\n    {\n      \"column\": \"plot\",\n      \"properties\": {\n        \"dtype\": \"string\",\n        \"num_unique_values\": 2030,\n        \"samples\": [\n          \"Milo is a boy bored by the world around him; every activity seems a waste of time.  He arrives home from another boring day at school to find a mysterious package. Among its contents are a small tollbooth and a map of \\\"the Lands Beyond\\\", illustrating the Kingdom of Wisdom (which will also guide the reader from its place on the endpapers of the book). Attached to the package is a note \\\"For Milo, who has plenty of time.\\\" Warned by an included sign to have his destination in mind, he decides without much thought to go to Dictionopolis, assuming this is a pretend game to be played on the floor of his room. He maneuvers through the tollbooth in his electric toy car and instantly finds himself driving on a road that is clearly not in his city apartment.\\n\\nMilo begins with Expectations, a pleasant place where he starts on Wisdom's road. In Expectations, he seeks directions from the Whether Man, who is full of endless talk. As Milo drives on, he daydreams and gets lost in the Doldrums, a colorless place where nothing ever happens. Milo soon joins the inhabitants, the Lethargarians, in killing time there, a pastime angrily interrupted by the arrival of Tock, a talking, oversized dog with an alarm clock on each side (a \\\"watchdog\\\"), who tells Milo that only by thinking can he get out of the Doldrums. Head abuzz with unaccustomed thoughts, Milo is soon back on his road, and Tock joins him on his journey through Wisdom.\\n\\nMilo and Tock travel to Dictionopolis, one of two capital cities of the divided Kingdom of Wisdom and home to King Azaz the Unabridged. They meet King Azaz's cabinet officials and visit the Word Market, where the words and letters are sold that empower the world. A fight between the Spelling Bee and the blustering Humbug breaks up the market, and Milo and Tock are arrested by the very short Officer Shrift. In prison, Milo meets Faintly Macabre, the Not-so-Wicked Which (not to be confused with Witch), long in charge of which words should be used in Wisdom. She tells him how the two rulers, King Azaz and his brother, the Mathemagician, had two adopted younger sisters, Rhyme and Reason, to whom everyone came to settle disputes. All lived in harmony until the rulers disagreed with the princesses' decision that letters (championed by Azaz) and numbers (by the Mathemagician) were equally important. They banished the princesses to the Castle in the Air and, since then, the land has had neither Rhyme nor Reason.\\n\\nMilo and Tock leave the dungeon. King Azaz hosts them at a banquet where the guests literally eat their words, served to them on plates. After the meal, King Azaz lets Milo and Tock talk themselves into a dangerous quest to rescue the princesses. Azaz flatters the Humbug into being their guide, and boy, dog and insect set off for the Mathemagician's capital of Digitopolis as they must gain his approval before they can begin their quest.\\n\\nAlong the way, they meet such characters as Alec Bings, a little boy suspended in the air who sees through things and who will grow down until he reaches the ground. He then meets the world's smallest giant, the world's biggest dwarf, the world's thinnest fat man, and the world's fattest thin man, who turn out to just be one regular man. Milo then loses time in substituting for Chroma the Great, a conductor whose orchestra creates the colors of the world.\\n\\nThey meet a twelve-sided creature called the Dodecahedron, who leads them to Digitopolis. There, they meet the Mathemagician, who is still angry at Azaz and who will not give his blessing to anything that his brother has approved. Milo maneuvers him into saying he will permit the quest if the boy can show the two have concurred on anything since they banished the princesses. To the number wizard's shock, Milo proves that the two have agreed to disagree, and the Mathemagician gives his reluctant consent.\\n\\nIn the Mountains of Ignorance, the journeyers contend with demons like the Terrible Trivium and the Gelatinous Giant. After overcoming obstacles and their own fears, they reach the Castle in the Air. Princesses Rhyme and Reason welcome Milo and agree to return to Wisdom. Unable to enter the castle, the demons cut it loose, letting it drift away, but Milo realizes Tock can carry them down because 'time flies'. The demons pursue, but the armies of Wisdom arrive and repel them. Rhyme and Reason heal the divisions in the old Kingdom of Wisdom, Azaz and the Mathemagician are reconciled, and all enjoy a three-day celebration.\\n\\nMilo says goodbye and drives back through the tollbooth. Suddenly he is back in his own room, and discovers he has been gone only an hour, though his journey seemed to take weeks. He awakens the next day with plans to return to the kingdom, but finds the tollbooth gone when he gets home from school. A note instead is there, \\\"For Milo, who now knows the way.\\\" The note states that the tollbooth is being sent to another child who needs help finding direction in life. Milo is somewhat disappointed but agrees and looks at a now-interesting world around him, concluding that even if he found a way back, he might not have time to go, for there is so much to do right where he is.\\n\\nArchitect Norton Juster was living in his hometown of Brooklyn, after three years in the Navy.[5] In June 1960, he gained a $5,000 grant from the Ford Foundation to write a children's book about cities.[6] Juster argued that the young baby boomers would soon have responsibility for the cities, and many lived in the suburbs and did not know them. In his proposal, he said he wanted \\\"to stimulate and heighten perception\\u00a0\\u2013 to help children notice and appreciate the visual world around them\\u00a0\\u2013 to help excite them and shape their interest in an environment they will eventually reshape.\\\"[7] Beginning with great enthusiasm, he ground to a halt with too many notes and too little progress. He took a weekend break with friends at Fire Island, and came back determined to put aside the cities book and seek inspiration in another writing project.[5]\\n\\nJuster's guilt over his lack of progress on the cities book had led him to write pieces of stories about a little boy named Milo,[9] which he began to develop into a book.\\nJuster quit his job so that he could work on the book.[10] His imagination fired by a boy who approached him on the street and with whom he discussed the nature of infinity, Juster wanted to finish the story about \\\"a boy who asked too many questions\\\" before returning to the book on cities.[11] Juster shared his house in Brooklyn Heights with cartoonist Jules Feiffer whose bedroom was immediately below, and who could hear him pacing in the night. Feiffer was surprised to learn that his friend's insomnia was not caused by the cities book, but by a book about a boy. Juster showed Feiffer the draft to date and, unbidden, the artist began sketching illustrations. Feiffer knew Judy Sheftel, who put deals together in the publishing trade and was his future bride. Sheftel got Jason Epstein, an innovative editor at Random House with a deep appreciation for children's literature, to agree to review the manuscript.[12] Some at Random House considered the book's vocabulary too difficult: at the time, educators advised against children's literature containing words the target audience did not already know, fearing the unfamiliar would discourage young learners.[5] Based on seven chapters of manuscript, plus a three-page outline of the rest of the story, Epstein bought the book.[13]\\n\\nSince Juster did the cooking for the housemates, if Feiffer wanted to eat, he had to do the drawings.[14] Feiffer quickly realized the book would require illustrations of the type and quality that John Tenniel had created for Lewis Carroll's Alice's Adventures in Wonderland and although a nationally known artist, doubted his competence to do the text justice.[15] Feiffer considers the double-spread illustration of demons late in the book to be a success and one of his favorites. It differs from his usual style (which would involve a white background), and instead uses Gustave Dor\\u00e9's drawings as an inspiration.[16]\\n\\nIt became a game, with Feiffer trying to draw things the way he wanted, and Juster trying to describe things that were impossible to sketch.[17] These included the Triple Demons of Compromise\\u2014one short and fat, one tall and thin, and the third exactly like the first two.[18] Feiffer got his revenge by depicting the author as the Whether Man, clad in a toga.[19]\\n\\nRepeated edits altered the protagonist's name (originally Tony), removed his parents entirely from the book, and deleted text attempting to describe how the tollbooth package had been delivered.  Milo's age was removed from the text\\u2014early drafts have him aged eight or nine\\u2014as Juster decided not to state it, lest potential readers decide they were too old to care.[20]\\n\\nSince no one has ever bothered to explain the importance of learning to Milo, he regards school as the biggest waste of time in his life.[21] Juster intended that the book speak to the importance of learning to love learning.[5] Teaching methods that might bore children, by memorization for example, are mocked in the book, as in the case of the Spelling Bee. Like the Bee, the Humbug's insult to his fellow insect goes over Milo's head, but possibly not the reader's: \\\"A slavish concern for the composition of words is the sign of a bankrupt intellect.\\\"[21][22] According to Mary Liston in her journal article on law in fantasy realms, \\\"The Phantom Tollbooth concerns the difference between education and wisdom and what processes are conducive to synthesizing both, so as to encourage an attitude of engagement, alertness, and responsibility within an increasingly autonomous individual.\\\"[23]\",\n          \"Lanark comprises four books, arranged in the order Three, One, Two, Four (there is also a Prologue before Book One, and an Epilogue four chapters before the end of the book).   In the Epilogue, the author explains this by saying that \\\"I want Lanark to be read in one order but eventually thought of in another\\\", and that the epilogue itself is \\\"too important\\\" to go at the end.[5]:\\u200a483\\u200a\\n\\nIn Book Three, a young man awakes alone in a train carriage. He has no memory of his past and picks his name from a strangely familiar photograph on the wall. He soon arrives in Unthank, a strange Glasgow-like  city in which there is no daylight and whose disappearing residents suffer from strange diseases, orifices growing on their limbs and body heat fading away. Lanark begins to associate with a group of twenty-somethings to whom he cannot fully relate and whose mores he cannot understand, and soon begins to suffer from dragonhide, a disease which turns his skin into scales as an external manifestation of his emotional repression. Lanark is eventually swallowed by a mouth in the earth, and awakes in the Institute, a sort of hospital which cures patients of their diseases but uses the hopeless cases for power and food. Upon learning this, Lanark is horrified and determines to leave.\\n\\nBooks One and Two constitute a realist Bildungsroman beginning in pre-war Glasgow, and tell the story of Duncan Thaw (\\\"based on myself, he was tougher and more honest\\\"), a difficult and precocious child born to impecunious and frustrated parents in the East End of Glasgow. The book follows Thaw's wartime evacuation, secondary education and his scholarship to the Glasgow School of Art, where his inability to form relationships with women and his obsessive artistic vision lead to his descent into madness and eventual suicide by drowning.\\n\\nBook Four sees Lanark begin a bizarre, dreamlike journey back to Unthank, which he finds on the point of total disintegration, wracked by political strife, avarice, paranoia and economic meltdown, all of which he is unable to prevent. In the course of the journey, during which he meets his author, he rapidly ages. He finally finds himself old, sitting in a hilltop cemetery as Unthank breaks down in an apocalypse of fire and flood, and, his time of death having been revealed to him, he ends the book calmly awaiting it.\\n\\nLanark could be viewed as Thaw in a personal Hell. (Thaw drowns in the sea; Lanark arrives in Unthank with the same belongings, and seashells and sand in his pockets.) The connection between the two narratives is ambiguous; Gray said that \\\"One is a highly exaggerated form of just about the everyday reality of the other\\\"[6] (for example, Thaw's eczema is mirrored by Lanark's skin disease 'dragonhide').  He also writes in the novel itself: \\\"The Thaw narrative shows a man dying because he is bad at loving. It is enclosed by [Lanark's] narrative which shows civilization collapsing for the same reason\\\"[5]:\\u200a484\\u200a and (spoken to Lanark) \\\"You are Thaw with the neurotic imagination trimmed off and built into the furniture of the world you occupy\\\".[5]:\\u200a493\\u200a He also writes: \\\"The plots of the Thaw and Lanark sections are independent of each other and cemented by typographical contrivances rather than formal necessity. A possible explanation is that the author thinks a heavy book will make a bigger splash than two light ones\\\".[5]:\\u200a493\\u200a\\n\\nOne of the most characteristically postmodern parts of the book is the Epilogue, in which Lanark meets the author in the guise of the character \\\"Nastler\\\". He makes the first two remarks about the book quoted above, and anticipates criticism of the work and of the Epilogue in particular, saying \\\"The critics will accuse me of self-indulgence, but I don't care\\\". An Index of Plagiarisms is printed in the margins of the discussion. For instance, Gray describes much of Lanark as an extended 'Difplag' (diffuse plagiarism) of Charles Kingsley's The Water Babies. Some of the supposed plagiarisms refer to non-existent chapters of the book.\\n\\nThe Unthank parts of the book may be considered as part of the \\\"social-commentary\\\" tradition of science fiction, and Lanark has often been compared with Nineteen Eighty-Four by George Orwell.[7]\\n\\nGray added an appendix to the 2001 edition of the novel, in which he included a brief biography and elaborated on some of the influences on and inspirations for the novel. He cited Kafka as a major influence on the atmosphere of the novel. He also referred to his own experiences in the media industry which he states is reflected in Lanark's numerous encounters in labyrinthine buildings with individuals talking in jargon. The Institute he describes as a combination of Wyndham Lewis's conception of Hell in Malign Fiesta along with three real-life structures: the London Underground, Stobhill Hospital in Glasgow and BBC Television Centre in London. More immediately evident inspiration can be seen in the cathedral and necropolis episodes in Unthank, whose proximity to an urban tangle of roads is mirrored in Glasgow's real-life Townhead area. Glasgow Cathedral is yards away from the Necropolis to the east and the M8 motorway (and unfinished Inner Ring Road) to the north and west. Gray said Glasgow Cathedral was the only location he purposefully visited to make notes about during the writing of the novel; all other locations he wrote about from memory.[8]\\n\\nGray began writing the novel as a student in 1954. Book One was written by 1963, but he was unsuccessful in getting it published.  The whole work was finished in 1976, typeset by the Kingsport Press in Kingsport, Tennessee, [9] and published in 1981 by the Scottish publisher Canongate Press. The novel was an immediate critical success.[10][11]\\n\\nAn adaptation of Lanark by Alastair Cording was staged by Glasgow's Tag Theatre Company at the Assembly Hall, Edinburgh, during the Edinburgh International Festival in August 1995.[12] An adaptation entitled Lanark: A Life in Three Acts, written by David Greig and directed by Graham Eatough, was produced and performed at the Edinburgh International Festival in 2015.[13][14]\\n\\nCraig, Cairns (1981), Going Down to Hell is Easy, review of Alasdair Gray's Lanark, in Murray, Glen (ed.), Cencrastus No. 6, Autumn 1981, pp. 19 - 21\",\n          \"Shasta is a boy who lives in southern Calormen with Arsheesh, an abusive fisherman, whom Shasta believes to be his father. A powerful nobleman demands hospitality one evening, and haggles with Arsheesh to buy Shasta as his slave. It emerges that Arsheesh is not Shasta's father, having found him in a washed-up boat as a baby. In the stable, Bree, the nobleman's stallion, astounds the boy by speaking. He tells Shasta that the nobleman is very cruel to his slaves, and suggests they both flee to his homeland of Narnia, from where he was captured as a foal. Shasta agrees, and they sneak away at night.\\n\\nAfter weeks of northwards travel, during which the two companions bond, a brief chase to escape lions leads to their meeting another pair of refugees: another Narnian Talking Horse, the mare Hwin, who like Bree desires to return home, and Aravis, a young noblewoman who wants to escape a political marriage to Ahoshta, the ugly Grand Vizier. Although Shasta and Aravis immediately dislike each other, the four decide to travel together. In Tashbaan, the capital of Calormen, a party of Narnians mistake Shasta for Corin, the prince of Archenland, a Narnian ally, who has gone missing. Taken from the others, Shasta overhears the Narnians planning to escape Calormen to prevent a forced marriage between Queen Susan and Rabadash, son of the Tisroc, the Calormen ruler. Shasta escapes when Corin returns, but not before learning of a hidden route through the desert.\\n\\nMeanwhile, Aravis is spotted by her friend Lasaraleen, who helps Aravis escape through the Tisroc's garden, although she cannot understand Aravis' motives. On the way, they overhear the Tisroc discussing the Narnians' escape with Rabadash and Ahoshta. The Tisroc gives Rabadash permission to raid Archenland and Narnia to kidnap Queen Susan while High King Peter is away battling giants in the north, but notes that he cannot openly support such a raid and will renounce Rabadash if he fails. The four fugitives reunite at a necropolis where Shasta has had supernatural dreams. Pooling their information, they set out across the desert along the hidden route to warn Archenland; they are again chased by a lion, which injures Aravis. \\n\\nA hermit tends to Aravis' wounds, while Shasta carries on, on foot. He finds Lune, King of Archenland, and warns him of the raiders. He is separated from Lune in thick fog and encounters an unseen presence, who claims to have been not only the lion who injured Aravis, but also the lion who caused the four to join forces, and even the one who guided Shasta's boat to Arsheesh. The presence disappears, and Shasta finds himself in Narnia. He again meets Corin, who is travelling southwards with the Narnian party (who escaped from Calormen successfully) to assist Archenland. The Narnians, led by King Edmund and Queen Lucy, arrive at the Archenland capital of Anvard, and defeat the Calormenes, who were unable to take the castle because of Shasta's warning. Rabadash is captured and most of his men are killed, including Bree's old master. In the aftermath, Aslan appears and turns Rabadash into a donkey after he refuses to accept defeat. His human form is restored when he returns to Tashbaan, but thereafter he is forbidden to travel more than ten miles from the city, on pain of permanent transformation. His reign as Tisroc is therefore very peaceful despite earning the nickname \\\"Rabadash the Ridiculous.\\\"\\n\\nLune realizes that Shasta is his son Cor, the long-lost identical twin of Prince Corin and the heir to the Archenland throne. Cor had been kidnapped as a baby in an attempt to thwart a prophecy which foretold that he would save Archenland from its greatest peril. He was lost at sea in the ensuing battle to rescue him, but Aslan made sure that the baby found his way to Arsheesh. Shasta's warning fulfilled the prophecy. Corin is delighted that Shasta is heir, as he did not want to be king. Aravis and Cor eventually marry and rule Archenland after Lune's death. Their son, Ram, becomes the most famous king of Archenland. Bree and Hwin found love separately after returning to Narnia and all four would reunite regularly.\\n\\nAfter meeting King Lune of Archenland and warning him of the impending Calormene invasion, Shasta becomes lost in a fog and separated from the Archenlanders. While walking in the fog, he senses a mysterious presence nearby.  Engaging in conversation with the unknown being, Shasta tells of his misfortunes, including twice being chased by lions. His companion, who turns out to be Aslan, responds as follows:\\n\\nThe incidents which Shasta perceived as misfortunes were orchestrated by Aslan, in his Divine Providence, for greater purposes.[6][7]\\n\\nBree and Shasta use the phrase \\\"Narnia and the North\\\" as their \\\"rallying cry\\\" as they make their escape from their life in Calormen. They are both motivated by a deep longing to find their way to their true homeland. In the setting of The Horse and His Boy, the reader finds a departure from the landscapes, culture, and people of the Narnian realms which have become familiar in the other books. The placement of the action in the realm of Calormen helps to convey a sense of \\\"unbelonging\\\" on the part of the characters and the reader, which reinforces the motif of longing for a true home.[8]\\n\\nThe association of Cor with horses, and his twin brother Corin with boxing, recalls the traditional associations of the Spartan twins Castor and Pollux of Greek mythology.[9]\\n\\nResearcher Ruth North has noted that the plot element of a sinful human being transformed into a donkey as a punishment and then restored to humanity as an act of Divine mercy is reminiscent of The Golden Ass by Apuleius, a classic of Latin literature.[10]\\n\\nBBC Radio 4 dramatised The Chronicles of Narnia, including The Horse and His Boy, in 1998. The dramatisation is entitled \\\"The Complete Chronicles of Narnia: The Classic BBC Radio 4 Full-Cast Dramatisations\\\".[11]\\n\\nFocus on the Family produced an audio dramatisation of The Horse and His Boy in 2000.[12]\\n\\nWalden Media made movie adaptations of The Lion, the Witch and the Wardrobe, Prince Caspian and The Voyage of the Dawn Treader. Walden Media obtained an option to make The Chronicles of Narnia: The Horse and His Boy in the future.[13]\\n\\nIn 2022, The Logos Theater, of Taylors, South Carolina, created a stage adaptation of The Horse and His Boy, with later performances at the Museum of the Bible[14] and Ark Encounter.[15]\"\n        ],\n        \"semantic_type\": \"\",\n        \"description\": \"\"\n      }\n    },\n    {\n      \"column\": \"genre\",\n      \"properties\": {\n        \"dtype\": \"category\",\n        \"num_unique_values\": 593,\n        \"samples\": [\n          \"War novel\",\n          \"Historical novel, speculative fiction\",\n          \"Dystopian[2]\"\n        ],\n        \"semantic_type\": \"\",\n        \"description\": \"\"\n      }\n    },\n    {\n      \"column\": \"description\",\n      \"properties\": {\n        \"dtype\": \"string\",\n        \"num_unique_values\": 2006,\n        \"samples\": [\n          \"The Toy Collector is a novel written by James Gunn, published by Bloomsbury Publishing in 2000. It is the story of a hospital orderly who steals drugs from the hospital which he sells to help keep his toy collection habit alive. Although the work is fictional, the name of the protagonist is James Gunn.\",\n          \"The Eagle Has Landed is a book by British writer Jack Higgins, set during World War II and first published in 1975.[1] It was quickly adapted into a British film of the same name, released in 1976.\",\n          \"Crossings is a 1982 novel that was written by American Danielle Steel. It is Steel's 13th novel. It was adapted into a six-part miniseries of the same name in 1986.[1]\"\n        ],\n        \"semantic_type\": \"\",\n        \"description\": \"\"\n      }\n    },\n    {\n      \"column\": \"page_number\",\n      \"properties\": {\n        \"dtype\": \"string\",\n        \"num_unique_values\": 1087,\n        \"samples\": [\n          \"69 pp\",\n          \"320 pp\",\n          \"186 pp\"\n        ],\n        \"semantic_type\": \"\",\n        \"description\": \"\"\n      }\n    }\n  ]\n}"
            }
          },
          "metadata": {},
          "execution_count": 3
        }
      ]
    },
    {
      "cell_type": "code",
      "source": [
        "index_longest_plot = df['plot'].str.len().argmax()\n",
        "longest_plot = df.at[index_longest_plot, 'plot']\n",
        "\n",
        "print(f\"The longest plot:\\n\\n{longest_plot}\")"
      ],
      "metadata": {
        "colab": {
          "base_uri": "https://localhost:8080/"
        },
        "id": "IB14SmjJqwD_",
        "outputId": "dc4196b2-4087-4428-840f-0e1bcce086f6"
      },
      "execution_count": null,
      "outputs": [
        {
          "output_type": "stream",
          "name": "stdout",
          "text": [
            "The longest plot:\n",
            "\n",
            "The story follows the life of David Copperfield from childhood to maturity. David was born in Blunderstone, Suffolk, England, six months after the death of his father. David spends his early years residing in a small house called the Rookery. His loving and childish mother and their kindly housekeeper, Clara Peggotty, bring him up here, where they call him Davy. When he is seven years old, his mother marries Edward Murdstone without having told him they plan to marry. To get him out of the way, David is sent to visit Peggotty's family in Yarmouth. Her brother, fisherman Mr Peggotty, lives in a beached barge, with his adopted niece and nephew Emily and Ham, and an elderly widow, Mrs Gummidge. \"Little Em'ly\" is somewhat spoiled by her fond foster father, and David is in love with her. They call him Master Copperfield.\n",
            "\n",
            "On his return, David discovers his mother has married and is immediately given good reason to dislike his stepfather, Murdstone, who believes exclusively in stern, harsh methods of parenting, calling it \"firmness\". David has similar feelings for Murdstone's sister Jane, who moves into the house soon afterwards. Between them, they tyrannise David and his poor mother, making their lives miserable. When David falls behind in his studies, Murdstone thrashes him, and David bites his hand; in consequence, he is sent away to Salem House, a boarding school, under a ruthless headmaster named Mr Creakle. There he is befriended by an older boy, James Steerforth, and Tommy Traddles. He develops an impassioned admiration for Steerforth, perceiving him as someone noble, who could do great things if he would, and one who pays attention to him.\n",
            "\n",
            "David goes home for the holidays to learn that his mother has given birth to a baby boy. Shortly after David returns to Salem House, his mother and her baby die, and David returns home immediately. Peggotty marries the local carrier, Mr Barkis. Murdstone sends David to work for a wine merchant in London – a business of which Murdstone is a joint owner. After some months, David's friendly but spendthrift landlord, Wilkins Micawber, is arrested for debt and sent to the King's Bench Prison, and the rest of Mr. Micawber's family soon moves to the Prison too.  David visits the Micawbers regularly at the Prison, and boards nearby.  When Micawber's release is imminent, the Micawbers decide they will soon move to Plymouth.  David realises that will leave him alone in London, where no one cares about him.  He makes up his mind to run away to Dover to find his only known remaining relative, his eccentric and kind-hearted great-aunt Betsey Trotwood.  She had come to Blunderstone at his birth, only to depart in ire upon learning that he was not a girl. However, she takes it upon herself to raise David, despite Murdstone's attempt to regain custody of him. She encourages him to 'be as like his sister, 'Betsey Trotwood' as he can be – that is, to meet the expectations she had for the girl who was never born. David's great-aunt renames him \"Trotwood Copperfield\" and addresses him as \"Trot\", one of several names others call David in the novel.\n",
            "\n",
            "David's aunt sends him to a better school than the last he attended. It is run by kind Dr. Strong, whose methods inculcate honour and self-reliance in his pupils. During term, David lodges with the lawyer Mr Wickfield and his daughter Agnes, who becomes David's friend and confidante. Wickfield's clerk, Uriah Heep, also lives at the house.\n",
            "\n",
            "By devious means, Uriah Heep gradually gains a complete ascendancy over the aging and alcoholic Wickfield, to Agnes's great sorrow. Heep, as he maliciously confides to David, aspires to marry Agnes. Ultimately with the aid of Micawber, who has been employed by Heep as a secretary, his fraudulent behaviour is revealed. (At the end of the book, David encounters him in prison, convicted of attempting to defraud the Bank of England.)\n",
            "\n",
            "After completing school, David apprentices to be a proctor. During this time, due to Heep's fraudulent activities, his aunt's fortune has diminished. David toils to make a living. He works mornings and evenings for his former teacher Dr Strong as a secretary, and also starts to learn shorthand, with the help of his old school-friend Traddles, upon completion reporting parliamentary debate for a newspaper. With considerable moral support from Agnes and his own great diligence and hard work, David ultimately finds fame and fortune as an author, writing fiction.\n",
            "\n",
            "David's romantic but self-serving school friend, Steerforth, also re-acquainted with David, goes on to seduce and dishonour Emily, offering to marry her off to his manservant Littimer before deserting her in Europe. Her uncle Mr Peggotty manages to find her with the help of Martha, who had grown up in their part of England and then settled in London. Ham, who had been engaged to marry Emily before the tragedy, dies in a fierce storm off the coast while rescuing shipwreck victims. Steerforth was aboard the ship and also dies. Mr Peggotty takes Emily to a new life in Australia, accompanied by Mrs Gummidge and the Micawbers, where all eventually find security and happiness.\n",
            "\n",
            "Meanwhile, David has fallen in love with Dora Spenlow, and marries her. Their marriage proves troublesome for David in the sense of everyday practical affairs, but he never stops loving her. Dora dies early in their marriage after a miscarriage. After Dora's death, Agnes encourages David to return to normal life and his profession of writing. While living in Switzerland to dispel his grief over so many losses, David realises that he loves Agnes. Upon returning to Britain, after a failed attempt to conceal his feelings, David finds that Agnes loves him too. They quickly marry, and in this marriage he finds true happiness. David and Agnes then have at least five children, including a daughter named after his great-aunt, Betsey Trotwood.\n",
            "\n",
            "Between 1845 and 1848, Dickens wrote fragments of autobiography, excerpts of which he showed to his wife and John Forster. Then in 1855 he made an attempt at revising it. This was a failure because, as he tells his first love Maria Beadnell (now Mrs Winter), when he began dealing with his youthful love for her, \"I lost courage and burned the rest\".[12][13] Paul Schlicke points out that in fact not all the pages have gone through the flames and that, as Dickens began writing David Copperfield some pages were unearthed. Proof of this is found in the eleventh chapter of the novel: \"I begin Life on my own Account and don't like it\", where the story of Dickens's experience at the Warren Shoe Factory is told almost verbatim, with the only change, \"Mr Micawber\" instead of \"my father\".[4] John Forster also published substantial extracts relating to this period in Dickens's biography, including a paragraph devoted to Wellington House College, which corresponds with the second stage of childhood recounted in the novel.[14] Thus Dickens looks back on his painful past, already evoked by the martyrdom of Little Paul in Dombey and Son, though voiced by an omniscient narrator in that earlier novel.[15] Until Forster published his biography of Dickens in 1872–1874, no one knew that Dickens had worked in a factory as a child, not even his wife, until Dickens wrote it down and gave the papers to Forster in 1847.[16] The first generations of readers did not know this part of David Copperfield's story began like an incident in the author's life.\n",
            "\n",
            "If David Copperfield has come to be Dickens's \"darling\", it is because it is the most autobiographical of all his novels.[17] Some of the most painful episodes of his life are barely disguised; others appear indirectly, termed \"oblique revelations\" by Paul Davis.[17] However, Dickens himself wrote to Forster that the book is not a pure autobiography, but \"a very complicated weaving of truth and invention\".[3]\n",
            "\n",
            "The most important autobiographical material concerns the months that Dickens, still a child, spent at the Warren factory, his diligence with his first love, Maria Beadnell (see Catherine Dickens and Ellen Ternan), and finally his career as a journalist and writer. As pointed out by his biographer and friend John Forster, these episodes are essentially factual: the description of forced labour to which David is subjected at Murdstone and Grinby reproduces verbatim the autobiographical fragments entrusted to his friend; David's fascination with Dora Spenlow is similar to that inspired by the capricious Maria; the major stages of his career, from his apprenticeship at Doctors' Commons to writing his first novel, via the shorthand reporting of parliamentary procedures, also follow those of its creator.[17]\n",
            "\n",
            "However, this material, like the other autobiographical aspects of the novel, is not systematically reproduced as such. The cruel Mr Murdstone is very different from the real James Lamert, cousin to Dickens, being the stepson of Mrs Dickens's mother's sister, who lived with the family in Chatham and Camden Town, and who had found for the young Charles the place of tagger in the shoe factory he managed for his brother-in-law George.[18] The end of this episode looks nothing like what happens in the novel; in reality, contrary to the desire of his mother that he continue to work, it is his father who took him out of the warehouse to send him to school. Contrary to Charles's frustrated love for Maria Beadnell, who pushed him back in front of his parents' opposition, David, in the novel, marries Dora Spenlow and, with satisfaction ex post facto, writes Paul Davis, virtually \"kills\" the recalcitrant stepfather.[17] Finally, David's literary career seems less agitated than that of Dickens, and his results are much less spectacular. David's natural modesty alone does not explain all these changes; Paul Davis expresses the opinion that Dickens recounts his life as he would have liked it, and along with \"conscious artistry\", Dickens knows how to borrow data, integrate them to his original purpose and transform them according to the novelistic necessities, so that \"In the end, Copperfield is David's autobiography, not Dickens's\".[17]\n",
            "\n",
            "David Copperfield is the contemporary of two major memory-based works, William Wordsworth's The Prelude (1850), an autobiographical poem about the formative experiences of his youth and Tennyson's In Memoriam (1850) which eulogises the memory of his friend, Arthur Hallam.[19][N 2] There is Wordsworth's romantic questioning on the personal development of the individual and there is Tennyson's Victorian confrontation with change and doubt. According to Andrew Sanders, David Copperfield reflects both types of response, which give this novel the privileged position of representing the hinge of the century.[20]\n",
            "\n",
            "The memories of Dickens are, according to Paul Schlicke, remarkably transmuted into fiction.[19] The experience Dickens lived, as the son of a brazen impenitent, is celebrated through the comic figure of Wilkins Micawber. Dickens's youthful passion for Maria Beadnell resurfaces with tenderness, in the form of David's impractical marriage with Dora Spenlow. Dickens's decision to make David a novelist emphasises how he used this book to re-invent himself as a man and artist, \"The world would not take another Pickwick from me, but we can be cheerful and merry, and with a little more purpose in us\".[21] If the preoccupation with the adventures of a hero, associated with a parade of comic or grotesque characters, looks back to Dickens's earlier novels, the interest in personal development, the pessimistic atmosphere and the complex structure of Copperfield foreshadow other novels.[19]\n",
            "\n",
            "Despite never living there, Dickens knew the City of Canterbury well and includes numerous references to it.[22] David Copperfield regularly visits the cathedral services at Canterbury Cathedral,[23] and Mr Micawber wants his son to become a chorister. The Guildhall[24] is mentioned when David Copperfield is asked by the barrister to visit. Dr Strong and Annie Markleham get married at St Alphege church,[25] which is also situated prominently in Canterbury.\n",
            "\n",
            "In 1847, Jane Eyre, Charlotte Brontë's first-person narrative, was acclaimed as soon as it was published. Unlike Thackeray, who adored it, Dickens claims years later never to have read it.[26] True or false, he had encountered Elizabeth Gaskell's Mary Barton, a novel that called for understanding and sympathy in a class-eaten society.[27] Thackeray's Pendennis was serialised at the same time as David Copperfield and it depicts its hero's personal and social journey from the countryside to the city. A rivalry existed between the two writers, though it preoccupied Thackeray more than Dickens. The most direct literary influence is \"obviously Carlyle\" who, in a lecture given in 1840, the year of his meeting with Dickens, on \"On Heroes, Hero-Worship\" and \"the Heroic in History\", claims that the most important modern character is \"the hero as a man of letters\".[28][29][20] This is David's destiny, through experience, perseverance and seriousness.[28]\n",
            "\n",
            "On 7 January 1849, Dickens visited Norwich and Yarmouth in Norfolk, with two close friends, John Leech (1817–1864) and Mark Lemon (1809–1870).[30] Leech was an illustrator at Punch, a satirical magazine, and the first illustrator for A Christmas Carol by Dickens in 1843. Lemon was a founding editor of Punch, and soon a contributor to Household Words, the weekly magazine Dickens was starting up; he co-authored Mr Nightingale's Diary, a farce, with Dickens in 1851.[31][32] The two towns, especially the second, became important in the novel, and Dickens informed Forster that Yarmouth seemed to him to be \"the strangest place in the world\" and that he would \"certainly try my hand at it\".[33] During a walk in the vicinity of Yarmouth, Dickens noticed a sign indicating the small locality of Blundeston, which became in his novel the village of \"Blunderstone\" where David is born and spends his childhood.[15]\n",
            "\n",
            "A week after his arrival in Yarmouth, his sixth son, Henry Fielding Dickens, was named after Henry Fielding, his favourite past author. Per Forster, Dickens refers to Fielding \"as a kind of homage to the novel he was about to write\".[34]\n",
            "\n",
            "As always with Dickens, when a writing project began, he was agitated, melancholic, \"even deeper than the customary birth pangs of other novels\";[34] as always, he hesitated about the title, and his working notes contain seventeen variants, \"Charles Copperfield\" included.[15] After several attempts, he stopped on \"The Copperfield Survey of the World as it Rolled\", a title that he retained until 19 April.[35] When Forster pointed out that his hero, now called David, has his own initials transposed, Dickens was intrigued and declared that this was a manifestation of his fate.[34] He was not yet sure of his pen: \"Though I know what I want to do, I am lumbering like a train wagon\",[36] he told Forster.\n",
            "\n",
            "Contrary to the method previously used for Dombey and Son, Dickens did not elaborate an overall plan and often wrote the summary of a chapter after completing it. Four character names were found at the last moment: Traddles, Barkis, Creakle and Steerforth;[37] the profession of David remains uncertain until the eighth issue (printed in December 1849, containing Chapters 22–24, in which David chooses to be trained as a proctor); and Paul Schlicke notes that the future of Dora was still not determined on 17 May 1850 (when 37 chapters had been published in the first 12 monthly instalments). Other major aspects of the novel, however, were immediately fixed, such as David's meeting with Aunt Betsey, Emily's fall or Agnes's role as the \"real\" heroine of the story.[10]\n",
            "\n",
            "Once launched, Dickens becomes \"quite confident\".[38] The most difficult thing was to insert \"what I know so well\", his experience at the Warren factory; once the threads were woven, however, the truth mixed with fiction, he exulted and congratulated himself in a letter to Forster.[39] From now on, he wrote in this letter, the story \"bore him irresistibly along\". Never, it seems, was he in the grip of failures of inspiration, so \"ardent [is his] sympathy with the creatures of the fancy which always made real to him their sufferings or sorrows.\"[34]\n",
            "\n",
            "Changes in detail occur during the composition: on 22 August 1849, while staying on the Isle of Wight for a family vacation, he changed on the advice of Forster, the theme of the obsession of Mr Dick, a secondary character in the novel. This theme was originally \"a bull in a china shop\" and became \"King Charles's head\" in a nod to the bicentenary of the execution of Charles I of England.[N 3][10]\n",
            "\n",
            "Although plunged into the writing of his novel, Dickens set out to create a new journal, Household Words,[40] the first issue of which appeared on 31 March 1850. This daunting task, however, did not seem to slow down the writing of David Copperfield: I am \"busy as a bee\", he writes happily to the actor William Macready.[41]\n",
            "\n",
            "A serious incident occurred in December: Mrs Jane Seymour Hill, chiropractor to Mrs Dickens,[42] raised the threat of prosecution, because she recognised herself in the portrait of Miss Mowcher; Dickens did not do badly,[43] gradually modifying the psychology of the character by making her less of a caricature and, at the very end of the novel, by making her a friend of the protagonist, whereas at the beginning she served rather contrary purposes.[42] This was, writes Harry Stone, \"the only major departure from his original plans\".[44]\n",
            "\n",
            "His third daughter was born on 16 August 1850, called Dora Annie Dickens, the same name as his character's first wife. The baby died nine months later after the last serial was issued and the book was published.[10]\n",
            "\n",
            "Dickens marked the end of his manuscript on 21 October 1850[10] and felt both torn and happy like every time he finished a novel: \"Oh, my dear Forster, if I were to say half of what Copperfield makes me feel to-night, how strangely, even to you, I should be turned inside out! I seem to be sending some part of myself into the Shadowy World.\"[45][10]\n",
            "\n",
            "At first glance, the work is modelled in the loose and somewhat disjointed way of \"personal histories\" that was very popular in the United Kingdom of the 18th century;[N 4] but in reality, David Copperfield is a carefully structured and unified novel. It begins, like other novels by Dickens, with a rather bleak painting of the conditions of childhood in Victorian England, notoriously when the troublesome children are parked in infamous boarding schools, then he strives to trace the slow social and intimate ascent of a young man who, painfully providing for the needs of his good aunt while continuing his studies, ends up becoming a writer: the story, writes Paul Davis, of \"a Victorian everyman seeking self-understanding\".[9]\n",
            "\n",
            "\"The Personal History, Adventures, Experience, and Observation of David Copperfield the Younger, of Blunderstone Rookery\"[N 5] was published from 1 May 1849 to 1 November 1850 in 19 monthly one-shilling instalments, containing 32 pages of text and two illustrations by Hablot Knight Browne (\"Phiz\"), with a title cover simplified to The Personal History of David Copperfield. The last instalment was a double-number.\n",
            "\n",
            "On the other side of the Atlantic, John Wiley & Sons and G. P. Putnam published a monthly edition, then a two-volume book version.\n",
            "\n",
            "Whatever the borrowings from Dickens's own life, the reader knows as an essential precondition, that David Copperfield is a novel and not an autobiography; a work with fictional events and characters – including the hero-narrator – who are creations of Dickens's imagination.\n",
            "\n",
            "The use of the first person determines the point of view: the narrator Copperfield, is a recognised writer, married to Agnes for more than ten years, who has decided to speak in public about his past life. This recreation, in itself an important act, can only be partial and also biased, since, a priori, Copperfield is the only viewpoint and the only voice; not enjoying the prerogatives of the third person, omnipotence, ubiquity, clairvoyance, he relates only what he witnessed or participated in:[46] all the characters appear in his presence or, failing that, he learns through hearsay, before being subjected to his pen through the prism of his conscience, deformed by the natural deficit of his perception and accentuated by the selective filter of memory.[47] Story teller and teacher, Copperfield does not let the facts speak for themselves, but constantly asserts himself as master of the narrative game, and he intervenes, explains, interprets and comments. His point of view is that of the adult he has become, as he expresses himself just as he is writing. At the end of his book, he feels a writer's pride to evoke \"the thread[s] in the web I have spun\".[48]\n",
            "\n",
            "Gareth Cordery writes that \"if David Copperfield is the paradigmatic Bildungsroman, it is also the quintessential novel of memory\"[49] and as such, according to Angus Wilson, the equal of Marcel Proust's In Search of Lost Time (À la recherche du temps perdu).[50] The memory of the hero engages so intensely with his memories that the past seems present:\n",
            "\n",
            "In such passages, which punctuate the retrospective chapters, the relived moment replaces the lived, the historical present seals the collapse of the original experience and the recreation of a here and now that seizes the entire field of consciousness.[52] Sometimes this resurrected experience is more vivid than reality; so, in Chapter 41, about Traddles's face, he says: \"His honest face, he looked at me with a serio-comic shake of his head impresses me more in the remembrance than it did in the reality.\"[53] These are \"sacred moments\", writes Gareth Cordery, which Copperfield has carefully guarded in \"the treasure chambers\"[N 6] of his memory, where sings \"the music of time\":[52] \"secret prose, that sense of a mind speaking to itself with no one there to listen\".[54]\n",
            "\n",
            "Without being Dickens, this narrator, Copperfield, is very like him and often becomes his spokesperson. It adds to his point of view, directly or indirectly, that of the author, without there necessarily being total match between the two. As such, Copperfield serves as \"medium\", mirror and also screen, Dickens sometimes subverting his speech to get to the forefront or, on the contrary, hide behind this elegant delegate to the nimble pen. Dickens's voice, however, is in general well concealed and, according to Gareth Cordery, the most difficult to detect because mostly present by implication.[55] To help hear his voice, he adds, it is advisable to turn to Phiz, whose illustrations bring a point of view which is not always in agreement with that of Copperfield. For example, in chapter 21, the two friends arrive by surprise at the Peggotty home, and Copperfield presents Steerforth to Emily at the very moment when her betrothal with Ham has just been announced. This sudden intrusion stops the girl as she has just jumped from Ham's arms to nestle in those of Mr Peggotty, a sign, says Cordery in passing, that the promise of marriage is as much for the uncle as for the nephew. The text remains brief but Phiz interprets, anticipates the events, denounces even the future guilt of Copperfield: all eyes are on the girl, her bonnet, emblem of her social aspirations and her next wanderings with Steerforth, is ready to be seized. Copperfield, dressed as a gentleman, stands in the doorway, one finger pointing at Steerforth who is taller by one head, the other measuring the gap between Ham and Dan Peggotty, as if offering Emily to his friend. Emily, meanwhile, still has her head turned to Ham but the body is withdrawn and the look has become both challenging and provocative. Phiz brings together in a single image a whole bunch of unwritten information, which Dickens approved and probably even suggested.[56]\n",
            "\n",
            "A third perspective is the point of view of the discerning reader who, although generally carried away by sympathy for the narrator's self-interested pleading, does not remain blissfully ignorant and ends up recognizing the faults of the man and of the writer, just as the reader also learns to identify and gauge the covert interventions of the author.\n",
            "\n",
            "The discerning reader listens to the adult Copperfield and hears what this adult wants or does not want them to hear. \"Even though this manuscript is intended for no eyes but mine\", (chapter 42)[57] the book exists, and the reader becomes ipso facto a \"father-confessor\",[52] knowing how to judge and even, at times, to doubt the sincerity of the emotion expressed. So, when Dora dies, the reader sees that the topic of grief is dropped in a hurry, as if Copperfield had more important things to do than to indulge in sorrow: \"this is not the time at which I am to enter a state of mind beneath its load of sorrow\",[58] which creates a question and an embarrassment: is Copperfield protecting himself from his confusion, or does he shed some crocodile tears for form?\n",
            "\n",
            "Copperfield also examines some of his most culpable weaknesses, such as unconscious connivance (his \"own unconscious part\") in the defilement of the Peggotty home by Steerforth, which he remains forever incapable of opposing: \"I believe that if I had been brought face to face with him, I could not have uttered one reproach.\"(chapter 32)[59] The same treatment is given to his childhood love, his so much idealised Emily, who, once \"fallen\", is expelled from his consciousness to the point where his last comment, when he stealthily sees her aboard the ship leaving for Australia, is \"a masterpiece of narrative duplicity\": far from seeing in her what she has become, a real woman, he takes refuge behind the image of a pathetic religious icon elegantly allowing him to remove his own guilt for betraying her.[60]\n",
            "\n",
            "These underground currents are thus revealed in David's psychological struggle, Gareth Cordery concludes, currents that his narrative unconsciously attempts to disguise.[61]\n",
            "\n",
            "The story is a road from which different paths leave. The road is that of David's life, the main plot; the branches are born of meetings with him and lead to several secondary intrigues taken more or less far along. Each is represented by an important figure: Mr Micawber, Steerforth, little Emily, Uriah Heep; there are side stories, that of Martha Endell, Rosa Dartle, and, along the main road, stretch some parallel paths on which the reader is from time to time invited: the Traddles, Betsey Trotwood, the Peggotty family, Dan and Ham in particular, Peggotty herself remaining from start to finish intimately related to David. The different tracks do not move away from the main avenue, and when they do, a narrative \"forceps\" brings them together again. Hence the retrospective chapters and the ultimate recapitulation were written.[62]\n",
            "\n",
            "The narrative is linear in appearance, as is usual in traditional first-person form. It covers the narrator's life until the day he decides to put an end to his literary endeavor. However, whole sections of his life are summarised in a few paragraphs, or sometimes just a sentence or two, indicating that three or ten years have passed, or that Dora is dead, necessary to keep the story moving along. Thus, the long stay of reflection in Switzerland which leads to the recognition of love for Agnes, or the lapse of time before the final chapter, are all blanks in the story. Besides the hero, this story concerns important secondary characters such as Mr Micawber or Uriah Heep, or Betsey Trotwood and Traddles, the few facts necessary for a believable story are parsimoniously distilled in the final chapters: an impromptu visit to a prison, the unexpected return of Dan Peggotty from the Antipodes; so many false surprises for the narrator who needs them to complete each person's personal story. As such, the epilogue that represents the last chapter (Ch 64) is a model of the genre, a systematic review, presumably inspired by his memory, without true connection. There is the desire to finish with each one, with forced exclamations and ecstatic observations, scrolling through the lives of those who are frozen in time: Dick with his \"Memorial\" and his kite, Dr Strong and his dictionary, and as a bonus, the news of David's \"least child\", which implies that there have been other children between him and eldest child Agnes of whom the reader has never heard by name. So also goes the story of Dan Peggotty relating the sad tale of his niece. The four chapters called \"Retrospect\" (Chapter 18: \"A Retrospect\", Chapter 43: \"Another Retrospect\", Chapter 53: \"Another Retrospect\" and Chapter 64: \"A Last Retrospect\") are placed at strategic moments of the general discourse, which play a catch-up role more than one of meditation by the narrator, without venturing into event details. Here, the narration has disappeared, it has given way to a list, an enumeration of events.[63]\n",
            "\n",
            "Dickens's approach, as shown in David Copperfield, does not escape what Georges Gusdorf [fr] calls \"the original sin of autobiography\", that is to say a restructuring a posteriori and in this, paradoxically, it demonstrates its authenticity.[64] It consists of splitting one's life into parts, choosing decisive phases, identifying an evolution and endowing them with a direction and then a meaning, whereas, from day to day, existence has been lived as a cluster of shapeless perceptions requiring an immediate adaptation, that captures at best in the novel the use of the historical present generally adopted by Dickens. It is a succession of autonomous moments which do not end up amalgamating in a coherent whole and that connect the tenuous thread of the \"I\" recognizing each other. In this reconstruction, one part of truth and the other of poetry, the famous Dichtung und Wahrheit (From my Life: Poetry and Truth; 1811–1833), autobiography of Goethe, there is the obligatory absence of objectivity, the promotion of oblivion as an integral part of memory, the ruling power of the subjectivity of time found.[65]\n",
            "\n",
            "Thus, to use George Gusdorf's words again, David Copperfield appears as a \"second reading of a man's experience\", in this case, Charles Dickens, when he reached the fullness of his career, tried to give \"a meaning to his legend\".[66]\n",
            "\n",
            "This novel's main theme arises from the fact that it is a bildungsroman, a literary genre that focuses on the psychological and moral growth of the protagonist from youth to adulthood, which is common in Dickens's novels,[67] and in which character change is extremely important.[68][69] The changes involve David leaving past selves behind on the way to maturity. Other important themes relate especially to Dickens's social concerns, and his desire for reform. This includes the plight of so-called \"fallen women\", and prostitutes, as well as the attitude of middle-class society to these women; the status of women in marriage; the rigid class structure; the prison system; educational standards, and emigration to the colonies of what was becoming the British Empire. The latter was a way for individuals to escape some of the rigidity of British society and start anew. Some of these subjects are directly satirized, while others are worked into the novel in more complex ways by Dickens.\n",
            "\n",
            "Copperfield's path to maturity is marked by the different names assigned to him: his mother calls him \"Davy\"; Murdstone calls him as \"Brooks of Sheffield\"; for Peggotty's family, he is \"Mas'r Davy\"; en route to boarding school from Yarmouth, he appears as \"Master Murdstone\"; at Murdstone and Grinby, he is known as \"Master Copperfield\"; Mr Micawber is content with \"Copperfield\"; for Steerforth he is \"Daisy\"; he becomes \"Mister Copperfield\" with Uriah Heep; and \"Trotwood\", soon shortened to \"Trot\" for Aunt Betsey; Mrs Crupp deforms his name into \"Mr Copperfull\"; and for Dora he is \"Doady\".[70] While striving to earn his real name once and for all, this plethora of names reflects the fluidity of Copperfield's personal and social relationships, and obscure his real identity. It is by writing his own story, and giving him his name in the title, that Copperfield can finally assert who he is.[70]\n",
            "\n",
            "David's life can be seen as a series of lives, each one in radical disjunction from what follows, writes Paul Davis.[71] The young boy in the warehouse differs from Blunderstone Rookery's child, or Salem House student, and overall David strives to keep these parts of himself disconnected from each other. For example, in Chapter 17, while attending Canterbury School, he met Mr Micawber at Uriah Heep's, and a sudden terror gripped him that Heep could connect him, such as he is today, and the abandoned child who lodged with the Micawber family in London.[71]\n",
            "\n",
            "So many mutations indicate the name changes, which are sometimes received with relief: \"Trotwood Copperfield\", when he finds refuge in Dover at his Aunt Betsey's house, so the narrator writes, \"Thus I began my new life, in a new name, and with everything new about me.\" Then, he realised \"that a remoteness had come upon the old Blunderstone life\" and \"that a curtain had for ever fallen on my life at Murdstone and Grinby's\".[72]\n",
            "\n",
            "There is a process of forgetfulness, a survival strategy developed by memory, which poses a major challenge to the narrator; his art, in fact, depends on the ultimate reconciliation of differences in order to free and preserve the unified identity of his being a man.\n",
            "\n",
            "David opens his story with a question: Will I be the hero of my own life? This means that he does not know where his approach will lead him, that writing itself will be the test. As Paul Davis puts it, \"In this Victorian quest narrative, the pen might be lighter than the sword, and the reader will be left to judge those qualities of the man and the writer that constitute heroism.[17]\n",
            "\n",
            "However, question implies an affirmation: it is Copperfield, and no one else, who will determine his life, the future is delusory, since the games are already played, the life has been lived, with the novel being only the story. Copperfield is not always the hero of his life, and not always the hero of his story, as some characters have a stronger role than him,[73] Besides Steerforth, Heep, Micawber, for example, he often appears passive and lightweight. Hence, concludes Paul Davis, the need to read his life differently; it is more by refraction through other characters that the reader has a true idea of the \"hero\" of the story. What do these three men reveal to him, and also to Dora, whom he marries?[71] Another possible yardstick is a comparison with the other two \"writers\" of the novel, Dr Strong and Mr Dick. The dictionary of Strong will never be completed and, as a story of a life, will end with the death of its author. As for Mr Dick, his autobiographical project constantly raises the question of whether he can transcend the incoherence and indecision of his subject-narrator. Will he be able to take the reins, provide a beginning, a middle, an end? Will he succeed in unifying the whole, in overcoming the trauma of the past, his obsession with the decapitated royal head, so as to make sense of the present and find a direction for the future? According to Paul Davis, only Copperfield succeeds in constructing a whole of his life, including suffering and failure, as well as successes, and that is \"one measure of his heroism as a writer\".[71]\n",
            "\n",
            "The past \"speaks\" especially to David, \"a child of close observation\" (chapter 2); the title of this chapter is: \"I observe\",[74] and as an adult he is endowed with a remarkable memory.[75] So much so that the story of his childhood is realised so concretely that the narrator, like the reader, sometimes forgets that it is a lived past and not a present that is given to see. The past tense verb is often the preterite for the narrative, and the sentences are often short independent propositions, each one stating a fact. Admittedly, the adult narrator intervenes to qualify or provide an explanation, without, however, taking precedence over the child's vision. And sometimes, the story is prolonged by a reflection on the functioning of the memory. So, again in chapter 2, the second and third paragraphs comment on the first memory of the two beings surrounding David, his mother, and Peggotty:\n",
            "\n",
            "David thus succeeds, as George Orwell puts it, in standing \"both inside and outside a child's mind\",[17] a particularly important double vision effect in the first chapters. The perspective of the child is combined with that of the adult narrator who knows that innocence will be violated and the feeling of security broken. Thus, even before the intrusion of Mr Murdstone as step-father or Clara's death, the boy feels \"intimations of mortality\".[17] In the second chapter for example, when David spends a day with Mr Murdstone, during the first episode of \"Brooks of Sheffield\"[N 7][76][77] in which, first blow to his confidence, he realises little by little that Mr Murdstone and his comrade Quinion are mocking him badly:\n",
            "\n",
            "The final blow, brutal and irremediable this time, is the vision, in chapter 9, of his own reflection in his little dead brother lying on the breast of his mother: \"The mother who lay in the grave was the mother of my infancy; the little creature in her arms was myself, as I had once been, hushed forever on her bosom\".[79]\n",
            "\n",
            "David Copperfield is a posthumous child, that is, he was born after his father died.[80] From birth, his aunt is the authority who stands in for the deceased father, and she decides Copperfield's identity by abandoning him because he is not female. His first years are spent with women, two Claras,[N 8] his mother and Peggotty, which, according to Paul Davis, \"undermines his sense of masculinity\".[17] Hence a sensitivity that the same critic calls \"feminine\", made-up of a lack of confidence, naive innocence and anxiety, like that of his mother, who was herself an orphan. Steerforth is not mistaken, when from the outset he calls Copperfield \"Daisy\"–a flower of spring, symbol of innocent youth. To forge an identity as a man and learn how to survive in a world governed by masculine values, instinctively, he looks for a father figure who can replace that of the father he did not have.\n",
            "\n",
            "Several male models will successively offer themselves to him: the adults Mr Murdstone, Mr Micawber and Uriah Heep, his comrades Steerforth and Traddles.\n",
            "\n",
            "Mr Murdstone darkens Copperfield's life instead of enlightening him, because the principle of firmness which he champions, absolute novelty for the initial family unit, if he instills order and discipline, kills spontaneity and love. The resistance that Copperfield offers him is symbolic: opposing a usurper without effective legitimacy, he fails to protect his mother but escapes the straitjacket and achieves his independence. Mr Murdstone thus represents the anti-father, double negative of the one of which David was deprived, model a contrario of what it is not necessary to be.\n",
            "\n",
            "The second surrogate father is just as ineffective, although of a diametrically opposed personality: it is Mr Micawber who, for his part, lacks firmness to the point of sinking into irresponsibility. Overflowing with imagination and love, in every way faithful and devoted, inveterate optimist, he eventually becomes, in a way, the child of David who helps him to alleviate his financial difficulties. The roles are reversed and, by the absurdity, David is forced to act as a man and to exercise adult responsibilities towards him. However, the Micawbers are not lacking in charm, the round Wilkins, of course, but also his dry wife, whose music helps her to live. Mrs Micawber has, since childhood, two songs in her repertoire, the Scottish \"The dashing white sergeant\"[81] and the American lament \"The little Tafflin with the Silken Sash\",[82] whose attraction has decided her husband to \"win that woman or perish in the attempt\"[83] In addition to the melodies that soothe and embellish, the words of the second, with her dream \"Should e'er the fortune be my lot to be made a wealthy bride!\" and her aphorism \"Like attracts like\" have become emblematic of the couple, one is the opposite of reality and the other the very definition of its harmony.[84]\n",
            "\n",
            "New avatar of this quest, Uriah Heep is \"a kind of negative mirror to David\".[71] Heep is clever at enlarging the pathos of his humble origins, for example, which ability he exploits shamelessly to attract sympathy and mask an unscrupulous ambition; while David, on the other hand, tends to suppress his modest past and camouflage his social ambitions under a veneer of worldly mistrust, prompting Paul Davis to conclude that, just as Mr Murdstone is adept at firmness, Heep, in addition to being a rascal, lacks the so-called feminine qualities of sensitivity which David does not lose.[71]\n",
            "\n",
            "For David, Steerforth represents all that Heep is not: born a gentleman, with no stated ambition or defined life plan, he has a natural presence and charisma that immediately give him scope and power.  However, his failure as a model is announced well before the episode at Yarmouth where he seizes, like a thief, Little Emily before causing her loss in Italy. He already shows himself as he is, brutal, condescending, selfish and sufficient, towards Rosa Dartle, bruised by him for life, and Mr Mell who undergoes the assaults of his cruelty. The paradox is that even as he gauges his infamy, David remains from start to finish dazzled by Steerforth's aristocratic ascendancy, even as he contemplates him drowning on Yarmouth Beach, \"lying with his head upon his arm, as I had often seen him at school\".[85]\n",
            "\n",
            "Now consider Traddles, the anti-Steerforth, the same age as the hero, not very brilliant at school, but wise enough to avoid the manipulations to which David succumbs. His attraction for moderation and reserve assures him the strength of character that David struggles to forge. Neither rich nor poor, he must also make a place for himself in the world, at which he succeeds by putting love and patience at the center of his priorities, the love that tempers the ambition and the patience that moderates the passion. His ideal is to achieve justice in his actions, which he ends up implementing in his profession practically. In the end, Traddles, in his supreme modesty, represents the best male model available to David.[17]\n",
            "\n",
            "There are others, Daniel Peggotty for example, all love and dedication, who goes in search of his lost niece and persists in mountains and valleys, beyond the seas and continents, to find her trace. Mr Peggotty is the anti-Murdstone par excellence, but his influence is rather marginal on David, as his absolute excellence, like the maternal perfection embodied by his sister Peggotty, makes him a character type more than an individual to refer to. There is also the carter Barkis, original, laconic and not without defects, but a man of heart. He too plays a role in the personal history of the hero, but in a fashion too episodic to be significant, especially since he dies well before the end of the story.\n",
            "\n",
            "It is true that David's personal story makes it more difficult for him to access the kind of equilibrium that Traddles presents, because it seems destined, according to Paul Davis, to reproduce the errors committed by his parents.[71] So, without knowing it, he looks a lot like his late father, also named David, who, according to Aunt Betsey, had eyes only for the flower-women, and, as such, he finds himself as irresistibly attracted to Dora whose delicate and charming femininity, the sweet frivolity too, recall those of his diaphanous mother. The chapters describing their loves are among the best in the novel[71] because Dickens manages to capture the painful ambivalence of David, both passionately infatuated with the irresistible young woman, to whom we can only pass and forgive everything, and frustrated by his weak character and his absolute ignorance of any discipline. For love, the supreme illusion of youth, he tries to change it, to \"form her mind\", which leads him to recognize that \"firmness\" can to be a virtue which, ultimately, he needs. However, finding himself in a community of thought, even distantly, with his hateful and cruel stepfather whom he holds responsible for the death of his mother and a good deal of his own misfortunes, it was a troubling discovery.[17]\n",
            "\n",
            "It is his aunt Betsey who, by her character, represents the struggle to find the right balance between firmness and gentleness, rationality and empathy. Life forced Betsey Trotwood to assume the role she did not want, that of a father, and as such she became, but in her own way, adept at steadfastness and discipline. From an initially culpable intransigence, which led her to abandon the newborn by denouncing the incompetence of the parents not even capable of producing a girl, she finds herself gradually tempered by circumstances and powerfully helped by the \"madness\" of her protege, Mr Dick. He, between two flights of kites that carry away the fragments of his personal history, and without his knowing it, plays a moderating role, inflecting the rationality of his protector by his own irrationality, and his cookie-cutter judgments by considerations of seeming absurdity, but which, taken literally, prove to be innate wisdom. In truth, Aunt Betsey, despite her stiffness and bravado, does not dominate her destiny; she may say she can do it, yet she cannot get David to be a girl, or escape the machinations of Uriah Heep any more than the money demands of her mysterious husband. She also fails, in spite of her lucidity, her clear understanding, of the love blindness of her nephew, to prevent him from marrying Dora and in a parallel way, to reconcile the Strongs. In fact, in supreme irony, it is once again Mr Dick who compensates for his inadequacies, succeeding with intuition and instinctive understanding of things, to direct Mr Micawber to save Betsey from the clutches of Heep and also to dispel the misunderstandings of Dr Strong and his wife Annie.[71]\n",
            "\n",
            "As often in Dickens where a satellite of the main character reproduces the course in parallel, the story of the Strong couple develops in counterpoint that of David and Dora. While Dora is in agony, David, himself obsessed with his role as a husband, observes the Strongs who are busy unraveling their marital distress. Two statements made by Annie Strong impressed him: in the first, she told him why she rejected Jack Maldon and thanked her husband for saving her \"from the first impulse of an undisciplined heart\".[86] The second was like a flash of revelation: \"There can be no disparity in marriage like unsuitability of mind and purpose\".[86] At the end of chapter 45, almost entirely devoted to the epilogue of this affair, David meditates on these words which he repeats several times and whose relevance, applied to his own case, is imposed on him. He concludes that in all things, discipline tempered by kindness and kindness is necessary for the equilibrium of a successful life. Mr Murdstone preached firmness; in that, he was not wrong. Where he cruelly failed was that he matched it with selfish brutality instead of making it effective by the love of others.[7]\n",
            "\n",
            "It is because David has taken stock of his values and accepted the painful memories of Dora's death, that he is finally ready to go beyond his emotional blindness and recognize his love for Agnes Wickfield, the one he already has called the \"true heroine\" of the novel to which he gives his name. Paul Davis writes that Agnes is surrounded by an aura of sanctity worthy of a stained glass window, that she is more a consciousness or an ideal than a person, that, certainly, she brings the loving discipline and responsibility of which the hero needs, but lacks the charm and human qualities that made Dora so attractive.[7] Adrienne E Gavin, nuancing the point, writes that she is neither more nor less caricature than other young women in the hero's life: if Emily is a stereotype of the \"lost woman\" and Dora of \"woman-child\", Agnes is that of \"ideal Victorian woman\", which necessarily limits, for her as for the others, the possibilities of evolution, the only change available from a loving and devoted daughter to a loving and devoted wife.[87]\n",
            "\n",
            "That said, the writer David, now David Copperfield, realised the vow expressed to Agnes (when he was newly in love with Dora, in Chapter 35. Depression): \"If I had a conjurer's cap, there is no one I should have wished but for you\".[88] At the end of his story, he realises that the conjurer's cap is on his head, that he can draw his attention to the people he loves and trusts. Thus, David Copperfield is the story of a journey through life and through oneself, but also, by the grace of the writer, the recreation of the tenuous thread uniting the child and the adult, the past and the present, in what Georges Gusdorf calls \"fidelity to the person\".[89] or, as Robert Ferrieux said,[90] \n",
            "\n",
            "Admittedly, it is not the primary interest of David Copperfield that remains above all the story of a life told by the very one who lived it, but the novel is imbued with a dominant ideology, that of the middle class, advocating moral constancy, hard work, separate spheres for men and women, and, in general, the art of knowing one's place, indeed staying in that place. Further, some social problems and repeated abuses being topical, Dickens took the opportunity to expose them in his own way in his fiction, and Trevor Blount, in his introduction to the 1966 edition Penguin Classics, reissued in 1985, devotes several pages to this topic.[91]\n",
            "\n",
            "However, Gareth Cordery shows that behind the display of Victorian values, often hides a watermarked discourse that tends to question, test, and even subvert them.[61] There are therefore two possible readings, the one that remains on the surface and another that questions below this surface, the implicit questions.\n",
            "\n",
            "Among the social issues that David Copperfield is concerned with, are prostitution, the prison system, education, as well as society's treatment of the insane.\n",
            "\n",
            "Dickens's views on education are reflected in the contrast he makes between the harsh treatment that David receives at the hands of Creakle at Salem House and Dr Strong's school where the methods used inculcate honour and self–reliance in its pupils.\n",
            "\n",
            "Through the character of \"the amiable, innocent, and wise fool\" Mr Dick, Dickens's \"advocacy in the humane treatment of the insane\" can be seen.[92] Mr Dick's brother\n",
            "\n",
            "So Betsy Trotwood, continuing Mr Dick's story in Chapter 14, stepped in to suggest that Mr Dick should be given \"his little income, and come and live with\" her: \"I am ready to take care of him, and shall not ill-treat him as some people (besides the asylum-folks) have done.\"\n",
            "\n",
            "The employment of young children in factories and mines under harsh conditions in the early Victorian era disturbed many. There was a series of Parliamentary enquiries into the working conditions of children, and these \"reports shocked writers Elizabeth Barrett Browning and Charles Dickens.\"[11] Dickens describes children working in factories or other workplaces in several novels, notably in Oliver Twist, and in David Copperfield. Young David works in a factory for a while after his mother dies and his stepfather showed no interest in him. Such depictions contributed to the call for legislative reform.[11]\n",
            "\n",
            "Dickens satirises contemporary ideas about how prisoners should be treated in Chapter 61, 'I am Shown Two Interesting Penitents'. In this chapter, published in November 1850, David along with Traddles is shown around a large well-built new prison, modelled on Pentonville prison (built in 1842), where a new, supposedly more humane, system of incarceration is in operation, under the management of David's former headmaster Creakle.[93] A believer in firmness, Dickens denounced comically the system of isolating prisoners in separate cells, the \"separate system\", and giving them healthy and pleasant food.[N 9] His satire appeals directly to the public, already warned by the long controversy over the prison discipline in the press.[94] Mr Creakle is very proud of this new system, but his enthusiasm is immediately undermined by the reminder of his former ferocity as a school principal. In the prison David and Traddles encounter 'model prisoners' 27 and 28, who they discover are Uriah Heep and Mr Littimer. Heep is seen reading a hymn book and Littimer also \"walked forth, reading a good book\": both have managed to convince the naïve Creakle, and his fellow magistrates, that they have seen the error of their ways. Both are questioned about the quality of the food and Creakle promises improvements.[95]\n",
            "\n",
            "Dickens's ideas in this chapter were in line with Carlyle, whose pamphlet, \"Model Prisons\", also denounced Pentonville Prison, was published in the spring of 1850.[93] Indeed, Dickens had published anonymously, a month after Carlyle's pamphlet on the same subject, \"Pet Prisonners\".[96]\n",
            "\n",
            "Dickens's exploration of the subject of emigration in the novel has been criticised, initially by John Forster and later by G. K. Chesterton. Chesterton accused Dickens of presenting emigration in an excessively optimistic light, arguing that Dickens believed that by sending a boatload of people overseas their 'souls' can be changed, while ignoring the fact that poor people like Peggotty have seen their home stained or, like Emily, their honour tarnished. Micawber has been broken by the English social system, his journey to the antipodes is paid for by a paragon of the Victorian bourgeoisie, Betsey Trotwood[97] and he is supposed to regain control of his destiny once he has arrived in Australia.[98] Trevor Blount points out that the word 'soul' has a different meaning for Dickens than Chesterton. Dickens cares about material and psychological happiness, and is convinced that physical well-being is a comfort for life's wounds.\n",
            "\n",
            "Dickens sent his characters to America in Nicholas Nickleby and Martin Chuzzlewit, but he has the Peggotty and Micawber families emigrate to Australia. This approach was part of the official policy of the 1840s, focusing on Australia as a land of welcome. It was at this time necessary to stimulate interest in the new colony and propagandists arrived in England in particular John Dunmore Lang and Caroline Chisholm from Australia. Dickens was only following this movement and, in any case, had faith in family colonisation. Moreover, the idea that redemption could be achieved by such a new start in a person's life was a preoccupation of the author, and he saw here subject matter to charm his readers.[99]\n",
            "\n",
            "From the point of view of the novel's inner logic, in order for Copperfield to complete his psychological maturation and exist independently, Dickens must expel his surrogate fathers, including Peggotty and Micawber, and emigration is an easy way to remove them.[7]\n",
            "\n",
            "The episode in the prison, according to novelist Angus Wilson, is more than a piece of journalism;[100] it represents Dickens's vision of the society in which he lives. The same can be said of the episodes concerning prostitution and emigration, which illuminate the limits of Copperfield's moral universe and Dickens's own uncertainties.[101] That everything is put in order in Australia, that Martha marries a man from the bush, that Emily, in the strong arms of Dan Peggotty, becomes a lady of good works, that Micawber, who had been congenitally insolvent, suddenly acquires the management skills and becomes prosperous in dispensing justice. All these conversions are somewhat 'ironic',[102] and tend to undermine the hypothesis of 'a Dickens believing in the miracle of the antipodes', which Jane Rogers considers in her analysis of the 'fallen woman' as a plot device to gain the sympathy of Dickens's readers for Emily.[103]\n",
            "\n",
            "John Forster, Dickens's early biographer, praises the bourgeois or middle-class values and ideology found in David Copperfield.[104] Like him the Victorian reading public shared Copperfield's complacent views, expressed with the assurance of success that is his, at the end, as a recognized writer who is happy in marriage and safe from need.\n",
            "\n",
            "Gateth Cordery takes a close look at class consciousness. According to him, Copperfield's relationship with aristocrat Steerforth and the humble Uriah Heep is \"crucial\".[61] From the beginning, Copperfield ranks as and is considered by his friends among the good people. The Peggotty family, in Chapter 3, treat him with respect, \"as a visitor of distinction\"; even at Murdstone and Grinby, his behaviour and clothes earned him the title of \"the little gentleman\". When he reached adulthood, he naturally enjoyed Steerforth's disdain for Ham as a simple \"joke about the poor\". So he is predisposed to succumb, by what he calls in chapter 7 an \"inborn power of attraction\", to the charm instinctively lent to beautiful people, about which David said \"a kind of enchantment ... to which it was a natural weakness to yield.\" From start to finish, David remains fascinated by Steerforth, so he aspires inwardly to his social status.[105]\n",
            "\n",
            "In parallel there is a contempt of the upstart, Heep, hatred of the same nature as Copperfield's senseless adoration for Steerforth, but inverted. That \"'umble\" Heep goes from a lowly clerk to an associate at Wickfield's, to claiming to win the hand of Agnes, daughter of his boss, is intolerable to David, though it is very similar to his own efforts to go from shorthand clerk to literary fame, with Dora Spenlow, the daughter of his employer.[106] Heep's innuendo that Copperfield is no better than him feeds on the disdain in which he holds Heep as of right: \"Copperfield, you've always been an upstart\",[107] an honesty of speech, comments Cordery, of which Copperfield himself is incapable.[106]\n",
            "\n",
            "Another concern of Dickens is the institution of marriage and in particular, the unenviable place occupied by women. Whether at the home of Wickfield, Strong, or under the Peggotty boat, women are vulnerable to predators or intruders like Uriah Heep, Jack Maldon, James Steerforth; Murdstone's firmness prevails up to the death of two wives; with David and Dora complete incompetence reigns; and at the Micawber household, love and chaos go hand in hand; while Aunt Betsey is subjected to blackmail by her mysterious husband. Dickens, according to Gareth Cordery, clearly attacks the official status of marriage, which perpetuated an inequality between the sexes, an injustice that does not end with the separation of couples.[101]\n",
            "\n",
            "The mid-Victorian era saw a change in gender roles for men and women, in part forced by the factories and separation of work and home, which made stereotypes of the woman at home and the man working away from home.[108] Values, like the imperative need for women to marry and to be that ideal described as The Angel in the House (manages the home without aid and is always calm) are \"interrogated, tested and even subverted\",[109] for example by having one mother-figure be the character Betsey Trotwood, who is not a mother.[110] When seeming to describe a stereotypical image in particularly the female characters, the story \"does so in a way that reflects the fault-lines of the image.\"[111]\n",
            "\n",
            "Anne Brontë in The Tenant of Wildfell Hall (1848) explores this iniquity in the status of the character Helen Graham, separated from her alcoholic husband. Dickens's understanding of the burden on women in marriage in this novel contrasts with his treatment of his own wife Catherine, whom he expected to be an Angel in the House.[111]\n",
            "\n",
            "Martha Endell and Emily Peggotty, the two friends in Yarmouth who work at the undertaker's house, reflect Dickens's commitment to \"save\" so-called fallen women. Dickens was co-founder with Angela Burdett-Coutts of Urania Cottage, a home for young women who had \"turned to a life of immorality\", including theft and prostitution.[112] On the eve of her wedding to her cousin and fiancé, Ham, Emily abandons him for Steerforth. After Steerforth deserts her, she doesn't go back home, because she has disgraced herself and her family. Her uncle, Mr Peggotty, finds her in London on the brink of being forced into prostitution. So that she may have a fresh start away from her now degraded reputation, she and her uncle emigrate to Australia. Martha has been a prostitute and contemplated suicide but towards the end of the novel, she redeems herself by helping Daniel Peggotty find his niece after she returns to London. She goes with Emily to start a new life in Australia. There, she marries and lives happily.\n",
            "\n",
            "Their emigration to Australia, in the wake of that of Micawber, Daniel Peggotty, and Mr Mell, emphasizes Dickens's belief that social and moral redemption can be achieved in a distant place, where someone may create a new and healthy life.[113] However, despite their families' forgiveness, they remain \"tainted\" and their expulsion from England is symbolic of their status: it is only at the other end of the world that these \"social outcasts\" can be reinstated. Morally, Dickens here conforms to the dominant middle-class opinion.\n",
            "\n",
            "John O. Jordan devotes two pages to this woman, also \"lost\", though never having sinned.[114] The sanctification of the Victorian home, he says, depends on the opposition between two stereotypes, the \"angel\" and the \"whore\". Dickens denounced this restrictive dichotomy by portraying women \"in between\". Such is Rosa Dartle, passionate being, with the inextinguishable resentment of having been betrayed by Steerforth, a wound that is symbolised by the vibrant scar on her lip. Never does she allow herself to be assimilated by the dominant morality, refusing tooth and nail to put on the habit of the ideal woman. Avenger to the end, she wants the death of Little Emily, both the new conquest and victim of the same predator, and has only contempt for the efforts of David to minimize the scope of his words. As virtuous as anyone else, she claims, especially that Emily, she does not recognize any ideal family, each being moulded in the manner of its social class, nor any affiliation as a woman: she is Rosa Dartle, in herself.[115]\n",
            "\n",
            "David's vision, on the other hand, is marked by class consciousness: for him, Rosa, emaciated and ardent at the same time, as if there were incompatibility (chapter 20), is a being apart, half human, half animal, like the lynx, with its inquisitive forehead, always on the look out (chapter 29), which consumes an inner fire reflected in the gaunt eyes of the dead of which only this flame remains (chapter 20). In reality, says Jordan, it is impossible for David to understand or even imagine any sexual tension, especially that which governs the relationship between Rosa and Steerforth, which, in a way, reassures his own innocence and protects what he calls his \"candour\" – frankness or angelism? – his story. Also, Rosa Dartle's irreducible and angry marginality represents a mysterious threat to his comfortable and reassuring domestic ideology.[116]\n",
            "\n",
            "Dickens's approach to the novel is influenced by various literary genres, including the picaresque novel tradition,[117] melodrama,[118] and the novel of sensibility.[119] Satire and irony are central to the picaresque novel.[120] Comedy is also an aspect of the British picaresque novel tradition of Laurence Sterne, Henry Fielding, and Tobias Smollett. Fielding's Tom Jones[121][122] was a major influence on the nineteenth century novel including Dickens, who read it in his youth,[123] and named a son Henry Fielding Dickens in his honour.[124][125] Melodrama is typically sensational and designed to appeal strongly to the emotions.\n",
            "\n",
            "Trevor Blount comments on the fascination that Dickens has always exercised on the public. He mentions the lavishness, energy, vividness, brilliance, and tenderness of Dickens's writing, along with the range of his imagination. Blount also refers to Dickens's humour, and his use of the macabre and of pathos. Finally, Blount celebrates the artistic mastery of an overflowing spontaneity, which is conveyed with both delicacy and subtlety.[126] What Blount admires, in the first place, is the vigour with which the characters \"rise\" from the page and create a \"phantasmagorical\" universe, which is seen by the reader with the intensity of an hallucination. This is best illustrated in many of Dickens's works, by the powerful figure of a weak individual. In David Copperfield Mr Wilkins Micawber is such a figure, someone who is formidably incompetent, grandiose in his irreducible optimism, sumptuous in his verbal virtuosity, and whose grandiloquent tenderness is irresistibly comical.[127] Micawber has been described as \"With the one exception of Falstaff, ... the greatest comic figure in English literature\".[128]\n",
            "\n",
            "In this novel, one characteristic noted by Edgar Johnson is that Dickens, in the first part, \"makes the reader see with the eyes of a child\",[129] an innovative technique for the time, first tried in Dombey and Son with an omniscient narrator, and carried here to perfection through the use of the 'I'.\n",
            "\n",
            "Modernist novelist Virginia Woolf writes, that when we read Dickens \"we remodel our psychological geography ... [as he produces] characters who exist not in detail, not accurately or exactly, but abundantly in a cluster of wild yet extraordinarily revealing remarks\".[130]\n",
            "\n",
            "The very principle of satire is to question, and to tear off the masks, so as to reveal the raw reality under the varnish.[131] Dickens uses the whole arsenal of literary tools that are available to the satirist, or rather supplied by his narrator, David, who even directs satire upon himself. These tools include irony, humour, and caricature. How it is employed relates to the characters' differing personalities. Satire is thus gentler towards some characters than others; toward David the hero-narrator, it is at once indulgent and transparent.\n",
            "\n",
            "There are several different types of character: On the one hand, there are the good ones, Peggotty, Dr Strong, Traddles, Agnes etc., on the other hand, there are the bad ones, Murdstone, Steerforth, Uriah Heep, etc. A third category are characters who change over time, including Betsey Trotwood, who at first is more obstinate than nasty, it is true, and Martha Endell, and Creakle, etc. There is also a contrast drawn between ever-frozen personalities such as Micawber, Dora, Rosa Dartle, and those who evolve. The latter includes David, Mr Mell, Miss Mowcher. There is also a contrast drawn between the idiosyncrasies of Mr Dick, Barkis, Mrs Gummidge, and the subtle metamorphosis from innocence to maturity of characters like David, Traddles, Agnes.\n",
            "\n",
            "Dickens worked intensively on developing arresting names for his characters that would reverberate with associations for his readers, and assist the development of motifs in the storyline, giving what one critic calls an \"allegorical impetus\" to a novel's meanings.[132] The name Mr Murdstone in David Copperfield conjures up twin allusions to \"murder\" and stony coldness;[133] Strong is definitely not \"strong\"; Creakle \"squeaks and grinds\". There can also be a visual dimension to Dickens's humour. This includes Micawber's rotundity, his wife's dried-up body, which forever offers a sterile breast, Betsey's steadfast stiffness, Mr Sharp's bowed head, Daniel Peggotty's stubborn rudeness, Clara Copperfield's delicate silhouette, and Dora's mischievous air. Then there are exaggerated attitudes that are constantly repeated. Dickens creates humour out of character traits, such as Mr Dick's kite flying, James Steerforth's insistent charm, Uriah Heep's obsequiousness, Betsey pounding David's room. There are in addition the employment of repetitive verbal phrases: \"umble\" of the same Heep, the \"willin\" of Barkis, the \"lone lorn creetur\" of Mrs Gummidge. Dickens also uses objects for a humorous purpose, like Traddles's skeletons, the secret box of Barkis, the image of Heep as a snake, and the metallic rigidity of Murdstone.\n",
            "\n",
            "In David Copperfield idealised characters and highly sentimental scenes are contrasted with caricatures and ugly social truths. While good characters are also satirised, a considered sentimentality replaces satirical ferocity. This is a characteristic of all of Dickens's writing, but it is reinforced in David Copperfield by the fact that these people are the narrator's close family members and friends, who are devoted to David and sacrificing themselves for his happiness. Hence the indulgence applied from the outset, with humour prevailing along with loving complicity. David is the first to receive such treatment, especially in the section devoted to his early childhood, when he is lost in the depths of loneliness in London, following his punishment by Mr Murdstone. Michael Hollington analyses a scene in chapter 11 that seems emblematic of the situation and how humour and sentimentality are employed by Dickens.[134] This is the episode where the very young David orders a pitcher of the best beer in a public house, \"To moisten what I had for dinner\".[135] David's memory has retained the image of the scene, which is so vivid that he sees himself as from the outside. He has forgotten the exact date (his birthday). This episode release David's emotional pain, writes Michael Hollington, obliterating the infected part of the wound. Beyond the admiration aroused for the amazing self-confidence of the little child, in resolving this issue and taking control of his life with the assurance of someone much older, the passage \"testifies to the work of memory, transfiguring the moment into a true myth\".[134] The tone is nostalgic because, ultimately, the epilogue is a true moment of grace. The wife of the keeper, returning David's money, deposits on his forehead a gift that has become extremely rare,[136] a kiss, \"Half admired and half compassionate\", but above all full of kindness and femininity; at least, adds David, as a tender and precious reminder, \"I am sure\".\n",
            "\n",
            "Dickens went to the theatre regularly from an early age and even considered becoming an actor in 1832.[137] \"Many of the plays that he saw on the London stage in the 1820s and 1830s were melodramas\".[138] There is a visual, theatrical—even cinematic—element in some scenes in David Copperfield. The cry of Martha at the edge of the river belongs to the purest Victorian melodrama, as does the confrontation between Mr Peggotty and Mrs Steerforth, in chapter 32:\n",
            "\n",
            "Such language, according to Trevor Blount, is meant to be said aloud. Many other scenes employ the same method: Micawber crossing the threshold, Heep harassing David in Chapter 17, the chilling apparition of Littimer in the middle of David's party in Chapter 27. The climax of this splendid series of scenes is the storm off Yarmouth, which is an epilogue to the menacing references to the sea previously, which shows Dicken's most intense virtuosity (chapter 55).\n",
            "\n",
            "Dickens made the following comment in 1858: \"Every good actor plays direct to every good author, and every writer of fiction, though he may not adopt the dramatic form, writes in effect for the stage\".[140]\n",
            "\n",
            "Setting is a major aspect of Dickens's \"narrative artistry and of his methods of characterization\", so that \"the most memorable quality of his novels may well be their atmospheric density [... of the] descriptive writing\".[141]\n",
            "\n",
            "In David Copperfield setting is less urban, more rustic than in other novels, and especially maritime. Besides Peggotty, who is a seaman whose home is an overturned hull, Mr Micawber goes to the naval port of Plymouth on the south coast after prison and appears finally on board a steamer. David himself is connected to Yarmouth, and Aunt Betsey settled in the Channel port of Dover. Young David notices the sea on his first day at her home; \"the air from the sea came blowing in again, mixed with the perfume of the flowers\".[142] The city, London, is especially the place of misfortune, where the dark warehouse of Murdstone and Grinby are found. The philosopher Alain (pseudonym of Émile-Auguste Chartier) comments as follows about Dickens's portrayal of London (but it might also be applied to other locations), as cited by Lançon:\n",
            "\n",
            "Important symbols include, imprisonment, the sea, flowers, animals, dreams, and Mr Dick's kite.[144] According to Henri Suhamy, \"Dickens's symbolism consists in giving significance to physical details ... The constant repetition of these details ... contributes to deepen their emblematic significance\".[145] This may include the characters, aspects of the story, and, more prominently amongst the motifs, places or objects.\n",
            "\n",
            "Separating realism and symbolism can be tricky, especially, for example, when it relates, to the subject of imprisonment, which is both a very real place of confinement for the Micawber family, and, more generally throughout David Copperfield, symbolic of the damage inflicted on a sick society, trapped in its inability to adapt or compromise, with many individuals walled within in themselves.[146]\n",
            "\n",
            "The imponderable power of the sea is almost always associated with death: it took Emily's father; will take Ham and Steerforth, and in general is tied to David's \"unrest\" associated with his Yarmouth experiences.[147] In the end nothing remains but Steerforth's body cast-up as \"flotsam and jetsam\", that symbolises the moral emptiness of David's adoration. The violent storm in Yarmouth coincides with the moment when the conflicts reached a critical threshold, when it is as if angry Nature called for a final resolution; as Kearney noted, \"The rest of the novel is something of an anti-climax after the storm chapter.\"[147][148] Referring to the climactic storm scene in David Copperfield, the last in any Dickens novel, Kearney remarked that \"The symbolism of sea, sky and storm is successfully integrated to achieve what amounts to a mystical dimension in the novel, and this mystical dimension is, on the whole, more acceptable than the ones found elsewhere in Dickens\".[149]\n",
            "\n",
            "According to Daniel L Plung, four types of animal are a particularly important aspect of the way symbolism is used: song birds symbolise innocence; \"lions and raptors [are] associated with the fallen but not evil\"; dogs, other than Jip, are associated \"with the malicious and self-interested\"; while snakes and eel represent evil.[150] A typical example of the way that animal symbolism is used is found in the following sentence: \" 'the influence of the Murdstones upon me [David] was like the fascination of two snakes on a wretched young bird\" '.[151] When David describes Steerforth as \"brave as a lion\" this is a clue to Steerforth's moral weakness and foreshadows subsequent events.[152]\n",
            "\n",
            "Flowers symbolise innocence, for example, David is called \"Daisy\" by Steerforth, because he is naive and pure, while Dora constantly paints bouquets, and when Heep was removed from Wickfield House, flowers return to the living room. Mr Dick's kite, represents how much he is both outside and above society, immune to its hierarchical social system. Furthermore, it flies among the innocent birds,[153] and just as this toy soothes and gives joy to him, Mr Dick heals the wounds and restore peace where the others without exception have failed.\n",
            "\n",
            "Dreams are also an important part of the novel's underlying symbolic structure, and are \"used as a transitional device to bind [its] parts together\" with twelve chapters ending \"with a dream or reverie\".[154] In the early dark period of David's life his dreams \"are invariably ugly\", but in later chapters they are more mixed, with some reflecting \"fanciful hopes\" that are never realised, while others are nightmares which foreshadow \"actual problems\".[154]\n",
            "\n",
            "In addition physical beauty, in the form of Clara, is emblematic of moral good, while the ugliness of Uriah Heep, Mr Creakle and Mr Murdstone underlines their villainy. While David, the story's hero, has benefited from her love and suffered from the violence of the others.\n",
            "\n",
            "Dickens, in preparation for this novel, went to Norwich, Lowestoft, and Yarmouth where the Peggotty family resides, but he stayed there for only five hours, on 9 January 1849. He assured his friends, that his descriptions were based on his own memories, brief as were his local experiences. However, looking to the work of K. J. Fielding[155] reveals that the dialect of this town was taken from a book written by a local author, Major Edward Moor published in 1823.[156] There, Dickens found a beein (a house), fisherate (officiate), dodman (snail), clickesen (gossip), and winnicking (tears) from winnick (to cry) and so on.[157]\n",
            "\n",
            "Many view this novel as Dickens's masterpiece, beginning with his friend and first biographer John Forster, who writes: \"Dickens never stood so high in reputation as at the completion of Copperfield\",[158] and the author himself calls it \"his favourite child\".[159][N 10] It is true, he says, that \"underneath the fiction lay something of the author's life\",[160] that is, an experience of self-writing. It is therefore not surprising that the book is often placed in the category of autobiographical works. From a strictly literary point of view, however, it goes beyond this framework in the richness of its themes and the originality of its writing.\n",
            "\n",
            "Situated in the middle of Dickens's career, it represents, according to Paul Davis, a turning point in his work, the point of separation between the novels of youth and those of maturity.[161] In 1850, Dickens was 38 years old and had twenty more to live, which he filled with other masterpieces, often denser, sometimes darker, that addressed most of the political, social and personal issues he faced.\n",
            "\n",
            "Dickens welcomed the publication of his work with intense emotion, and he continued to experience this until the end of his life. When he went through a period of personal difficulty and frustration in the 1850s, he returned to David Copperfield as to a dear friend who resembled him: \"Why,\" he wrote to Forster, \"Why is it, as with poor David, a sense comes always crashing on me now, when I fall into low spirits, as of one happiness I have missed in life, and one friend and companion I have never made?\"[162][N 11] When Dickens begins writing Great Expectations, which was also written in the first person, he reread David Copperfield and confided his feelings to Forster: \"was affected by it to a degree you would hardly believe\".[163] Criticism has not always been even-handed, though over time the high importance of this novel has been recognised.\n",
            "\n",
            "Although Dickens became a Victorian celebrity his readership was mainly the middle classes, including the so-called skilled workers, according to the French critic Fabrice Bensimon, because ordinary people could not afford it.[164] Issues I to V of the serial version reached 25,000 copies in two years, modest sales compared to 32,000 Dombey and Son and 35,000 Bleak House, but Dickens was nevertheless happy: \"Everyone is cheering David on\", he writes to Mrs Watson,[165] and, according to Forster, his reputation was at the top.[158]\n",
            "\n",
            "The first reviews were mixed,[166] but the great contemporaries of Dickens showed their approval: Thackeray found the novel \"freshly and simply simple\";[167] John Ruskin, in his Modern Painters, was of the opinion that the scene of the storm surpasses Turner's evocations of the sea; more soberly, Matthew Arnold declared it \"rich in merits\";[28] and, in his autobiographical book A Small Boy and Others, Henry James evokes the memory of \"treasure so hoarded in the dusty chamber of youth\".[168]\n",
            "\n",
            "After Dickens's death, David Copperfield rose to the forefront of the writer's works, both through sales, for example, in Household Words in 1872 where sales reached 83,000,[169] and the praise of critics. In 1871, Scottish novelist and poet Margaret Oliphant described it as \"the culmination of Dickens's early comic fiction\";[170] However, in the late nineteenth-century Dickens's critical reputation suffered a decline, though he continued to have many readers. This began when Henry James in 1865 \"relegated Dickens to the second division of literature on the grounds that he could not 'see beneath the surface of things'\". Then in 1872, two years after Dickens's death, George Henry Lewes wondered how to \"reconcile [Dickens's] immense popularity with the 'critical contempt' which he attracted\".[171] However, Dickens was defended by the novelist George Gissing in 1898 in Charles Dickens: A Critical Study.[171] G. K. Chesterton published an important defence of Dickens in his book Charles Dickens in 1906, where he describes him as this \"most English of our great writers\".[172] Dickens's literary reputation grew in the 1940s and 1950s because of essays by George Orwell and Edmund Wilson (both published in 1940), and Humphrey House's The Dickens World (1941).[173] However, in 1948, F. R. Leavis in The Great Tradition, contentiously, excluded Dickens from his canon, characterising him as a \"popular entertainer\"[174] without \"mature standards and interests\".[175]\n",
            "\n",
            "Dickens's reputation, however, continued to grow and K. J. Fielding (1965) and Geoffrey Thurley (1976) identify what they call David Copperfield's \"centrality\", and Q. D. Leavis in 1970, looked at the images he draws of marriage, of women, and of moral simplicity.[176] In their 1970 publication Dickens the Novelist, F. R. and Q. D. Leavis called Dickens \"one of the greatest of creative writers\", and F. R. Leavis had changed his mind about Dickens since his 1948 work, no longer finding the popularity of the novels with readers as a barrier to their seriousness or profundity.[177] In 1968 Sylvère Monod, after having finely analyzed the structure and style of the novel, describe it as \"the triumph of the art of Dickens\",[6] which analysis was shared by Paul B. Davis.[7] The central themes are explored by Richard Dunne in 1981, including the autobiographical dimension, the narrator-hero characterization process, memory and forgetting, and finally the privileged status of the novel in the interconnection between similar works of Dickens.[176] Q. D. Leavis compares Copperfield to Tolstoy's War and Peace and looks at adult-child relationships in both novels. According to writer Paul B. Davis, Q. D. Leavis excels at dissecting David's relationship with Dora.[7] Gwendolyn Needham in an essay, published in 1954, analyzes the novel as a bildungsroman, as did Jerome H. Buckley twenty years later.[7] In 1987 Alexander Welsh devoted several chapters to show that Copperfield is the culmination of Dickens's autobiographical attempts to explore himself as a novelist in the middle of his career. Finally, J. B. Priestley was particularly interested in Mr Micawber and concludes that \"With the one exception of Falstaff, he is the greatest comic figure in English literature\".[128]\n",
            "\n",
            "In 2015, the BBC Culture section polled book critics outside the UK about novels by British authors; they ranked David Copperfield eighth on the list of the 100 Greatest British Novels.[178] The characters and their varied places in society in the novel evoked reviewer comments, for example, the novel is \"populated by some of the most vivid characters ever created,\"  \"David himself, Steerforth, Peggotty, Mr Dick – and it climbs up and down and off the class ladder.\", remarked by critic Maureen Corrigan and echoed by Wendy Lesser.[179]\n",
            "\n",
            "David Copperfield has pleased many writers. Charlotte Brontë, for example, commented in 1849 in a letter to the reader of her publisher: \"I have read David Copperfield; it seems to me very good—admirable in some parts. You said it had affinity to Jane Eyre: it has—now and then—only what an advantage has Dickens in his varied knowledge of men and things!\"[180] Tolstoy, for his part, considered it \"the best work of the best English novelist\" and, according to F. R. Leavis and Q. D. Leavis, was inspired by David and Dora's love story to have Prince Andrew marry Princess Lise in War and Peace.[181] Henry James remembered being moved to tears, while listening to the novel, hidden under a table, read aloud in the family circle.[182] Dostoevsky enthusiastically cultivated the novel in a prison camp in Siberia.[183] Franz Kafka wrote in his diary in 1917, that the first chapter of his novel Amerika was inspired by David Copperfield.[184][185][186][N 12] James Joyce parodied it in Ulysses.[187] Virginia Woolf, who was not very fond of Dickens, states that David Copperfield, along with Robinson Crusoe, Grimm's fairy tales, Scott's Waverley and Pickwick's Posthumous Papers, \"are not books, but stories communicated by word of mouth in those tender years when fact and fiction merge, and thus belong to the memories and myths of life, and not to its aesthetic experience.\"[188] Woolf also noted in a letter to Hugh Walpole in 1936, that she is re-reading it for the sixth time: \"I'd forgotten how magnificent it is.\"[189] It also seems that the novel was Sigmund Freud's favourite;[190][191] and Somerset Maugham sees it as a \"great\" work, although his hero seems to him rather weak, unworthy even of its author, while Mr Micawber never disappoints: \"The most remarkable of them is, of course, Mr Micawber. He never fails you.\"[192]\n",
            "\n",
            "As is the custom for a regular serialised publication for a wide audience, David Copperfield, like Dickens's earlier novels, was from the beginning a \"story in pictures\" whose many engravings are part of the novel and how the story is related.\n",
            "\n",
            "Phiz drew the original, the first two illustrations associated with David Copperfield: on the wrapper for the serial publication, for which he engraved the silhouette of a baby staring at a globe, probably referring to the working title (The Copperfield Survey of the World as it Rolled), and the frontispiece (later used in the published books), and the title page. The green wrapper is shown at the top of this article. Phiz drew the images around the central baby-over-the-globe with no information on the characters who would appear in the novel. He knew only that it would be a bildungsroman.[193] The images begin at the bottom, on the left side of the tree that has leaves on the left, and is dead on the right. A woman holds a baby on her lap. The images continue clockwise, marking events of a life, but with no reference to any specific event or specific character of the novel.[193][194]\n",
            "\n",
            "When each issue was written, Phiz then worked with Dickens on the illustrations. \"In the monthly plates, Phiz would have to translate the memories of the protagonist-narrator into a third-person objective or dramatic point of view.\"[193] Some of his illustrations contain details that are not in the text, but illuminate a character or situation, \"forming part of [...] of what the novel is\".[195] Dickens accepted and even encouraged these additional, sometimes subtle indications, which, commenting on the event, say more than the narrator says in print. The latter intends to stay behind, just like the author who, thus, hides behind the illustrator.\n",
            "\n",
            "Dickens was particularly scrupulous about illustrations; he scrutinised the smallest details and sometimes demanded modifications, for example to replace for a very particular episode the coat that David wears by \"a little jacket\".[196] The illustration of the meeting between David and Aunt Betsey was particularly delicate, and Phiz had to do it several times, the ultimate choice being that of Dickens.[19] Once the desired result was obtained, Dickens does not hide his satisfaction: the illustrations are \"capital\", he writes to Phiz, and especially that which depicts Mr Micawber in chapter 16, \"uncommonly characteristic\".[197]\n",
            "\n",
            "One puzzling mismatch between the text and accompanying illustrations is that of the Peggotty family's boat-house \"cottage\" on the Yarmouth sands (pictured). It is clear from the text that the author envisaged the house as an upright boat, whereas the illustrator depicted it as an upturned hull resting on the beach with holes cut for the doors and windows. Interior illustrations of the cottage also show it as a room with curved ceiling beams implying an upturned hull. Although Dickens seemed to have had the opportunity to correct this discrepancy he never did, suggesting that he was happy with the illustrator's depiction.[198]\n",
            "\n",
            "David Copperfield was later illustrated by many artists later, after the serialization, including:\n",
            "\n",
            "Some of these works are fullsize paintings rather than illustrations included in editions of the novels.[201] Kyd painted watercolours. Frank Reynolds provided the illustrations for a 1911 edition of David Copperfield.[202]\n",
            "\n",
            "Although the reputation of Dickens with literary critics went through a decline and a much later rise after he died,[203] his popularity with readers followed a different pattern after his death. Around 1900, his novels, including David Copperfield, began an increase in popularity, and the 40-year copyrights expired for all but his latest novels, opening the door to other publishers in the UK; by 1910 all of them had expired.[204] This created the opportunity for new illustrators in new editions of the novels, as both Fred Barnard (Household Edition) and Frank Reynolds (1911 edition of David Copperfield) provided, for example; their styles were different from that of Phiz who provided the illustrations for the first publications of the novel in 1850 and during the author's life. As the books were read by so many (one publisher, Chapman & Hall, sold 2 million copies of Dickens's works in the period 1900–1906),[204] the characters became more popular for use outside the novels, in jigsaw puzzles and postcards. Uriah Heep and Mr Micawber were popular figures for illustrations. As World War I approached, the illustrations on postcards and the novels, abridged or full length, continued in popularity in the UK and among the soldiers and sailors abroad.[204]\n",
            "\n",
            "Like Dombey and Son, David Copperfield was not the subject of a specific contract; it followed the agreement of 1 June 1844, which was still valid. In that contract, the publishing house Bradbury and Evans received a quarter of the receipts from what Dickens wrote for the next eight years. This did not prevent the novelist from criticizing his publisher, or providing an incomplete number, just \"to see exactly where I am\" and for his illustrator Phiz to have \"some material to work on\".[205]\n",
            "\n",
            "The 1850 book, published by Bradbury and Evans, was dedicated to the honourable Mr and Mrs Richard Watson, from Rockingham, Northamptonshire, aristocratic friends met on a trip to Switzerland five years ago.[206] A brief preface was written in 1850 by the author, already entrusted to Forster after he finished his manuscript, with the promise that a new work will follow. This text was also used for the 1859 edition, the Cheap Edition. The ultimate version of 1867, also called the Charles Dickens edition, included another preface by the author with the statement that David Copperfield is the favourite work of the author.\n",
            "\n",
            "Three volumes were published by Tauchnitz in 1849–50, in English, for distribution outside Great Britain in Europe. During Dickens's lifetime, many other editions were released, and many since he died. According to Paul Schlicke, the most reliable edition is the 1981 edition from Clarendon Press with an introduction and notes by Nina Burgis; it serves as a reference for later editions, including those of Collins, Penguin Books and Wordsworth Classics.[10]\n",
            "\n",
            "While it was being published, David Copperfield was the object, according to Philip Bolton's survey, of six initial dramatisations, followed by a further twenty when the public's interest was at its peak in the 1850s.[207] The first adaptation, Born with a Caul by George Almar, was staged while the serial issues were not yet completed, with some changes from Dickens's plot, having Steerforth live and marry Emily, and inventing a character to kill Mr Murdstone.[208] The most spectacular dramatisation, however, were those of Dickens himself. Although he waited more than ten years to prepare a version for his public readings, it soon became one of his favourite performances, especially the storm scene, which he kept for the finale, \"the most sublime moment in all the readings\".[209]\n",
            "\n",
            "David Copperfield has been filmed on several occasions:\n"
          ]
        }
      ]
    },
    {
      "cell_type": "code",
      "source": [
        "len(longest_plot)"
      ],
      "metadata": {
        "colab": {
          "base_uri": "https://localhost:8080/"
        },
        "id": "bPi0Innyq4NE",
        "outputId": "1d60bbca-719b-48c7-fd4b-56578a8e3ee8"
      },
      "execution_count": null,
      "outputs": [
        {
          "output_type": "execute_result",
          "data": {
            "text/plain": [
              "92381"
            ]
          },
          "metadata": {},
          "execution_count": 5
        }
      ]
    },
    {
      "cell_type": "code",
      "source": [
        "index_shortest_plot = df['plot'].str.len().argmin()\n",
        "shortest_plot = df.at[index_shortest_plot, 'plot']\n",
        "\n",
        "print(f\"The shortest plot:\\n\\n{shortest_plot}\")"
      ],
      "metadata": {
        "colab": {
          "base_uri": "https://localhost:8080/"
        },
        "id": "sPhdC-hIrPYJ",
        "outputId": "b2887f35-e843-48d4-8128-57b6f1eae659"
      },
      "execution_count": null,
      "outputs": [
        {
          "output_type": "stream",
          "name": "stdout",
          "text": [
            "The shortest plot:\n",
            "\n",
            "From Antiquarian Book Exchange\n"
          ]
        }
      ]
    },
    {
      "cell_type": "code",
      "source": [
        "len(shortest_plot)"
      ],
      "metadata": {
        "colab": {
          "base_uri": "https://localhost:8080/"
        },
        "id": "I8675Z9urhRr",
        "outputId": "e405c5a6-23b9-4eea-9bb5-6066f20f88b2"
      },
      "execution_count": null,
      "outputs": [
        {
          "output_type": "execute_result",
          "data": {
            "text/plain": [
              "30"
            ]
          },
          "metadata": {},
          "execution_count": 8
        }
      ]
    },
    {
      "cell_type": "code",
      "source": [
        "long_plots = df[df['plot'].str.len() > 4000]\n",
        "\n",
        "print(f\"Number of books with long plots: {long_plots['book_name'].count()}\")"
      ],
      "metadata": {
        "colab": {
          "base_uri": "https://localhost:8080/"
        },
        "id": "BXWR2iO4rmlQ",
        "outputId": "f3da38b9-49ee-4279-c89d-28b9993933cb"
      },
      "execution_count": null,
      "outputs": [
        {
          "output_type": "stream",
          "name": "stdout",
          "text": [
            "Number of books with long plots: 1000\n"
          ]
        }
      ]
    },
    {
      "cell_type": "code",
      "source": [
        "df['plot'].str.len().sum()"
      ],
      "metadata": {
        "colab": {
          "base_uri": "https://localhost:8080/"
        },
        "id": "83uV4bqrsJNE",
        "outputId": "ac42c4cd-2a95-433c-c617-be43d7f34455"
      },
      "execution_count": null,
      "outputs": [
        {
          "output_type": "execute_result",
          "data": {
            "text/plain": [
              "np.int64(11224360)"
            ]
          },
          "metadata": {},
          "execution_count": 11
        }
      ]
    },
    {
      "cell_type": "code",
      "source": [
        "def find_longest_paragraph(plot):\n",
        "    paragraphs = plot.split('\\n\\n')\n",
        "    lengths = [len(p.strip()) for p in paragraphs]\n",
        "    longest_index = lengths.index(max(lengths))\n",
        "    return paragraphs[longest_index]\n",
        "\n",
        "longest_paragraphs = df['plot'].apply(find_longest_paragraph)\n",
        "\n",
        "max_length = longest_paragraphs.str.len().max()\n",
        "index_max = longest_paragraphs.str.len().argmax()\n",
        "\n",
        "print(f\"The longest paragraph:\\n\\n{longest_paragraphs[index_max]}\\n\\nLength: {max_length}\")"
      ],
      "metadata": {
        "colab": {
          "base_uri": "https://localhost:8080/"
        },
        "id": "H9w-WdlOtL3j",
        "outputId": "c3c406e4-4b14-428e-e64a-419849f90b72"
      },
      "execution_count": null,
      "outputs": [
        {
          "output_type": "stream",
          "name": "stdout",
          "text": [
            "The longest paragraph:\n",
            "\n",
            "The story moves to the late 21st century. The most significant technological change is the wide availability of virtual reality interfaces among all parts of society. The internet has been replaced by \"the Net,\" a vast network of online VR environments. In Durban, a VR programming instructor named Irene \"Renie\" Sulaweyo is teaching a Kalahari San named !Xabbu how to create such environments, while providing for her family. Her family is made up by her alcoholic father Long Joseph and her ten-year-old brother Stephen. Stephen spends much of his time online and frequently joins his friends in escapades to forbidden areas of the net. When he somehow ends up in a coma after visiting a forbidden club, she and !Xabbu decide to investigate. Inside the club, they discover a number of very unsavoury entertainments, and are very nearly trapped by the managers. Their most bizarre and horrifying discovery is a very powerful hypnotic entity, which Renie nearly dies trying to escape from. Convinced that the club is set up to damage the minds of children, as it has done to Stephen, she resolves to stop the people responsible. She finds an unusual and large piece of code, in the form of a golden diamond, on her machine, and consults her friend and mentor, Dr. Susan van Bleeck, about it. As they examine it, it erupts into an image of a golden city, then disappears. Renie's difficulties multiply, as it becomes clear that her investigations have earned her powerful enemies: she is stood down from her job and unknown persons set fire to her family's apartment complex. Finally, van Bleeck is brutally assaulted and dies after leaving Renie and !Xabbu with three names: Martine Desroubins, Blue Dog Anchorite, and Bolivar Atasco. The first two are hackers that agree to help them find the golden city, which is in a mysterious network called \"Otherland\", while the third is an anthropologist and archaeologist whose expertise is pre-Columbian Latin America. Blue Dog Anchorite reveals himself to be Murat Sagar Singh, a retired programmer who worked on the security system for Otherland, and whose colleagues on the same project have been dying in unusual circumstances. He also reveals that Otherland was commissioned by a secret organisation called \"The Grail Brotherhood\", and that Atasco, who oversaw the security project for Otherland, was an important member of that organisation. Renie, !Xabbu, Martine, and Singh plan to break into Otherland; Renie and !Xabbu, along with Long Joseph and van Bleeck's assistant Jeremiah Dako, travel to Wasps' Nest, a mothballed military base in the Drakensberg mountains, where there is equipment allowing Renie and !Xabbu to stay connected to the Net for extended periods. Preparations completed, they hack into Otherland, but Singh is confronted and killed by the security system. He is later found dead in his room from a heart attack. Renie, !Xabbu, and Martine manage to enter Otherland and make their way to the golden city, which is called Temilún. There, they meet the God-King, who reveals himself to be Atasco.\n",
            "\n",
            "Length: 3067\n"
          ]
        }
      ]
    },
    {
      "cell_type": "code",
      "source": [
        "df_copy = df[:11]"
      ],
      "metadata": {
        "id": "L-mM6Ue-5zBT"
      },
      "execution_count": null,
      "outputs": []
    },
    {
      "cell_type": "code",
      "source": [
        "from google.colab import userdata\n",
        "auth = userdata.get('SBER_AUTH')"
      ],
      "metadata": {
        "id": "-ZhrZ8j-Auqu"
      },
      "execution_count": null,
      "outputs": []
    },
    {
      "cell_type": "code",
      "source": [
        "import requests\n",
        "import uuid"
      ],
      "metadata": {
        "id": "wwYFOhEVBZzW"
      },
      "execution_count": null,
      "outputs": []
    },
    {
      "cell_type": "code",
      "source": [
        "def get_token(auth_token, scope='GIGACHAT_API_PERS'):\n",
        "  rq_uid = str(uuid.uuid4())\n",
        "  url = \"https://ngw.devices.sberbank.ru:9443/api/v2/oauth\"\n",
        "\n",
        "  payload = {\n",
        "      'scope': scope\n",
        "  }\n",
        "  headers = {\n",
        "    'Content-Type': 'application/x-www-form-urlencoded',\n",
        "    'Accept': 'application/json',\n",
        "    'RqUID': rq_uid,\n",
        "    'Authorization': f'Basic {auth_token}'\n",
        "  }\n",
        "\n",
        "  try:\n",
        "    response = requests.request(\"POST\", url, headers=headers, data=payload, verify=False)\n",
        "    return response\n",
        "  except requests.RequestException as e:\n",
        "    print(f'Ошибка: {str(e)}')\n",
        "    return -1"
      ],
      "metadata": {
        "id": "0LQDr8idBErV"
      },
      "execution_count": null,
      "outputs": []
    },
    {
      "cell_type": "code",
      "source": [
        "response = get_token(auth)\n",
        "if response != 1:\n",
        "  print(response.text)\n",
        "  giga_token = response.json()['access_token']"
      ],
      "metadata": {
        "colab": {
          "base_uri": "https://localhost:8080/"
        },
        "id": "8KLFyL0iFO6p",
        "outputId": "9032de89-4a70-4bca-c6d4-7feed5e21d1b"
      },
      "execution_count": null,
      "outputs": [
        {
          "output_type": "stream",
          "name": "stdout",
          "text": [
            "{\"access_token\":\"eyJjdHkiOiJqd3QiLCJlbmMiOiJBMjU2Q0JDLUhTNTEyIiwiYWxnIjoiUlNBLU9BRVAtMjU2In0.FFD-v7iir94ZxOAcrES9sfD7maupZrBHdgi3z8OGyQ0NBAofbeMMbKr6OwgLkLC9Y6QBTpHg06UK3h4A4czHSNw3gsV54ZyrK62NLcBe2UQ3OxNkR1jdYqkMsnj1DoskAbp0svfPCrtJPQujyHEoQPHIm1dv7yAorthF-OnHaIy90-0vOhrZDBjGpCpjIjoH3qk5d1hgSbgaBmho0DjcGcn3FYJWM5-2GJV-1Nd0CDv36hRfXTjvoOn3_GmF6ehV11lELE1wZ2AC9g-gd-PGKfcUJRn2Arvrvfy9lYroYhqY-ITcY2QqePtrkEyInILJKT517TwPa5R_r1mT-o4m_g.8erB0qmRfjGjRD1reXyA3g.J_mdi0ZSiFoeO0stXAHwUQKr79qZ8P7YupIQ4MWcaYS1_CBi93QcDchbR994qeGpeONpVYP_-Vsx82UNoOUt_sYVPi6jO1vEdCwjRjryv9QTgFxOG3mDryhTdCZYUCUCzz--I0GRaqbXuXJj57SXgsPS_CKT9yO9eWUXbIox9EJoDuNx5EI1WpUGPM3fEPJnJEZwWaEF1cXW5548U7QU1K0juHg9fYNnBFpvP54CWWqFJVdKGHDUT8ugeWp5VbmXUtRpgDZV_hjZLEQfi1Syoguegk9_2tjh-1YSxVTPtuHTiPs4QMyYZG9X8bgYYvRyaVJH6q75uoh7-LlRy6Rx6-HiRJsbEqoQbUYMX7x5Nd3OeYsQ9bFFf2Y1rKd55g7nyICRu5Cz_nXJfsn3AJxNLkyUtNOju_iybmqpQTI_mHwbPIcjqABER22kJujCMvZkPBKjS3fBYXsU15eiMwkGgHnvO6HhzdB_7fmVxomCzsKP7VOdqole3AEGPS8R-cNwcrnCE-A1M8h8xNpK8c5vFsBaIAU2vqAZpzYc3tII7nCe0-oostrDycOvB5ZxatvYGwmW9fTPKslBddqmM_rye4W7pGtI50xlSB4hvlYG1BLuV4IcIHR61sozpSPZEeXHCIhacZOdte9je2mbx8x1SllAxtC8cPN4k4YP_I7ZKgvsjsXLJax8XTBBz3rURC8Q9Hp2xTW9wO0CzuUJZZsNS0cfMUCRZLIxZQHbQtfJ7Io.my3hf3W8tr-i1Z-rzhTmTa5Lw9MJlCyU-j8oZZpzX3U\",\"expires_at\":1744384912623}\n"
          ]
        },
        {
          "output_type": "stream",
          "name": "stderr",
          "text": [
            "/usr/local/lib/python3.11/dist-packages/urllib3/connectionpool.py:1097: InsecureRequestWarning: Unverified HTTPS request is being made to host 'ngw.devices.sberbank.ru'. Adding certificate verification is strongly advised. See: https://urllib3.readthedocs.io/en/latest/advanced-usage.html#tls-warnings\n",
            "  warnings.warn(\n"
          ]
        }
      ]
    },
    {
      "cell_type": "code",
      "source": [
        "url = \"https://gigachat.devices.sberbank.ru/api/v1/models\"\n",
        "\n",
        "payload = {}\n",
        "headers = {\n",
        "  'Accept': 'application/json',\n",
        "  'Authorization': f'Bearer {giga_token}'\n",
        "}\n",
        "\n",
        "response = requests.request(\"GET\", url, headers=headers, data=payload, verify=False)\n",
        "\n",
        "print(response.text)"
      ],
      "metadata": {
        "colab": {
          "base_uri": "https://localhost:8080/"
        },
        "id": "OF_KV6e9G7rf",
        "outputId": "9c73286f-63f2-4c3f-e38b-ef0b7fb1fa89"
      },
      "execution_count": null,
      "outputs": [
        {
          "output_type": "stream",
          "name": "stdout",
          "text": [
            "{\"object\":\"list\",\"data\":[{\"id\":\"GigaChat\",\"object\":\"model\",\"owned_by\":\"salutedevices\",\"type\":\"chat\"},{\"id\":\"GigaChat-2\",\"object\":\"model\",\"owned_by\":\"salutedevices\",\"type\":\"chat\"},{\"id\":\"GigaChat-2-Max\",\"object\":\"model\",\"owned_by\":\"salutedevices\",\"type\":\"chat\"},{\"id\":\"GigaChat-2-Max-preview\",\"object\":\"model\",\"owned_by\":\"salutedevices\",\"type\":\"chat\"},{\"id\":\"GigaChat-2-Pro\",\"object\":\"model\",\"owned_by\":\"salutedevices\",\"type\":\"chat\"},{\"id\":\"GigaChat-2-Pro-preview\",\"object\":\"model\",\"owned_by\":\"salutedevices\",\"type\":\"chat\"},{\"id\":\"GigaChat-2-preview\",\"object\":\"model\",\"owned_by\":\"salutedevices\",\"type\":\"chat\"},{\"id\":\"GigaChat-Max\",\"object\":\"model\",\"owned_by\":\"salutedevices\",\"type\":\"chat\"},{\"id\":\"GigaChat-Max-preview\",\"object\":\"model\",\"owned_by\":\"salutedevices\",\"type\":\"chat\"},{\"id\":\"GigaChat-Plus\",\"object\":\"model\",\"owned_by\":\"salutedevices\",\"type\":\"chat\"},{\"id\":\"GigaChat-Plus-preview\",\"object\":\"model\",\"owned_by\":\"salutedevices\",\"type\":\"chat\"},{\"id\":\"GigaChat-Pro\",\"object\":\"model\",\"owned_by\":\"salutedevices\",\"type\":\"chat\"},{\"id\":\"GigaChat-Pro-preview\",\"object\":\"model\",\"owned_by\":\"salutedevices\",\"type\":\"chat\"},{\"id\":\"GigaChat-preview\",\"object\":\"model\",\"owned_by\":\"salutedevices\",\"type\":\"chat\"}]}\n"
          ]
        },
        {
          "output_type": "stream",
          "name": "stderr",
          "text": [
            "/usr/local/lib/python3.11/dist-packages/urllib3/connectionpool.py:1097: InsecureRequestWarning: Unverified HTTPS request is being made to host 'gigachat.devices.sberbank.ru'. Adding certificate verification is strongly advised. See: https://urllib3.readthedocs.io/en/latest/advanced-usage.html#tls-warnings\n",
            "  warnings.warn(\n"
          ]
        }
      ]
    },
    {
      "cell_type": "markdown",
      "source": [
        "генерация"
      ],
      "metadata": {
        "id": "5oymWPl_O2pL"
      }
    },
    {
      "cell_type": "code",
      "source": [
        "url = \"https://gigachat.devices.sberbank.ru/api/v1/embeddings\"\n",
        "\n",
        "payload = json.dumps({\n",
        "    \"model\": \"EmbeddingsGigaR\",\n",
        "    \"input\": [\"Hello, my name is Anastasiia\"]\n",
        "\n",
        "})\n",
        "headers = {\n",
        "    'Content-Type': 'application/json',\n",
        "    'Accept': 'application/json',\n",
        "    'Authorization': f'Bearer {giga_token}'\n",
        "}\n",
        "\n",
        "response = requests.request(\"POST\", url, headers=headers, data=payload, verify=False)\n",
        "\n",
        "print(response.text)"
      ],
      "metadata": {
        "colab": {
          "base_uri": "https://localhost:8080/"
        },
        "id": "XFi-vn3mO29_",
        "outputId": "95d8f91b-ab93-4dc4-c92f-4937c4cb2982"
      },
      "execution_count": null,
      "outputs": [
        {
          "output_type": "stream",
          "name": "stderr",
          "text": [
            "/usr/local/lib/python3.11/dist-packages/urllib3/connectionpool.py:1097: InsecureRequestWarning: Unverified HTTPS request is being made to host 'gigachat.devices.sberbank.ru'. Adding certificate verification is strongly advised. See: https://urllib3.readthedocs.io/en/latest/advanced-usage.html#tls-warnings\n",
            "  warnings.warn(\n"
          ]
        },
        {
          "output_type": "stream",
          "name": "stdout",
          "text": [
            "{\"object\":\"list\",\"data\":[{\"usage\":{\"prompt_tokens\":11},\"object\":\"embedding\",\"embedding\":[-1.81640625,-0.181640625,1.421875,-0.074951171875,-3.51171875,0.34765625,0.487060546875,1.349609375,2.794921875,0.4013671875,-0.437744140625,-1.28515625,0.5517578125,0.49951171875,3.298828125,-2.658203125,3.23828125,0.016876220703125,2.5703125,-0.8017578125,0.6279296875,1.3828125,-0.08197021484375,-2.08984375,-5.78515625,0.5283203125,1.998046875,2.3828125,0.58056640625,-1.9736328125,1.92578125,-1.3291015625,1.1923828125,1.1220703125,0.55224609375,2.818359375,0.377685546875,1.5986328125,1.1171875,0.0185089111328125,-1.1533203125,-2.654296875,-0.262451171875,1.109375,-2.71484375,-0.8994140625,3.453125,1.072265625,0.916015625,3.765625,-1.05078125,-0.84130859375,-1.3330078125,-0.67529296875,1.015625,-2.63671875,0.450927734375,-0.7763671875,1.4833984375,0.0268707275390625,2.3359375,-1.5556640625,-0.488525390625,1.4716796875,0.9267578125,2.142578125,0.385009765625,0.25927734375,-3.67578125,-2.234375,-0.6640625,3.01171875,1.875,-3.408203125,2.302734375,2.849609375,-2.84765625,0.904296875,-4.02734375,2.404296875,-2.685546875,-3.353515625,-2.720703125,1.78125,2.71484375,-0.830078125,-4.796875,-2.4375,-0.6943359375,2.548828125,-1.6875,2.060546875,1.439453125,1.9453125,-1.162109375,1.603515625,-1.75,-0.91650390625,0.205078125,1.9521484375,0.6513671875,-0.343017578125,-1.4794921875,-0.294677734375,-2.595703125,1.291015625,3.07421875,-2.40625,-3.822265625,0.004909515380859375,-2.912109375,0.45458984375,0.0535888671875,0.0689697265625,-0.6201171875,0.892578125,0.360107421875,-1.70703125,2.919921875,-1.611328125,0.447509765625,1.177734375,-0.50732421875,-2.322265625,-0.92529296875,0.12200927734375,-0.273681640625,-3.08984375,-1.947265625,-2.7421875,-1.572265625,-1.927734375,-0.9111328125,-1.5244140625,-0.552734375,1.2216796875,-1.17578125,-0.96875,1.095703125,-0.496337890625,3.171875,0.91162109375,-0.59228515625,2.408203125,-1.04296875,2.515625,-2.259765625,1.4951171875,0.8564453125,-2.365234375,0.345703125,-1.056640625,-1.953125,3.125,-1.556640625,0.4736328125,-0.95849609375,1.703125,-0.00875091552734375,-2.32421875,1.6572265625,3.775390625,-1.6826171875,-1.3359375,-0.53759765625,-3.63671875,0.79931640625,-0.59716796875,-2.45703125,0.0231170654296875,-0.818359375,0.7548828125,-1.9990234375,3.986328125,-0.2841796875,-2.455078125,0.67041015625,2.19140625,-3.337890625,-1.638671875,2.033203125,2.091796875,-1.9287109375,2.025390625,0.36376953125,0.439697265625,-0.36083984375,1.765625,-2.041015625,2.833984375,-0.2420654296875,1.2119140625,1.181640625,-1.7333984375,-1.2177734375,1.947265625,-0.42626953125,-1.0029296875,0.82861328125,-3.36328125,3.7265625,-0.426025390625,0.63134765625,-2.267578125,0.92333984375,1.7236328125,2.3203125,-1.3251953125,1.4912109375,1.826171875,-3.548828125,0.4482421875,-1.4404296875,4.84765625,0.54833984375,-2.623046875,-1.978515625,1.97265625,0.953125,2.365234375,-4.875,2.908203125,-0.263916015625,3.6015625,-0.64501953125,0.446533203125,-0.0125732421875,0.3115234375,-0.9990234375,-0.054718017578125,-0.71484375,0.38916015625,0.576171875,-0.272705078125,-4.2578125,0.7255859375,2.291015625,-0.47900390625,-1.4619140625,0.2264404296875,2.693359375,1.033203125,-1.845703125,2.1171875,1.48046875,-1.9169921875,-2.146484375,-1.681640625,-1.2783203125,-0.1834716796875,1.662109375,-0.83251953125,-2.072265625,-1.66015625,-1.603515625,1.333984375,0.9658203125,-1.0595703125,-1.95703125,1.626953125,-3.357421875,-0.175537109375,1.662109375,-0.199462890625,-1.099609375,-0.888671875,-0.9677734375,-2.39453125,2.42578125,1.0712890625,-0.65185546875,0.410888671875,-1.98046875,-0.09197998046875,-2.55859375,-0.59521484375,-0.67724609375,1.251953125,-0.2119140625,-3.921875,0.1611328125,-1.607421875,-1.84765625,-4.73046875,1.0546875,-2.029296875,3.7890625,-0.046966552734375,1.72265625,-4.76953125,0.9208984375,0.55419921875,0.09136962890625,0.245361328125,1.5537109375,1.357421875,-6.8984375,-1.3564453125,0.61376953125,-3.490234375,-0.49853515625,-1.5,-3.4765625,0.4599609375,-0.4921875,-3.90234375,2.541015625,1.1982421875,4.36328125,0.8017578125,-0.268798828125,-0.47314453125,3.037109375,-2.080078125,2.30078125,-1.4287109375,-1.05078125,-0.294677734375,-2.435546875,-0.14013671875,-0.07537841796875,-3.345703125,-0.138671875,-0.63427734375,-0.65771484375,-0.97998046875,-1.92578125,-0.71533203125,-0.568359375,-0.9599609375,1.6611328125,1.66015625,2.611328125,-1.3505859375,-3.650390625,-0.7900390625,0.296630859375,2.3515625,-0.5888671875,-1.5908203125,4.45703125,3.341796875,1.7109375,-0.315673828125,1.6728515625,0.8349609375,5.8046875,-2.189453125,-0.8125,-2.134765625,-0.8525390625,1.8369140625,-2.646484375,0.9814453125,0.5107421875,0.334716796875,5.91796875,1.7412109375,0.2264404296875,-1.6611328125,-0.31787109375,-0.9921875,-1.14453125,2.638671875,-2.8125,-3.560546875,1.94921875,-1.4150390625,-6.62890625,0.85205078125,-1.1806640625,-3.134765625,-1.1416015625,-1.62109375,-2.7421875,-1.9873046875,3.056640625,-4.12109375,0.7001953125,1.2470703125,0.386474609375,0.9599609375,-1.65625,-1.9150390625,-1.67578125,-2.455078125,0.454345703125,-1.1708984375,-0.4072265625,2.5,-3.921875,2.5,3.30859375,-2.24609375,0.366943359375,-0.2744140625,4.0,-0.96484375,-0.6513671875,0.6884765625,0.86474609375,1.068359375,-1.90234375,-2.71484375,-0.44384765625,-3.779296875,-1.603515625,-3.4765625,2.130859375,-0.097412109375,-1.1103515625,7.02734375,0.1636962890625,-2.75390625,0.5205078125,-2.248046875,-0.039154052734375,-0.833984375,0.7900390625,2.353515625,2.421875,-0.95068359375,-4.09375,-2.80078125,1.8544921875,-0.84814453125,0.5732421875,-1.4521484375,-2.05078125,-0.10443115234375,-4.66015625,-0.6826171875,-1.494140625,-2.03515625,2.63671875,-0.61865234375,-1.6083984375,-0.1553955078125,1.8857421875,2.03125,3.10546875,2.580078125,-2.6328125,-3.298828125,-0.83935546875,1.091796875,-1.375,-1.1064453125,1.2470703125,-0.455078125,2.8046875,0.794921875,4.5625,2.0234375,-1.7431640625,0.556640625,-3.06640625,-1.5703125,0.337890625,0.82275390625,-0.1796875,-0.224609375,3.5078125,-1.916015625,-0.2230224609375,-0.430419921875,2.728515625,-2.0390625,2.611328125,1.025390625,-2.669921875,2.4140625,-0.27685546875,-3.49609375,1.0283203125,0.76171875,1.1376953125,-3.08984375,-0.693359375,0.333251953125,0.2371826171875,1.1875,1.2119140625,2.84375,0.412109375,0.0020084381103515625,3.05078125,0.6435546875,-0.80859375,0.5595703125,0.88623046875,1.275390625,-2.2734375,-0.06256103515625,0.0540771484375,-3.033203125,2.25,-1.3505859375,-1.037109375,0.449462890625,-0.347900390625,1.2421875,1.107421875,-5.1015625,-5.6640625,-1.8330078125,-1.2568359375,1.7998046875,1.455078125,0.923828125,4.78515625,-1.2998046875,-0.323486328125,1.0068359375,-3.71875,-0.31201171875,-0.096435546875,-2.591796875,-1.9326171875,-0.45556640625,1.8056640625,6.12890625,1.697265625,2.298828125,-4.69140625,-3.251953125,1.8837890625,0.12298583984375,1.9296875,-0.4716796875,1.9208984375,2.91796875,1.328125,2.197265625,2.4453125,2.029296875,0.662109375,0.1407470703125,0.76416015625,-3.765625,1.076171875,3.548828125,-1.0908203125,-2.205078125,-1.9306640625,-1.48046875,0.64404296875,-2.060546875,2.330078125,-1.4638671875,1.419921875,-0.53759765625,1.5029296875,3.115234375,1.1396484375,-3.65234375,0.91455078125,-0.26416015625,1.2216796875,-2.642578125,-1.2978515625,-0.20361328125,1.8955078125,-0.30810546875,2.740234375,0.52783203125,3.775390625,2.08984375,0.3115234375,-0.74658203125,0.50830078125,1.703125,1.1611328125,-3.525390625,5.40234375,3.79296875,1.2568359375,1.7958984375,-4.6015625,1.017578125,1.39453125,-0.75048828125,1.3837890625,-0.25732421875,-6.3046875,-0.716796875,-1.7529296875,1.919921875,-0.93701171875,2.6953125,-1.501953125,-1.923828125,-0.055450439453125,0.0733642578125,3.1796875,0.1256103515625,3.703125,-0.036285400390625,2.044921875,-1.9833984375,0.61181640625,-1.1962890625,3.853515625,-2.083984375,-0.83642578125,-0.2076416015625,-0.2138671875,0.0010347366333007813,-0.73095703125,-0.91650390625,-1.6025390625,-0.91796875,-1.8798828125,-0.04205322265625,-1.9658203125,-1.7958984375,0.9111328125,0.1490478515625,2.013671875,0.058074951171875,2.052734375,-2.81640625,2.990234375,-3.376953125,-2.59375,-1.60546875,1.4541015625,-1.1611328125,0.272705078125,2.513671875,-0.7919921875,0.82421875,2.69921875,-0.336669921875,0.97021484375,1.7412109375,-0.366455078125,1.134765625,2.92578125,-2.982421875,-0.1385498046875,-0.22216796875,-2.826171875,-1.4111328125,-1.71875,0.424560546875,1.9150390625,-0.765625,-5.9609375,-2.01953125,3.0546875,2.341796875,1.3583984375,1.65625,-0.1531982421875,-1.0244140625,-1.1474609375,6.03515625,-0.88232421875,-3.193359375,0.209228515625,-0.299560546875,-0.192626953125,1.306640625,-0.77734375,2.296875,3.556640625,-1.3447265625,0.450927734375,5.38671875,1.8017578125,2.638671875,-2.52734375,-0.73095703125,-0.252685546875,-0.38134765625,1.7734375,0.66748046875,-3.267578125,-0.9072265625,2.365234375,1.98046875,-0.080810546875,1.30078125,-0.90478515625,0.541015625,-2.26953125,1.7705078125,1.0576171875,-1.2880859375,-0.7626953125,-0.5380859375,2.54296875,-2.14453125,2.87109375,-1.0771484375,2.267578125,-1.9501953125,0.681640625,-1.1806640625,2.76953125,-0.65283203125,-2.06640625,-0.1102294921875,-0.99609375,-1.46875,1.4140625,-0.59814453125,-1.4404296875,-0.55615234375,-1.56640625,0.60205078125,0.515625,0.08392333984375,1.859375,2.845703125,-0.7490234375,-4.9140625,-1.978515625,0.54443359375,-3.3125,2.56640625,-0.07977294921875,1.052734375,1.451171875,0.2381591796875,2.423828125,1.296875,1.109375,0.1895751953125,-0.17822265625,0.45849609375,0.1243896484375,1.220703125,0.07879638671875,1.3017578125,-1.9228515625,-1.296875,-1.439453125,0.322998046875,1.94921875,0.1346435546875,-3.50390625,0.7353515625,0.97900390625,-1.388671875,2.181640625,-0.6708984375,-1.0537109375,-0.8740234375,-1.53515625,-1.3935546875,1.00390625,-0.1688232421875,-1.97265625,0.2227783203125,-0.54931640625,-2.142578125,-0.43310546875,-2.728515625,-2.4609375,2.654296875,-2.712890625,-2.109375,-2.123046875,-0.2176513671875,0.59326171875,-0.0797119140625,0.9140625,-1.1904296875,-1.9296875,0.943359375,0.66650390625,1.330078125,1.8701171875,0.2451171875,-0.340576171875,0.2138671875,-0.027587890625,-0.94384765625,-2.517578125,-0.544921875,2.455078125,1.5107421875,-0.2486572265625,2.95703125,0.69140625,-0.8388671875,2.841796875,0.77587890625,-3.51171875,3.310546875,0.6904296875,-1.2578125,2.099609375,-1.923828125,0.189697265625,-1.533203125,-0.81787109375,-0.11181640625,-1.8193359375,0.82763671875,-0.01580810546875,-0.11224365234375,0.7841796875,-0.6669921875,0.68359375,1.3876953125,-0.990234375,-2.994140625,1.7216796875,2.880859375,-2.703125,0.2509765625,-0.744140625,1.541015625,-0.08966064453125,-1.8251953125,-2.08203125,-0.369873046875,-2.8984375,0.2254638671875,0.2044677734375,0.63037109375,-2.212890625,1.6494140625,-2.07421875,-7.171875,1.05078125,-0.49609375,-0.95703125,2.162109375,-1.5810546875,-2.728515625,-3.201171875,-2.396484375,5.0078125,3.138671875,1.7666015625,-2.005859375,-1.6279296875,1.9384765625,-1.1826171875,3.82421875,4.16015625,1.111328125,-0.273193359375,1.78125,0.27880859375,0.316162109375,-1.3134765625,0.88671875,0.55810546875,1.5986328125,3.8046875,-2.021484375,2.03515625,1.20703125,-0.50244140625,-2.63671875,-1.5224609375,-2.830078125,-1.3896484375,2.345703125,1.234375,2.84375,1.4208984375,0.7919921875,3.6171875,-2.220703125,1.427734375,4.72265625,-0.87060546875,1.861328125,-0.1392822265625,-1.0927734375,-2.26171875,-0.374755859375,2.6875,-0.7451171875,1.173828125,1.388671875,-0.11572265625,-1.3095703125,-2.021484375,-0.59326171875,0.72705078125,1.470703125,4.05859375,1.10546875,1.9609375,1.6162109375,0.85498046875,-2.76171875,-0.96142578125,-1.40234375,-0.24609375,1.2275390625,1.75390625,-0.0026264190673828125,0.93994140625,1.046875,0.9462890625,-3.05078125,-2.9140625,-3.267578125,-3.177734375,-2.349609375,1.07421875,0.0182037353515625,1.8134765625,-1.2080078125,1.072265625,0.1871337890625,-0.83984375,2.056640625,0.6611328125,0.6875,-1.1533203125,2.140625,0.92822265625,-0.71142578125,-0.1396484375,-3.0546875,-3.70703125,-1.61328125,-3.591796875,-1.431640625,-1.2314453125,-0.2166748046875,2.083984375,1.412109375,-0.955078125,-1.2724609375,2.4140625,-1.283203125,2.306640625,1.9140625,-2.46875,-1.1787109375,-0.84814453125,-2.43359375,1.9072265625,1.3583984375,1.751953125,2.802734375,-2.576171875,1.6181640625,-0.1097412109375,0.44287109375,1.26171875,-0.1839599609375,-1.3369140625,2.64453125,0.76220703125,1.7626953125,1.3232421875,-2.35546875,-2.783203125,2.033203125,0.2802734375,2.603515625,1.771484375,-0.92724609375,-0.1434326171875,-1.6181640625,0.4013671875,-0.97119140625,-1.0693359375,-1.08984375,-1.5322265625,2.29296875,-2.46875,1.3984375,-5.41015625,-4.421875,-0.1357421875,-1.4775390625,1.3623046875,2.58984375,1.361328125,1.94140625,0.08984375,-1.216796875,1.23046875,0.955078125,-0.13916015625,3.4375,-0.137939453125,-0.39599609375,-2.525390625,2.650390625,-1.099609375,-0.52880859375,2.564453125,-0.935546875,-2.5546875,0.02398681640625,-1.5771484375,-1.341796875,-2.8125,-1.03515625,0.17919921875,0.00363922119140625,2.931640625,-1.6025390625,-2.697265625,-1.7275390625,2.0078125,-2.671875,-2.642578125,-3.033203125,-2.19140625,-2.533203125,-6.8359375,1.5888671875,2.66015625,-2.5390625,2.294921875,-2.2734375,-2.0,-0.2186279296875,0.56787109375,0.63916015625,-2.244140625,2.001953125,0.6640625,-4.31640625,1.578125,-1.390625,1.76171875,-1.4169921875,-2.12890625,-0.90234375,-1.7900390625,-0.54736328125,-1.62890625,-0.73974609375,2.447265625,3.294921875,3.806640625,-0.26318359375,0.1575927734375,-3.548828125,2.369140625,3.53515625,-0.266845703125,-0.38037109375,-0.12298583984375,1.3974609375,0.869140625,-3.23828125,-0.5537109375,-1.55078125,-0.7177734375,-2.51171875,2.595703125,0.783203125,0.50341796875,-2.853515625,-1.66796875,0.104248046875,0.8681640625,3.015625,-3.484375,-2.841796875,0.4775390625,1.2451171875,0.2308349609375,-2.53125,1.94921875,0.29150390625,-0.53369140625,-1.5869140625,0.186767578125,-2.375,-0.55078125,-1.099609375,-0.51806640625,1.5615234375,-1.5380859375,-1.6640625,-2.728515625,3.130859375,1.806640625,-0.04498291015625,-2.4609375,-0.744140625,2.607421875,4.71875,-0.65478515625,1.3642578125,2.3203125,-2.15234375,2.091796875,0.65478515625,-3.248046875,1.806640625,5.09765625,0.99267578125,-2.318359375,2.90234375,1.029296875,-0.6728515625,-0.305419921875,-0.56982421875,-1.5869140625,-2.111328125,2.580078125,-3.078125,-4.7890625,1.2900390625,1.4541015625,-2.37109375,0.12060546875,5.29296875,-0.966796875,0.1328125,-2.462890625,3.580078125,-3.041015625,1.9873046875,-0.7216796875,1.4580078125,-0.671875,2.671875,0.9755859375,-0.52734375,0.493408203125,-0.78515625,-0.354736328125,-1.5869140625,-1.1748046875,-2.9375,-0.4169921875,-2.5703125,-1.166015625,1.6767578125,-0.49609375,-1.755859375,2.46484375,-1.0810546875,-1.0234375,-0.57275390625,0.44091796875,-2.291015625,-0.331787109375,-1.400390625,1.498046875,1.111328125,0.2315673828125,0.60107421875,1.8955078125,0.480224609375,-0.67236328125,2.15625,-0.8896484375,-2.017578125,0.51025390625,-0.6298828125,-1.3974609375,-2.3984375,0.74072265625,1.1025390625,-3.166015625,-0.79248046875,0.029815673828125,-1.5888671875,1.9140625,0.986328125,-0.18994140625,2.0625,-2.087890625,1.603515625,-3.349609375,1.380859375,1.2177734375,-0.1466064453125,-0.450439453125,-0.290771484375,-0.69677734375,2.296875,3.373046875,-2.947265625,1.1455078125,0.271484375,1.7080078125,-2.162109375,-0.153564453125,-0.357421875,-2.451171875,1.1884765625,-1.724609375,0.5380859375,1.8369140625,5.640625,2.42578125,-1.9892578125,-5.56640625,1.12890625,0.93798828125,0.873046875,-0.392822265625,-0.45849609375,-3.10546875,-3.34375,-0.46240234375,-4.62890625,1.8291015625,0.943359375,0.841796875,-1.162109375,0.5048828125,-0.43701171875,0.8271484375,2.669921875,0.30126953125,0.57275390625,-0.274169921875,-1.7001953125,1.0908203125,-1.9501953125,0.91748046875,0.460693359375,-1.4326171875,3.609375,0.7109375,6.17578125,-0.49609375,2.314453125,-1.880859375,-0.1925048828125,0.9638671875,0.8603515625,-1.107421875,1.939453125,-0.650390625,-0.90771484375,-0.75927734375,1.7119140625,1.7275390625,0.373779296875,0.6259765625,-0.6357421875,2.28125,-3.080078125,1.3056640625,0.9453125,-2.2421875,-1.54296875,1.7705078125,0.87353515625,1.6552734375,-2.93359375,-0.358154296875,1.849609375,2.6171875,-0.184814453125,2.869140625,1.5498046875,-0.2457275390625,-1.748046875,1.728515625,3.09765625,-2.267578125,-2.578125,-0.123779296875,2.24609375,-1.44921875,-0.12432861328125,-1.65234375,0.377197265625,-0.90185546875,0.89501953125,0.564453125,3.912109375,1.2763671875,2.546875,1.56640625,2.46875,-0.77587890625,-1.9501953125,-3.115234375,2.330078125,0.31787109375,-2.416015625,-1.2138671875,-0.58984375,0.0570068359375,-0.7314453125,-0.73388671875,-0.484130859375,2.51171875,1.31640625,1.8427734375,0.50732421875,0.646484375,-3.685546875,-0.7783203125,-1.375,-2.857421875,-2.791015625,0.880859375,0.454345703125,0.2998046875,-1.923828125,-2.81640625,-1.4580078125,-0.35546875,-0.11541748046875,-0.0914306640625,2.921875,1.3701171875,-1.7978515625,-0.1439208984375,0.55078125,-0.5390625,1.31640625,0.441162109375,1.48046875,1.5498046875,-2.380859375,3.546875,1.25,0.61083984375,1.533203125,1.3984375,-0.3779296875,2.150390625,1.9912109375,-0.85400390625,3.142578125,-0.85400390625,3.07421875,1.0341796875,0.755859375,-0.8232421875,-1.5400390625,-2.873046875,0.0013980865478515625,-2.76171875,4.0,-0.751953125,-1.900390625,0.2314453125,-1.0048828125,0.669921875,1.6044921875,-0.41943359375,2.1640625,1.8505859375,0.397705078125,2.22265625,0.73779296875,1.259765625,-1.0849609375,-0.97607421875,1.0830078125,-2.97265625,0.7138671875,-0.9169921875,1.283203125,0.2354736328125,-0.22119140625,0.431396484375,-3.53125,1.806640625,-3.53515625,-1.3544921875,-1.5654296875,2.455078125,-4.5703125,0.8203125,-2.93359375,1.861328125,-3.130859375,-1.0654296875,-0.78955078125,-2.845703125,1.654296875,0.68408203125,2.296875,2.818359375,2.77734375,-1.7802734375,-0.87109375,2.197265625,-0.333740234375,3.744140625,1.0009765625,5.53515625,0.94140625,1.6953125,1.962890625,-3.37890625,2.796875,-3.779296875,-1.013671875,-0.673828125,2.451171875,-0.006710052490234375,-1.0693359375,-2.45703125,-0.767578125,0.431396484375,1.0419921875,1.6572265625,0.191650390625,1.841796875,4.15625,3.806640625,-4.078125,1.8955078125,-0.84033203125,0.300537109375,2.51953125,0.36767578125,0.205810546875,1.140625,-0.8369140625,2.03125,1.171875,1.4482421875,7.12890625,-0.4970703125,2.853515625,3.291015625,0.77294921875,-2.876953125,-2.662109375,-5.01953125,-4.578125,0.030670166015625,2.8359375,0.173583984375,-0.77734375,-1.8935546875,0.61669921875,1.333984375,-3.1875,0.5556640625,-0.544921875,-2.939453125,2.171875,-2.79296875,0.55908203125,0.150634765625,-1.7412109375,1.12890625,1.7490234375,-0.253173828125,0.49072265625,0.12091064453125,2.912109375,2.38671875,-2.853515625,-0.58447265625,2.794921875,3.05078125,1.662109375,1.080078125,-1.7978515625,-2.09765625,-1.8896484375,-1.380859375,0.5458984375,-0.262451171875,0.352783203125,-1.7802734375,2.30078125,1.30078125,-0.94287109375,-2.88671875,-1.86328125,1.7412109375,-1.1650390625,0.367431640625,-1.3291015625,2.029296875,0.85791015625,3.029296875,0.6865234375,2.94140625,-4.30859375,-1.9541015625,1.3916015625,1.0703125,0.71728515625,1.1767578125,1.75,-0.66650390625,0.95849609375,1.072265625,4.078125,1.6328125,-1.6357421875,-1.58984375,-2.658203125,-2.044921875,-2.767578125,-0.56298828125,-2.498046875,0.60595703125,-1.0458984375,1.7119140625,-2.28125,2.48046875,-1.9599609375,1.9228515625,-0.578125,1.3935546875,2.279296875,-2.755859375,-1.287109375,0.420166015625,0.77880859375,1.1103515625,3.134765625,-2.400390625,-2.890625,-2.634765625,-0.377685546875,-1.4501953125,0.443359375,2.392578125,0.689453125,-1.568359375,-0.83251953125,1.189453125,3.357421875,-3.677734375,-3.201171875,-0.408935546875,0.7685546875,-0.08636474609375,0.344482421875,-2.4765625,0.720703125,-0.87353515625,3.306640625,0.18212890625,-2.75,1.091796875,-0.089599609375,0.89111328125,-2.943359375,0.40283203125,0.5634765625,-0.45458984375,2.423828125,1.1171875,-2.376953125,0.921875,0.265625,0.55810546875,-1.7255859375,-2.142578125,2.9296875,-1.091796875,0.00040912628173828125,-0.22802734375,-1.3623046875,-1.1533203125,1.14453125,-1.05078125,-0.60693359375,-1.330078125,3.3984375,-2.177734375,1.404296875,-1.0966796875,1.6171875,2.734375,1.5009765625,0.7568359375,-2.490234375,-0.8203125,-0.312744140625,1.7626953125,-4.51171875,1.837890625,-0.94677734375,0.8955078125,-0.38916015625,-0.990234375,-0.7919921875,-3.279296875,-1.3798828125,0.86572265625,1.080078125,-1.640625,1.26953125,-0.488037109375,1.66796875,-0.953125,-3.244140625,-0.01280975341796875,-2.81640625,-0.79833984375,-1.05859375,-2.029296875,-3.849609375,-1.8818359375,-1.8779296875,-1.0810546875,0.2095947265625,0.27490234375,0.27001953125,1.7900390625,-4.0546875,-2.732421875,1.6826171875,-1.9296875,-1.2451171875,-0.6103515625,-0.43115234375,0.9658203125,0.017303466796875,0.98193359375,-0.931640625,4.90234375,0.55322265625,-1.8134765625,1.2177734375,-0.611328125,-2.0,-0.466796875,-2.005859375,2.029296875,3.068359375,-1.869140625,-0.196533203125,2.330078125,-0.66015625,0.1812744140625,-1.087890625,-2.712890625,-1.7900390625,-0.8154296875,0.38720703125,0.568359375,-0.315673828125,-3.365234375,1.0439453125,0.09136962890625,-0.7626953125,-0.1368408203125,1.1689453125,-3.78515625,-0.59619140625,1.158203125,-6.87109375,2.162109375,-4.90234375,4.44140625,1.7041015625,1.115234375,2.861328125,-0.52099609375,0.8916015625,-2.33984375,4.40625,-3.578125,-0.404541015625,-1.6767578125,1.3193359375,1.5546875,-0.0972900390625,-0.88427734375,4.16796875,4.76171875,-2.642578125,2.109375,0.2197265625,0.6513671875,0.490966796875,-4.46484375,2.9609375,1.447265625,0.489501953125,-0.5107421875,2.431640625,1.0869140625,1.703125,1.970703125,-1.078125,-4.53515625,2.509765625,0.2376708984375,2.642578125,0.92822265625,-0.853515625,0.0045013427734375,1.1123046875,0.3115234375,-0.96875,0.85888671875,0.05548095703125,2.482421875,0.0572509765625,-0.02630615234375,-1.390625,-1.6484375,-1.5732421875,-0.2724609375,2.1796875,-2.537109375,2.205078125,-1.2822265625,2.27734375,-0.71484375,3.5078125,1.556640625,2.66015625,0.78515625,-0.360107421875,2.939453125,-1.0302734375,0.53125,2.572265625,-0.218017578125,-0.623046875,1.12109375,-2.62109375,-0.50390625,-2.677734375,2.005859375,-3.189453125,0.73583984375,1.3056640625,3.900390625,0.3154296875,-1.275390625,-3.576171875,-2.478515625,-1.9365234375,-2.115234375,-0.343017578125,-1.7919921875,1.052734375,0.99072265625,3.837890625,4.6640625,3.728515625,-3.8203125,4.30859375,-1.126953125,-0.1451416015625,0.312255859375,-1.34375,-2.81640625,1.92578125,-4.94140625,-1.416015625,1.3876953125,-0.79443359375,2.326171875,2.65234375,-0.74462890625,-2.126953125,0.4853515625,-2.509765625,-0.5751953125,1.587890625,0.03826904296875,-2.427734375,-0.260009765625,3.923828125,2.203125,2.76953125,0.07440185546875,0.356201171875,0.8095703125,-2.9453125,-4.41015625,-0.875,-1.611328125,3.013671875,0.81396484375,1.189453125,1.6201171875,3.3984375,2.521484375,-1.115234375,-1.1357421875,0.2420654296875,1.0966796875,0.5634765625,-0.21240234375,-1.4453125,-3.484375,1.0859375,1.40625,2.73828125,2.48046875,-0.84423828125,-0.697265625,-0.720703125,0.6181640625,-1.3603515625,-0.96337890625,0.43505859375,0.5546875,0.4169921875,-1.52734375,2.14453125,1.5615234375,-2.171875,-0.6474609375,0.319091796875,1.66796875,0.470458984375,0.97265625,-0.45703125,0.2127685546875,1.6728515625,2.091796875,-1.4560546875,0.6025390625,-1.8046875,0.53955078125,-1.5283203125,-1.5029296875,-0.587890625,0.64794921875,1.9453125,-0.97265625,0.415283203125,3.939453125,-0.4951171875,0.447265625,-0.54638671875,1.3564453125,1.16015625,-0.75390625,0.35009765625,-0.76416015625,-4.95703125,0.9111328125,1.64453125,-4.99609375,1.095703125,-0.77294921875,-2.146484375,-1.1279296875,-0.9306640625,0.89306640625,0.91748046875,-0.00814056396484375,-1.4580078125,-2.541015625,0.68408203125,-1.8828125,0.890625,1.5224609375,3.029296875,-0.697265625,-0.60888671875,0.93359375,1.03125,-0.2120361328125,-2.228515625,-2.076171875,-0.65234375,-1.3056640625,-0.40380859375,-0.6708984375,-3.69140625,2.673828125,-0.10443115234375,3.041015625,1.0458984375,-3.06640625,-1.4638671875,2.67578125,-0.765625,-0.447265625,0.71337890625,0.07757568359375,2.36328125,1.501953125,1.9326171875,0.990234375,-1.8544921875,-2.783203125,1.1591796875,0.2548828125,-1.455078125,-0.259033203125,1.69921875,-1.9638671875,-1.04296875,-0.51025390625,2.220703125,-0.6142578125,-1.1650390625,0.09002685546875,-2.94140625,-0.5283203125,1.732421875,0.323486328125,-0.51904296875,-3.7578125,0.54736328125,2.431640625,-1.8818359375,-0.80712890625,-0.064208984375,-2.40234375,-0.7451171875,3.087890625,-1.4658203125,1.4697265625,3.357421875,-2.595703125,2.9140625,0.93896484375,-1.865234375,-0.912109375,-0.98388671875,1.185546875,2.91796875,-2.7265625,-2.17578125,-0.57763671875,0.51611328125,-1.326171875,-0.0845947265625,-2.3046875,-1.3759765625,0.1822509765625,1.802734375,1.181640625,-4.43359375,2.896484375,-3.2265625,-2.12890625,-2.951171875,1.3876953125,-2.0390625,-1.6630859375,-1.779296875,4.265625,0.2176513671875,-0.978515625,-0.95947265625,0.316162109375,3.64453125,0.1446533203125,2.32421875,-1.1533203125,0.630859375,1.9560546875,1.1630859375,1.275390625,2.181640625,1.755859375,4.23828125,-2.29296875,2.611328125,-0.68115234375,-3.875,-3.3203125,-2.607421875,4.30859375,-1.4951171875,4.01171875,-2.091796875,-0.1982421875,1.1962890625,-2.1875,3.396484375,-1.8798828125,-0.0157012939453125,0.9189453125,-0.384033203125,4.55859375,1.96484375,-0.4521484375,-4.46484375,2.888671875,-0.4921875,-2.27734375,-1.3193359375,1.0087890625,-0.6611328125,2.001953125,-1.01171875,0.25146484375,1.3662109375,-1.2548828125,-1.6962890625,-1.5546875,1.4921875,-0.2349853515625,-4.140625,1.865234375,0.87890625,3.302734375,1.283203125,-0.5498046875,-0.08966064453125,1.568359375,0.5009765625,3.1171875,1.5751953125,0.95166015625,-1.576171875,-0.2578125,3.728515625,-1.32421875,-0.2198486328125,0.349365234375,0.2548828125,-0.2900390625,3.48828125,2.09765625,0.96728515625,0.64599609375,2.658203125,-3.078125,4.12109375,0.61865234375,-3.6015625,-4.3125,-0.1910400390625,-0.734375,-2.396484375,-1.0498046875,-0.71142578125,-1.857421875,-3.81640625,1.51953125,1.1884765625,1.2431640625,0.9189453125,-2.166015625,-2.55859375,0.193359375,-1.533203125,-0.9970703125,-0.177734375,-1.4072265625,1.220703125,-0.7822265625,-2.1328125,2.21484375,2.05859375,-3.21875,-1.55078125,-0.0667724609375,-3.1875,-0.75830078125,1.1220703125,2.923828125,-2.248046875,-0.128662109375,-0.69091796875,1.8359375,-0.48193359375,-1.869140625,-2.482421875,0.430419921875,-0.30322265625,0.48974609375,-2.55078125,-0.84912109375,2.630859375,-1.69921875,-2.150390625,0.4150390625,0.95751953125,0.88427734375,1.642578125,-1.8642578125,0.373046875,-1.2919921875,1.1533203125,0.457763671875,-3.466796875,-1.4169921875,-3.0234375,-2.92578125,-1.0517578125,-0.626953125,-1.140625,-1.9404296875,4.14453125,-0.10479736328125,-3.423828125,1.140625,0.875,0.54736328125,-2.30859375,-1.3203125,-1.4365234375,-0.65283203125,0.84814453125,-1.1064453125,-0.321533203125,-1.7705078125,2.689453125,2.900390625,0.75146484375,-2.240234375,1.619140625,-2.794921875,0.93701171875,0.58544921875,-0.576171875,0.63037109375,-1.5458984375,-2.1875,0.9677734375,1.4287109375,1.861328125,-1.92578125,-1.7109375,2.162109375,1.8818359375,-0.7236328125,3.93359375,-0.51953125,-0.7109375,1.666015625,-0.80224609375,-2.232421875,2.734375,-0.59814453125,-3.35546875,-2.181640625,0.29345703125,-3.935546875,-3.310546875,-1.61328125,-3.171875,-0.58984375,-0.466796875,1.7177734375,-0.9287109375,0.52099609375,3.203125,1.9404296875,-0.218505859375,-0.94775390625,1.0458984375,2.626953125,1.4853515625,-1.1728515625,0.92626953125,1.486328125,-7.7734375,1.939453125,4.54296875,-2.15234375,-0.63232421875,1.1708984375,-2.880859375,0.65380859375,-0.984375,2.640625,0.356201171875,-2.109375,0.00970458984375,-1.203125,0.60400390625,-0.8193359375,0.82275390625,2.29296875,3.234375,0.95947265625,-1.4970703125,1.361328125,3.908203125,1.767578125,-1.9853515625,1.75,-3.056640625,3.263671875,2.2734375,0.321533203125,-0.50732421875,2.78515625,3.703125,-0.11199951171875,1.375,-0.78857421875,2.966796875,-3.478515625,-2.830078125,4.08203125,3.841796875,-2.796875,-1.1396484375,-1.5107421875,2.3359375,-0.102783203125,1.119140625,0.245361328125,5.80859375,-2.87890625,1.103515625,-3.634765625,0.900390625,-3.669921875,3.576171875,2.1484375,0.342041015625,-2.154296875,0.282958984375,2.84375,0.08245849609375,0.420654296875,-2.1875,-2.138671875,1.658203125,2.0546875,-2.890625,-0.98291015625,0.0288543701171875,-2.708984375,0.298583984375,1.28515625,-0.8896484375,2.056640625,0.0457763671875,1.8291015625,-1.810546875,3.96875,1.5888671875,2.818359375,0.76220703125,-1.021484375,-0.383544921875,0.623046875,-2.69140625,-2.87109375,3.26953125,1.7373046875,-3.55859375,1.3681640625,2.94140625,2.541015625,-0.9482421875,2.900390625,-0.423828125,2.30859375,2.607421875,1.1396484375,1.126953125,1.1044921875,0.50830078125,-2.361328125,1.087890625,-1.7080078125,1.7255859375,0.459228515625,0.76953125,0.290771484375,1.005859375,-0.45263671875,2.185546875,4.1171875,-0.2476806640625,-2.46484375,1.80859375,1.15625,1.498046875,0.147216796875,-2.310546875,-0.86767578125,-2.884765625,3.60546875,-1.3720703125,3.203125,-3.470703125,1.0537109375,1.78125,0.65234375,-2.69140625,-0.0823974609375,0.1737060546875,0.998046875,-1.1123046875,0.67529296875,-1.44140625,2.638671875,3.44921875,-0.9638671875,-0.85693359375,-0.021148681640625,0.361083984375,-0.447509765625,1.0419921875,1.7900390625,-1.5595703125,-1.322265625,0.350341796875,2.197265625,-0.8369140625,2.76171875,-4.546875,0.2095947265625,2.45703125,-2.146484375,1.2421875,3.478515625,-2.810546875,-2.13671875,-1.75390625,-1.03125,-3.505859375,-0.5205078125,-0.71044921875,-0.533203125,-0.400146484375,-1.0673828125,2.0859375,1.0419921875,0.0097808837890625,-2.1875,2.09765625,0.13037109375,-1.14453125,-2.00390625,-3.228515625,-0.5146484375,-0.3818359375,0.701171875,-0.406982421875,2.189453125,2.94140625,0.456298828125,-1.55859375,-2.90234375,2.841796875,-0.63427734375,-3.046875,0.49462890625,1.0185546875,0.55029296875,-1.5068359375,-1.265625,-1.89453125,0.06988525390625,0.25537109375,1.537109375,1.1181640625,-0.072998046875,0.259521484375,0.908203125,1.623046875,2.54296875,-0.428955078125,1.716796875,0.41455078125,0.72607421875,0.123779296875,-1.64453125,0.5673828125,-0.1639404296875,-2.33203125,-2.6640625,-1.1435546875,1.09375,-0.828125,3.556640625,-1.98828125,-0.52783203125,2.2421875,-2.091796875,-1.3369140625,1.6328125,0.06591796875,-2.14453125,2.712890625,0.81298828125,2.482421875,-2.80859375,-2.25,0.151123046875,-2.43359375,0.37109375,1.3935546875,0.427001953125,4.44140625,-1.4541015625,3.736328125,0.6513671875,-1.705078125,-0.376953125,1.6845703125,-0.1971435546875,-3.41015625,0.6396484375,0.73193359375,-2.923828125,1.673828125,2.521484375,1.3955078125,0.146484375,-0.42822265625,-4.62890625,-1.4931640625,-1.234375,2.845703125,-0.5615234375,-0.2568359375,-3.986328125,-1.3642578125,-0.7119140625,2.13671875,1.6376953125,0.1678466796875,3.216796875,-2.705078125,-3.0859375,2.80078125,-0.041748046875,-0.62841796875,-0.57568359375,0.409423828125,1.7060546875,0.340576171875,2.6328125,1.2890625,0.165771484375,0.458251953125,0.2646484375,-1.3115234375,5.984375,0.1160888671875,-0.399169921875,0.166259765625,-1.3603515625,1.353515625,-1.365234375,-0.01285552978515625,-3.833984375,-2.04296875,3.0625,-2.16015625,-0.50537109375,1.1572265625,-0.140380859375,5.71484375,2.705078125,0.413330078125,0.4375,-0.418701171875,1.283203125,-2.421875,0.88623046875,-2.37890625,1.6982421875,0.019561767578125,0.61181640625,-2.90234375,2.892578125,2.626953125,-0.379150390625,-1.6669921875,0.8291015625,4.5859375,0.29345703125,0.388671875,1.12890625,0.61767578125,-4.76953125,-0.2169189453125,-1.8359375,5.57421875,2.16796875,-0.81396484375,-2.09765625,4.91796875,3.798828125,-0.78662109375,1.490234375,-2.60546875,0.333984375,-2.19921875,-1.6953125,0.7734375,-2.966796875,-2.87109375,5.41796875,-0.62451171875,-0.10638427734375,-0.09088134765625,0.1173095703125,1.3212890625,-3.55859375,0.76953125,-0.43505859375,0.1063232421875,-0.05908203125,1.1142578125,3.12890625,-3.23828125,-0.058380126953125,1.876953125,-0.81494140625,-2.10546875,1.7705078125,1.9365234375,-3.642578125,2.673828125,-1.4921875,2.025390625,-1.5517578125,0.7041015625,-1.0224609375,-0.46484375,1.35546875,0.724609375,-0.98974609375,2.265625,1.2626953125,-2.35546875,1.203125,1.240234375,-1.8310546875,4.10546875,2.15234375,0.338623046875,2.3359375,-0.91064453125,-2.595703125,1.591796875,-2.322265625,-0.5,1.2197265625,-1.6025390625,-0.7041015625,2.998046875,-1.80859375,-3.650390625,0.9716796875,-2.787109375,-2.888671875,1.65234375,2.357421875,2.853515625,1.771484375,2.005859375,1.720703125,0.40673828125,2.306640625,3.388671875,1.2060546875,-2.98046875,4.703125,-0.02044677734375,0.54248046875,-1.203125,2.37890625,-0.76318359375,-2.0,1.447265625],\"index\":0}],\"model\":\"EmbeddingsGigaR\"}\n"
          ]
        }
      ]
    }
  ]
}
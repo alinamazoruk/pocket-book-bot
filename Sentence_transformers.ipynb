{
  "nbformat": 4,
  "nbformat_minor": 0,
  "metadata": {
    "colab": {
      "provenance": [],
      "gpuType": "T4"
    },
    "kernelspec": {
      "name": "python3",
      "display_name": "Python 3"
    },
    "language_info": {
      "name": "python"
    },
    "accelerator": "GPU"
  },
  "cells": [
    {
      "cell_type": "code",
      "execution_count": null,
      "metadata": {
        "id": "etXwSbYk97pU"
      },
      "outputs": [],
      "source": [
        "import pandas as pd\n",
        "import numpy as np\n",
        "from sentence_transformers import SentenceTransformer\n",
        "from sklearn.metrics.pairwise import cosine_similarity\n",
        "from sklearn.feature_extraction.text import TfidfVectorizer\n",
        "from sklearn.decomposition import TruncatedSVD\n",
        "import re\n",
        "from tqdm.auto import tqdm"
      ]
    },
    {
      "cell_type": "code",
      "source": [
        "df = pd.read_csv(\"/content/cleaned_book_details (2).csv\")\n",
        "df.info()"
      ],
      "metadata": {
        "id": "2mO8KmBKtyhF",
        "colab": {
          "base_uri": "https://localhost:8080/"
        },
        "outputId": "74300d76-ef14-43cd-edf6-d0065ebdacc6"
      },
      "execution_count": null,
      "outputs": [
        {
          "output_type": "stream",
          "name": "stdout",
          "text": [
            "<class 'pandas.core.frame.DataFrame'>\n",
            "RangeIndex: 2060 entries, 0 to 2059\n",
            "Data columns (total 7 columns):\n",
            " #   Column              Non-Null Count  Dtype \n",
            "---  ------              --------------  ----- \n",
            " 0   book_name           2060 non-null   object\n",
            " 1   author              2007 non-null   object\n",
            " 2   year_of_publishing  2039 non-null   object\n",
            " 3   plot                2060 non-null   object\n",
            " 4   genre               1637 non-null   object\n",
            " 5   description         2034 non-null   object\n",
            " 6   page_number         1623 non-null   object\n",
            "dtypes: object(7)\n",
            "memory usage: 112.8+ KB\n"
          ]
        }
      ]
    },
    {
      "cell_type": "code",
      "source": [
        "model = SentenceTransformer('all-mpnet-base-v2')"
      ],
      "metadata": {
        "id": "PncL-akNt3Gi"
      },
      "execution_count": null,
      "outputs": []
    },
    {
      "cell_type": "markdown",
      "source": [
        "# AVERAGING"
      ],
      "metadata": {
        "id": "DwV-HqfaeBi-"
      }
    },
    {
      "cell_type": "code",
      "source": [
        "df = pd.read_csv('/content/embeddings_sentence_transformers_averaging.csv')\n",
        "\n",
        "def parse_numpy_vector(s):\n",
        "    if isinstance(s, str):\n",
        "        return np.fromstring(s.strip(\"[]\"), sep=' ')\n",
        "    else:\n",
        "        return None\n",
        "\n",
        "df['avg_embedding'] = df['avg_embedding'].apply(parse_numpy_vector)\n",
        "\n",
        "df.head()"
      ],
      "metadata": {
        "colab": {
          "base_uri": "https://localhost:8080/",
          "height": 521
        },
        "id": "rWCchWu9EJPt",
        "outputId": "0b2c8e57-c4f2-463e-a443-e972352366ad"
      },
      "execution_count": null,
      "outputs": [
        {
          "output_type": "execute_result",
          "data": {
            "text/plain": [
              "                                    book_name                author  \\\n",
              "0                      The 12.30 from Croydon  Freeman Wills Crofts   \n",
              "1  The Final Unfinished Voyage of Jack Aubrey       Patrick O'Brian   \n",
              "2                           30 Days in Sydney           Peter Carey   \n",
              "3                       The Thirty-Nine Steps           John Buchan   \n",
              "4                                 334 (novel)       Thomas M. Disch   \n",
              "\n",
              "           year_of_publishing  \\\n",
              "0                        1934   \n",
              "1                        2004   \n",
              "2  July 15, 2010 (2010-07-15)   \n",
              "3                     1915[1]   \n",
              "4      1972 (MacGibbon & Kee)   \n",
              "\n",
              "                                                plot  \\\n",
              "0  Set in Yorkshire and London in 1933, The 12.30...   \n",
              "1  The story begins with Surprise in the Strait o...   \n",
              "2  The book takes the form of an impressionistic,...   \n",
              "3  The story's narrator, Richard Hannay, arrives ...   \n",
              "4  The future in 334 has brought few technologica...   \n",
              "\n",
              "                        genre  \\\n",
              "0                     Mystery   \n",
              "1            Historical novel   \n",
              "2                         NaN   \n",
              "3             Adventure novel   \n",
              "4  Dystopian, science fiction   \n",
              "\n",
              "                                         description  \\\n",
              "0  The 12.30 from Croydon (U.S. title: Wilful and...   \n",
              "1  The Final Unfinished Voyage of Jack Aubrey is ...   \n",
              "2  30 Days in Sydney is a book written by Austral...   \n",
              "3  The Thirty-Nine Steps is a 1915 adventure nove...   \n",
              "4  334 is a 1972 dystopian science fiction novel ...   \n",
              "\n",
              "                   page_number  \\\n",
              "0                          NaN   \n",
              "1  144 first edition, hardback   \n",
              "2                          256   \n",
              "3                       253[1]   \n",
              "4                          201   \n",
              "\n",
              "                                       combined_text  \\\n",
              "0  The 12.30 from Croydon (U.S. title: Wilful and...   \n",
              "1  The Final Unfinished Voyage of Jack Aubrey is ...   \n",
              "2  30 Days in Sydney is a book written by Austral...   \n",
              "3  The Thirty-Nine Steps is a 1915 adventure nove...   \n",
              "4  334 is a 1972 dystopian science fiction novel ...   \n",
              "\n",
              "                                       avg_embedding  \n",
              "0  [-0.00849666819, 0.0138319647, 0.00705731707, ...  \n",
              "1  [0.00486886175, 0.0152872959, 0.0083897775, -0...  \n",
              "2  [-0.0544374436, 0.043370232, -0.00396791985, -...  \n",
              "3  [0.000661438331, -0.0416843779, 0.0112594133, ...  \n",
              "4  [-0.0130084911, -0.0215216614, 0.0124294832, 0...  "
            ],
            "text/html": [
              "\n",
              "  <div id=\"df-f10a5a79-3c11-4649-b275-5cf758bfb8c6\" class=\"colab-df-container\">\n",
              "    <div>\n",
              "<style scoped>\n",
              "    .dataframe tbody tr th:only-of-type {\n",
              "        vertical-align: middle;\n",
              "    }\n",
              "\n",
              "    .dataframe tbody tr th {\n",
              "        vertical-align: top;\n",
              "    }\n",
              "\n",
              "    .dataframe thead th {\n",
              "        text-align: right;\n",
              "    }\n",
              "</style>\n",
              "<table border=\"1\" class=\"dataframe\">\n",
              "  <thead>\n",
              "    <tr style=\"text-align: right;\">\n",
              "      <th></th>\n",
              "      <th>book_name</th>\n",
              "      <th>author</th>\n",
              "      <th>year_of_publishing</th>\n",
              "      <th>plot</th>\n",
              "      <th>genre</th>\n",
              "      <th>description</th>\n",
              "      <th>page_number</th>\n",
              "      <th>combined_text</th>\n",
              "      <th>avg_embedding</th>\n",
              "    </tr>\n",
              "  </thead>\n",
              "  <tbody>\n",
              "    <tr>\n",
              "      <th>0</th>\n",
              "      <td>The 12.30 from Croydon</td>\n",
              "      <td>Freeman Wills Crofts</td>\n",
              "      <td>1934</td>\n",
              "      <td>Set in Yorkshire and London in 1933, The 12.30...</td>\n",
              "      <td>Mystery</td>\n",
              "      <td>The 12.30 from Croydon (U.S. title: Wilful and...</td>\n",
              "      <td>NaN</td>\n",
              "      <td>The 12.30 from Croydon (U.S. title: Wilful and...</td>\n",
              "      <td>[-0.00849666819, 0.0138319647, 0.00705731707, ...</td>\n",
              "    </tr>\n",
              "    <tr>\n",
              "      <th>1</th>\n",
              "      <td>The Final Unfinished Voyage of Jack Aubrey</td>\n",
              "      <td>Patrick O'Brian</td>\n",
              "      <td>2004</td>\n",
              "      <td>The story begins with Surprise in the Strait o...</td>\n",
              "      <td>Historical novel</td>\n",
              "      <td>The Final Unfinished Voyage of Jack Aubrey is ...</td>\n",
              "      <td>144 first edition, hardback</td>\n",
              "      <td>The Final Unfinished Voyage of Jack Aubrey is ...</td>\n",
              "      <td>[0.00486886175, 0.0152872959, 0.0083897775, -0...</td>\n",
              "    </tr>\n",
              "    <tr>\n",
              "      <th>2</th>\n",
              "      <td>30 Days in Sydney</td>\n",
              "      <td>Peter Carey</td>\n",
              "      <td>July 15, 2010 (2010-07-15)</td>\n",
              "      <td>The book takes the form of an impressionistic,...</td>\n",
              "      <td>NaN</td>\n",
              "      <td>30 Days in Sydney is a book written by Austral...</td>\n",
              "      <td>256</td>\n",
              "      <td>30 Days in Sydney is a book written by Austral...</td>\n",
              "      <td>[-0.0544374436, 0.043370232, -0.00396791985, -...</td>\n",
              "    </tr>\n",
              "    <tr>\n",
              "      <th>3</th>\n",
              "      <td>The Thirty-Nine Steps</td>\n",
              "      <td>John Buchan</td>\n",
              "      <td>1915[1]</td>\n",
              "      <td>The story's narrator, Richard Hannay, arrives ...</td>\n",
              "      <td>Adventure novel</td>\n",
              "      <td>The Thirty-Nine Steps is a 1915 adventure nove...</td>\n",
              "      <td>253[1]</td>\n",
              "      <td>The Thirty-Nine Steps is a 1915 adventure nove...</td>\n",
              "      <td>[0.000661438331, -0.0416843779, 0.0112594133, ...</td>\n",
              "    </tr>\n",
              "    <tr>\n",
              "      <th>4</th>\n",
              "      <td>334 (novel)</td>\n",
              "      <td>Thomas M. Disch</td>\n",
              "      <td>1972 (MacGibbon &amp; Kee)</td>\n",
              "      <td>The future in 334 has brought few technologica...</td>\n",
              "      <td>Dystopian, science fiction</td>\n",
              "      <td>334 is a 1972 dystopian science fiction novel ...</td>\n",
              "      <td>201</td>\n",
              "      <td>334 is a 1972 dystopian science fiction novel ...</td>\n",
              "      <td>[-0.0130084911, -0.0215216614, 0.0124294832, 0...</td>\n",
              "    </tr>\n",
              "  </tbody>\n",
              "</table>\n",
              "</div>\n",
              "    <div class=\"colab-df-buttons\">\n",
              "\n",
              "  <div class=\"colab-df-container\">\n",
              "    <button class=\"colab-df-convert\" onclick=\"convertToInteractive('df-f10a5a79-3c11-4649-b275-5cf758bfb8c6')\"\n",
              "            title=\"Convert this dataframe to an interactive table.\"\n",
              "            style=\"display:none;\">\n",
              "\n",
              "  <svg xmlns=\"http://www.w3.org/2000/svg\" height=\"24px\" viewBox=\"0 -960 960 960\">\n",
              "    <path d=\"M120-120v-720h720v720H120Zm60-500h600v-160H180v160Zm220 220h160v-160H400v160Zm0 220h160v-160H400v160ZM180-400h160v-160H180v160Zm440 0h160v-160H620v160ZM180-180h160v-160H180v160Zm440 0h160v-160H620v160Z\"/>\n",
              "  </svg>\n",
              "    </button>\n",
              "\n",
              "  <style>\n",
              "    .colab-df-container {\n",
              "      display:flex;\n",
              "      gap: 12px;\n",
              "    }\n",
              "\n",
              "    .colab-df-convert {\n",
              "      background-color: #E8F0FE;\n",
              "      border: none;\n",
              "      border-radius: 50%;\n",
              "      cursor: pointer;\n",
              "      display: none;\n",
              "      fill: #1967D2;\n",
              "      height: 32px;\n",
              "      padding: 0 0 0 0;\n",
              "      width: 32px;\n",
              "    }\n",
              "\n",
              "    .colab-df-convert:hover {\n",
              "      background-color: #E2EBFA;\n",
              "      box-shadow: 0px 1px 2px rgba(60, 64, 67, 0.3), 0px 1px 3px 1px rgba(60, 64, 67, 0.15);\n",
              "      fill: #174EA6;\n",
              "    }\n",
              "\n",
              "    .colab-df-buttons div {\n",
              "      margin-bottom: 4px;\n",
              "    }\n",
              "\n",
              "    [theme=dark] .colab-df-convert {\n",
              "      background-color: #3B4455;\n",
              "      fill: #D2E3FC;\n",
              "    }\n",
              "\n",
              "    [theme=dark] .colab-df-convert:hover {\n",
              "      background-color: #434B5C;\n",
              "      box-shadow: 0px 1px 3px 1px rgba(0, 0, 0, 0.15);\n",
              "      filter: drop-shadow(0px 1px 2px rgba(0, 0, 0, 0.3));\n",
              "      fill: #FFFFFF;\n",
              "    }\n",
              "  </style>\n",
              "\n",
              "    <script>\n",
              "      const buttonEl =\n",
              "        document.querySelector('#df-f10a5a79-3c11-4649-b275-5cf758bfb8c6 button.colab-df-convert');\n",
              "      buttonEl.style.display =\n",
              "        google.colab.kernel.accessAllowed ? 'block' : 'none';\n",
              "\n",
              "      async function convertToInteractive(key) {\n",
              "        const element = document.querySelector('#df-f10a5a79-3c11-4649-b275-5cf758bfb8c6');\n",
              "        const dataTable =\n",
              "          await google.colab.kernel.invokeFunction('convertToInteractive',\n",
              "                                                    [key], {});\n",
              "        if (!dataTable) return;\n",
              "\n",
              "        const docLinkHtml = 'Like what you see? Visit the ' +\n",
              "          '<a target=\"_blank\" href=https://colab.research.google.com/notebooks/data_table.ipynb>data table notebook</a>'\n",
              "          + ' to learn more about interactive tables.';\n",
              "        element.innerHTML = '';\n",
              "        dataTable['output_type'] = 'display_data';\n",
              "        await google.colab.output.renderOutput(dataTable, element);\n",
              "        const docLink = document.createElement('div');\n",
              "        docLink.innerHTML = docLinkHtml;\n",
              "        element.appendChild(docLink);\n",
              "      }\n",
              "    </script>\n",
              "  </div>\n",
              "\n",
              "\n",
              "    <div id=\"df-4faec785-0d01-4bf8-86b5-7b22de13cb1e\">\n",
              "      <button class=\"colab-df-quickchart\" onclick=\"quickchart('df-4faec785-0d01-4bf8-86b5-7b22de13cb1e')\"\n",
              "                title=\"Suggest charts\"\n",
              "                style=\"display:none;\">\n",
              "\n",
              "<svg xmlns=\"http://www.w3.org/2000/svg\" height=\"24px\"viewBox=\"0 0 24 24\"\n",
              "     width=\"24px\">\n",
              "    <g>\n",
              "        <path d=\"M19 3H5c-1.1 0-2 .9-2 2v14c0 1.1.9 2 2 2h14c1.1 0 2-.9 2-2V5c0-1.1-.9-2-2-2zM9 17H7v-7h2v7zm4 0h-2V7h2v10zm4 0h-2v-4h2v4z\"/>\n",
              "    </g>\n",
              "</svg>\n",
              "      </button>\n",
              "\n",
              "<style>\n",
              "  .colab-df-quickchart {\n",
              "      --bg-color: #E8F0FE;\n",
              "      --fill-color: #1967D2;\n",
              "      --hover-bg-color: #E2EBFA;\n",
              "      --hover-fill-color: #174EA6;\n",
              "      --disabled-fill-color: #AAA;\n",
              "      --disabled-bg-color: #DDD;\n",
              "  }\n",
              "\n",
              "  [theme=dark] .colab-df-quickchart {\n",
              "      --bg-color: #3B4455;\n",
              "      --fill-color: #D2E3FC;\n",
              "      --hover-bg-color: #434B5C;\n",
              "      --hover-fill-color: #FFFFFF;\n",
              "      --disabled-bg-color: #3B4455;\n",
              "      --disabled-fill-color: #666;\n",
              "  }\n",
              "\n",
              "  .colab-df-quickchart {\n",
              "    background-color: var(--bg-color);\n",
              "    border: none;\n",
              "    border-radius: 50%;\n",
              "    cursor: pointer;\n",
              "    display: none;\n",
              "    fill: var(--fill-color);\n",
              "    height: 32px;\n",
              "    padding: 0;\n",
              "    width: 32px;\n",
              "  }\n",
              "\n",
              "  .colab-df-quickchart:hover {\n",
              "    background-color: var(--hover-bg-color);\n",
              "    box-shadow: 0 1px 2px rgba(60, 64, 67, 0.3), 0 1px 3px 1px rgba(60, 64, 67, 0.15);\n",
              "    fill: var(--button-hover-fill-color);\n",
              "  }\n",
              "\n",
              "  .colab-df-quickchart-complete:disabled,\n",
              "  .colab-df-quickchart-complete:disabled:hover {\n",
              "    background-color: var(--disabled-bg-color);\n",
              "    fill: var(--disabled-fill-color);\n",
              "    box-shadow: none;\n",
              "  }\n",
              "\n",
              "  .colab-df-spinner {\n",
              "    border: 2px solid var(--fill-color);\n",
              "    border-color: transparent;\n",
              "    border-bottom-color: var(--fill-color);\n",
              "    animation:\n",
              "      spin 1s steps(1) infinite;\n",
              "  }\n",
              "\n",
              "  @keyframes spin {\n",
              "    0% {\n",
              "      border-color: transparent;\n",
              "      border-bottom-color: var(--fill-color);\n",
              "      border-left-color: var(--fill-color);\n",
              "    }\n",
              "    20% {\n",
              "      border-color: transparent;\n",
              "      border-left-color: var(--fill-color);\n",
              "      border-top-color: var(--fill-color);\n",
              "    }\n",
              "    30% {\n",
              "      border-color: transparent;\n",
              "      border-left-color: var(--fill-color);\n",
              "      border-top-color: var(--fill-color);\n",
              "      border-right-color: var(--fill-color);\n",
              "    }\n",
              "    40% {\n",
              "      border-color: transparent;\n",
              "      border-right-color: var(--fill-color);\n",
              "      border-top-color: var(--fill-color);\n",
              "    }\n",
              "    60% {\n",
              "      border-color: transparent;\n",
              "      border-right-color: var(--fill-color);\n",
              "    }\n",
              "    80% {\n",
              "      border-color: transparent;\n",
              "      border-right-color: var(--fill-color);\n",
              "      border-bottom-color: var(--fill-color);\n",
              "    }\n",
              "    90% {\n",
              "      border-color: transparent;\n",
              "      border-bottom-color: var(--fill-color);\n",
              "    }\n",
              "  }\n",
              "</style>\n",
              "\n",
              "      <script>\n",
              "        async function quickchart(key) {\n",
              "          const quickchartButtonEl =\n",
              "            document.querySelector('#' + key + ' button');\n",
              "          quickchartButtonEl.disabled = true;  // To prevent multiple clicks.\n",
              "          quickchartButtonEl.classList.add('colab-df-spinner');\n",
              "          try {\n",
              "            const charts = await google.colab.kernel.invokeFunction(\n",
              "                'suggestCharts', [key], {});\n",
              "          } catch (error) {\n",
              "            console.error('Error during call to suggestCharts:', error);\n",
              "          }\n",
              "          quickchartButtonEl.classList.remove('colab-df-spinner');\n",
              "          quickchartButtonEl.classList.add('colab-df-quickchart-complete');\n",
              "        }\n",
              "        (() => {\n",
              "          let quickchartButtonEl =\n",
              "            document.querySelector('#df-4faec785-0d01-4bf8-86b5-7b22de13cb1e button');\n",
              "          quickchartButtonEl.style.display =\n",
              "            google.colab.kernel.accessAllowed ? 'block' : 'none';\n",
              "        })();\n",
              "      </script>\n",
              "    </div>\n",
              "    </div>\n",
              "  </div>\n"
            ],
            "application/vnd.google.colaboratory.intrinsic+json": {
              "type": "dataframe",
              "variable_name": "df",
              "summary": "{\n  \"name\": \"df\",\n  \"rows\": 2060,\n  \"fields\": [\n    {\n      \"column\": \"book_name\",\n      \"properties\": {\n        \"dtype\": \"string\",\n        \"num_unique_values\": 2030,\n        \"samples\": [\n          \"The Phantom Tollbooth\",\n          \"Lanark: A Life in Four Books\",\n          \"The Horse and His Boy\"\n        ],\n        \"semantic_type\": \"\",\n        \"description\": \"\"\n      }\n    },\n    {\n      \"column\": \"author\",\n      \"properties\": {\n        \"dtype\": \"category\",\n        \"num_unique_values\": 966,\n        \"samples\": [\n          \"Charles G. Finney\",\n          \"Richard Yates\",\n          \"James De Mille\"\n        ],\n        \"semantic_type\": \"\",\n        \"description\": \"\"\n      }\n    },\n    {\n      \"column\": \"year_of_publishing\",\n      \"properties\": {\n        \"dtype\": \"string\",\n        \"num_unique_values\": 1073,\n        \"samples\": [\n          \"October 1942\",\n          \"1925[1]\",\n          \"2011\"\n        ],\n        \"semantic_type\": \"\",\n        \"description\": \"\"\n      }\n    },\n    {\n      \"column\": \"plot\",\n      \"properties\": {\n        \"dtype\": \"string\",\n        \"num_unique_values\": 2030,\n        \"samples\": [\n          \"Milo is a boy bored by the world around him; every activity seems a waste of time.  He arrives home from another boring day at school to find a mysterious package. Among its contents are a small tollbooth and a map of \\\"the Lands Beyond\\\", illustrating the Kingdom of Wisdom (which will also guide the reader from its place on the endpapers of the book). Attached to the package is a note \\\"For Milo, who has plenty of time.\\\" Warned by an included sign to have his destination in mind, he decides without much thought to go to Dictionopolis, assuming this is a pretend game to be played on the floor of his room. He maneuvers through the tollbooth in his electric toy car and instantly finds himself driving on a road that is clearly not in his city apartment.\\n\\nMilo begins with Expectations, a pleasant place where he starts on Wisdom's road. In Expectations, he seeks directions from the Whether Man, who is full of endless talk. As Milo drives on, he daydreams and gets lost in the Doldrums, a colorless place where nothing ever happens. Milo soon joins the inhabitants, the Lethargarians, in killing time there, a pastime angrily interrupted by the arrival of Tock, a talking, oversized dog with an alarm clock on each side (a \\\"watchdog\\\"), who tells Milo that only by thinking can he get out of the Doldrums. Head abuzz with unaccustomed thoughts, Milo is soon back on his road, and Tock joins him on his journey through Wisdom.\\n\\nMilo and Tock travel to Dictionopolis, one of two capital cities of the divided Kingdom of Wisdom and home to King Azaz the Unabridged. They meet King Azaz's cabinet officials and visit the Word Market, where the words and letters are sold that empower the world. A fight between the Spelling Bee and the blustering Humbug breaks up the market, and Milo and Tock are arrested by the very short Officer Shrift. In prison, Milo meets Faintly Macabre, the Not-so-Wicked Which (not to be confused with Witch), long in charge of which words should be used in Wisdom. She tells him how the two rulers, King Azaz and his brother, the Mathemagician, had two adopted younger sisters, Rhyme and Reason, to whom everyone came to settle disputes. All lived in harmony until the rulers disagreed with the princesses' decision that letters (championed by Azaz) and numbers (by the Mathemagician) were equally important. They banished the princesses to the Castle in the Air and, since then, the land has had neither Rhyme nor Reason.\\n\\nMilo and Tock leave the dungeon. King Azaz hosts them at a banquet where the guests literally eat their words, served to them on plates. After the meal, King Azaz lets Milo and Tock talk themselves into a dangerous quest to rescue the princesses. Azaz flatters the Humbug into being their guide, and boy, dog and insect set off for the Mathemagician's capital of Digitopolis as they must gain his approval before they can begin their quest.\\n\\nAlong the way, they meet such characters as Alec Bings, a little boy suspended in the air who sees through things and who will grow down until he reaches the ground. He then meets the world's smallest giant, the world's biggest dwarf, the world's thinnest fat man, and the world's fattest thin man, who turn out to just be one regular man. Milo then loses time in substituting for Chroma the Great, a conductor whose orchestra creates the colors of the world.\\n\\nThey meet a twelve-sided creature called the Dodecahedron, who leads them to Digitopolis. There, they meet the Mathemagician, who is still angry at Azaz and who will not give his blessing to anything that his brother has approved. Milo maneuvers him into saying he will permit the quest if the boy can show the two have concurred on anything since they banished the princesses. To the number wizard's shock, Milo proves that the two have agreed to disagree, and the Mathemagician gives his reluctant consent.\\n\\nIn the Mountains of Ignorance, the journeyers contend with demons like the Terrible Trivium and the Gelatinous Giant. After overcoming obstacles and their own fears, they reach the Castle in the Air. Princesses Rhyme and Reason welcome Milo and agree to return to Wisdom. Unable to enter the castle, the demons cut it loose, letting it drift away, but Milo realizes Tock can carry them down because 'time flies'. The demons pursue, but the armies of Wisdom arrive and repel them. Rhyme and Reason heal the divisions in the old Kingdom of Wisdom, Azaz and the Mathemagician are reconciled, and all enjoy a three-day celebration.\\n\\nMilo says goodbye and drives back through the tollbooth. Suddenly he is back in his own room, and discovers he has been gone only an hour, though his journey seemed to take weeks. He awakens the next day with plans to return to the kingdom, but finds the tollbooth gone when he gets home from school. A note instead is there, \\\"For Milo, who now knows the way.\\\" The note states that the tollbooth is being sent to another child who needs help finding direction in life. Milo is somewhat disappointed but agrees and looks at a now-interesting world around him, concluding that even if he found a way back, he might not have time to go, for there is so much to do right where he is.\\n\\nArchitect Norton Juster was living in his hometown of Brooklyn, after three years in the Navy.[5] In June 1960, he gained a $5,000 grant from the Ford Foundation to write a children's book about cities.[6] Juster argued that the young baby boomers would soon have responsibility for the cities, and many lived in the suburbs and did not know them. In his proposal, he said he wanted \\\"to stimulate and heighten perception\\u00a0\\u2013 to help children notice and appreciate the visual world around them\\u00a0\\u2013 to help excite them and shape their interest in an environment they will eventually reshape.\\\"[7] Beginning with great enthusiasm, he ground to a halt with too many notes and too little progress. He took a weekend break with friends at Fire Island, and came back determined to put aside the cities book and seek inspiration in another writing project.[5]\\n\\nJuster's guilt over his lack of progress on the cities book had led him to write pieces of stories about a little boy named Milo,[9] which he began to develop into a book.\\nJuster quit his job so that he could work on the book.[10] His imagination fired by a boy who approached him on the street and with whom he discussed the nature of infinity, Juster wanted to finish the story about \\\"a boy who asked too many questions\\\" before returning to the book on cities.[11] Juster shared his house in Brooklyn Heights with cartoonist Jules Feiffer whose bedroom was immediately below, and who could hear him pacing in the night. Feiffer was surprised to learn that his friend's insomnia was not caused by the cities book, but by a book about a boy. Juster showed Feiffer the draft to date and, unbidden, the artist began sketching illustrations. Feiffer knew Judy Sheftel, who put deals together in the publishing trade and was his future bride. Sheftel got Jason Epstein, an innovative editor at Random House with a deep appreciation for children's literature, to agree to review the manuscript.[12] Some at Random House considered the book's vocabulary too difficult: at the time, educators advised against children's literature containing words the target audience did not already know, fearing the unfamiliar would discourage young learners.[5] Based on seven chapters of manuscript, plus a three-page outline of the rest of the story, Epstein bought the book.[13]\\n\\nSince Juster did the cooking for the housemates, if Feiffer wanted to eat, he had to do the drawings.[14] Feiffer quickly realized the book would require illustrations of the type and quality that John Tenniel had created for Lewis Carroll's Alice's Adventures in Wonderland and although a nationally known artist, doubted his competence to do the text justice.[15] Feiffer considers the double-spread illustration of demons late in the book to be a success and one of his favorites. It differs from his usual style (which would involve a white background), and instead uses Gustave Dor\\u00e9's drawings as an inspiration.[16]\\n\\nIt became a game, with Feiffer trying to draw things the way he wanted, and Juster trying to describe things that were impossible to sketch.[17] These included the Triple Demons of Compromise\\u2014one short and fat, one tall and thin, and the third exactly like the first two.[18] Feiffer got his revenge by depicting the author as the Whether Man, clad in a toga.[19]\\n\\nRepeated edits altered the protagonist's name (originally Tony), removed his parents entirely from the book, and deleted text attempting to describe how the tollbooth package had been delivered.  Milo's age was removed from the text\\u2014early drafts have him aged eight or nine\\u2014as Juster decided not to state it, lest potential readers decide they were too old to care.[20]\\n\\nSince no one has ever bothered to explain the importance of learning to Milo, he regards school as the biggest waste of time in his life.[21] Juster intended that the book speak to the importance of learning to love learning.[5] Teaching methods that might bore children, by memorization for example, are mocked in the book, as in the case of the Spelling Bee. Like the Bee, the Humbug's insult to his fellow insect goes over Milo's head, but possibly not the reader's: \\\"A slavish concern for the composition of words is the sign of a bankrupt intellect.\\\"[21][22] According to Mary Liston in her journal article on law in fantasy realms, \\\"The Phantom Tollbooth concerns the difference between education and wisdom and what processes are conducive to synthesizing both, so as to encourage an attitude of engagement, alertness, and responsibility within an increasingly autonomous individual.\\\"[23]\",\n          \"Lanark comprises four books, arranged in the order Three, One, Two, Four (there is also a Prologue before Book One, and an Epilogue four chapters before the end of the book).   In the Epilogue, the author explains this by saying that \\\"I want Lanark to be read in one order but eventually thought of in another\\\", and that the epilogue itself is \\\"too important\\\" to go at the end.[5]:\\u200a483\\u200a\\n\\nIn Book Three, a young man awakes alone in a train carriage. He has no memory of his past and picks his name from a strangely familiar photograph on the wall. He soon arrives in Unthank, a strange Glasgow-like  city in which there is no daylight and whose disappearing residents suffer from strange diseases, orifices growing on their limbs and body heat fading away. Lanark begins to associate with a group of twenty-somethings to whom he cannot fully relate and whose mores he cannot understand, and soon begins to suffer from dragonhide, a disease which turns his skin into scales as an external manifestation of his emotional repression. Lanark is eventually swallowed by a mouth in the earth, and awakes in the Institute, a sort of hospital which cures patients of their diseases but uses the hopeless cases for power and food. Upon learning this, Lanark is horrified and determines to leave.\\n\\nBooks One and Two constitute a realist Bildungsroman beginning in pre-war Glasgow, and tell the story of Duncan Thaw (\\\"based on myself, he was tougher and more honest\\\"), a difficult and precocious child born to impecunious and frustrated parents in the East End of Glasgow. The book follows Thaw's wartime evacuation, secondary education and his scholarship to the Glasgow School of Art, where his inability to form relationships with women and his obsessive artistic vision lead to his descent into madness and eventual suicide by drowning.\\n\\nBook Four sees Lanark begin a bizarre, dreamlike journey back to Unthank, which he finds on the point of total disintegration, wracked by political strife, avarice, paranoia and economic meltdown, all of which he is unable to prevent. In the course of the journey, during which he meets his author, he rapidly ages. He finally finds himself old, sitting in a hilltop cemetery as Unthank breaks down in an apocalypse of fire and flood, and, his time of death having been revealed to him, he ends the book calmly awaiting it.\\n\\nLanark could be viewed as Thaw in a personal Hell. (Thaw drowns in the sea; Lanark arrives in Unthank with the same belongings, and seashells and sand in his pockets.) The connection between the two narratives is ambiguous; Gray said that \\\"One is a highly exaggerated form of just about the everyday reality of the other\\\"[6] (for example, Thaw's eczema is mirrored by Lanark's skin disease 'dragonhide').  He also writes in the novel itself: \\\"The Thaw narrative shows a man dying because he is bad at loving. It is enclosed by [Lanark's] narrative which shows civilization collapsing for the same reason\\\"[5]:\\u200a484\\u200a and (spoken to Lanark) \\\"You are Thaw with the neurotic imagination trimmed off and built into the furniture of the world you occupy\\\".[5]:\\u200a493\\u200a He also writes: \\\"The plots of the Thaw and Lanark sections are independent of each other and cemented by typographical contrivances rather than formal necessity. A possible explanation is that the author thinks a heavy book will make a bigger splash than two light ones\\\".[5]:\\u200a493\\u200a\\n\\nOne of the most characteristically postmodern parts of the book is the Epilogue, in which Lanark meets the author in the guise of the character \\\"Nastler\\\". He makes the first two remarks about the book quoted above, and anticipates criticism of the work and of the Epilogue in particular, saying \\\"The critics will accuse me of self-indulgence, but I don't care\\\". An Index of Plagiarisms is printed in the margins of the discussion. For instance, Gray describes much of Lanark as an extended 'Difplag' (diffuse plagiarism) of Charles Kingsley's The Water Babies. Some of the supposed plagiarisms refer to non-existent chapters of the book.\\n\\nThe Unthank parts of the book may be considered as part of the \\\"social-commentary\\\" tradition of science fiction, and Lanark has often been compared with Nineteen Eighty-Four by George Orwell.[7]\\n\\nGray added an appendix to the 2001 edition of the novel, in which he included a brief biography and elaborated on some of the influences on and inspirations for the novel. He cited Kafka as a major influence on the atmosphere of the novel. He also referred to his own experiences in the media industry which he states is reflected in Lanark's numerous encounters in labyrinthine buildings with individuals talking in jargon. The Institute he describes as a combination of Wyndham Lewis's conception of Hell in Malign Fiesta along with three real-life structures: the London Underground, Stobhill Hospital in Glasgow and BBC Television Centre in London. More immediately evident inspiration can be seen in the cathedral and necropolis episodes in Unthank, whose proximity to an urban tangle of roads is mirrored in Glasgow's real-life Townhead area. Glasgow Cathedral is yards away from the Necropolis to the east and the M8 motorway (and unfinished Inner Ring Road) to the north and west. Gray said Glasgow Cathedral was the only location he purposefully visited to make notes about during the writing of the novel; all other locations he wrote about from memory.[8]\\n\\nGray began writing the novel as a student in 1954. Book One was written by 1963, but he was unsuccessful in getting it published.  The whole work was finished in 1976, typeset by the Kingsport Press in Kingsport, Tennessee, [9] and published in 1981 by the Scottish publisher Canongate Press. The novel was an immediate critical success.[10][11]\\n\\nAn adaptation of Lanark by Alastair Cording was staged by Glasgow's Tag Theatre Company at the Assembly Hall, Edinburgh, during the Edinburgh International Festival in August 1995.[12] An adaptation entitled Lanark: A Life in Three Acts, written by David Greig and directed by Graham Eatough, was produced and performed at the Edinburgh International Festival in 2015.[13][14]\\n\\nCraig, Cairns (1981), Going Down to Hell is Easy, review of Alasdair Gray's Lanark, in Murray, Glen (ed.), Cencrastus No. 6, Autumn 1981, pp. 19 - 21\",\n          \"Shasta is a boy who lives in southern Calormen with Arsheesh, an abusive fisherman, whom Shasta believes to be his father. A powerful nobleman demands hospitality one evening, and haggles with Arsheesh to buy Shasta as his slave. It emerges that Arsheesh is not Shasta's father, having found him in a washed-up boat as a baby. In the stable, Bree, the nobleman's stallion, astounds the boy by speaking. He tells Shasta that the nobleman is very cruel to his slaves, and suggests they both flee to his homeland of Narnia, from where he was captured as a foal. Shasta agrees, and they sneak away at night.\\n\\nAfter weeks of northwards travel, during which the two companions bond, a brief chase to escape lions leads to their meeting another pair of refugees: another Narnian Talking Horse, the mare Hwin, who like Bree desires to return home, and Aravis, a young noblewoman who wants to escape a political marriage to Ahoshta, the ugly Grand Vizier. Although Shasta and Aravis immediately dislike each other, the four decide to travel together. In Tashbaan, the capital of Calormen, a party of Narnians mistake Shasta for Corin, the prince of Archenland, a Narnian ally, who has gone missing. Taken from the others, Shasta overhears the Narnians planning to escape Calormen to prevent a forced marriage between Queen Susan and Rabadash, son of the Tisroc, the Calormen ruler. Shasta escapes when Corin returns, but not before learning of a hidden route through the desert.\\n\\nMeanwhile, Aravis is spotted by her friend Lasaraleen, who helps Aravis escape through the Tisroc's garden, although she cannot understand Aravis' motives. On the way, they overhear the Tisroc discussing the Narnians' escape with Rabadash and Ahoshta. The Tisroc gives Rabadash permission to raid Archenland and Narnia to kidnap Queen Susan while High King Peter is away battling giants in the north, but notes that he cannot openly support such a raid and will renounce Rabadash if he fails. The four fugitives reunite at a necropolis where Shasta has had supernatural dreams. Pooling their information, they set out across the desert along the hidden route to warn Archenland; they are again chased by a lion, which injures Aravis. \\n\\nA hermit tends to Aravis' wounds, while Shasta carries on, on foot. He finds Lune, King of Archenland, and warns him of the raiders. He is separated from Lune in thick fog and encounters an unseen presence, who claims to have been not only the lion who injured Aravis, but also the lion who caused the four to join forces, and even the one who guided Shasta's boat to Arsheesh. The presence disappears, and Shasta finds himself in Narnia. He again meets Corin, who is travelling southwards with the Narnian party (who escaped from Calormen successfully) to assist Archenland. The Narnians, led by King Edmund and Queen Lucy, arrive at the Archenland capital of Anvard, and defeat the Calormenes, who were unable to take the castle because of Shasta's warning. Rabadash is captured and most of his men are killed, including Bree's old master. In the aftermath, Aslan appears and turns Rabadash into a donkey after he refuses to accept defeat. His human form is restored when he returns to Tashbaan, but thereafter he is forbidden to travel more than ten miles from the city, on pain of permanent transformation. His reign as Tisroc is therefore very peaceful despite earning the nickname \\\"Rabadash the Ridiculous.\\\"\\n\\nLune realizes that Shasta is his son Cor, the long-lost identical twin of Prince Corin and the heir to the Archenland throne. Cor had been kidnapped as a baby in an attempt to thwart a prophecy which foretold that he would save Archenland from its greatest peril. He was lost at sea in the ensuing battle to rescue him, but Aslan made sure that the baby found his way to Arsheesh. Shasta's warning fulfilled the prophecy. Corin is delighted that Shasta is heir, as he did not want to be king. Aravis and Cor eventually marry and rule Archenland after Lune's death. Their son, Ram, becomes the most famous king of Archenland. Bree and Hwin found love separately after returning to Narnia and all four would reunite regularly.\\n\\nAfter meeting King Lune of Archenland and warning him of the impending Calormene invasion, Shasta becomes lost in a fog and separated from the Archenlanders. While walking in the fog, he senses a mysterious presence nearby.  Engaging in conversation with the unknown being, Shasta tells of his misfortunes, including twice being chased by lions. His companion, who turns out to be Aslan, responds as follows:\\n\\nThe incidents which Shasta perceived as misfortunes were orchestrated by Aslan, in his Divine Providence, for greater purposes.[6][7]\\n\\nBree and Shasta use the phrase \\\"Narnia and the North\\\" as their \\\"rallying cry\\\" as they make their escape from their life in Calormen. They are both motivated by a deep longing to find their way to their true homeland. In the setting of The Horse and His Boy, the reader finds a departure from the landscapes, culture, and people of the Narnian realms which have become familiar in the other books. The placement of the action in the realm of Calormen helps to convey a sense of \\\"unbelonging\\\" on the part of the characters and the reader, which reinforces the motif of longing for a true home.[8]\\n\\nThe association of Cor with horses, and his twin brother Corin with boxing, recalls the traditional associations of the Spartan twins Castor and Pollux of Greek mythology.[9]\\n\\nResearcher Ruth North has noted that the plot element of a sinful human being transformed into a donkey as a punishment and then restored to humanity as an act of Divine mercy is reminiscent of The Golden Ass by Apuleius, a classic of Latin literature.[10]\\n\\nBBC Radio 4 dramatised The Chronicles of Narnia, including The Horse and His Boy, in 1998. The dramatisation is entitled \\\"The Complete Chronicles of Narnia: The Classic BBC Radio 4 Full-Cast Dramatisations\\\".[11]\\n\\nFocus on the Family produced an audio dramatisation of The Horse and His Boy in 2000.[12]\\n\\nWalden Media made movie adaptations of The Lion, the Witch and the Wardrobe, Prince Caspian and The Voyage of the Dawn Treader. Walden Media obtained an option to make The Chronicles of Narnia: The Horse and His Boy in the future.[13]\\n\\nIn 2022, The Logos Theater, of Taylors, South Carolina, created a stage adaptation of The Horse and His Boy, with later performances at the Museum of the Bible[14] and Ark Encounter.[15]\"\n        ],\n        \"semantic_type\": \"\",\n        \"description\": \"\"\n      }\n    },\n    {\n      \"column\": \"genre\",\n      \"properties\": {\n        \"dtype\": \"category\",\n        \"num_unique_values\": 593,\n        \"samples\": [\n          \"War novel\",\n          \"Historical novel, speculative fiction\",\n          \"Dystopian[2]\"\n        ],\n        \"semantic_type\": \"\",\n        \"description\": \"\"\n      }\n    },\n    {\n      \"column\": \"description\",\n      \"properties\": {\n        \"dtype\": \"string\",\n        \"num_unique_values\": 2006,\n        \"samples\": [\n          \"The Toy Collector is a novel written by James Gunn, published by Bloomsbury Publishing in 2000. It is the story of a hospital orderly who steals drugs from the hospital which he sells to help keep his toy collection habit alive. Although the work is fictional, the name of the protagonist is James Gunn.\",\n          \"The Eagle Has Landed is a book by British writer Jack Higgins, set during World War II and first published in 1975.[1] It was quickly adapted into a British film of the same name, released in 1976.\",\n          \"Crossings is a 1982 novel that was written by American Danielle Steel. It is Steel's 13th novel. It was adapted into a six-part miniseries of the same name in 1986.[1]\"\n        ],\n        \"semantic_type\": \"\",\n        \"description\": \"\"\n      }\n    },\n    {\n      \"column\": \"page_number\",\n      \"properties\": {\n        \"dtype\": \"string\",\n        \"num_unique_values\": 1087,\n        \"samples\": [\n          \"69 pp\",\n          \"320 pp\",\n          \"186 pp\"\n        ],\n        \"semantic_type\": \"\",\n        \"description\": \"\"\n      }\n    },\n    {\n      \"column\": \"combined_text\",\n      \"properties\": {\n        \"dtype\": \"string\",\n        \"num_unique_values\": 2030,\n        \"samples\": [\n          \"The Phantom Tollbooth is a children's fantasy adventure novel written by Norton Juster, with illustrations by Jules Feiffer, first published in 1961. The story follows a bored young boy named Milo who unexpectedly receives a magic tollbooth that transports him to the once prosperous, but now troubled, Kingdom of Wisdom. Along with a dog named Tock and the Humbug, Milo goes on a quest to the Castle in the Air seeking the kingdom's two exiled princesses, named Rhyme and Reason. As Milo learns valuable lessons, he finds a love of learning in a story full of puns and wordplay, such as exploring the literal meanings of idioms. In 1958, Juster had received a Ford Foundation grant for a children's book about cities. Unable to make progress on that project, he turned to writing what became The Phantom Tollbooth, his first book. His housemate, Feiffer, a cartoonist, interested himself in the project. Jason Epstein, an editor at Random House, bought the book and published it. The Phantom Tollbooth received rave reviews and has as of 2021 sold almost five million copies,[4] far more than expected. It has been adapted into a film, opera, and play, and translated into many languages. Though the book is on its face an adventure story, a major theme is the need for a love of education; through this, Milo applies what he has learned in school, advances in his personal development, and learns to love the life that previously bored him. Critics have compared its appeal to that of Lewis Carroll's Alice's Adventures in Wonderland and to L. Frank Baum's The Wonderful Wizard of Oz. Additionally Maurice Sendak, in his introductory \\\"An Appreciation\\\" included in editions of the book since 1996, quotes a critic as comparing The Phantom Tollbooth to Bunyan's Pilgrim's Progress: \\\"As Pilgrim's Progress is concerned with the awakening of the sluggardly spirit, The Phantom Tollbooth is concerned with the awakening of the lazy mind.\\\" Milo is a boy bored by the world around him; every activity seems a waste of time. He arrives home from another boring day at school to find a mysterious package. Among its contents are a small tollbooth and a map of \\\"the Lands Beyond\\\", illustrating the Kingdom of Wisdom (which will also guide the reader from its place on the endpapers of the book). Attached to the package is a note \\\"For Milo, who has plenty of time.\\\" Warned by an included sign to have his destination in mind, he decides without much thought to go to Dictionopolis, assuming this is a pretend game to be played on the floor of his room. He maneuvers through the tollbooth in his electric toy car and instantly finds himself driving on a road that is clearly not in his city apartment. Milo begins with Expectations, a pleasant place where he starts on Wisdom's road. In Expectations, he seeks directions from the Whether Man, who is full of endless talk. As Milo drives on, he daydreams and gets lost in the Doldrums, a colorless place where nothing ever happens. Milo soon joins the inhabitants, the Lethargarians, in killing time there, a pastime angrily interrupted by the arrival of Tock, a talking, oversized dog with an alarm clock on each side (a \\\"watchdog\\\"), who tells Milo that only by thinking can he get out of the Doldrums. Head abuzz with unaccustomed thoughts, Milo is soon back on his road, and Tock joins him on his journey through Wisdom. Milo and Tock travel to Dictionopolis, one of two capital cities of the divided Kingdom of Wisdom and home to King Azaz the Unabridged. They meet King Azaz's cabinet officials and visit the Word Market, where the words and letters are sold that empower the world. A fight between the Spelling Bee and the blustering Humbug breaks up the market, and Milo and Tock are arrested by the very short Officer Shrift. In prison, Milo meets Faintly Macabre, the Not-so-Wicked Which (not to be confused with Witch), long in charge of which words should be used in Wisdom. She tells him how the two rulers, King Azaz and his brother, the Mathemagician, had two adopted younger sisters, Rhyme and Reason, to whom everyone came to settle disputes. All lived in harmony until the rulers disagreed with the princesses' decision that letters (championed by Azaz) and numbers (by the Mathemagician) were equally important. They banished the princesses to the Castle in the Air and, since then, the land has had neither Rhyme nor Reason. Milo and Tock leave the dungeon. King Azaz hosts them at a banquet where the guests literally eat their words, served to them on plates. After the meal, King Azaz lets Milo and Tock talk themselves into a dangerous quest to rescue the princesses. Azaz flatters the Humbug into being their guide, and boy, dog and insect set off for the Mathemagician's capital of Digitopolis as they must gain his approval before they can begin their quest. Along the way, they meet such characters as Alec Bings, a little boy suspended in the air who sees through things and who will grow down until he reaches the ground. He then meets the world's smallest giant, the world's biggest dwarf, the world's thinnest fat man, and the world's fattest thin man, who turn out to just be one regular man. Milo then loses time in substituting for Chroma the Great, a conductor whose orchestra creates the colors of the world. They meet a twelve-sided creature called the Dodecahedron, who leads them to Digitopolis. There, they meet the Mathemagician, who is still angry at Azaz and who will not give his blessing to anything that his brother has approved. Milo maneuvers him into saying he will permit the quest if the boy can show the two have concurred on anything since they banished the princesses. To the number wizard's shock, Milo proves that the two have agreed to disagree, and the Mathemagician gives his reluctant consent. In the Mountains of Ignorance, the journeyers contend with demons like the Terrible Trivium and the Gelatinous Giant. After overcoming obstacles and their own fears, they reach the Castle in the Air. Princesses Rhyme and Reason welcome Milo and agree to return to Wisdom. Unable to enter the castle, the demons cut it loose, letting it drift away, but Milo realizes Tock can carry them down because 'time flies'. The demons pursue, but the armies of Wisdom arrive and repel them. Rhyme and Reason heal the divisions in the old Kingdom of Wisdom, Azaz and the Mathemagician are reconciled, and all enjoy a three-day celebration. Milo says goodbye and drives back through the tollbooth. Suddenly he is back in his own room, and discovers he has been gone only an hour, though his journey seemed to take weeks. He awakens the next day with plans to return to the kingdom, but finds the tollbooth gone when he gets home from school. A note instead is there, \\\"For Milo, who now knows the way.\\\" The note states that the tollbooth is being sent to another child who needs help finding direction in life. Milo is somewhat disappointed but agrees and looks at a now-interesting world around him, concluding that even if he found a way back, he might not have time to go, for there is so much to do right where he is. Architect Norton Juster was living in his hometown of Brooklyn, after three years in the Navy.[5] In June 1960, he gained a $5,000 grant from the Ford Foundation to write a children's book about cities.[6] Juster argued that the young baby boomers would soon have responsibility for the cities, and many lived in the suburbs and did not know them. In his proposal, he said he wanted \\\"to stimulate and heighten perception \\u2013 to help children notice and appreciate the visual world around them \\u2013 to help excite them and shape their interest in an environment they will eventually reshape.\\\"[7] Beginning with great enthusiasm, he ground to a halt with too many notes and too little progress. He took a weekend break with friends at Fire Island, and came back determined to put aside the cities book and seek inspiration in another writing project.[5] Juster's guilt over his lack of progress on the cities book had led him to write pieces of stories about a little boy named Milo,[9] which he began to develop into a book. Juster quit his job so that he could work on the book.[10] His imagination fired by a boy who approached him on the street and with whom he discussed the nature of infinity, Juster wanted to finish the story about \\\"a boy who asked too many questions\\\" before returning to the book on cities.[11] Juster shared his house in Brooklyn Heights with cartoonist Jules Feiffer whose bedroom was immediately below, and who could hear him pacing in the night. Feiffer was surprised to learn that his friend's insomnia was not caused by the cities book, but by a book about a boy. Juster showed Feiffer the draft to date and, unbidden, the artist began sketching illustrations. Feiffer knew Judy Sheftel, who put deals together in the publishing trade and was his future bride. Sheftel got Jason Epstein, an innovative editor at Random House with a deep appreciation for children's literature, to agree to review the manuscript.[12] Some at Random House considered the book's vocabulary too difficult: at the time, educators advised against children's literature containing words the target audience did not already know, fearing the unfamiliar would discourage young learners.[5] Based on seven chapters of manuscript, plus a three-page outline of the rest of the story, Epstein bought the book.[13] Since Juster did the cooking for the housemates, if Feiffer wanted to eat, he had to do the drawings.[14] Feiffer quickly realized the book would require illustrations of the type and quality that John Tenniel had created for Lewis Carroll's Alice's Adventures in Wonderland and although a nationally known artist, doubted his competence to do the text justice.[15] Feiffer considers the double-spread illustration of demons late in the book to be a success and one of his favorites. It differs from his usual style (which would involve a white background), and instead uses Gustave Dor\\u00e9's drawings as an inspiration.[16] It became a game, with Feiffer trying to draw things the way he wanted, and Juster trying to describe things that were impossible to sketch.[17] These included the Triple Demons of Compromise\\u2014one short and fat, one tall and thin, and the third exactly like the first two.[18] Feiffer got his revenge by depicting the author as the Whether Man, clad in a toga.[19] Repeated edits altered the protagonist's name (originally Tony), removed his parents entirely from the book, and deleted text attempting to describe how the tollbooth package had been delivered. Milo's age was removed from the text\\u2014early drafts have him aged eight or nine\\u2014as Juster decided not to state it, lest potential readers decide they were too old to care.[20] Since no one has ever bothered to explain the importance of learning to Milo, he regards school as the biggest waste of time in his life.[21] Juster intended that the book speak to the importance of learning to love learning.[5] Teaching methods that might bore children, by memorization for example, are mocked in the book, as in the case of the Spelling Bee. Like the Bee, the Humbug's insult to his fellow insect goes over Milo's head, but possibly not the reader's: \\\"A slavish concern for the composition of words is the sign of a bankrupt intellect.\\\"[21][22] According to Mary Liston in her journal article on law in fantasy realms, \\\"The Phantom Tollbooth concerns the difference between education and wisdom and what processes are conducive to synthesizing both, so as to encourage an attitude of engagement, alertness, and responsibility within an increasingly autonomous individual.\\\"[23]\",\n          \"Lanark, subtitled A Life in Four Books, is the first novel of Scottish writer Alasdair Gray. Written over a period of almost thirty years, it combines realist and dystopian surrealist depictions of his home city of Glasgow. Its publication in 1981 prompted Anthony Burgess to call Gray \\\"the best Scottish novelist since Walter Scott\\\".[2] Lanark won the inaugural Saltire Society Book of the Year award in 1982, and was also named Scottish Arts Council Book of the Year.[3] The book, still his best known, has since become a cult classic. In 2008, The Guardian heralded Lanark as \\\"one of the landmarks of 20th-century fiction.\\\"[4] Lanark comprises four books, arranged in the order Three, One, Two, Four (there is also a Prologue before Book One, and an Epilogue four chapters before the end of the book). In the Epilogue, the author explains this by saying that \\\"I want Lanark to be read in one order but eventually thought of in another\\\", and that the epilogue itself is \\\"too important\\\" to go at the end.[5]: 483 In Book Three, a young man awakes alone in a train carriage. He has no memory of his past and picks his name from a strangely familiar photograph on the wall. He soon arrives in Unthank, a strange Glasgow-like city in which there is no daylight and whose disappearing residents suffer from strange diseases, orifices growing on their limbs and body heat fading away. Lanark begins to associate with a group of twenty-somethings to whom he cannot fully relate and whose mores he cannot understand, and soon begins to suffer from dragonhide, a disease which turns his skin into scales as an external manifestation of his emotional repression. Lanark is eventually swallowed by a mouth in the earth, and awakes in the Institute, a sort of hospital which cures patients of their diseases but uses the hopeless cases for power and food. Upon learning this, Lanark is horrified and determines to leave. Books One and Two constitute a realist Bildungsroman beginning in pre-war Glasgow, and tell the story of Duncan Thaw (\\\"based on myself, he was tougher and more honest\\\"), a difficult and precocious child born to impecunious and frustrated parents in the East End of Glasgow. The book follows Thaw's wartime evacuation, secondary education and his scholarship to the Glasgow School of Art, where his inability to form relationships with women and his obsessive artistic vision lead to his descent into madness and eventual suicide by drowning. Book Four sees Lanark begin a bizarre, dreamlike journey back to Unthank, which he finds on the point of total disintegration, wracked by political strife, avarice, paranoia and economic meltdown, all of which he is unable to prevent. In the course of the journey, during which he meets his author, he rapidly ages. He finally finds himself old, sitting in a hilltop cemetery as Unthank breaks down in an apocalypse of fire and flood, and, his time of death having been revealed to him, he ends the book calmly awaiting it. Lanark could be viewed as Thaw in a personal Hell. (Thaw drowns in the sea; Lanark arrives in Unthank with the same belongings, and seashells and sand in his pockets.) The connection between the two narratives is ambiguous; Gray said that \\\"One is a highly exaggerated form of just about the everyday reality of the other\\\"[6] (for example, Thaw's eczema is mirrored by Lanark's skin disease 'dragonhide'). He also writes in the novel itself: \\\"The Thaw narrative shows a man dying because he is bad at loving. It is enclosed by [Lanark's] narrative which shows civilization collapsing for the same reason\\\"[5]: 484 and (spoken to Lanark) \\\"You are Thaw with the neurotic imagination trimmed off and built into the furniture of the world you occupy\\\".[5]: 493 He also writes: \\\"The plots of the Thaw and Lanark sections are independent of each other and cemented by typographical contrivances rather than formal necessity. A possible explanation is that the author thinks a heavy book will make a bigger splash than two light ones\\\".[5]: 493 One of the most characteristically postmodern parts of the book is the Epilogue, in which Lanark meets the author in the guise of the character \\\"Nastler\\\". He makes the first two remarks about the book quoted above, and anticipates criticism of the work and of the Epilogue in particular, saying \\\"The critics will accuse me of self-indulgence, but I don't care\\\". An Index of Plagiarisms is printed in the margins of the discussion. For instance, Gray describes much of Lanark as an extended 'Difplag' (diffuse plagiarism) of Charles Kingsley's The Water Babies. Some of the supposed plagiarisms refer to non-existent chapters of the book. The Unthank parts of the book may be considered as part of the \\\"social-commentary\\\" tradition of science fiction, and Lanark has often been compared with Nineteen Eighty-Four by George Orwell.[7] Gray added an appendix to the 2001 edition of the novel, in which he included a brief biography and elaborated on some of the influences on and inspirations for the novel. He cited Kafka as a major influence on the atmosphere of the novel. He also referred to his own experiences in the media industry which he states is reflected in Lanark's numerous encounters in labyrinthine buildings with individuals talking in jargon. The Institute he describes as a combination of Wyndham Lewis's conception of Hell in Malign Fiesta along with three real-life structures: the London Underground, Stobhill Hospital in Glasgow and BBC Television Centre in London. More immediately evident inspiration can be seen in the cathedral and necropolis episodes in Unthank, whose proximity to an urban tangle of roads is mirrored in Glasgow's real-life Townhead area. Glasgow Cathedral is yards away from the Necropolis to the east and the M8 motorway (and unfinished Inner Ring Road) to the north and west. Gray said Glasgow Cathedral was the only location he purposefully visited to make notes about during the writing of the novel; all other locations he wrote about from memory.[8] Gray began writing the novel as a student in 1954. Book One was written by 1963, but he was unsuccessful in getting it published. The whole work was finished in 1976, typeset by the Kingsport Press in Kingsport, Tennessee, [9] and published in 1981 by the Scottish publisher Canongate Press. The novel was an immediate critical success.[10][11] An adaptation of Lanark by Alastair Cording was staged by Glasgow's Tag Theatre Company at the Assembly Hall, Edinburgh, during the Edinburgh International Festival in August 1995.[12] An adaptation entitled Lanark: A Life in Three Acts, written by David Greig and directed by Graham Eatough, was produced and performed at the Edinburgh International Festival in 2015.[13][14] Craig, Cairns (1981), Going Down to Hell is Easy, review of Alasdair Gray's Lanark, in Murray, Glen (ed.), Cencrastus No. 6, Autumn 1981, pp. 19 - 21\",\n          \"The Horse and His Boy is a high fantasy novel written by British author C. S. Lewis and published by Geoffrey Bles in 1954. Of the seven novels that comprise The Chronicles of Narnia (1950\\u20131956), The Horse and His Boy was the fifth to be published. The novel is set in the period covered by the last chapter of The Lion, the Witch, and the Wardrobe during the reign of the four Pevensie children as Kings and Queens of Narnia. Though three of the Pevensies appear as minor characters in The Horse and His Boy, the main characters are two children and two talking horses who escape from Calormen and travel north into Narnia. On their journey, they learn of the Prince of Calormen's plan to attack Archenland, and warn the King of Archenland of the impending strike. Like the other novels in The Chronicles of Narnia, The Horse and His Boy was illustrated by Pauline Baynes; her work has been retained in many later editions.[1][3] Shasta is a boy who lives in southern Calormen with Arsheesh, an abusive fisherman, whom Shasta believes to be his father. A powerful nobleman demands hospitality one evening, and haggles with Arsheesh to buy Shasta as his slave. It emerges that Arsheesh is not Shasta's father, having found him in a washed-up boat as a baby. In the stable, Bree, the nobleman's stallion, astounds the boy by speaking. He tells Shasta that the nobleman is very cruel to his slaves, and suggests they both flee to his homeland of Narnia, from where he was captured as a foal. Shasta agrees, and they sneak away at night. After weeks of northwards travel, during which the two companions bond, a brief chase to escape lions leads to their meeting another pair of refugees: another Narnian Talking Horse, the mare Hwin, who like Bree desires to return home, and Aravis, a young noblewoman who wants to escape a political marriage to Ahoshta, the ugly Grand Vizier. Although Shasta and Aravis immediately dislike each other, the four decide to travel together. In Tashbaan, the capital of Calormen, a party of Narnians mistake Shasta for Corin, the prince of Archenland, a Narnian ally, who has gone missing. Taken from the others, Shasta overhears the Narnians planning to escape Calormen to prevent a forced marriage between Queen Susan and Rabadash, son of the Tisroc, the Calormen ruler. Shasta escapes when Corin returns, but not before learning of a hidden route through the desert. Meanwhile, Aravis is spotted by her friend Lasaraleen, who helps Aravis escape through the Tisroc's garden, although she cannot understand Aravis' motives. On the way, they overhear the Tisroc discussing the Narnians' escape with Rabadash and Ahoshta. The Tisroc gives Rabadash permission to raid Archenland and Narnia to kidnap Queen Susan while High King Peter is away battling giants in the north, but notes that he cannot openly support such a raid and will renounce Rabadash if he fails. The four fugitives reunite at a necropolis where Shasta has had supernatural dreams. Pooling their information, they set out across the desert along the hidden route to warn Archenland; they are again chased by a lion, which injures Aravis. A hermit tends to Aravis' wounds, while Shasta carries on, on foot. He finds Lune, King of Archenland, and warns him of the raiders. He is separated from Lune in thick fog and encounters an unseen presence, who claims to have been not only the lion who injured Aravis, but also the lion who caused the four to join forces, and even the one who guided Shasta's boat to Arsheesh. The presence disappears, and Shasta finds himself in Narnia. He again meets Corin, who is travelling southwards with the Narnian party (who escaped from Calormen successfully) to assist Archenland. The Narnians, led by King Edmund and Queen Lucy, arrive at the Archenland capital of Anvard, and defeat the Calormenes, who were unable to take the castle because of Shasta's warning. Rabadash is captured and most of his men are killed, including Bree's old master. In the aftermath, Aslan appears and turns Rabadash into a donkey after he refuses to accept defeat. His human form is restored when he returns to Tashbaan, but thereafter he is forbidden to travel more than ten miles from the city, on pain of permanent transformation. His reign as Tisroc is therefore very peaceful despite earning the nickname \\\"Rabadash the Ridiculous.\\\" Lune realizes that Shasta is his son Cor, the long-lost identical twin of Prince Corin and the heir to the Archenland throne. Cor had been kidnapped as a baby in an attempt to thwart a prophecy which foretold that he would save Archenland from its greatest peril. He was lost at sea in the ensuing battle to rescue him, but Aslan made sure that the baby found his way to Arsheesh. Shasta's warning fulfilled the prophecy. Corin is delighted that Shasta is heir, as he did not want to be king. Aravis and Cor eventually marry and rule Archenland after Lune's death. Their son, Ram, becomes the most famous king of Archenland. Bree and Hwin found love separately after returning to Narnia and all four would reunite regularly. After meeting King Lune of Archenland and warning him of the impending Calormene invasion, Shasta becomes lost in a fog and separated from the Archenlanders. While walking in the fog, he senses a mysterious presence nearby. Engaging in conversation with the unknown being, Shasta tells of his misfortunes, including twice being chased by lions. His companion, who turns out to be Aslan, responds as follows: The incidents which Shasta perceived as misfortunes were orchestrated by Aslan, in his Divine Providence, for greater purposes.[6][7] Bree and Shasta use the phrase \\\"Narnia and the North\\\" as their \\\"rallying cry\\\" as they make their escape from their life in Calormen. They are both motivated by a deep longing to find their way to their true homeland. In the setting of The Horse and His Boy, the reader finds a departure from the landscapes, culture, and people of the Narnian realms which have become familiar in the other books. The placement of the action in the realm of Calormen helps to convey a sense of \\\"unbelonging\\\" on the part of the characters and the reader, which reinforces the motif of longing for a true home.[8] The association of Cor with horses, and his twin brother Corin with boxing, recalls the traditional associations of the Spartan twins Castor and Pollux of Greek mythology.[9] Researcher Ruth North has noted that the plot element of a sinful human being transformed into a donkey as a punishment and then restored to humanity as an act of Divine mercy is reminiscent of The Golden Ass by Apuleius, a classic of Latin literature.[10] BBC Radio 4 dramatised The Chronicles of Narnia, including The Horse and His Boy, in 1998. The dramatisation is entitled \\\"The Complete Chronicles of Narnia: The Classic BBC Radio 4 Full-Cast Dramatisations\\\".[11] Focus on the Family produced an audio dramatisation of The Horse and His Boy in 2000.[12] Walden Media made movie adaptations of The Lion, the Witch and the Wardrobe, Prince Caspian and The Voyage of the Dawn Treader. Walden Media obtained an option to make The Chronicles of Narnia: The Horse and His Boy in the future.[13] In 2022, The Logos Theater, of Taylors, South Carolina, created a stage adaptation of The Horse and His Boy, with later performances at the Museum of the Bible[14] and Ark Encounter.[15]\"\n        ],\n        \"semantic_type\": \"\",\n        \"description\": \"\"\n      }\n    },\n    {\n      \"column\": \"avg_embedding\",\n      \"properties\": {\n        \"dtype\": \"object\",\n        \"semantic_type\": \"\",\n        \"description\": \"\"\n      }\n    }\n  ]\n}"
            }
          },
          "metadata": {},
          "execution_count": 4
        }
      ]
    },
    {
      "cell_type": "code",
      "source": [
        "def combine_features(row):\n",
        "    return f\"{row['description']} {row['plot']}\"\n",
        "\n",
        "df['combined_text'] = df.apply(combine_features, axis=1)\n",
        "df['combined_text'] = df['combined_text'].fillna('').apply(lambda x: re.sub(r'\\s+', ' ', x))"
      ],
      "metadata": {
        "id": "kLCdpLv6t4-C"
      },
      "execution_count": null,
      "outputs": []
    },
    {
      "cell_type": "code",
      "source": [
        "def split_text(text, chunk_size=300, overlap=30):\n",
        "    \"\"\"Разбивает текст на перекрывающиеся фрагменты\"\"\"\n",
        "    words = text.split()\n",
        "    chunks = []\n",
        "    for i in range(0, len(words), chunk_size - overlap):\n",
        "        chunk = ' '.join(words[i:i + chunk_size])\n",
        "        chunks.append(chunk)\n",
        "    return chunks"
      ],
      "metadata": {
        "id": "luYGFqX7t6e5"
      },
      "execution_count": null,
      "outputs": []
    },
    {
      "cell_type": "code",
      "source": [
        "def get_average_embedding(text, model, chunk_size=300, overlap=30):\n",
        "    \"\"\"Генерирует усредненный эмбеддинг для длинного текста\"\"\"\n",
        "    if not isinstance(text, str) or len(text.split()) < 50:\n",
        "        return model.encode(\"\")\n",
        "\n",
        "    chunks = split_text(text, chunk_size, overlap)\n",
        "    chunk_embeddings = model.encode(chunks, show_progress_bar=False)\n",
        "    return np.mean(chunk_embeddings, axis=0)"
      ],
      "metadata": {
        "id": "pwsYhJvOt7_T"
      },
      "execution_count": null,
      "outputs": []
    },
    {
      "cell_type": "code",
      "source": [
        "tqdm.pandas()\n",
        "df['avg_embedding'] = df['combined_text'].progress_apply(\n",
        "    lambda x: get_average_embedding(x, model))"
      ],
      "metadata": {
        "id": "391Cu4v1t9a7"
      },
      "execution_count": null,
      "outputs": []
    },
    {
      "cell_type": "code",
      "source": [
        "def get_book_recommendations(query, top_k=3):\n",
        "    query_embedding = model.encode([query])\n",
        "\n",
        "    similarities = cosine_similarity(\n",
        "        query_embedding,\n",
        "        np.vstack(df['avg_embedding'])\n",
        "    )[0]\n",
        "\n",
        "    top_indices = np.argsort(similarities)[-top_k:][::-1]\n",
        "\n",
        "    return df.iloc[top_indices][['book_name', 'author', 'genre']].assign(\n",
        "        similarity_score=[f\"{sim:.4f}\" for sim in similarities[top_indices]]\n",
        "    )"
      ],
      "metadata": {
        "id": "2UQtzXVot-_e"
      },
      "execution_count": null,
      "outputs": []
    },
    {
      "cell_type": "code",
      "source": [
        "user_query = \"A young wizard discovers his magical heritage and attends a school of magic while facing a dark lord\"\n",
        "recommendations = get_book_recommendations(user_query)\n",
        "print(recommendations[['book_name', 'author', 'genre', 'similarity_score']])"
      ],
      "metadata": {
        "id": "PdCoZk44uA_o",
        "colab": {
          "base_uri": "https://localhost:8080/"
        },
        "outputId": "92e29a78-2950-44e9-e691-5e3f88f21b92"
      },
      "execution_count": null,
      "outputs": [
        {
          "output_type": "stream",
          "name": "stdout",
          "text": [
            "                                   book_name         author          genre  \\\n",
            "300                       Changeling (novel)  Roger Zelazny        Fantasy   \n",
            "1489                        Renegade's Magic     Robin Hobb  Fantasy novel   \n",
            "812   Harry Potter and the Half-Blood Prince  J. K. Rowling        Fantasy   \n",
            "\n",
            "     similarity_score  \n",
            "300            0.3814  \n",
            "1489           0.3740  \n",
            "812            0.3692  \n"
          ]
        }
      ]
    },
    {
      "cell_type": "code",
      "source": [
        "user_query = \"Historical novel about brave women and obstacles they have to overcome\"\n",
        "recommendations = get_book_recommendations(user_query)\n",
        "print(recommendations[['book_name', 'author', 'genre', 'similarity_score']])"
      ],
      "metadata": {
        "colab": {
          "base_uri": "https://localhost:8080/"
        },
        "id": "eBK_y4FbDiHx",
        "outputId": "abd60047-ff13-4874-d090-4a5a96c49163"
      },
      "execution_count": null,
      "outputs": [
        {
          "output_type": "stream",
          "name": "stdout",
          "text": [
            "                              book_name                  author  \\\n",
            "627   Fearless, A Novel of Sarah Bowman  Lucia St. Clair Robson   \n",
            "1776                            Ten Men          Alexandra Gray   \n",
            "695       The French Lieutenant's Woman             John Fowles   \n",
            "\n",
            "                                                  genre similarity_score  \n",
            "627                     Historical novel, Western novel           0.5376  \n",
            "1776                                              Novel           0.4914  \n",
            "695   Postmodern literature, romance novel, historic...           0.4787  \n"
          ]
        }
      ]
    },
    {
      "cell_type": "code",
      "source": [
        "user_query = \"story about animals and their friendship with humans\"\n",
        "recommendations = get_book_recommendations(user_query)\n",
        "print(recommendations[['book_name', 'author', 'genre', 'similarity_score']])"
      ],
      "metadata": {
        "colab": {
          "base_uri": "https://localhost:8080/"
        },
        "id": "-oVg72ATDjbp",
        "outputId": "f06f5ebf-910c-4b7a-e091-97f3f5e77caa"
      },
      "execution_count": null,
      "outputs": [
        {
          "output_type": "stream",
          "name": "stdout",
          "text": [
            "                 book_name          author                        genre  \\\n",
            "2054  The Zookeeper's Wife  Diane Ackerman  HistoryBiographyNon-fiction   \n",
            "80             Animal Farm   George Orwell             Political satire   \n",
            "2053              Zoo City   Lauren Beukes                          NaN   \n",
            "\n",
            "     similarity_score  \n",
            "2054           0.3988  \n",
            "80             0.3947  \n",
            "2053           0.3918  \n"
          ]
        }
      ]
    },
    {
      "cell_type": "code",
      "source": [
        "user_query = \"I want to read some sad book about war and love. Medieval ages, epic battles and drama\"\n",
        "recommendations = get_book_recommendations(user_query)\n",
        "print(recommendations[['book_name', 'author', 'genre', 'similarity_score']])"
      ],
      "metadata": {
        "colab": {
          "base_uri": "https://localhost:8080/"
        },
        "id": "Mw-J71M6DkCs",
        "outputId": "979b5f83-420b-4f6d-c347-10741d0707b8"
      },
      "execution_count": null,
      "outputs": [
        {
          "output_type": "stream",
          "name": "stdout",
          "text": [
            "                        book_name  \\\n",
            "921       The Incorporated Knight   \n",
            "1079  Love in the Time of Cholera   \n",
            "1904                The Valkyries   \n",
            "\n",
            "                                              author  \\\n",
            "921   L. Sprague de Camp and Catherine Crook de Camp   \n",
            "1079                          Gabriel García Márquez   \n",
            "1904                                Maniyan Seminary   \n",
            "\n",
            "                         genre similarity_score  \n",
            "921                    Fantasy           0.4560  \n",
            "1079             Romance novel           0.4484  \n",
            "1904  Love, Mystery, Spiritual           0.4483  \n"
          ]
        }
      ]
    },
    {
      "cell_type": "code",
      "source": [
        "user_query = \"Book about space travelers, discovery of mysterious planets inhabited by strange life forms\"\n",
        "recommendations = get_book_recommendations(user_query)\n",
        "print(recommendations[['book_name', 'author', 'genre', 'similarity_score']])"
      ],
      "metadata": {
        "colab": {
          "base_uri": "https://localhost:8080/"
        },
        "id": "wyUByXGUDkk5",
        "outputId": "3a8acf1b-82d4-4a3d-ca9d-86a5de2d1cea"
      },
      "execution_count": null,
      "outputs": [
        {
          "output_type": "stream",
          "name": "stdout",
          "text": [
            "                book_name         author            genre similarity_score\n",
            "1115  Man and the Planets   Duncan Lunan        Astronomy           0.4128\n",
            "23      Across the Zodiac     Percy Greg  Science fiction           0.4058\n",
            "633        Fiasco (novel)  Stanisław Lem  Science fiction           0.3930\n"
          ]
        }
      ]
    },
    {
      "cell_type": "code",
      "source": [
        "df.to_pickle(\"embeddings_sentence_transformers_averaging.pkl\")"
      ],
      "metadata": {
        "id": "Dtqld74FuFrP"
      },
      "execution_count": null,
      "outputs": []
    },
    {
      "cell_type": "markdown",
      "source": [
        "# JUST PLOT"
      ],
      "metadata": {
        "id": "dAXO8SDGeFwY"
      }
    },
    {
      "cell_type": "code",
      "source": [
        "df = pd.read_csv('/content/embeddings_sentence_transformers_just_plot.csv')\n",
        "\n",
        "def parse_numpy_vector(s):\n",
        "    if isinstance(s, str):\n",
        "        return np.fromstring(s.strip(\"[]\"), sep=' ')\n",
        "    else:\n",
        "        return None\n",
        "\n",
        "df['avg_embedding'] = df['avg_embedding'].apply(parse_numpy_vector)\n",
        "\n",
        "df.head()"
      ],
      "metadata": {
        "colab": {
          "base_uri": "https://localhost:8080/",
          "height": 521
        },
        "id": "BHAPvSGTF-EJ",
        "outputId": "c9692c84-3e57-433e-bdc2-d69110b16f0a"
      },
      "execution_count": null,
      "outputs": [
        {
          "output_type": "execute_result",
          "data": {
            "text/plain": [
              "                                    book_name                author  \\\n",
              "0                      The 12.30 from Croydon  Freeman Wills Crofts   \n",
              "1  The Final Unfinished Voyage of Jack Aubrey       Patrick O'Brian   \n",
              "2                           30 Days in Sydney           Peter Carey   \n",
              "3                       The Thirty-Nine Steps           John Buchan   \n",
              "4                                 334 (novel)       Thomas M. Disch   \n",
              "\n",
              "           year_of_publishing  \\\n",
              "0                        1934   \n",
              "1                        2004   \n",
              "2  July 15, 2010 (2010-07-15)   \n",
              "3                     1915[1]   \n",
              "4      1972 (MacGibbon & Kee)   \n",
              "\n",
              "                                                plot  \\\n",
              "0  Set in Yorkshire and London in 1933, The 12.30...   \n",
              "1  The story begins with Surprise in the Strait o...   \n",
              "2  The book takes the form of an impressionistic,...   \n",
              "3  The story's narrator, Richard Hannay, arrives ...   \n",
              "4  The future in 334 has brought few technologica...   \n",
              "\n",
              "                        genre  \\\n",
              "0                     Mystery   \n",
              "1            Historical novel   \n",
              "2                         NaN   \n",
              "3             Adventure novel   \n",
              "4  Dystopian, science fiction   \n",
              "\n",
              "                                         description  \\\n",
              "0  The 12.30 from Croydon (U.S. title: Wilful and...   \n",
              "1  The Final Unfinished Voyage of Jack Aubrey is ...   \n",
              "2  30 Days in Sydney is a book written by Austral...   \n",
              "3  The Thirty-Nine Steps is a 1915 adventure nove...   \n",
              "4  334 is a 1972 dystopian science fiction novel ...   \n",
              "\n",
              "                   page_number  \\\n",
              "0                          NaN   \n",
              "1  144 first edition, hardback   \n",
              "2                          256   \n",
              "3                       253[1]   \n",
              "4                          201   \n",
              "\n",
              "                                       combined_text  \\\n",
              "0  The 12.30 from Croydon (U.S. title: Wilful and...   \n",
              "1  The Final Unfinished Voyage of Jack Aubrey is ...   \n",
              "2  30 Days in Sydney is a book written by Austral...   \n",
              "3  The Thirty-Nine Steps is a 1915 adventure nove...   \n",
              "4  334 is a 1972 dystopian science fiction novel ...   \n",
              "\n",
              "                                       avg_embedding  \n",
              "0  [-0.00677350163, 0.0147330984, 0.00583120296, ...  \n",
              "1  [-0.00216862792, -0.000194263484, 0.001734255,...  \n",
              "2  [-0.051732827, 0.0457235053, -0.0037406988, -0...  \n",
              "3  [-0.00900641177, -0.0162965357, 0.0142708626, ...  \n",
              "4  [-0.0407156944, 0.0323059894, 0.00229117461, 0...  "
            ],
            "text/html": [
              "\n",
              "  <div id=\"df-65f789d3-ff30-4ffa-9cf0-4ce516ba390f\" class=\"colab-df-container\">\n",
              "    <div>\n",
              "<style scoped>\n",
              "    .dataframe tbody tr th:only-of-type {\n",
              "        vertical-align: middle;\n",
              "    }\n",
              "\n",
              "    .dataframe tbody tr th {\n",
              "        vertical-align: top;\n",
              "    }\n",
              "\n",
              "    .dataframe thead th {\n",
              "        text-align: right;\n",
              "    }\n",
              "</style>\n",
              "<table border=\"1\" class=\"dataframe\">\n",
              "  <thead>\n",
              "    <tr style=\"text-align: right;\">\n",
              "      <th></th>\n",
              "      <th>book_name</th>\n",
              "      <th>author</th>\n",
              "      <th>year_of_publishing</th>\n",
              "      <th>plot</th>\n",
              "      <th>genre</th>\n",
              "      <th>description</th>\n",
              "      <th>page_number</th>\n",
              "      <th>combined_text</th>\n",
              "      <th>avg_embedding</th>\n",
              "    </tr>\n",
              "  </thead>\n",
              "  <tbody>\n",
              "    <tr>\n",
              "      <th>0</th>\n",
              "      <td>The 12.30 from Croydon</td>\n",
              "      <td>Freeman Wills Crofts</td>\n",
              "      <td>1934</td>\n",
              "      <td>Set in Yorkshire and London in 1933, The 12.30...</td>\n",
              "      <td>Mystery</td>\n",
              "      <td>The 12.30 from Croydon (U.S. title: Wilful and...</td>\n",
              "      <td>NaN</td>\n",
              "      <td>The 12.30 from Croydon (U.S. title: Wilful and...</td>\n",
              "      <td>[-0.00677350163, 0.0147330984, 0.00583120296, ...</td>\n",
              "    </tr>\n",
              "    <tr>\n",
              "      <th>1</th>\n",
              "      <td>The Final Unfinished Voyage of Jack Aubrey</td>\n",
              "      <td>Patrick O'Brian</td>\n",
              "      <td>2004</td>\n",
              "      <td>The story begins with Surprise in the Strait o...</td>\n",
              "      <td>Historical novel</td>\n",
              "      <td>The Final Unfinished Voyage of Jack Aubrey is ...</td>\n",
              "      <td>144 first edition, hardback</td>\n",
              "      <td>The Final Unfinished Voyage of Jack Aubrey is ...</td>\n",
              "      <td>[-0.00216862792, -0.000194263484, 0.001734255,...</td>\n",
              "    </tr>\n",
              "    <tr>\n",
              "      <th>2</th>\n",
              "      <td>30 Days in Sydney</td>\n",
              "      <td>Peter Carey</td>\n",
              "      <td>July 15, 2010 (2010-07-15)</td>\n",
              "      <td>The book takes the form of an impressionistic,...</td>\n",
              "      <td>NaN</td>\n",
              "      <td>30 Days in Sydney is a book written by Austral...</td>\n",
              "      <td>256</td>\n",
              "      <td>30 Days in Sydney is a book written by Austral...</td>\n",
              "      <td>[-0.051732827, 0.0457235053, -0.0037406988, -0...</td>\n",
              "    </tr>\n",
              "    <tr>\n",
              "      <th>3</th>\n",
              "      <td>The Thirty-Nine Steps</td>\n",
              "      <td>John Buchan</td>\n",
              "      <td>1915[1]</td>\n",
              "      <td>The story's narrator, Richard Hannay, arrives ...</td>\n",
              "      <td>Adventure novel</td>\n",
              "      <td>The Thirty-Nine Steps is a 1915 adventure nove...</td>\n",
              "      <td>253[1]</td>\n",
              "      <td>The Thirty-Nine Steps is a 1915 adventure nove...</td>\n",
              "      <td>[-0.00900641177, -0.0162965357, 0.0142708626, ...</td>\n",
              "    </tr>\n",
              "    <tr>\n",
              "      <th>4</th>\n",
              "      <td>334 (novel)</td>\n",
              "      <td>Thomas M. Disch</td>\n",
              "      <td>1972 (MacGibbon &amp; Kee)</td>\n",
              "      <td>The future in 334 has brought few technologica...</td>\n",
              "      <td>Dystopian, science fiction</td>\n",
              "      <td>334 is a 1972 dystopian science fiction novel ...</td>\n",
              "      <td>201</td>\n",
              "      <td>334 is a 1972 dystopian science fiction novel ...</td>\n",
              "      <td>[-0.0407156944, 0.0323059894, 0.00229117461, 0...</td>\n",
              "    </tr>\n",
              "  </tbody>\n",
              "</table>\n",
              "</div>\n",
              "    <div class=\"colab-df-buttons\">\n",
              "\n",
              "  <div class=\"colab-df-container\">\n",
              "    <button class=\"colab-df-convert\" onclick=\"convertToInteractive('df-65f789d3-ff30-4ffa-9cf0-4ce516ba390f')\"\n",
              "            title=\"Convert this dataframe to an interactive table.\"\n",
              "            style=\"display:none;\">\n",
              "\n",
              "  <svg xmlns=\"http://www.w3.org/2000/svg\" height=\"24px\" viewBox=\"0 -960 960 960\">\n",
              "    <path d=\"M120-120v-720h720v720H120Zm60-500h600v-160H180v160Zm220 220h160v-160H400v160Zm0 220h160v-160H400v160ZM180-400h160v-160H180v160Zm440 0h160v-160H620v160ZM180-180h160v-160H180v160Zm440 0h160v-160H620v160Z\"/>\n",
              "  </svg>\n",
              "    </button>\n",
              "\n",
              "  <style>\n",
              "    .colab-df-container {\n",
              "      display:flex;\n",
              "      gap: 12px;\n",
              "    }\n",
              "\n",
              "    .colab-df-convert {\n",
              "      background-color: #E8F0FE;\n",
              "      border: none;\n",
              "      border-radius: 50%;\n",
              "      cursor: pointer;\n",
              "      display: none;\n",
              "      fill: #1967D2;\n",
              "      height: 32px;\n",
              "      padding: 0 0 0 0;\n",
              "      width: 32px;\n",
              "    }\n",
              "\n",
              "    .colab-df-convert:hover {\n",
              "      background-color: #E2EBFA;\n",
              "      box-shadow: 0px 1px 2px rgba(60, 64, 67, 0.3), 0px 1px 3px 1px rgba(60, 64, 67, 0.15);\n",
              "      fill: #174EA6;\n",
              "    }\n",
              "\n",
              "    .colab-df-buttons div {\n",
              "      margin-bottom: 4px;\n",
              "    }\n",
              "\n",
              "    [theme=dark] .colab-df-convert {\n",
              "      background-color: #3B4455;\n",
              "      fill: #D2E3FC;\n",
              "    }\n",
              "\n",
              "    [theme=dark] .colab-df-convert:hover {\n",
              "      background-color: #434B5C;\n",
              "      box-shadow: 0px 1px 3px 1px rgba(0, 0, 0, 0.15);\n",
              "      filter: drop-shadow(0px 1px 2px rgba(0, 0, 0, 0.3));\n",
              "      fill: #FFFFFF;\n",
              "    }\n",
              "  </style>\n",
              "\n",
              "    <script>\n",
              "      const buttonEl =\n",
              "        document.querySelector('#df-65f789d3-ff30-4ffa-9cf0-4ce516ba390f button.colab-df-convert');\n",
              "      buttonEl.style.display =\n",
              "        google.colab.kernel.accessAllowed ? 'block' : 'none';\n",
              "\n",
              "      async function convertToInteractive(key) {\n",
              "        const element = document.querySelector('#df-65f789d3-ff30-4ffa-9cf0-4ce516ba390f');\n",
              "        const dataTable =\n",
              "          await google.colab.kernel.invokeFunction('convertToInteractive',\n",
              "                                                    [key], {});\n",
              "        if (!dataTable) return;\n",
              "\n",
              "        const docLinkHtml = 'Like what you see? Visit the ' +\n",
              "          '<a target=\"_blank\" href=https://colab.research.google.com/notebooks/data_table.ipynb>data table notebook</a>'\n",
              "          + ' to learn more about interactive tables.';\n",
              "        element.innerHTML = '';\n",
              "        dataTable['output_type'] = 'display_data';\n",
              "        await google.colab.output.renderOutput(dataTable, element);\n",
              "        const docLink = document.createElement('div');\n",
              "        docLink.innerHTML = docLinkHtml;\n",
              "        element.appendChild(docLink);\n",
              "      }\n",
              "    </script>\n",
              "  </div>\n",
              "\n",
              "\n",
              "    <div id=\"df-c85b9dc3-ae93-425f-b10c-6ab275a7f9d5\">\n",
              "      <button class=\"colab-df-quickchart\" onclick=\"quickchart('df-c85b9dc3-ae93-425f-b10c-6ab275a7f9d5')\"\n",
              "                title=\"Suggest charts\"\n",
              "                style=\"display:none;\">\n",
              "\n",
              "<svg xmlns=\"http://www.w3.org/2000/svg\" height=\"24px\"viewBox=\"0 0 24 24\"\n",
              "     width=\"24px\">\n",
              "    <g>\n",
              "        <path d=\"M19 3H5c-1.1 0-2 .9-2 2v14c0 1.1.9 2 2 2h14c1.1 0 2-.9 2-2V5c0-1.1-.9-2-2-2zM9 17H7v-7h2v7zm4 0h-2V7h2v10zm4 0h-2v-4h2v4z\"/>\n",
              "    </g>\n",
              "</svg>\n",
              "      </button>\n",
              "\n",
              "<style>\n",
              "  .colab-df-quickchart {\n",
              "      --bg-color: #E8F0FE;\n",
              "      --fill-color: #1967D2;\n",
              "      --hover-bg-color: #E2EBFA;\n",
              "      --hover-fill-color: #174EA6;\n",
              "      --disabled-fill-color: #AAA;\n",
              "      --disabled-bg-color: #DDD;\n",
              "  }\n",
              "\n",
              "  [theme=dark] .colab-df-quickchart {\n",
              "      --bg-color: #3B4455;\n",
              "      --fill-color: #D2E3FC;\n",
              "      --hover-bg-color: #434B5C;\n",
              "      --hover-fill-color: #FFFFFF;\n",
              "      --disabled-bg-color: #3B4455;\n",
              "      --disabled-fill-color: #666;\n",
              "  }\n",
              "\n",
              "  .colab-df-quickchart {\n",
              "    background-color: var(--bg-color);\n",
              "    border: none;\n",
              "    border-radius: 50%;\n",
              "    cursor: pointer;\n",
              "    display: none;\n",
              "    fill: var(--fill-color);\n",
              "    height: 32px;\n",
              "    padding: 0;\n",
              "    width: 32px;\n",
              "  }\n",
              "\n",
              "  .colab-df-quickchart:hover {\n",
              "    background-color: var(--hover-bg-color);\n",
              "    box-shadow: 0 1px 2px rgba(60, 64, 67, 0.3), 0 1px 3px 1px rgba(60, 64, 67, 0.15);\n",
              "    fill: var(--button-hover-fill-color);\n",
              "  }\n",
              "\n",
              "  .colab-df-quickchart-complete:disabled,\n",
              "  .colab-df-quickchart-complete:disabled:hover {\n",
              "    background-color: var(--disabled-bg-color);\n",
              "    fill: var(--disabled-fill-color);\n",
              "    box-shadow: none;\n",
              "  }\n",
              "\n",
              "  .colab-df-spinner {\n",
              "    border: 2px solid var(--fill-color);\n",
              "    border-color: transparent;\n",
              "    border-bottom-color: var(--fill-color);\n",
              "    animation:\n",
              "      spin 1s steps(1) infinite;\n",
              "  }\n",
              "\n",
              "  @keyframes spin {\n",
              "    0% {\n",
              "      border-color: transparent;\n",
              "      border-bottom-color: var(--fill-color);\n",
              "      border-left-color: var(--fill-color);\n",
              "    }\n",
              "    20% {\n",
              "      border-color: transparent;\n",
              "      border-left-color: var(--fill-color);\n",
              "      border-top-color: var(--fill-color);\n",
              "    }\n",
              "    30% {\n",
              "      border-color: transparent;\n",
              "      border-left-color: var(--fill-color);\n",
              "      border-top-color: var(--fill-color);\n",
              "      border-right-color: var(--fill-color);\n",
              "    }\n",
              "    40% {\n",
              "      border-color: transparent;\n",
              "      border-right-color: var(--fill-color);\n",
              "      border-top-color: var(--fill-color);\n",
              "    }\n",
              "    60% {\n",
              "      border-color: transparent;\n",
              "      border-right-color: var(--fill-color);\n",
              "    }\n",
              "    80% {\n",
              "      border-color: transparent;\n",
              "      border-right-color: var(--fill-color);\n",
              "      border-bottom-color: var(--fill-color);\n",
              "    }\n",
              "    90% {\n",
              "      border-color: transparent;\n",
              "      border-bottom-color: var(--fill-color);\n",
              "    }\n",
              "  }\n",
              "</style>\n",
              "\n",
              "      <script>\n",
              "        async function quickchart(key) {\n",
              "          const quickchartButtonEl =\n",
              "            document.querySelector('#' + key + ' button');\n",
              "          quickchartButtonEl.disabled = true;  // To prevent multiple clicks.\n",
              "          quickchartButtonEl.classList.add('colab-df-spinner');\n",
              "          try {\n",
              "            const charts = await google.colab.kernel.invokeFunction(\n",
              "                'suggestCharts', [key], {});\n",
              "          } catch (error) {\n",
              "            console.error('Error during call to suggestCharts:', error);\n",
              "          }\n",
              "          quickchartButtonEl.classList.remove('colab-df-spinner');\n",
              "          quickchartButtonEl.classList.add('colab-df-quickchart-complete');\n",
              "        }\n",
              "        (() => {\n",
              "          let quickchartButtonEl =\n",
              "            document.querySelector('#df-c85b9dc3-ae93-425f-b10c-6ab275a7f9d5 button');\n",
              "          quickchartButtonEl.style.display =\n",
              "            google.colab.kernel.accessAllowed ? 'block' : 'none';\n",
              "        })();\n",
              "      </script>\n",
              "    </div>\n",
              "    </div>\n",
              "  </div>\n"
            ],
            "application/vnd.google.colaboratory.intrinsic+json": {
              "type": "dataframe",
              "variable_name": "df",
              "summary": "{\n  \"name\": \"df\",\n  \"rows\": 2060,\n  \"fields\": [\n    {\n      \"column\": \"book_name\",\n      \"properties\": {\n        \"dtype\": \"string\",\n        \"num_unique_values\": 2030,\n        \"samples\": [\n          \"The Phantom Tollbooth\",\n          \"Lanark: A Life in Four Books\",\n          \"The Horse and His Boy\"\n        ],\n        \"semantic_type\": \"\",\n        \"description\": \"\"\n      }\n    },\n    {\n      \"column\": \"author\",\n      \"properties\": {\n        \"dtype\": \"category\",\n        \"num_unique_values\": 966,\n        \"samples\": [\n          \"Charles G. Finney\",\n          \"Richard Yates\",\n          \"James De Mille\"\n        ],\n        \"semantic_type\": \"\",\n        \"description\": \"\"\n      }\n    },\n    {\n      \"column\": \"year_of_publishing\",\n      \"properties\": {\n        \"dtype\": \"string\",\n        \"num_unique_values\": 1073,\n        \"samples\": [\n          \"October 1942\",\n          \"1925[1]\",\n          \"2011\"\n        ],\n        \"semantic_type\": \"\",\n        \"description\": \"\"\n      }\n    },\n    {\n      \"column\": \"plot\",\n      \"properties\": {\n        \"dtype\": \"string\",\n        \"num_unique_values\": 2030,\n        \"samples\": [\n          \"Milo is a boy bored by the world around him; every activity seems a waste of time.  He arrives home from another boring day at school to find a mysterious package. Among its contents are a small tollbooth and a map of \\\"the Lands Beyond\\\", illustrating the Kingdom of Wisdom (which will also guide the reader from its place on the endpapers of the book). Attached to the package is a note \\\"For Milo, who has plenty of time.\\\" Warned by an included sign to have his destination in mind, he decides without much thought to go to Dictionopolis, assuming this is a pretend game to be played on the floor of his room. He maneuvers through the tollbooth in his electric toy car and instantly finds himself driving on a road that is clearly not in his city apartment.\\n\\nMilo begins with Expectations, a pleasant place where he starts on Wisdom's road. In Expectations, he seeks directions from the Whether Man, who is full of endless talk. As Milo drives on, he daydreams and gets lost in the Doldrums, a colorless place where nothing ever happens. Milo soon joins the inhabitants, the Lethargarians, in killing time there, a pastime angrily interrupted by the arrival of Tock, a talking, oversized dog with an alarm clock on each side (a \\\"watchdog\\\"), who tells Milo that only by thinking can he get out of the Doldrums. Head abuzz with unaccustomed thoughts, Milo is soon back on his road, and Tock joins him on his journey through Wisdom.\\n\\nMilo and Tock travel to Dictionopolis, one of two capital cities of the divided Kingdom of Wisdom and home to King Azaz the Unabridged. They meet King Azaz's cabinet officials and visit the Word Market, where the words and letters are sold that empower the world. A fight between the Spelling Bee and the blustering Humbug breaks up the market, and Milo and Tock are arrested by the very short Officer Shrift. In prison, Milo meets Faintly Macabre, the Not-so-Wicked Which (not to be confused with Witch), long in charge of which words should be used in Wisdom. She tells him how the two rulers, King Azaz and his brother, the Mathemagician, had two adopted younger sisters, Rhyme and Reason, to whom everyone came to settle disputes. All lived in harmony until the rulers disagreed with the princesses' decision that letters (championed by Azaz) and numbers (by the Mathemagician) were equally important. They banished the princesses to the Castle in the Air and, since then, the land has had neither Rhyme nor Reason.\\n\\nMilo and Tock leave the dungeon. King Azaz hosts them at a banquet where the guests literally eat their words, served to them on plates. After the meal, King Azaz lets Milo and Tock talk themselves into a dangerous quest to rescue the princesses. Azaz flatters the Humbug into being their guide, and boy, dog and insect set off for the Mathemagician's capital of Digitopolis as they must gain his approval before they can begin their quest.\\n\\nAlong the way, they meet such characters as Alec Bings, a little boy suspended in the air who sees through things and who will grow down until he reaches the ground. He then meets the world's smallest giant, the world's biggest dwarf, the world's thinnest fat man, and the world's fattest thin man, who turn out to just be one regular man. Milo then loses time in substituting for Chroma the Great, a conductor whose orchestra creates the colors of the world.\\n\\nThey meet a twelve-sided creature called the Dodecahedron, who leads them to Digitopolis. There, they meet the Mathemagician, who is still angry at Azaz and who will not give his blessing to anything that his brother has approved. Milo maneuvers him into saying he will permit the quest if the boy can show the two have concurred on anything since they banished the princesses. To the number wizard's shock, Milo proves that the two have agreed to disagree, and the Mathemagician gives his reluctant consent.\\n\\nIn the Mountains of Ignorance, the journeyers contend with demons like the Terrible Trivium and the Gelatinous Giant. After overcoming obstacles and their own fears, they reach the Castle in the Air. Princesses Rhyme and Reason welcome Milo and agree to return to Wisdom. Unable to enter the castle, the demons cut it loose, letting it drift away, but Milo realizes Tock can carry them down because 'time flies'. The demons pursue, but the armies of Wisdom arrive and repel them. Rhyme and Reason heal the divisions in the old Kingdom of Wisdom, Azaz and the Mathemagician are reconciled, and all enjoy a three-day celebration.\\n\\nMilo says goodbye and drives back through the tollbooth. Suddenly he is back in his own room, and discovers he has been gone only an hour, though his journey seemed to take weeks. He awakens the next day with plans to return to the kingdom, but finds the tollbooth gone when he gets home from school. A note instead is there, \\\"For Milo, who now knows the way.\\\" The note states that the tollbooth is being sent to another child who needs help finding direction in life. Milo is somewhat disappointed but agrees and looks at a now-interesting world around him, concluding that even if he found a way back, he might not have time to go, for there is so much to do right where he is.\\n\\nArchitect Norton Juster was living in his hometown of Brooklyn, after three years in the Navy.[5] In June 1960, he gained a $5,000 grant from the Ford Foundation to write a children's book about cities.[6] Juster argued that the young baby boomers would soon have responsibility for the cities, and many lived in the suburbs and did not know them. In his proposal, he said he wanted \\\"to stimulate and heighten perception\\u00a0\\u2013 to help children notice and appreciate the visual world around them\\u00a0\\u2013 to help excite them and shape their interest in an environment they will eventually reshape.\\\"[7] Beginning with great enthusiasm, he ground to a halt with too many notes and too little progress. He took a weekend break with friends at Fire Island, and came back determined to put aside the cities book and seek inspiration in another writing project.[5]\\n\\nJuster's guilt over his lack of progress on the cities book had led him to write pieces of stories about a little boy named Milo,[9] which he began to develop into a book.\\nJuster quit his job so that he could work on the book.[10] His imagination fired by a boy who approached him on the street and with whom he discussed the nature of infinity, Juster wanted to finish the story about \\\"a boy who asked too many questions\\\" before returning to the book on cities.[11] Juster shared his house in Brooklyn Heights with cartoonist Jules Feiffer whose bedroom was immediately below, and who could hear him pacing in the night. Feiffer was surprised to learn that his friend's insomnia was not caused by the cities book, but by a book about a boy. Juster showed Feiffer the draft to date and, unbidden, the artist began sketching illustrations. Feiffer knew Judy Sheftel, who put deals together in the publishing trade and was his future bride. Sheftel got Jason Epstein, an innovative editor at Random House with a deep appreciation for children's literature, to agree to review the manuscript.[12] Some at Random House considered the book's vocabulary too difficult: at the time, educators advised against children's literature containing words the target audience did not already know, fearing the unfamiliar would discourage young learners.[5] Based on seven chapters of manuscript, plus a three-page outline of the rest of the story, Epstein bought the book.[13]\\n\\nSince Juster did the cooking for the housemates, if Feiffer wanted to eat, he had to do the drawings.[14] Feiffer quickly realized the book would require illustrations of the type and quality that John Tenniel had created for Lewis Carroll's Alice's Adventures in Wonderland and although a nationally known artist, doubted his competence to do the text justice.[15] Feiffer considers the double-spread illustration of demons late in the book to be a success and one of his favorites. It differs from his usual style (which would involve a white background), and instead uses Gustave Dor\\u00e9's drawings as an inspiration.[16]\\n\\nIt became a game, with Feiffer trying to draw things the way he wanted, and Juster trying to describe things that were impossible to sketch.[17] These included the Triple Demons of Compromise\\u2014one short and fat, one tall and thin, and the third exactly like the first two.[18] Feiffer got his revenge by depicting the author as the Whether Man, clad in a toga.[19]\\n\\nRepeated edits altered the protagonist's name (originally Tony), removed his parents entirely from the book, and deleted text attempting to describe how the tollbooth package had been delivered.  Milo's age was removed from the text\\u2014early drafts have him aged eight or nine\\u2014as Juster decided not to state it, lest potential readers decide they were too old to care.[20]\\n\\nSince no one has ever bothered to explain the importance of learning to Milo, he regards school as the biggest waste of time in his life.[21] Juster intended that the book speak to the importance of learning to love learning.[5] Teaching methods that might bore children, by memorization for example, are mocked in the book, as in the case of the Spelling Bee. Like the Bee, the Humbug's insult to his fellow insect goes over Milo's head, but possibly not the reader's: \\\"A slavish concern for the composition of words is the sign of a bankrupt intellect.\\\"[21][22] According to Mary Liston in her journal article on law in fantasy realms, \\\"The Phantom Tollbooth concerns the difference between education and wisdom and what processes are conducive to synthesizing both, so as to encourage an attitude of engagement, alertness, and responsibility within an increasingly autonomous individual.\\\"[23]\",\n          \"Lanark comprises four books, arranged in the order Three, One, Two, Four (there is also a Prologue before Book One, and an Epilogue four chapters before the end of the book).   In the Epilogue, the author explains this by saying that \\\"I want Lanark to be read in one order but eventually thought of in another\\\", and that the epilogue itself is \\\"too important\\\" to go at the end.[5]:\\u200a483\\u200a\\n\\nIn Book Three, a young man awakes alone in a train carriage. He has no memory of his past and picks his name from a strangely familiar photograph on the wall. He soon arrives in Unthank, a strange Glasgow-like  city in which there is no daylight and whose disappearing residents suffer from strange diseases, orifices growing on their limbs and body heat fading away. Lanark begins to associate with a group of twenty-somethings to whom he cannot fully relate and whose mores he cannot understand, and soon begins to suffer from dragonhide, a disease which turns his skin into scales as an external manifestation of his emotional repression. Lanark is eventually swallowed by a mouth in the earth, and awakes in the Institute, a sort of hospital which cures patients of their diseases but uses the hopeless cases for power and food. Upon learning this, Lanark is horrified and determines to leave.\\n\\nBooks One and Two constitute a realist Bildungsroman beginning in pre-war Glasgow, and tell the story of Duncan Thaw (\\\"based on myself, he was tougher and more honest\\\"), a difficult and precocious child born to impecunious and frustrated parents in the East End of Glasgow. The book follows Thaw's wartime evacuation, secondary education and his scholarship to the Glasgow School of Art, where his inability to form relationships with women and his obsessive artistic vision lead to his descent into madness and eventual suicide by drowning.\\n\\nBook Four sees Lanark begin a bizarre, dreamlike journey back to Unthank, which he finds on the point of total disintegration, wracked by political strife, avarice, paranoia and economic meltdown, all of which he is unable to prevent. In the course of the journey, during which he meets his author, he rapidly ages. He finally finds himself old, sitting in a hilltop cemetery as Unthank breaks down in an apocalypse of fire and flood, and, his time of death having been revealed to him, he ends the book calmly awaiting it.\\n\\nLanark could be viewed as Thaw in a personal Hell. (Thaw drowns in the sea; Lanark arrives in Unthank with the same belongings, and seashells and sand in his pockets.) The connection between the two narratives is ambiguous; Gray said that \\\"One is a highly exaggerated form of just about the everyday reality of the other\\\"[6] (for example, Thaw's eczema is mirrored by Lanark's skin disease 'dragonhide').  He also writes in the novel itself: \\\"The Thaw narrative shows a man dying because he is bad at loving. It is enclosed by [Lanark's] narrative which shows civilization collapsing for the same reason\\\"[5]:\\u200a484\\u200a and (spoken to Lanark) \\\"You are Thaw with the neurotic imagination trimmed off and built into the furniture of the world you occupy\\\".[5]:\\u200a493\\u200a He also writes: \\\"The plots of the Thaw and Lanark sections are independent of each other and cemented by typographical contrivances rather than formal necessity. A possible explanation is that the author thinks a heavy book will make a bigger splash than two light ones\\\".[5]:\\u200a493\\u200a\\n\\nOne of the most characteristically postmodern parts of the book is the Epilogue, in which Lanark meets the author in the guise of the character \\\"Nastler\\\". He makes the first two remarks about the book quoted above, and anticipates criticism of the work and of the Epilogue in particular, saying \\\"The critics will accuse me of self-indulgence, but I don't care\\\". An Index of Plagiarisms is printed in the margins of the discussion. For instance, Gray describes much of Lanark as an extended 'Difplag' (diffuse plagiarism) of Charles Kingsley's The Water Babies. Some of the supposed plagiarisms refer to non-existent chapters of the book.\\n\\nThe Unthank parts of the book may be considered as part of the \\\"social-commentary\\\" tradition of science fiction, and Lanark has often been compared with Nineteen Eighty-Four by George Orwell.[7]\\n\\nGray added an appendix to the 2001 edition of the novel, in which he included a brief biography and elaborated on some of the influences on and inspirations for the novel. He cited Kafka as a major influence on the atmosphere of the novel. He also referred to his own experiences in the media industry which he states is reflected in Lanark's numerous encounters in labyrinthine buildings with individuals talking in jargon. The Institute he describes as a combination of Wyndham Lewis's conception of Hell in Malign Fiesta along with three real-life structures: the London Underground, Stobhill Hospital in Glasgow and BBC Television Centre in London. More immediately evident inspiration can be seen in the cathedral and necropolis episodes in Unthank, whose proximity to an urban tangle of roads is mirrored in Glasgow's real-life Townhead area. Glasgow Cathedral is yards away from the Necropolis to the east and the M8 motorway (and unfinished Inner Ring Road) to the north and west. Gray said Glasgow Cathedral was the only location he purposefully visited to make notes about during the writing of the novel; all other locations he wrote about from memory.[8]\\n\\nGray began writing the novel as a student in 1954. Book One was written by 1963, but he was unsuccessful in getting it published.  The whole work was finished in 1976, typeset by the Kingsport Press in Kingsport, Tennessee, [9] and published in 1981 by the Scottish publisher Canongate Press. The novel was an immediate critical success.[10][11]\\n\\nAn adaptation of Lanark by Alastair Cording was staged by Glasgow's Tag Theatre Company at the Assembly Hall, Edinburgh, during the Edinburgh International Festival in August 1995.[12] An adaptation entitled Lanark: A Life in Three Acts, written by David Greig and directed by Graham Eatough, was produced and performed at the Edinburgh International Festival in 2015.[13][14]\\n\\nCraig, Cairns (1981), Going Down to Hell is Easy, review of Alasdair Gray's Lanark, in Murray, Glen (ed.), Cencrastus No. 6, Autumn 1981, pp. 19 - 21\",\n          \"Shasta is a boy who lives in southern Calormen with Arsheesh, an abusive fisherman, whom Shasta believes to be his father. A powerful nobleman demands hospitality one evening, and haggles with Arsheesh to buy Shasta as his slave. It emerges that Arsheesh is not Shasta's father, having found him in a washed-up boat as a baby. In the stable, Bree, the nobleman's stallion, astounds the boy by speaking. He tells Shasta that the nobleman is very cruel to his slaves, and suggests they both flee to his homeland of Narnia, from where he was captured as a foal. Shasta agrees, and they sneak away at night.\\n\\nAfter weeks of northwards travel, during which the two companions bond, a brief chase to escape lions leads to their meeting another pair of refugees: another Narnian Talking Horse, the mare Hwin, who like Bree desires to return home, and Aravis, a young noblewoman who wants to escape a political marriage to Ahoshta, the ugly Grand Vizier. Although Shasta and Aravis immediately dislike each other, the four decide to travel together. In Tashbaan, the capital of Calormen, a party of Narnians mistake Shasta for Corin, the prince of Archenland, a Narnian ally, who has gone missing. Taken from the others, Shasta overhears the Narnians planning to escape Calormen to prevent a forced marriage between Queen Susan and Rabadash, son of the Tisroc, the Calormen ruler. Shasta escapes when Corin returns, but not before learning of a hidden route through the desert.\\n\\nMeanwhile, Aravis is spotted by her friend Lasaraleen, who helps Aravis escape through the Tisroc's garden, although she cannot understand Aravis' motives. On the way, they overhear the Tisroc discussing the Narnians' escape with Rabadash and Ahoshta. The Tisroc gives Rabadash permission to raid Archenland and Narnia to kidnap Queen Susan while High King Peter is away battling giants in the north, but notes that he cannot openly support such a raid and will renounce Rabadash if he fails. The four fugitives reunite at a necropolis where Shasta has had supernatural dreams. Pooling their information, they set out across the desert along the hidden route to warn Archenland; they are again chased by a lion, which injures Aravis. \\n\\nA hermit tends to Aravis' wounds, while Shasta carries on, on foot. He finds Lune, King of Archenland, and warns him of the raiders. He is separated from Lune in thick fog and encounters an unseen presence, who claims to have been not only the lion who injured Aravis, but also the lion who caused the four to join forces, and even the one who guided Shasta's boat to Arsheesh. The presence disappears, and Shasta finds himself in Narnia. He again meets Corin, who is travelling southwards with the Narnian party (who escaped from Calormen successfully) to assist Archenland. The Narnians, led by King Edmund and Queen Lucy, arrive at the Archenland capital of Anvard, and defeat the Calormenes, who were unable to take the castle because of Shasta's warning. Rabadash is captured and most of his men are killed, including Bree's old master. In the aftermath, Aslan appears and turns Rabadash into a donkey after he refuses to accept defeat. His human form is restored when he returns to Tashbaan, but thereafter he is forbidden to travel more than ten miles from the city, on pain of permanent transformation. His reign as Tisroc is therefore very peaceful despite earning the nickname \\\"Rabadash the Ridiculous.\\\"\\n\\nLune realizes that Shasta is his son Cor, the long-lost identical twin of Prince Corin and the heir to the Archenland throne. Cor had been kidnapped as a baby in an attempt to thwart a prophecy which foretold that he would save Archenland from its greatest peril. He was lost at sea in the ensuing battle to rescue him, but Aslan made sure that the baby found his way to Arsheesh. Shasta's warning fulfilled the prophecy. Corin is delighted that Shasta is heir, as he did not want to be king. Aravis and Cor eventually marry and rule Archenland after Lune's death. Their son, Ram, becomes the most famous king of Archenland. Bree and Hwin found love separately after returning to Narnia and all four would reunite regularly.\\n\\nAfter meeting King Lune of Archenland and warning him of the impending Calormene invasion, Shasta becomes lost in a fog and separated from the Archenlanders. While walking in the fog, he senses a mysterious presence nearby.  Engaging in conversation with the unknown being, Shasta tells of his misfortunes, including twice being chased by lions. His companion, who turns out to be Aslan, responds as follows:\\n\\nThe incidents which Shasta perceived as misfortunes were orchestrated by Aslan, in his Divine Providence, for greater purposes.[6][7]\\n\\nBree and Shasta use the phrase \\\"Narnia and the North\\\" as their \\\"rallying cry\\\" as they make their escape from their life in Calormen. They are both motivated by a deep longing to find their way to their true homeland. In the setting of The Horse and His Boy, the reader finds a departure from the landscapes, culture, and people of the Narnian realms which have become familiar in the other books. The placement of the action in the realm of Calormen helps to convey a sense of \\\"unbelonging\\\" on the part of the characters and the reader, which reinforces the motif of longing for a true home.[8]\\n\\nThe association of Cor with horses, and his twin brother Corin with boxing, recalls the traditional associations of the Spartan twins Castor and Pollux of Greek mythology.[9]\\n\\nResearcher Ruth North has noted that the plot element of a sinful human being transformed into a donkey as a punishment and then restored to humanity as an act of Divine mercy is reminiscent of The Golden Ass by Apuleius, a classic of Latin literature.[10]\\n\\nBBC Radio 4 dramatised The Chronicles of Narnia, including The Horse and His Boy, in 1998. The dramatisation is entitled \\\"The Complete Chronicles of Narnia: The Classic BBC Radio 4 Full-Cast Dramatisations\\\".[11]\\n\\nFocus on the Family produced an audio dramatisation of The Horse and His Boy in 2000.[12]\\n\\nWalden Media made movie adaptations of The Lion, the Witch and the Wardrobe, Prince Caspian and The Voyage of the Dawn Treader. Walden Media obtained an option to make The Chronicles of Narnia: The Horse and His Boy in the future.[13]\\n\\nIn 2022, The Logos Theater, of Taylors, South Carolina, created a stage adaptation of The Horse and His Boy, with later performances at the Museum of the Bible[14] and Ark Encounter.[15]\"\n        ],\n        \"semantic_type\": \"\",\n        \"description\": \"\"\n      }\n    },\n    {\n      \"column\": \"genre\",\n      \"properties\": {\n        \"dtype\": \"category\",\n        \"num_unique_values\": 593,\n        \"samples\": [\n          \"War novel\",\n          \"Historical novel, speculative fiction\",\n          \"Dystopian[2]\"\n        ],\n        \"semantic_type\": \"\",\n        \"description\": \"\"\n      }\n    },\n    {\n      \"column\": \"description\",\n      \"properties\": {\n        \"dtype\": \"string\",\n        \"num_unique_values\": 2006,\n        \"samples\": [\n          \"The Toy Collector is a novel written by James Gunn, published by Bloomsbury Publishing in 2000. It is the story of a hospital orderly who steals drugs from the hospital which he sells to help keep his toy collection habit alive. Although the work is fictional, the name of the protagonist is James Gunn.\",\n          \"The Eagle Has Landed is a book by British writer Jack Higgins, set during World War II and first published in 1975.[1] It was quickly adapted into a British film of the same name, released in 1976.\",\n          \"Crossings is a 1982 novel that was written by American Danielle Steel. It is Steel's 13th novel. It was adapted into a six-part miniseries of the same name in 1986.[1]\"\n        ],\n        \"semantic_type\": \"\",\n        \"description\": \"\"\n      }\n    },\n    {\n      \"column\": \"page_number\",\n      \"properties\": {\n        \"dtype\": \"string\",\n        \"num_unique_values\": 1087,\n        \"samples\": [\n          \"69 pp\",\n          \"320 pp\",\n          \"186 pp\"\n        ],\n        \"semantic_type\": \"\",\n        \"description\": \"\"\n      }\n    },\n    {\n      \"column\": \"combined_text\",\n      \"properties\": {\n        \"dtype\": \"string\",\n        \"num_unique_values\": 2030,\n        \"samples\": [\n          \"The Phantom Tollbooth is a children's fantasy adventure novel written by Norton Juster, with illustrations by Jules Feiffer, first published in 1961. The story follows a bored young boy named Milo who unexpectedly receives a magic tollbooth that transports him to the once prosperous, but now troubled, Kingdom of Wisdom. Along with a dog named Tock and the Humbug, Milo goes on a quest to the Castle in the Air seeking the kingdom's two exiled princesses, named Rhyme and Reason. As Milo learns valuable lessons, he finds a love of learning in a story full of puns and wordplay, such as exploring the literal meanings of idioms. In 1958, Juster had received a Ford Foundation grant for a children's book about cities. Unable to make progress on that project, he turned to writing what became The Phantom Tollbooth, his first book. His housemate, Feiffer, a cartoonist, interested himself in the project. Jason Epstein, an editor at Random House, bought the book and published it. The Phantom Tollbooth received rave reviews and has as of 2021 sold almost five million copies,[4] far more than expected. It has been adapted into a film, opera, and play, and translated into many languages. Though the book is on its face an adventure story, a major theme is the need for a love of education; through this, Milo applies what he has learned in school, advances in his personal development, and learns to love the life that previously bored him. Critics have compared its appeal to that of Lewis Carroll's Alice's Adventures in Wonderland and to L. Frank Baum's The Wonderful Wizard of Oz. Additionally Maurice Sendak, in his introductory \\\"An Appreciation\\\" included in editions of the book since 1996, quotes a critic as comparing The Phantom Tollbooth to Bunyan's Pilgrim's Progress: \\\"As Pilgrim's Progress is concerned with the awakening of the sluggardly spirit, The Phantom Tollbooth is concerned with the awakening of the lazy mind.\\\" Milo is a boy bored by the world around him; every activity seems a waste of time. He arrives home from another boring day at school to find a mysterious package. Among its contents are a small tollbooth and a map of \\\"the Lands Beyond\\\", illustrating the Kingdom of Wisdom (which will also guide the reader from its place on the endpapers of the book). Attached to the package is a note \\\"For Milo, who has plenty of time.\\\" Warned by an included sign to have his destination in mind, he decides without much thought to go to Dictionopolis, assuming this is a pretend game to be played on the floor of his room. He maneuvers through the tollbooth in his electric toy car and instantly finds himself driving on a road that is clearly not in his city apartment. Milo begins with Expectations, a pleasant place where he starts on Wisdom's road. In Expectations, he seeks directions from the Whether Man, who is full of endless talk. As Milo drives on, he daydreams and gets lost in the Doldrums, a colorless place where nothing ever happens. Milo soon joins the inhabitants, the Lethargarians, in killing time there, a pastime angrily interrupted by the arrival of Tock, a talking, oversized dog with an alarm clock on each side (a \\\"watchdog\\\"), who tells Milo that only by thinking can he get out of the Doldrums. Head abuzz with unaccustomed thoughts, Milo is soon back on his road, and Tock joins him on his journey through Wisdom. Milo and Tock travel to Dictionopolis, one of two capital cities of the divided Kingdom of Wisdom and home to King Azaz the Unabridged. They meet King Azaz's cabinet officials and visit the Word Market, where the words and letters are sold that empower the world. A fight between the Spelling Bee and the blustering Humbug breaks up the market, and Milo and Tock are arrested by the very short Officer Shrift. In prison, Milo meets Faintly Macabre, the Not-so-Wicked Which (not to be confused with Witch), long in charge of which words should be used in Wisdom. She tells him how the two rulers, King Azaz and his brother, the Mathemagician, had two adopted younger sisters, Rhyme and Reason, to whom everyone came to settle disputes. All lived in harmony until the rulers disagreed with the princesses' decision that letters (championed by Azaz) and numbers (by the Mathemagician) were equally important. They banished the princesses to the Castle in the Air and, since then, the land has had neither Rhyme nor Reason. Milo and Tock leave the dungeon. King Azaz hosts them at a banquet where the guests literally eat their words, served to them on plates. After the meal, King Azaz lets Milo and Tock talk themselves into a dangerous quest to rescue the princesses. Azaz flatters the Humbug into being their guide, and boy, dog and insect set off for the Mathemagician's capital of Digitopolis as they must gain his approval before they can begin their quest. Along the way, they meet such characters as Alec Bings, a little boy suspended in the air who sees through things and who will grow down until he reaches the ground. He then meets the world's smallest giant, the world's biggest dwarf, the world's thinnest fat man, and the world's fattest thin man, who turn out to just be one regular man. Milo then loses time in substituting for Chroma the Great, a conductor whose orchestra creates the colors of the world. They meet a twelve-sided creature called the Dodecahedron, who leads them to Digitopolis. There, they meet the Mathemagician, who is still angry at Azaz and who will not give his blessing to anything that his brother has approved. Milo maneuvers him into saying he will permit the quest if the boy can show the two have concurred on anything since they banished the princesses. To the number wizard's shock, Milo proves that the two have agreed to disagree, and the Mathemagician gives his reluctant consent. In the Mountains of Ignorance, the journeyers contend with demons like the Terrible Trivium and the Gelatinous Giant. After overcoming obstacles and their own fears, they reach the Castle in the Air. Princesses Rhyme and Reason welcome Milo and agree to return to Wisdom. Unable to enter the castle, the demons cut it loose, letting it drift away, but Milo realizes Tock can carry them down because 'time flies'. The demons pursue, but the armies of Wisdom arrive and repel them. Rhyme and Reason heal the divisions in the old Kingdom of Wisdom, Azaz and the Mathemagician are reconciled, and all enjoy a three-day celebration. Milo says goodbye and drives back through the tollbooth. Suddenly he is back in his own room, and discovers he has been gone only an hour, though his journey seemed to take weeks. He awakens the next day with plans to return to the kingdom, but finds the tollbooth gone when he gets home from school. A note instead is there, \\\"For Milo, who now knows the way.\\\" The note states that the tollbooth is being sent to another child who needs help finding direction in life. Milo is somewhat disappointed but agrees and looks at a now-interesting world around him, concluding that even if he found a way back, he might not have time to go, for there is so much to do right where he is. Architect Norton Juster was living in his hometown of Brooklyn, after three years in the Navy.[5] In June 1960, he gained a $5,000 grant from the Ford Foundation to write a children's book about cities.[6] Juster argued that the young baby boomers would soon have responsibility for the cities, and many lived in the suburbs and did not know them. In his proposal, he said he wanted \\\"to stimulate and heighten perception \\u2013 to help children notice and appreciate the visual world around them \\u2013 to help excite them and shape their interest in an environment they will eventually reshape.\\\"[7] Beginning with great enthusiasm, he ground to a halt with too many notes and too little progress. He took a weekend break with friends at Fire Island, and came back determined to put aside the cities book and seek inspiration in another writing project.[5] Juster's guilt over his lack of progress on the cities book had led him to write pieces of stories about a little boy named Milo,[9] which he began to develop into a book. Juster quit his job so that he could work on the book.[10] His imagination fired by a boy who approached him on the street and with whom he discussed the nature of infinity, Juster wanted to finish the story about \\\"a boy who asked too many questions\\\" before returning to the book on cities.[11] Juster shared his house in Brooklyn Heights with cartoonist Jules Feiffer whose bedroom was immediately below, and who could hear him pacing in the night. Feiffer was surprised to learn that his friend's insomnia was not caused by the cities book, but by a book about a boy. Juster showed Feiffer the draft to date and, unbidden, the artist began sketching illustrations. Feiffer knew Judy Sheftel, who put deals together in the publishing trade and was his future bride. Sheftel got Jason Epstein, an innovative editor at Random House with a deep appreciation for children's literature, to agree to review the manuscript.[12] Some at Random House considered the book's vocabulary too difficult: at the time, educators advised against children's literature containing words the target audience did not already know, fearing the unfamiliar would discourage young learners.[5] Based on seven chapters of manuscript, plus a three-page outline of the rest of the story, Epstein bought the book.[13] Since Juster did the cooking for the housemates, if Feiffer wanted to eat, he had to do the drawings.[14] Feiffer quickly realized the book would require illustrations of the type and quality that John Tenniel had created for Lewis Carroll's Alice's Adventures in Wonderland and although a nationally known artist, doubted his competence to do the text justice.[15] Feiffer considers the double-spread illustration of demons late in the book to be a success and one of his favorites. It differs from his usual style (which would involve a white background), and instead uses Gustave Dor\\u00e9's drawings as an inspiration.[16] It became a game, with Feiffer trying to draw things the way he wanted, and Juster trying to describe things that were impossible to sketch.[17] These included the Triple Demons of Compromise\\u2014one short and fat, one tall and thin, and the third exactly like the first two.[18] Feiffer got his revenge by depicting the author as the Whether Man, clad in a toga.[19] Repeated edits altered the protagonist's name (originally Tony), removed his parents entirely from the book, and deleted text attempting to describe how the tollbooth package had been delivered. Milo's age was removed from the text\\u2014early drafts have him aged eight or nine\\u2014as Juster decided not to state it, lest potential readers decide they were too old to care.[20] Since no one has ever bothered to explain the importance of learning to Milo, he regards school as the biggest waste of time in his life.[21] Juster intended that the book speak to the importance of learning to love learning.[5] Teaching methods that might bore children, by memorization for example, are mocked in the book, as in the case of the Spelling Bee. Like the Bee, the Humbug's insult to his fellow insect goes over Milo's head, but possibly not the reader's: \\\"A slavish concern for the composition of words is the sign of a bankrupt intellect.\\\"[21][22] According to Mary Liston in her journal article on law in fantasy realms, \\\"The Phantom Tollbooth concerns the difference between education and wisdom and what processes are conducive to synthesizing both, so as to encourage an attitude of engagement, alertness, and responsibility within an increasingly autonomous individual.\\\"[23]\",\n          \"Lanark, subtitled A Life in Four Books, is the first novel of Scottish writer Alasdair Gray. Written over a period of almost thirty years, it combines realist and dystopian surrealist depictions of his home city of Glasgow. Its publication in 1981 prompted Anthony Burgess to call Gray \\\"the best Scottish novelist since Walter Scott\\\".[2] Lanark won the inaugural Saltire Society Book of the Year award in 1982, and was also named Scottish Arts Council Book of the Year.[3] The book, still his best known, has since become a cult classic. In 2008, The Guardian heralded Lanark as \\\"one of the landmarks of 20th-century fiction.\\\"[4] Lanark comprises four books, arranged in the order Three, One, Two, Four (there is also a Prologue before Book One, and an Epilogue four chapters before the end of the book). In the Epilogue, the author explains this by saying that \\\"I want Lanark to be read in one order but eventually thought of in another\\\", and that the epilogue itself is \\\"too important\\\" to go at the end.[5]: 483 In Book Three, a young man awakes alone in a train carriage. He has no memory of his past and picks his name from a strangely familiar photograph on the wall. He soon arrives in Unthank, a strange Glasgow-like city in which there is no daylight and whose disappearing residents suffer from strange diseases, orifices growing on their limbs and body heat fading away. Lanark begins to associate with a group of twenty-somethings to whom he cannot fully relate and whose mores he cannot understand, and soon begins to suffer from dragonhide, a disease which turns his skin into scales as an external manifestation of his emotional repression. Lanark is eventually swallowed by a mouth in the earth, and awakes in the Institute, a sort of hospital which cures patients of their diseases but uses the hopeless cases for power and food. Upon learning this, Lanark is horrified and determines to leave. Books One and Two constitute a realist Bildungsroman beginning in pre-war Glasgow, and tell the story of Duncan Thaw (\\\"based on myself, he was tougher and more honest\\\"), a difficult and precocious child born to impecunious and frustrated parents in the East End of Glasgow. The book follows Thaw's wartime evacuation, secondary education and his scholarship to the Glasgow School of Art, where his inability to form relationships with women and his obsessive artistic vision lead to his descent into madness and eventual suicide by drowning. Book Four sees Lanark begin a bizarre, dreamlike journey back to Unthank, which he finds on the point of total disintegration, wracked by political strife, avarice, paranoia and economic meltdown, all of which he is unable to prevent. In the course of the journey, during which he meets his author, he rapidly ages. He finally finds himself old, sitting in a hilltop cemetery as Unthank breaks down in an apocalypse of fire and flood, and, his time of death having been revealed to him, he ends the book calmly awaiting it. Lanark could be viewed as Thaw in a personal Hell. (Thaw drowns in the sea; Lanark arrives in Unthank with the same belongings, and seashells and sand in his pockets.) The connection between the two narratives is ambiguous; Gray said that \\\"One is a highly exaggerated form of just about the everyday reality of the other\\\"[6] (for example, Thaw's eczema is mirrored by Lanark's skin disease 'dragonhide'). He also writes in the novel itself: \\\"The Thaw narrative shows a man dying because he is bad at loving. It is enclosed by [Lanark's] narrative which shows civilization collapsing for the same reason\\\"[5]: 484 and (spoken to Lanark) \\\"You are Thaw with the neurotic imagination trimmed off and built into the furniture of the world you occupy\\\".[5]: 493 He also writes: \\\"The plots of the Thaw and Lanark sections are independent of each other and cemented by typographical contrivances rather than formal necessity. A possible explanation is that the author thinks a heavy book will make a bigger splash than two light ones\\\".[5]: 493 One of the most characteristically postmodern parts of the book is the Epilogue, in which Lanark meets the author in the guise of the character \\\"Nastler\\\". He makes the first two remarks about the book quoted above, and anticipates criticism of the work and of the Epilogue in particular, saying \\\"The critics will accuse me of self-indulgence, but I don't care\\\". An Index of Plagiarisms is printed in the margins of the discussion. For instance, Gray describes much of Lanark as an extended 'Difplag' (diffuse plagiarism) of Charles Kingsley's The Water Babies. Some of the supposed plagiarisms refer to non-existent chapters of the book. The Unthank parts of the book may be considered as part of the \\\"social-commentary\\\" tradition of science fiction, and Lanark has often been compared with Nineteen Eighty-Four by George Orwell.[7] Gray added an appendix to the 2001 edition of the novel, in which he included a brief biography and elaborated on some of the influences on and inspirations for the novel. He cited Kafka as a major influence on the atmosphere of the novel. He also referred to his own experiences in the media industry which he states is reflected in Lanark's numerous encounters in labyrinthine buildings with individuals talking in jargon. The Institute he describes as a combination of Wyndham Lewis's conception of Hell in Malign Fiesta along with three real-life structures: the London Underground, Stobhill Hospital in Glasgow and BBC Television Centre in London. More immediately evident inspiration can be seen in the cathedral and necropolis episodes in Unthank, whose proximity to an urban tangle of roads is mirrored in Glasgow's real-life Townhead area. Glasgow Cathedral is yards away from the Necropolis to the east and the M8 motorway (and unfinished Inner Ring Road) to the north and west. Gray said Glasgow Cathedral was the only location he purposefully visited to make notes about during the writing of the novel; all other locations he wrote about from memory.[8] Gray began writing the novel as a student in 1954. Book One was written by 1963, but he was unsuccessful in getting it published. The whole work was finished in 1976, typeset by the Kingsport Press in Kingsport, Tennessee, [9] and published in 1981 by the Scottish publisher Canongate Press. The novel was an immediate critical success.[10][11] An adaptation of Lanark by Alastair Cording was staged by Glasgow's Tag Theatre Company at the Assembly Hall, Edinburgh, during the Edinburgh International Festival in August 1995.[12] An adaptation entitled Lanark: A Life in Three Acts, written by David Greig and directed by Graham Eatough, was produced and performed at the Edinburgh International Festival in 2015.[13][14] Craig, Cairns (1981), Going Down to Hell is Easy, review of Alasdair Gray's Lanark, in Murray, Glen (ed.), Cencrastus No. 6, Autumn 1981, pp. 19 - 21\",\n          \"The Horse and His Boy is a high fantasy novel written by British author C. S. Lewis and published by Geoffrey Bles in 1954. Of the seven novels that comprise The Chronicles of Narnia (1950\\u20131956), The Horse and His Boy was the fifth to be published. The novel is set in the period covered by the last chapter of The Lion, the Witch, and the Wardrobe during the reign of the four Pevensie children as Kings and Queens of Narnia. Though three of the Pevensies appear as minor characters in The Horse and His Boy, the main characters are two children and two talking horses who escape from Calormen and travel north into Narnia. On their journey, they learn of the Prince of Calormen's plan to attack Archenland, and warn the King of Archenland of the impending strike. Like the other novels in The Chronicles of Narnia, The Horse and His Boy was illustrated by Pauline Baynes; her work has been retained in many later editions.[1][3] Shasta is a boy who lives in southern Calormen with Arsheesh, an abusive fisherman, whom Shasta believes to be his father. A powerful nobleman demands hospitality one evening, and haggles with Arsheesh to buy Shasta as his slave. It emerges that Arsheesh is not Shasta's father, having found him in a washed-up boat as a baby. In the stable, Bree, the nobleman's stallion, astounds the boy by speaking. He tells Shasta that the nobleman is very cruel to his slaves, and suggests they both flee to his homeland of Narnia, from where he was captured as a foal. Shasta agrees, and they sneak away at night. After weeks of northwards travel, during which the two companions bond, a brief chase to escape lions leads to their meeting another pair of refugees: another Narnian Talking Horse, the mare Hwin, who like Bree desires to return home, and Aravis, a young noblewoman who wants to escape a political marriage to Ahoshta, the ugly Grand Vizier. Although Shasta and Aravis immediately dislike each other, the four decide to travel together. In Tashbaan, the capital of Calormen, a party of Narnians mistake Shasta for Corin, the prince of Archenland, a Narnian ally, who has gone missing. Taken from the others, Shasta overhears the Narnians planning to escape Calormen to prevent a forced marriage between Queen Susan and Rabadash, son of the Tisroc, the Calormen ruler. Shasta escapes when Corin returns, but not before learning of a hidden route through the desert. Meanwhile, Aravis is spotted by her friend Lasaraleen, who helps Aravis escape through the Tisroc's garden, although she cannot understand Aravis' motives. On the way, they overhear the Tisroc discussing the Narnians' escape with Rabadash and Ahoshta. The Tisroc gives Rabadash permission to raid Archenland and Narnia to kidnap Queen Susan while High King Peter is away battling giants in the north, but notes that he cannot openly support such a raid and will renounce Rabadash if he fails. The four fugitives reunite at a necropolis where Shasta has had supernatural dreams. Pooling their information, they set out across the desert along the hidden route to warn Archenland; they are again chased by a lion, which injures Aravis. A hermit tends to Aravis' wounds, while Shasta carries on, on foot. He finds Lune, King of Archenland, and warns him of the raiders. He is separated from Lune in thick fog and encounters an unseen presence, who claims to have been not only the lion who injured Aravis, but also the lion who caused the four to join forces, and even the one who guided Shasta's boat to Arsheesh. The presence disappears, and Shasta finds himself in Narnia. He again meets Corin, who is travelling southwards with the Narnian party (who escaped from Calormen successfully) to assist Archenland. The Narnians, led by King Edmund and Queen Lucy, arrive at the Archenland capital of Anvard, and defeat the Calormenes, who were unable to take the castle because of Shasta's warning. Rabadash is captured and most of his men are killed, including Bree's old master. In the aftermath, Aslan appears and turns Rabadash into a donkey after he refuses to accept defeat. His human form is restored when he returns to Tashbaan, but thereafter he is forbidden to travel more than ten miles from the city, on pain of permanent transformation. His reign as Tisroc is therefore very peaceful despite earning the nickname \\\"Rabadash the Ridiculous.\\\" Lune realizes that Shasta is his son Cor, the long-lost identical twin of Prince Corin and the heir to the Archenland throne. Cor had been kidnapped as a baby in an attempt to thwart a prophecy which foretold that he would save Archenland from its greatest peril. He was lost at sea in the ensuing battle to rescue him, but Aslan made sure that the baby found his way to Arsheesh. Shasta's warning fulfilled the prophecy. Corin is delighted that Shasta is heir, as he did not want to be king. Aravis and Cor eventually marry and rule Archenland after Lune's death. Their son, Ram, becomes the most famous king of Archenland. Bree and Hwin found love separately after returning to Narnia and all four would reunite regularly. After meeting King Lune of Archenland and warning him of the impending Calormene invasion, Shasta becomes lost in a fog and separated from the Archenlanders. While walking in the fog, he senses a mysterious presence nearby. Engaging in conversation with the unknown being, Shasta tells of his misfortunes, including twice being chased by lions. His companion, who turns out to be Aslan, responds as follows: The incidents which Shasta perceived as misfortunes were orchestrated by Aslan, in his Divine Providence, for greater purposes.[6][7] Bree and Shasta use the phrase \\\"Narnia and the North\\\" as their \\\"rallying cry\\\" as they make their escape from their life in Calormen. They are both motivated by a deep longing to find their way to their true homeland. In the setting of The Horse and His Boy, the reader finds a departure from the landscapes, culture, and people of the Narnian realms which have become familiar in the other books. The placement of the action in the realm of Calormen helps to convey a sense of \\\"unbelonging\\\" on the part of the characters and the reader, which reinforces the motif of longing for a true home.[8] The association of Cor with horses, and his twin brother Corin with boxing, recalls the traditional associations of the Spartan twins Castor and Pollux of Greek mythology.[9] Researcher Ruth North has noted that the plot element of a sinful human being transformed into a donkey as a punishment and then restored to humanity as an act of Divine mercy is reminiscent of The Golden Ass by Apuleius, a classic of Latin literature.[10] BBC Radio 4 dramatised The Chronicles of Narnia, including The Horse and His Boy, in 1998. The dramatisation is entitled \\\"The Complete Chronicles of Narnia: The Classic BBC Radio 4 Full-Cast Dramatisations\\\".[11] Focus on the Family produced an audio dramatisation of The Horse and His Boy in 2000.[12] Walden Media made movie adaptations of The Lion, the Witch and the Wardrobe, Prince Caspian and The Voyage of the Dawn Treader. Walden Media obtained an option to make The Chronicles of Narnia: The Horse and His Boy in the future.[13] In 2022, The Logos Theater, of Taylors, South Carolina, created a stage adaptation of The Horse and His Boy, with later performances at the Museum of the Bible[14] and Ark Encounter.[15]\"\n        ],\n        \"semantic_type\": \"\",\n        \"description\": \"\"\n      }\n    },\n    {\n      \"column\": \"avg_embedding\",\n      \"properties\": {\n        \"dtype\": \"object\",\n        \"semantic_type\": \"\",\n        \"description\": \"\"\n      }\n    }\n  ]\n}"
            }
          },
          "metadata": {},
          "execution_count": 15
        }
      ]
    },
    {
      "cell_type": "code",
      "source": [
        "def split_text(text, chunk_size=300, overlap=30):\n",
        "    \"\"\"Разбивает текст на перекрывающиеся фрагменты\"\"\"\n",
        "    words = text.split()\n",
        "    chunks = []\n",
        "    for i in range(0, len(words), chunk_size - overlap):\n",
        "        chunk = ' '.join(words[i:i + chunk_size])\n",
        "        chunks.append(chunk)\n",
        "    return chunks"
      ],
      "metadata": {
        "id": "2HsaDfoteV-u"
      },
      "execution_count": null,
      "outputs": []
    },
    {
      "cell_type": "code",
      "source": [
        "def get_average_embedding(text, model, chunk_size=300, overlap=30):\n",
        "    \"\"\"Генерирует усредненный эмбеддинг для длинного текста\"\"\"\n",
        "    if not isinstance(text, str) or len(text.split()) < 50:\n",
        "        return model.encode(\"\")\n",
        "\n",
        "    chunks = split_text(text, chunk_size, overlap)\n",
        "    chunk_embeddings = model.encode(chunks, show_progress_bar=False)\n",
        "    return np.mean(chunk_embeddings, axis=0)"
      ],
      "metadata": {
        "id": "_CPz3O80eZjo"
      },
      "execution_count": null,
      "outputs": []
    },
    {
      "cell_type": "code",
      "source": [
        "tqdm.pandas()\n",
        "df['avg_embedding'] = df['plot'].progress_apply(\n",
        "    lambda x: get_average_embedding(x, model))"
      ],
      "metadata": {
        "id": "fKibQV1gebn8"
      },
      "execution_count": null,
      "outputs": []
    },
    {
      "cell_type": "code",
      "source": [
        "def get_book_recommendations(query, top_k=3):\n",
        "    query_embedding = model.encode([query])\n",
        "\n",
        "    similarities = cosine_similarity(\n",
        "        query_embedding,\n",
        "        np.vstack(df['avg_embedding'])\n",
        "    )[0]\n",
        "\n",
        "    top_indices = np.argsort(similarities)[-top_k:][::-1]\n",
        "\n",
        "    return df.iloc[top_indices][['book_name', 'author', 'genre']].assign(\n",
        "        similarity_score=[f\"{sim:.4f}\" for sim in similarities[top_indices]]\n",
        "    )"
      ],
      "metadata": {
        "id": "8SL_1ojjedpF"
      },
      "execution_count": null,
      "outputs": []
    },
    {
      "cell_type": "code",
      "source": [
        "user_query = \"A young wizard discovers his magical heritage and attends a school of magic while facing a dark lord\"\n",
        "recommendations = get_book_recommendations(user_query)\n",
        "print(recommendations[['book_name', 'author', 'genre', 'similarity_score']])"
      ],
      "metadata": {
        "colab": {
          "base_uri": "https://localhost:8080/"
        },
        "id": "TlXwJWyyefkj",
        "outputId": "6c55a7a9-910c-407e-dda2-beb008abac5f"
      },
      "execution_count": null,
      "outputs": [
        {
          "output_type": "stream",
          "name": "stdout",
          "text": [
            "                                   book_name          author            genre  \\\n",
            "808  Harry Potter and the Chamber of Secrets   J. K. Rowling          Fantasy   \n",
            "201                           The Blue Sword  Robin McKinley          Fantasy   \n",
            "159                        Beneath the Moors    Brian Lumley  Horror, fantasy   \n",
            "\n",
            "    similarity_score  \n",
            "808           0.3737  \n",
            "201           0.3732  \n",
            "159           0.3681  \n"
          ]
        }
      ]
    },
    {
      "cell_type": "code",
      "source": [
        "user_query = \"Historical novel about brave women and obstacles they have to overcome\"\n",
        "recommendations = get_book_recommendations(user_query)\n",
        "print(recommendations[['book_name', 'author', 'genre', 'similarity_score']])"
      ],
      "metadata": {
        "colab": {
          "base_uri": "https://localhost:8080/"
        },
        "id": "krcQ3Q_RHSop",
        "outputId": "a474b9eb-f031-4a13-8000-4653cb1619a6"
      },
      "execution_count": null,
      "outputs": [
        {
          "output_type": "stream",
          "name": "stdout",
          "text": [
            "                         book_name                    author  \\\n",
            "77                The Angel Makers           Jessica Gregson   \n",
            "828                Herland (novel)  Charlotte Perkins Gilman   \n",
            "695  The French Lieutenant's Woman               John Fowles   \n",
            "\n",
            "                                                 genre similarity_score  \n",
            "77                                               Novel           0.5094  \n",
            "828          Feminist utopia, feminist science fiction           0.4707  \n",
            "695  Postmodern literature, romance novel, historic...           0.4661  \n"
          ]
        }
      ]
    },
    {
      "cell_type": "code",
      "source": [
        "user_query = \"story about animals and their friendship with humans\"\n",
        "recommendations = get_book_recommendations(user_query)\n",
        "print(recommendations[['book_name', 'author', 'genre', 'similarity_score']])"
      ],
      "metadata": {
        "colab": {
          "base_uri": "https://localhost:8080/"
        },
        "id": "obRQA1IAHpGI",
        "outputId": "80d79deb-6af5-4ffa-d959-b9bfe18367b6"
      },
      "execution_count": null,
      "outputs": [
        {
          "output_type": "stream",
          "name": "stdout",
          "text": [
            "                 book_name          author                        genre  \\\n",
            "2054  The Zookeeper's Wife  Diane Ackerman  HistoryBiographyNon-fiction   \n",
            "1028            Life of Pi     Yann Martel            Adventure fiction   \n",
            "2053              Zoo City   Lauren Beukes                          NaN   \n",
            "\n",
            "     similarity_score  \n",
            "2054           0.3887  \n",
            "1028           0.3809  \n",
            "2053           0.3793  \n"
          ]
        }
      ]
    },
    {
      "cell_type": "code",
      "source": [
        "user_query = \"I want to read some sad book about war and love. Medieval ages, epic battles and drama\"\n",
        "recommendations = get_book_recommendations(user_query)\n",
        "print(recommendations[['book_name', 'author', 'genre', 'similarity_score']])"
      ],
      "metadata": {
        "colab": {
          "base_uri": "https://localhost:8080/"
        },
        "id": "L__xjM50H6qR",
        "outputId": "9795158d-e13a-4943-e75f-aaa49835945a"
      },
      "execution_count": null,
      "outputs": [
        {
          "output_type": "stream",
          "name": "stdout",
          "text": [
            "                        book_name                  author  \\\n",
            "77               The Angel Makers         Jessica Gregson   \n",
            "1079  Love in the Time of Cholera  Gabriel García Márquez   \n",
            "1340                 Parade's End         Ford Madox Ford   \n",
            "\n",
            "                                    genre similarity_score  \n",
            "77                                  Novel           0.4675  \n",
            "1079                        Romance novel           0.4330  \n",
            "1340  Historical fiction, modernist novel           0.4235  \n"
          ]
        }
      ]
    },
    {
      "cell_type": "code",
      "source": [
        "user_query = \"Book about space travelers, discovery of mysterious planets inhabited by strange life forms\"\n",
        "recommendations = get_book_recommendations(user_query)\n",
        "print(recommendations[['book_name', 'author', 'genre', 'similarity_score']])"
      ],
      "metadata": {
        "id": "p3j7SyUFIO8n",
        "outputId": "2d567f5b-631c-4c5a-d851-6c1fa7901cd2",
        "colab": {
          "base_uri": "https://localhost:8080/"
        }
      },
      "execution_count": null,
      "outputs": [
        {
          "output_type": "stream",
          "name": "stdout",
          "text": [
            "                book_name              author            genre  \\\n",
            "1115  Man and the Planets        Duncan Lunan        Astronomy   \n",
            "23      Across the Zodiac          Percy Greg  Science fiction   \n",
            "161       Between Planets  Robert A. Heinlein  Science fiction   \n",
            "\n",
            "     similarity_score  \n",
            "1115           0.4270  \n",
            "23             0.3997  \n",
            "161            0.3625  \n"
          ]
        }
      ]
    },
    {
      "cell_type": "code",
      "source": [
        "df.to_csv(\"embeddings_sentence_transformers_just_plot.csv\", index=False)"
      ],
      "metadata": {
        "id": "nkoYutrTe92Q"
      },
      "execution_count": null,
      "outputs": []
    }
  ]
}
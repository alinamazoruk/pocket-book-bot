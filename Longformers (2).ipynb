{
  "nbformat": 4,
  "nbformat_minor": 0,
  "metadata": {
    "colab": {
      "provenance": [],
      "machine_shape": "hm",
      "gpuType": "T4"
    },
    "kernelspec": {
      "name": "python3",
      "display_name": "Python 3"
    },
    "language_info": {
      "name": "python"
    },
    "accelerator": "GPU"
  },
  "cells": [
    {
      "cell_type": "code",
      "execution_count": null,
      "metadata": {
        "id": "xL7vOKnUxn-S"
      },
      "outputs": [],
      "source": [
        "from transformers import AutoTokenizer"
      ]
    },
    {
      "cell_type": "code",
      "source": [
        "import torch\n",
        "import pandas as pd\n",
        "import numpy as np\n",
        "from transformers import AutoTokenizer, AutoModel\n",
        "from sklearn.preprocessing import normalize\n",
        "from tqdm import tqdm"
      ],
      "metadata": {
        "id": "gBMGdRd9xvuE"
      },
      "execution_count": null,
      "outputs": []
    },
    {
      "cell_type": "code",
      "source": [
        "from sklearn.metrics.pairwise import cosine_similarity"
      ],
      "metadata": {
        "id": "6oskcUEgyFQf"
      },
      "execution_count": null,
      "outputs": []
    },
    {
      "cell_type": "code",
      "source": [
        "df_cleaned = pd.read_csv(\"/content/cleaned_book_details (2).csv\")"
      ],
      "metadata": {
        "id": "65GHPv0ZybrO"
      },
      "execution_count": null,
      "outputs": []
    },
    {
      "cell_type": "code",
      "source": [
        "def count_tokens(text, model_name=\"allenai/longformer-base-4096\"):\n",
        "  tokenizer = AutoTokenizer.from_pretrained(model_name)\n",
        "  tokens = tokenizer(text, truncation=False, add_special_tokens=True)\n",
        "  return len(tokens[\"input_ids\"])\n",
        "\n",
        "text = df_cleaned[\"plot\"][2]\n",
        "token_count = count_tokens(text)\n",
        "print(f\"Token count: {token_count}\")"
      ],
      "metadata": {
        "id": "zhDntgl1xt93",
        "colab": {
          "base_uri": "https://localhost:8080/"
        },
        "outputId": "62f54523-e930-4e5d-d53b-26ec81292aa4"
      },
      "execution_count": null,
      "outputs": [
        {
          "output_type": "stream",
          "name": "stdout",
          "text": [
            "Token count: 231\n"
          ]
        }
      ]
    },
    {
      "cell_type": "code",
      "source": [
        "model_name = \"allenai/longformer-base-4096\"\n",
        "tokenizer = AutoTokenizer.from_pretrained(model_name)\n",
        "model = AutoModel.from_pretrained(model_name)"
      ],
      "metadata": {
        "id": "KVO6M6Yvxx3L"
      },
      "execution_count": null,
      "outputs": []
    },
    {
      "cell_type": "code",
      "source": [
        "device = torch.device(\"cuda\" if torch.cuda.is_available() else \"cpu\")\n",
        "model.to(device)"
      ],
      "metadata": {
        "id": "Na_g4f7rxzuW",
        "colab": {
          "base_uri": "https://localhost:8080/"
        },
        "outputId": "2eb516a4-3bdb-421d-89ff-7ea148608683"
      },
      "execution_count": null,
      "outputs": [
        {
          "output_type": "execute_result",
          "data": {
            "text/plain": [
              "LongformerModel(\n",
              "  (embeddings): LongformerEmbeddings(\n",
              "    (word_embeddings): Embedding(50265, 768, padding_idx=1)\n",
              "    (token_type_embeddings): Embedding(1, 768)\n",
              "    (LayerNorm): LayerNorm((768,), eps=1e-05, elementwise_affine=True)\n",
              "    (dropout): Dropout(p=0.1, inplace=False)\n",
              "    (position_embeddings): Embedding(4098, 768, padding_idx=1)\n",
              "  )\n",
              "  (encoder): LongformerEncoder(\n",
              "    (layer): ModuleList(\n",
              "      (0-11): 12 x LongformerLayer(\n",
              "        (attention): LongformerAttention(\n",
              "          (self): LongformerSelfAttention(\n",
              "            (query): Linear(in_features=768, out_features=768, bias=True)\n",
              "            (key): Linear(in_features=768, out_features=768, bias=True)\n",
              "            (value): Linear(in_features=768, out_features=768, bias=True)\n",
              "            (query_global): Linear(in_features=768, out_features=768, bias=True)\n",
              "            (key_global): Linear(in_features=768, out_features=768, bias=True)\n",
              "            (value_global): Linear(in_features=768, out_features=768, bias=True)\n",
              "          )\n",
              "          (output): LongformerSelfOutput(\n",
              "            (dense): Linear(in_features=768, out_features=768, bias=True)\n",
              "            (LayerNorm): LayerNorm((768,), eps=1e-05, elementwise_affine=True)\n",
              "            (dropout): Dropout(p=0.1, inplace=False)\n",
              "          )\n",
              "        )\n",
              "        (intermediate): LongformerIntermediate(\n",
              "          (dense): Linear(in_features=768, out_features=3072, bias=True)\n",
              "          (intermediate_act_fn): GELUActivation()\n",
              "        )\n",
              "        (output): LongformerOutput(\n",
              "          (dense): Linear(in_features=3072, out_features=768, bias=True)\n",
              "          (LayerNorm): LayerNorm((768,), eps=1e-05, elementwise_affine=True)\n",
              "          (dropout): Dropout(p=0.1, inplace=False)\n",
              "        )\n",
              "      )\n",
              "    )\n",
              "  )\n",
              "  (pooler): LongformerPooler(\n",
              "    (dense): Linear(in_features=768, out_features=768, bias=True)\n",
              "    (activation): Tanh()\n",
              "  )\n",
              ")"
            ]
          },
          "metadata": {},
          "execution_count": 5
        }
      ]
    },
    {
      "cell_type": "code",
      "source": [
        "tqdm.pandas()"
      ],
      "metadata": {
        "id": "L51H3NAdx1Zb"
      },
      "execution_count": null,
      "outputs": []
    },
    {
      "cell_type": "code",
      "source": [
        "def get_batch_embeddings(text_list, batch_size=8):\n",
        "  embeddings = [None] * len(text_list)\n",
        "  valid_indices = [i for i, text in enumerate(text_list) if pd.notna(text) and text != \"\"]\n",
        "  for i in tqdm(range(0, len(valid_indices), batch_size), desc=\"Generating Embeddings in Batches\"):\n",
        "    batch_idx = valid_indices[i:i+batch_size]\n",
        "    batch_texts = [text_list[j] for j in batch_idx]\n",
        "\n",
        "    inputs = tokenizer(batch_texts, return_tensors=\"pt\", padding=True, truncation=True, max_length=4096)\n",
        "    inputs = {key: value.to(device) for key, value in inputs.items()}\n",
        "\n",
        "    with torch.no_grad():\n",
        "      outputs = model(**inputs)\n",
        "\n",
        "    batch_embeddings = outputs.last_hidden_state[:, 0, :].cpu().numpy()\n",
        "\n",
        "    for j, emb in zip(batch_idx, batch_embeddings):\n",
        "      embeddings[j] = emb\n",
        "\n",
        "  return embeddings"
      ],
      "metadata": {
        "id": "Hb4WuDL_x3NP"
      },
      "execution_count": null,
      "outputs": []
    },
    {
      "cell_type": "code",
      "source": [
        "df_cleaned[\"plot_embedding\"] = get_batch_embeddings(df_cleaned[\"plot\"].tolist(), batch_size=8)\n",
        "df_cleaned[\"description_embedding\"] = get_batch_embeddings(df_cleaned[\"description\"].tolist(), batch_size=8)"
      ],
      "metadata": {
        "id": "ReNps1CRx5aK"
      },
      "execution_count": null,
      "outputs": []
    },
    {
      "cell_type": "code",
      "source": [
        "def normalize_embedding(embedding):\n",
        "  if embedding is None:\n",
        "    return None\n",
        "  return normalize(embedding.reshape(1, -1))[0]"
      ],
      "metadata": {
        "id": "wnEcgs7Kx_ux"
      },
      "execution_count": null,
      "outputs": []
    },
    {
      "cell_type": "code",
      "source": [
        "df_cleaned[\"plot_embedding\"] = df_cleaned[\"plot_embedding\"].progress_apply(normalize_embedding)\n",
        "df_cleaned[\"description_embedding\"] = df_cleaned[\"description_embedding\"].progress_apply(normalize_embedding)"
      ],
      "metadata": {
        "id": "svQ67H1-yAah"
      },
      "execution_count": null,
      "outputs": []
    },
    {
      "cell_type": "code",
      "source": [
        "df_cleaned = pd.read_csv('/content/embeddings_longformer.csv')\n",
        "\n",
        "def parse_numpy_vector(s):\n",
        "    if isinstance(s, str):\n",
        "        return np.fromstring(s.strip(\"[]\"), sep=' ')\n",
        "    else:\n",
        "        return None\n",
        "\n",
        "df_cleaned['plot_embedding'] = df_cleaned['plot_embedding'].apply(parse_numpy_vector)\n",
        "df_cleaned['description_embedding'] = df_cleaned['description_embedding'].apply(parse_numpy_vector)\n",
        "\n",
        "df_cleaned.head()"
      ],
      "metadata": {
        "colab": {
          "base_uri": "https://localhost:8080/",
          "height": 521
        },
        "id": "GowAxTWu9t7s",
        "outputId": "e8784617-7c93-488e-d195-feca9463f57a"
      },
      "execution_count": null,
      "outputs": [
        {
          "output_type": "execute_result",
          "data": {
            "text/plain": [
              "                                    book_name                author  \\\n",
              "0                      The 12.30 from Croydon  Freeman Wills Crofts   \n",
              "1  The Final Unfinished Voyage of Jack Aubrey       Patrick O'Brian   \n",
              "2                           30 Days in Sydney           Peter Carey   \n",
              "3                       The Thirty-Nine Steps           John Buchan   \n",
              "4                                 334 (novel)       Thomas M. Disch   \n",
              "\n",
              "           year_of_publishing  \\\n",
              "0                        1934   \n",
              "1                        2004   \n",
              "2  July 15, 2010 (2010-07-15)   \n",
              "3                     1915[1]   \n",
              "4      1972 (MacGibbon & Kee)   \n",
              "\n",
              "                                                plot  \\\n",
              "0  Set in Yorkshire and London in 1933, The 12.30...   \n",
              "1  The story begins with Surprise in the Strait o...   \n",
              "2  The book takes the form of an impressionistic,...   \n",
              "3  The story's narrator, Richard Hannay, arrives ...   \n",
              "4  The future in 334 has brought few technologica...   \n",
              "\n",
              "                        genre  \\\n",
              "0                     Mystery   \n",
              "1            Historical novel   \n",
              "2                         NaN   \n",
              "3             Adventure novel   \n",
              "4  Dystopian, science fiction   \n",
              "\n",
              "                                         description  \\\n",
              "0  The 12.30 from Croydon (U.S. title: Wilful and...   \n",
              "1  The Final Unfinished Voyage of Jack Aubrey is ...   \n",
              "2  30 Days in Sydney is a book written by Austral...   \n",
              "3  The Thirty-Nine Steps is a 1915 adventure nove...   \n",
              "4  334 is a 1972 dystopian science fiction novel ...   \n",
              "\n",
              "                   page_number  \\\n",
              "0                          NaN   \n",
              "1  144 first edition, hardback   \n",
              "2                          256   \n",
              "3                       253[1]   \n",
              "4                          201   \n",
              "\n",
              "                                      plot_embedding  \\\n",
              "0  [-0.00774844224, 0.00612177933, 0.0050468822, ...   \n",
              "1  [-0.00862098299, 0.00364552019, 0.00393931149,...   \n",
              "2  [-0.00958774984, 0.00574548915, 0.00351350172,...   \n",
              "3  [-0.0070822956, 0.00532044983, 0.00147258863, ...   \n",
              "4  [-0.00685231388, 0.00810605474, 0.00211672275,...   \n",
              "\n",
              "                               description_embedding  \n",
              "0  [-0.00506153377, 0.00736133289, 0.000629157876...  \n",
              "1  [-0.00825847313, 0.00424632337, 0.0033255436, ...  \n",
              "2  [-0.00680910842, 0.00729448535, 0.000411202083...  \n",
              "3  [-0.00632881746, 0.00685635116, 0.0024315773, ...  \n",
              "4  [-0.00400138833, 0.0059737158, 0.00270546763, ...  "
            ],
            "text/html": [
              "\n",
              "  <div id=\"df-1656d8bf-3848-444c-bda1-edfa69d769b6\" class=\"colab-df-container\">\n",
              "    <div>\n",
              "<style scoped>\n",
              "    .dataframe tbody tr th:only-of-type {\n",
              "        vertical-align: middle;\n",
              "    }\n",
              "\n",
              "    .dataframe tbody tr th {\n",
              "        vertical-align: top;\n",
              "    }\n",
              "\n",
              "    .dataframe thead th {\n",
              "        text-align: right;\n",
              "    }\n",
              "</style>\n",
              "<table border=\"1\" class=\"dataframe\">\n",
              "  <thead>\n",
              "    <tr style=\"text-align: right;\">\n",
              "      <th></th>\n",
              "      <th>book_name</th>\n",
              "      <th>author</th>\n",
              "      <th>year_of_publishing</th>\n",
              "      <th>plot</th>\n",
              "      <th>genre</th>\n",
              "      <th>description</th>\n",
              "      <th>page_number</th>\n",
              "      <th>plot_embedding</th>\n",
              "      <th>description_embedding</th>\n",
              "    </tr>\n",
              "  </thead>\n",
              "  <tbody>\n",
              "    <tr>\n",
              "      <th>0</th>\n",
              "      <td>The 12.30 from Croydon</td>\n",
              "      <td>Freeman Wills Crofts</td>\n",
              "      <td>1934</td>\n",
              "      <td>Set in Yorkshire and London in 1933, The 12.30...</td>\n",
              "      <td>Mystery</td>\n",
              "      <td>The 12.30 from Croydon (U.S. title: Wilful and...</td>\n",
              "      <td>NaN</td>\n",
              "      <td>[-0.00774844224, 0.00612177933, 0.0050468822, ...</td>\n",
              "      <td>[-0.00506153377, 0.00736133289, 0.000629157876...</td>\n",
              "    </tr>\n",
              "    <tr>\n",
              "      <th>1</th>\n",
              "      <td>The Final Unfinished Voyage of Jack Aubrey</td>\n",
              "      <td>Patrick O'Brian</td>\n",
              "      <td>2004</td>\n",
              "      <td>The story begins with Surprise in the Strait o...</td>\n",
              "      <td>Historical novel</td>\n",
              "      <td>The Final Unfinished Voyage of Jack Aubrey is ...</td>\n",
              "      <td>144 first edition, hardback</td>\n",
              "      <td>[-0.00862098299, 0.00364552019, 0.00393931149,...</td>\n",
              "      <td>[-0.00825847313, 0.00424632337, 0.0033255436, ...</td>\n",
              "    </tr>\n",
              "    <tr>\n",
              "      <th>2</th>\n",
              "      <td>30 Days in Sydney</td>\n",
              "      <td>Peter Carey</td>\n",
              "      <td>July 15, 2010 (2010-07-15)</td>\n",
              "      <td>The book takes the form of an impressionistic,...</td>\n",
              "      <td>NaN</td>\n",
              "      <td>30 Days in Sydney is a book written by Austral...</td>\n",
              "      <td>256</td>\n",
              "      <td>[-0.00958774984, 0.00574548915, 0.00351350172,...</td>\n",
              "      <td>[-0.00680910842, 0.00729448535, 0.000411202083...</td>\n",
              "    </tr>\n",
              "    <tr>\n",
              "      <th>3</th>\n",
              "      <td>The Thirty-Nine Steps</td>\n",
              "      <td>John Buchan</td>\n",
              "      <td>1915[1]</td>\n",
              "      <td>The story's narrator, Richard Hannay, arrives ...</td>\n",
              "      <td>Adventure novel</td>\n",
              "      <td>The Thirty-Nine Steps is a 1915 adventure nove...</td>\n",
              "      <td>253[1]</td>\n",
              "      <td>[-0.0070822956, 0.00532044983, 0.00147258863, ...</td>\n",
              "      <td>[-0.00632881746, 0.00685635116, 0.0024315773, ...</td>\n",
              "    </tr>\n",
              "    <tr>\n",
              "      <th>4</th>\n",
              "      <td>334 (novel)</td>\n",
              "      <td>Thomas M. Disch</td>\n",
              "      <td>1972 (MacGibbon &amp; Kee)</td>\n",
              "      <td>The future in 334 has brought few technologica...</td>\n",
              "      <td>Dystopian, science fiction</td>\n",
              "      <td>334 is a 1972 dystopian science fiction novel ...</td>\n",
              "      <td>201</td>\n",
              "      <td>[-0.00685231388, 0.00810605474, 0.00211672275,...</td>\n",
              "      <td>[-0.00400138833, 0.0059737158, 0.00270546763, ...</td>\n",
              "    </tr>\n",
              "  </tbody>\n",
              "</table>\n",
              "</div>\n",
              "    <div class=\"colab-df-buttons\">\n",
              "\n",
              "  <div class=\"colab-df-container\">\n",
              "    <button class=\"colab-df-convert\" onclick=\"convertToInteractive('df-1656d8bf-3848-444c-bda1-edfa69d769b6')\"\n",
              "            title=\"Convert this dataframe to an interactive table.\"\n",
              "            style=\"display:none;\">\n",
              "\n",
              "  <svg xmlns=\"http://www.w3.org/2000/svg\" height=\"24px\" viewBox=\"0 -960 960 960\">\n",
              "    <path d=\"M120-120v-720h720v720H120Zm60-500h600v-160H180v160Zm220 220h160v-160H400v160Zm0 220h160v-160H400v160ZM180-400h160v-160H180v160Zm440 0h160v-160H620v160ZM180-180h160v-160H180v160Zm440 0h160v-160H620v160Z\"/>\n",
              "  </svg>\n",
              "    </button>\n",
              "\n",
              "  <style>\n",
              "    .colab-df-container {\n",
              "      display:flex;\n",
              "      gap: 12px;\n",
              "    }\n",
              "\n",
              "    .colab-df-convert {\n",
              "      background-color: #E8F0FE;\n",
              "      border: none;\n",
              "      border-radius: 50%;\n",
              "      cursor: pointer;\n",
              "      display: none;\n",
              "      fill: #1967D2;\n",
              "      height: 32px;\n",
              "      padding: 0 0 0 0;\n",
              "      width: 32px;\n",
              "    }\n",
              "\n",
              "    .colab-df-convert:hover {\n",
              "      background-color: #E2EBFA;\n",
              "      box-shadow: 0px 1px 2px rgba(60, 64, 67, 0.3), 0px 1px 3px 1px rgba(60, 64, 67, 0.15);\n",
              "      fill: #174EA6;\n",
              "    }\n",
              "\n",
              "    .colab-df-buttons div {\n",
              "      margin-bottom: 4px;\n",
              "    }\n",
              "\n",
              "    [theme=dark] .colab-df-convert {\n",
              "      background-color: #3B4455;\n",
              "      fill: #D2E3FC;\n",
              "    }\n",
              "\n",
              "    [theme=dark] .colab-df-convert:hover {\n",
              "      background-color: #434B5C;\n",
              "      box-shadow: 0px 1px 3px 1px rgba(0, 0, 0, 0.15);\n",
              "      filter: drop-shadow(0px 1px 2px rgba(0, 0, 0, 0.3));\n",
              "      fill: #FFFFFF;\n",
              "    }\n",
              "  </style>\n",
              "\n",
              "    <script>\n",
              "      const buttonEl =\n",
              "        document.querySelector('#df-1656d8bf-3848-444c-bda1-edfa69d769b6 button.colab-df-convert');\n",
              "      buttonEl.style.display =\n",
              "        google.colab.kernel.accessAllowed ? 'block' : 'none';\n",
              "\n",
              "      async function convertToInteractive(key) {\n",
              "        const element = document.querySelector('#df-1656d8bf-3848-444c-bda1-edfa69d769b6');\n",
              "        const dataTable =\n",
              "          await google.colab.kernel.invokeFunction('convertToInteractive',\n",
              "                                                    [key], {});\n",
              "        if (!dataTable) return;\n",
              "\n",
              "        const docLinkHtml = 'Like what you see? Visit the ' +\n",
              "          '<a target=\"_blank\" href=https://colab.research.google.com/notebooks/data_table.ipynb>data table notebook</a>'\n",
              "          + ' to learn more about interactive tables.';\n",
              "        element.innerHTML = '';\n",
              "        dataTable['output_type'] = 'display_data';\n",
              "        await google.colab.output.renderOutput(dataTable, element);\n",
              "        const docLink = document.createElement('div');\n",
              "        docLink.innerHTML = docLinkHtml;\n",
              "        element.appendChild(docLink);\n",
              "      }\n",
              "    </script>\n",
              "  </div>\n",
              "\n",
              "\n",
              "    <div id=\"df-2b3f7c16-77ea-4cb6-a74a-916c946c19f4\">\n",
              "      <button class=\"colab-df-quickchart\" onclick=\"quickchart('df-2b3f7c16-77ea-4cb6-a74a-916c946c19f4')\"\n",
              "                title=\"Suggest charts\"\n",
              "                style=\"display:none;\">\n",
              "\n",
              "<svg xmlns=\"http://www.w3.org/2000/svg\" height=\"24px\"viewBox=\"0 0 24 24\"\n",
              "     width=\"24px\">\n",
              "    <g>\n",
              "        <path d=\"M19 3H5c-1.1 0-2 .9-2 2v14c0 1.1.9 2 2 2h14c1.1 0 2-.9 2-2V5c0-1.1-.9-2-2-2zM9 17H7v-7h2v7zm4 0h-2V7h2v10zm4 0h-2v-4h2v4z\"/>\n",
              "    </g>\n",
              "</svg>\n",
              "      </button>\n",
              "\n",
              "<style>\n",
              "  .colab-df-quickchart {\n",
              "      --bg-color: #E8F0FE;\n",
              "      --fill-color: #1967D2;\n",
              "      --hover-bg-color: #E2EBFA;\n",
              "      --hover-fill-color: #174EA6;\n",
              "      --disabled-fill-color: #AAA;\n",
              "      --disabled-bg-color: #DDD;\n",
              "  }\n",
              "\n",
              "  [theme=dark] .colab-df-quickchart {\n",
              "      --bg-color: #3B4455;\n",
              "      --fill-color: #D2E3FC;\n",
              "      --hover-bg-color: #434B5C;\n",
              "      --hover-fill-color: #FFFFFF;\n",
              "      --disabled-bg-color: #3B4455;\n",
              "      --disabled-fill-color: #666;\n",
              "  }\n",
              "\n",
              "  .colab-df-quickchart {\n",
              "    background-color: var(--bg-color);\n",
              "    border: none;\n",
              "    border-radius: 50%;\n",
              "    cursor: pointer;\n",
              "    display: none;\n",
              "    fill: var(--fill-color);\n",
              "    height: 32px;\n",
              "    padding: 0;\n",
              "    width: 32px;\n",
              "  }\n",
              "\n",
              "  .colab-df-quickchart:hover {\n",
              "    background-color: var(--hover-bg-color);\n",
              "    box-shadow: 0 1px 2px rgba(60, 64, 67, 0.3), 0 1px 3px 1px rgba(60, 64, 67, 0.15);\n",
              "    fill: var(--button-hover-fill-color);\n",
              "  }\n",
              "\n",
              "  .colab-df-quickchart-complete:disabled,\n",
              "  .colab-df-quickchart-complete:disabled:hover {\n",
              "    background-color: var(--disabled-bg-color);\n",
              "    fill: var(--disabled-fill-color);\n",
              "    box-shadow: none;\n",
              "  }\n",
              "\n",
              "  .colab-df-spinner {\n",
              "    border: 2px solid var(--fill-color);\n",
              "    border-color: transparent;\n",
              "    border-bottom-color: var(--fill-color);\n",
              "    animation:\n",
              "      spin 1s steps(1) infinite;\n",
              "  }\n",
              "\n",
              "  @keyframes spin {\n",
              "    0% {\n",
              "      border-color: transparent;\n",
              "      border-bottom-color: var(--fill-color);\n",
              "      border-left-color: var(--fill-color);\n",
              "    }\n",
              "    20% {\n",
              "      border-color: transparent;\n",
              "      border-left-color: var(--fill-color);\n",
              "      border-top-color: var(--fill-color);\n",
              "    }\n",
              "    30% {\n",
              "      border-color: transparent;\n",
              "      border-left-color: var(--fill-color);\n",
              "      border-top-color: var(--fill-color);\n",
              "      border-right-color: var(--fill-color);\n",
              "    }\n",
              "    40% {\n",
              "      border-color: transparent;\n",
              "      border-right-color: var(--fill-color);\n",
              "      border-top-color: var(--fill-color);\n",
              "    }\n",
              "    60% {\n",
              "      border-color: transparent;\n",
              "      border-right-color: var(--fill-color);\n",
              "    }\n",
              "    80% {\n",
              "      border-color: transparent;\n",
              "      border-right-color: var(--fill-color);\n",
              "      border-bottom-color: var(--fill-color);\n",
              "    }\n",
              "    90% {\n",
              "      border-color: transparent;\n",
              "      border-bottom-color: var(--fill-color);\n",
              "    }\n",
              "  }\n",
              "</style>\n",
              "\n",
              "      <script>\n",
              "        async function quickchart(key) {\n",
              "          const quickchartButtonEl =\n",
              "            document.querySelector('#' + key + ' button');\n",
              "          quickchartButtonEl.disabled = true;  // To prevent multiple clicks.\n",
              "          quickchartButtonEl.classList.add('colab-df-spinner');\n",
              "          try {\n",
              "            const charts = await google.colab.kernel.invokeFunction(\n",
              "                'suggestCharts', [key], {});\n",
              "          } catch (error) {\n",
              "            console.error('Error during call to suggestCharts:', error);\n",
              "          }\n",
              "          quickchartButtonEl.classList.remove('colab-df-spinner');\n",
              "          quickchartButtonEl.classList.add('colab-df-quickchart-complete');\n",
              "        }\n",
              "        (() => {\n",
              "          let quickchartButtonEl =\n",
              "            document.querySelector('#df-2b3f7c16-77ea-4cb6-a74a-916c946c19f4 button');\n",
              "          quickchartButtonEl.style.display =\n",
              "            google.colab.kernel.accessAllowed ? 'block' : 'none';\n",
              "        })();\n",
              "      </script>\n",
              "    </div>\n",
              "    </div>\n",
              "  </div>\n"
            ],
            "application/vnd.google.colaboratory.intrinsic+json": {
              "type": "dataframe",
              "variable_name": "df_cleaned",
              "summary": "{\n  \"name\": \"df_cleaned\",\n  \"rows\": 2060,\n  \"fields\": [\n    {\n      \"column\": \"book_name\",\n      \"properties\": {\n        \"dtype\": \"string\",\n        \"num_unique_values\": 2030,\n        \"samples\": [\n          \"The Phantom Tollbooth\",\n          \"Lanark: A Life in Four Books\",\n          \"The Horse and His Boy\"\n        ],\n        \"semantic_type\": \"\",\n        \"description\": \"\"\n      }\n    },\n    {\n      \"column\": \"author\",\n      \"properties\": {\n        \"dtype\": \"category\",\n        \"num_unique_values\": 966,\n        \"samples\": [\n          \"Charles G. Finney\",\n          \"Richard Yates\",\n          \"James De Mille\"\n        ],\n        \"semantic_type\": \"\",\n        \"description\": \"\"\n      }\n    },\n    {\n      \"column\": \"year_of_publishing\",\n      \"properties\": {\n        \"dtype\": \"string\",\n        \"num_unique_values\": 1073,\n        \"samples\": [\n          \"October 1942\",\n          \"1925[1]\",\n          \"2011\"\n        ],\n        \"semantic_type\": \"\",\n        \"description\": \"\"\n      }\n    },\n    {\n      \"column\": \"plot\",\n      \"properties\": {\n        \"dtype\": \"string\",\n        \"num_unique_values\": 2030,\n        \"samples\": [\n          \"Milo is a boy bored by the world around him; every activity seems a waste of time.  He arrives home from another boring day at school to find a mysterious package. Among its contents are a small tollbooth and a map of \\\"the Lands Beyond\\\", illustrating the Kingdom of Wisdom (which will also guide the reader from its place on the endpapers of the book). Attached to the package is a note \\\"For Milo, who has plenty of time.\\\" Warned by an included sign to have his destination in mind, he decides without much thought to go to Dictionopolis, assuming this is a pretend game to be played on the floor of his room. He maneuvers through the tollbooth in his electric toy car and instantly finds himself driving on a road that is clearly not in his city apartment.\\n\\nMilo begins with Expectations, a pleasant place where he starts on Wisdom's road. In Expectations, he seeks directions from the Whether Man, who is full of endless talk. As Milo drives on, he daydreams and gets lost in the Doldrums, a colorless place where nothing ever happens. Milo soon joins the inhabitants, the Lethargarians, in killing time there, a pastime angrily interrupted by the arrival of Tock, a talking, oversized dog with an alarm clock on each side (a \\\"watchdog\\\"), who tells Milo that only by thinking can he get out of the Doldrums. Head abuzz with unaccustomed thoughts, Milo is soon back on his road, and Tock joins him on his journey through Wisdom.\\n\\nMilo and Tock travel to Dictionopolis, one of two capital cities of the divided Kingdom of Wisdom and home to King Azaz the Unabridged. They meet King Azaz's cabinet officials and visit the Word Market, where the words and letters are sold that empower the world. A fight between the Spelling Bee and the blustering Humbug breaks up the market, and Milo and Tock are arrested by the very short Officer Shrift. In prison, Milo meets Faintly Macabre, the Not-so-Wicked Which (not to be confused with Witch), long in charge of which words should be used in Wisdom. She tells him how the two rulers, King Azaz and his brother, the Mathemagician, had two adopted younger sisters, Rhyme and Reason, to whom everyone came to settle disputes. All lived in harmony until the rulers disagreed with the princesses' decision that letters (championed by Azaz) and numbers (by the Mathemagician) were equally important. They banished the princesses to the Castle in the Air and, since then, the land has had neither Rhyme nor Reason.\\n\\nMilo and Tock leave the dungeon. King Azaz hosts them at a banquet where the guests literally eat their words, served to them on plates. After the meal, King Azaz lets Milo and Tock talk themselves into a dangerous quest to rescue the princesses. Azaz flatters the Humbug into being their guide, and boy, dog and insect set off for the Mathemagician's capital of Digitopolis as they must gain his approval before they can begin their quest.\\n\\nAlong the way, they meet such characters as Alec Bings, a little boy suspended in the air who sees through things and who will grow down until he reaches the ground. He then meets the world's smallest giant, the world's biggest dwarf, the world's thinnest fat man, and the world's fattest thin man, who turn out to just be one regular man. Milo then loses time in substituting for Chroma the Great, a conductor whose orchestra creates the colors of the world.\\n\\nThey meet a twelve-sided creature called the Dodecahedron, who leads them to Digitopolis. There, they meet the Mathemagician, who is still angry at Azaz and who will not give his blessing to anything that his brother has approved. Milo maneuvers him into saying he will permit the quest if the boy can show the two have concurred on anything since they banished the princesses. To the number wizard's shock, Milo proves that the two have agreed to disagree, and the Mathemagician gives his reluctant consent.\\n\\nIn the Mountains of Ignorance, the journeyers contend with demons like the Terrible Trivium and the Gelatinous Giant. After overcoming obstacles and their own fears, they reach the Castle in the Air. Princesses Rhyme and Reason welcome Milo and agree to return to Wisdom. Unable to enter the castle, the demons cut it loose, letting it drift away, but Milo realizes Tock can carry them down because 'time flies'. The demons pursue, but the armies of Wisdom arrive and repel them. Rhyme and Reason heal the divisions in the old Kingdom of Wisdom, Azaz and the Mathemagician are reconciled, and all enjoy a three-day celebration.\\n\\nMilo says goodbye and drives back through the tollbooth. Suddenly he is back in his own room, and discovers he has been gone only an hour, though his journey seemed to take weeks. He awakens the next day with plans to return to the kingdom, but finds the tollbooth gone when he gets home from school. A note instead is there, \\\"For Milo, who now knows the way.\\\" The note states that the tollbooth is being sent to another child who needs help finding direction in life. Milo is somewhat disappointed but agrees and looks at a now-interesting world around him, concluding that even if he found a way back, he might not have time to go, for there is so much to do right where he is.\\n\\nArchitect Norton Juster was living in his hometown of Brooklyn, after three years in the Navy.[5] In June 1960, he gained a $5,000 grant from the Ford Foundation to write a children's book about cities.[6] Juster argued that the young baby boomers would soon have responsibility for the cities, and many lived in the suburbs and did not know them. In his proposal, he said he wanted \\\"to stimulate and heighten perception\\u00a0\\u2013 to help children notice and appreciate the visual world around them\\u00a0\\u2013 to help excite them and shape their interest in an environment they will eventually reshape.\\\"[7] Beginning with great enthusiasm, he ground to a halt with too many notes and too little progress. He took a weekend break with friends at Fire Island, and came back determined to put aside the cities book and seek inspiration in another writing project.[5]\\n\\nJuster's guilt over his lack of progress on the cities book had led him to write pieces of stories about a little boy named Milo,[9] which he began to develop into a book.\\nJuster quit his job so that he could work on the book.[10] His imagination fired by a boy who approached him on the street and with whom he discussed the nature of infinity, Juster wanted to finish the story about \\\"a boy who asked too many questions\\\" before returning to the book on cities.[11] Juster shared his house in Brooklyn Heights with cartoonist Jules Feiffer whose bedroom was immediately below, and who could hear him pacing in the night. Feiffer was surprised to learn that his friend's insomnia was not caused by the cities book, but by a book about a boy. Juster showed Feiffer the draft to date and, unbidden, the artist began sketching illustrations. Feiffer knew Judy Sheftel, who put deals together in the publishing trade and was his future bride. Sheftel got Jason Epstein, an innovative editor at Random House with a deep appreciation for children's literature, to agree to review the manuscript.[12] Some at Random House considered the book's vocabulary too difficult: at the time, educators advised against children's literature containing words the target audience did not already know, fearing the unfamiliar would discourage young learners.[5] Based on seven chapters of manuscript, plus a three-page outline of the rest of the story, Epstein bought the book.[13]\\n\\nSince Juster did the cooking for the housemates, if Feiffer wanted to eat, he had to do the drawings.[14] Feiffer quickly realized the book would require illustrations of the type and quality that John Tenniel had created for Lewis Carroll's Alice's Adventures in Wonderland and although a nationally known artist, doubted his competence to do the text justice.[15] Feiffer considers the double-spread illustration of demons late in the book to be a success and one of his favorites. It differs from his usual style (which would involve a white background), and instead uses Gustave Dor\\u00e9's drawings as an inspiration.[16]\\n\\nIt became a game, with Feiffer trying to draw things the way he wanted, and Juster trying to describe things that were impossible to sketch.[17] These included the Triple Demons of Compromise\\u2014one short and fat, one tall and thin, and the third exactly like the first two.[18] Feiffer got his revenge by depicting the author as the Whether Man, clad in a toga.[19]\\n\\nRepeated edits altered the protagonist's name (originally Tony), removed his parents entirely from the book, and deleted text attempting to describe how the tollbooth package had been delivered.  Milo's age was removed from the text\\u2014early drafts have him aged eight or nine\\u2014as Juster decided not to state it, lest potential readers decide they were too old to care.[20]\\n\\nSince no one has ever bothered to explain the importance of learning to Milo, he regards school as the biggest waste of time in his life.[21] Juster intended that the book speak to the importance of learning to love learning.[5] Teaching methods that might bore children, by memorization for example, are mocked in the book, as in the case of the Spelling Bee. Like the Bee, the Humbug's insult to his fellow insect goes over Milo's head, but possibly not the reader's: \\\"A slavish concern for the composition of words is the sign of a bankrupt intellect.\\\"[21][22] According to Mary Liston in her journal article on law in fantasy realms, \\\"The Phantom Tollbooth concerns the difference between education and wisdom and what processes are conducive to synthesizing both, so as to encourage an attitude of engagement, alertness, and responsibility within an increasingly autonomous individual.\\\"[23]\",\n          \"Lanark comprises four books, arranged in the order Three, One, Two, Four (there is also a Prologue before Book One, and an Epilogue four chapters before the end of the book).   In the Epilogue, the author explains this by saying that \\\"I want Lanark to be read in one order but eventually thought of in another\\\", and that the epilogue itself is \\\"too important\\\" to go at the end.[5]:\\u200a483\\u200a\\n\\nIn Book Three, a young man awakes alone in a train carriage. He has no memory of his past and picks his name from a strangely familiar photograph on the wall. He soon arrives in Unthank, a strange Glasgow-like  city in which there is no daylight and whose disappearing residents suffer from strange diseases, orifices growing on their limbs and body heat fading away. Lanark begins to associate with a group of twenty-somethings to whom he cannot fully relate and whose mores he cannot understand, and soon begins to suffer from dragonhide, a disease which turns his skin into scales as an external manifestation of his emotional repression. Lanark is eventually swallowed by a mouth in the earth, and awakes in the Institute, a sort of hospital which cures patients of their diseases but uses the hopeless cases for power and food. Upon learning this, Lanark is horrified and determines to leave.\\n\\nBooks One and Two constitute a realist Bildungsroman beginning in pre-war Glasgow, and tell the story of Duncan Thaw (\\\"based on myself, he was tougher and more honest\\\"), a difficult and precocious child born to impecunious and frustrated parents in the East End of Glasgow. The book follows Thaw's wartime evacuation, secondary education and his scholarship to the Glasgow School of Art, where his inability to form relationships with women and his obsessive artistic vision lead to his descent into madness and eventual suicide by drowning.\\n\\nBook Four sees Lanark begin a bizarre, dreamlike journey back to Unthank, which he finds on the point of total disintegration, wracked by political strife, avarice, paranoia and economic meltdown, all of which he is unable to prevent. In the course of the journey, during which he meets his author, he rapidly ages. He finally finds himself old, sitting in a hilltop cemetery as Unthank breaks down in an apocalypse of fire and flood, and, his time of death having been revealed to him, he ends the book calmly awaiting it.\\n\\nLanark could be viewed as Thaw in a personal Hell. (Thaw drowns in the sea; Lanark arrives in Unthank with the same belongings, and seashells and sand in his pockets.) The connection between the two narratives is ambiguous; Gray said that \\\"One is a highly exaggerated form of just about the everyday reality of the other\\\"[6] (for example, Thaw's eczema is mirrored by Lanark's skin disease 'dragonhide').  He also writes in the novel itself: \\\"The Thaw narrative shows a man dying because he is bad at loving. It is enclosed by [Lanark's] narrative which shows civilization collapsing for the same reason\\\"[5]:\\u200a484\\u200a and (spoken to Lanark) \\\"You are Thaw with the neurotic imagination trimmed off and built into the furniture of the world you occupy\\\".[5]:\\u200a493\\u200a He also writes: \\\"The plots of the Thaw and Lanark sections are independent of each other and cemented by typographical contrivances rather than formal necessity. A possible explanation is that the author thinks a heavy book will make a bigger splash than two light ones\\\".[5]:\\u200a493\\u200a\\n\\nOne of the most characteristically postmodern parts of the book is the Epilogue, in which Lanark meets the author in the guise of the character \\\"Nastler\\\". He makes the first two remarks about the book quoted above, and anticipates criticism of the work and of the Epilogue in particular, saying \\\"The critics will accuse me of self-indulgence, but I don't care\\\". An Index of Plagiarisms is printed in the margins of the discussion. For instance, Gray describes much of Lanark as an extended 'Difplag' (diffuse plagiarism) of Charles Kingsley's The Water Babies. Some of the supposed plagiarisms refer to non-existent chapters of the book.\\n\\nThe Unthank parts of the book may be considered as part of the \\\"social-commentary\\\" tradition of science fiction, and Lanark has often been compared with Nineteen Eighty-Four by George Orwell.[7]\\n\\nGray added an appendix to the 2001 edition of the novel, in which he included a brief biography and elaborated on some of the influences on and inspirations for the novel. He cited Kafka as a major influence on the atmosphere of the novel. He also referred to his own experiences in the media industry which he states is reflected in Lanark's numerous encounters in labyrinthine buildings with individuals talking in jargon. The Institute he describes as a combination of Wyndham Lewis's conception of Hell in Malign Fiesta along with three real-life structures: the London Underground, Stobhill Hospital in Glasgow and BBC Television Centre in London. More immediately evident inspiration can be seen in the cathedral and necropolis episodes in Unthank, whose proximity to an urban tangle of roads is mirrored in Glasgow's real-life Townhead area. Glasgow Cathedral is yards away from the Necropolis to the east and the M8 motorway (and unfinished Inner Ring Road) to the north and west. Gray said Glasgow Cathedral was the only location he purposefully visited to make notes about during the writing of the novel; all other locations he wrote about from memory.[8]\\n\\nGray began writing the novel as a student in 1954. Book One was written by 1963, but he was unsuccessful in getting it published.  The whole work was finished in 1976, typeset by the Kingsport Press in Kingsport, Tennessee, [9] and published in 1981 by the Scottish publisher Canongate Press. The novel was an immediate critical success.[10][11]\\n\\nAn adaptation of Lanark by Alastair Cording was staged by Glasgow's Tag Theatre Company at the Assembly Hall, Edinburgh, during the Edinburgh International Festival in August 1995.[12] An adaptation entitled Lanark: A Life in Three Acts, written by David Greig and directed by Graham Eatough, was produced and performed at the Edinburgh International Festival in 2015.[13][14]\\n\\nCraig, Cairns (1981), Going Down to Hell is Easy, review of Alasdair Gray's Lanark, in Murray, Glen (ed.), Cencrastus No. 6, Autumn 1981, pp. 19 - 21\",\n          \"Shasta is a boy who lives in southern Calormen with Arsheesh, an abusive fisherman, whom Shasta believes to be his father. A powerful nobleman demands hospitality one evening, and haggles with Arsheesh to buy Shasta as his slave. It emerges that Arsheesh is not Shasta's father, having found him in a washed-up boat as a baby. In the stable, Bree, the nobleman's stallion, astounds the boy by speaking. He tells Shasta that the nobleman is very cruel to his slaves, and suggests they both flee to his homeland of Narnia, from where he was captured as a foal. Shasta agrees, and they sneak away at night.\\n\\nAfter weeks of northwards travel, during which the two companions bond, a brief chase to escape lions leads to their meeting another pair of refugees: another Narnian Talking Horse, the mare Hwin, who like Bree desires to return home, and Aravis, a young noblewoman who wants to escape a political marriage to Ahoshta, the ugly Grand Vizier. Although Shasta and Aravis immediately dislike each other, the four decide to travel together. In Tashbaan, the capital of Calormen, a party of Narnians mistake Shasta for Corin, the prince of Archenland, a Narnian ally, who has gone missing. Taken from the others, Shasta overhears the Narnians planning to escape Calormen to prevent a forced marriage between Queen Susan and Rabadash, son of the Tisroc, the Calormen ruler. Shasta escapes when Corin returns, but not before learning of a hidden route through the desert.\\n\\nMeanwhile, Aravis is spotted by her friend Lasaraleen, who helps Aravis escape through the Tisroc's garden, although she cannot understand Aravis' motives. On the way, they overhear the Tisroc discussing the Narnians' escape with Rabadash and Ahoshta. The Tisroc gives Rabadash permission to raid Archenland and Narnia to kidnap Queen Susan while High King Peter is away battling giants in the north, but notes that he cannot openly support such a raid and will renounce Rabadash if he fails. The four fugitives reunite at a necropolis where Shasta has had supernatural dreams. Pooling their information, they set out across the desert along the hidden route to warn Archenland; they are again chased by a lion, which injures Aravis. \\n\\nA hermit tends to Aravis' wounds, while Shasta carries on, on foot. He finds Lune, King of Archenland, and warns him of the raiders. He is separated from Lune in thick fog and encounters an unseen presence, who claims to have been not only the lion who injured Aravis, but also the lion who caused the four to join forces, and even the one who guided Shasta's boat to Arsheesh. The presence disappears, and Shasta finds himself in Narnia. He again meets Corin, who is travelling southwards with the Narnian party (who escaped from Calormen successfully) to assist Archenland. The Narnians, led by King Edmund and Queen Lucy, arrive at the Archenland capital of Anvard, and defeat the Calormenes, who were unable to take the castle because of Shasta's warning. Rabadash is captured and most of his men are killed, including Bree's old master. In the aftermath, Aslan appears and turns Rabadash into a donkey after he refuses to accept defeat. His human form is restored when he returns to Tashbaan, but thereafter he is forbidden to travel more than ten miles from the city, on pain of permanent transformation. His reign as Tisroc is therefore very peaceful despite earning the nickname \\\"Rabadash the Ridiculous.\\\"\\n\\nLune realizes that Shasta is his son Cor, the long-lost identical twin of Prince Corin and the heir to the Archenland throne. Cor had been kidnapped as a baby in an attempt to thwart a prophecy which foretold that he would save Archenland from its greatest peril. He was lost at sea in the ensuing battle to rescue him, but Aslan made sure that the baby found his way to Arsheesh. Shasta's warning fulfilled the prophecy. Corin is delighted that Shasta is heir, as he did not want to be king. Aravis and Cor eventually marry and rule Archenland after Lune's death. Their son, Ram, becomes the most famous king of Archenland. Bree and Hwin found love separately after returning to Narnia and all four would reunite regularly.\\n\\nAfter meeting King Lune of Archenland and warning him of the impending Calormene invasion, Shasta becomes lost in a fog and separated from the Archenlanders. While walking in the fog, he senses a mysterious presence nearby.  Engaging in conversation with the unknown being, Shasta tells of his misfortunes, including twice being chased by lions. His companion, who turns out to be Aslan, responds as follows:\\n\\nThe incidents which Shasta perceived as misfortunes were orchestrated by Aslan, in his Divine Providence, for greater purposes.[6][7]\\n\\nBree and Shasta use the phrase \\\"Narnia and the North\\\" as their \\\"rallying cry\\\" as they make their escape from their life in Calormen. They are both motivated by a deep longing to find their way to their true homeland. In the setting of The Horse and His Boy, the reader finds a departure from the landscapes, culture, and people of the Narnian realms which have become familiar in the other books. The placement of the action in the realm of Calormen helps to convey a sense of \\\"unbelonging\\\" on the part of the characters and the reader, which reinforces the motif of longing for a true home.[8]\\n\\nThe association of Cor with horses, and his twin brother Corin with boxing, recalls the traditional associations of the Spartan twins Castor and Pollux of Greek mythology.[9]\\n\\nResearcher Ruth North has noted that the plot element of a sinful human being transformed into a donkey as a punishment and then restored to humanity as an act of Divine mercy is reminiscent of The Golden Ass by Apuleius, a classic of Latin literature.[10]\\n\\nBBC Radio 4 dramatised The Chronicles of Narnia, including The Horse and His Boy, in 1998. The dramatisation is entitled \\\"The Complete Chronicles of Narnia: The Classic BBC Radio 4 Full-Cast Dramatisations\\\".[11]\\n\\nFocus on the Family produced an audio dramatisation of The Horse and His Boy in 2000.[12]\\n\\nWalden Media made movie adaptations of The Lion, the Witch and the Wardrobe, Prince Caspian and The Voyage of the Dawn Treader. Walden Media obtained an option to make The Chronicles of Narnia: The Horse and His Boy in the future.[13]\\n\\nIn 2022, The Logos Theater, of Taylors, South Carolina, created a stage adaptation of The Horse and His Boy, with later performances at the Museum of the Bible[14] and Ark Encounter.[15]\"\n        ],\n        \"semantic_type\": \"\",\n        \"description\": \"\"\n      }\n    },\n    {\n      \"column\": \"genre\",\n      \"properties\": {\n        \"dtype\": \"category\",\n        \"num_unique_values\": 593,\n        \"samples\": [\n          \"War novel\",\n          \"Historical novel, speculative fiction\",\n          \"Dystopian[2]\"\n        ],\n        \"semantic_type\": \"\",\n        \"description\": \"\"\n      }\n    },\n    {\n      \"column\": \"description\",\n      \"properties\": {\n        \"dtype\": \"string\",\n        \"num_unique_values\": 2006,\n        \"samples\": [\n          \"The Toy Collector is a novel written by James Gunn, published by Bloomsbury Publishing in 2000. It is the story of a hospital orderly who steals drugs from the hospital which he sells to help keep his toy collection habit alive. Although the work is fictional, the name of the protagonist is James Gunn.\",\n          \"The Eagle Has Landed is a book by British writer Jack Higgins, set during World War II and first published in 1975.[1] It was quickly adapted into a British film of the same name, released in 1976.\",\n          \"Crossings is a 1982 novel that was written by American Danielle Steel. It is Steel's 13th novel. It was adapted into a six-part miniseries of the same name in 1986.[1]\"\n        ],\n        \"semantic_type\": \"\",\n        \"description\": \"\"\n      }\n    },\n    {\n      \"column\": \"page_number\",\n      \"properties\": {\n        \"dtype\": \"string\",\n        \"num_unique_values\": 1087,\n        \"samples\": [\n          \"69 pp\",\n          \"320 pp\",\n          \"186 pp\"\n        ],\n        \"semantic_type\": \"\",\n        \"description\": \"\"\n      }\n    },\n    {\n      \"column\": \"plot_embedding\",\n      \"properties\": {\n        \"dtype\": \"object\",\n        \"semantic_type\": \"\",\n        \"description\": \"\"\n      }\n    },\n    {\n      \"column\": \"description_embedding\",\n      \"properties\": {\n        \"dtype\": \"object\",\n        \"semantic_type\": \"\",\n        \"description\": \"\"\n      }\n    }\n  ]\n}"
            }
          },
          "metadata": {},
          "execution_count": 16
        }
      ]
    },
    {
      "cell_type": "code",
      "source": [
        "df_cleaned.to_pickle(\"embeddings_longformer.pkl\")"
      ],
      "metadata": {
        "id": "gMNHx6F-yEnl"
      },
      "execution_count": null,
      "outputs": []
    },
    {
      "cell_type": "code",
      "source": [
        "def get_single_embedding(text):\n",
        "  if pd.isna(text) or text is None or text == \"\":\n",
        "    return None\n",
        "\n",
        "  inputs = tokenizer(text, return_tensors=\"pt\", truncation=True, padding=True, max_length=4096)\n",
        "  inputs = {key: value.to(device) for key, value in inputs.items()}\n",
        "\n",
        "  with torch.no_grad():\n",
        "    outputs = model(**inputs)\n",
        "\n",
        "  return outputs.last_hidden_state[:, 0, :].cpu().numpy().reshape(1, -1)\n"
      ],
      "metadata": {
        "id": "FARiRcl8yGtQ"
      },
      "execution_count": null,
      "outputs": []
    },
    {
      "cell_type": "code",
      "source": [
        "df_cleaned = pd.read_csv(\"/content/embeddings_longformer.csv\")"
      ],
      "metadata": {
        "id": "nPCGUVnRlk2q"
      },
      "execution_count": null,
      "outputs": []
    },
    {
      "cell_type": "code",
      "source": [
        "df_cleaned.head()"
      ],
      "metadata": {
        "colab": {
          "base_uri": "https://localhost:8080/",
          "height": 521
        },
        "id": "HY8MszJinHdc",
        "outputId": "75323afe-4b81-4ca1-ca40-8e90f752fbe6"
      },
      "execution_count": null,
      "outputs": [
        {
          "output_type": "execute_result",
          "data": {
            "text/plain": [
              "                                    book_name                author  \\\n",
              "0                      The 12.30 from Croydon  Freeman Wills Crofts   \n",
              "1  The Final Unfinished Voyage of Jack Aubrey       Patrick O'Brian   \n",
              "2                           30 Days in Sydney           Peter Carey   \n",
              "3                       The Thirty-Nine Steps           John Buchan   \n",
              "4                                 334 (novel)       Thomas M. Disch   \n",
              "\n",
              "           year_of_publishing  \\\n",
              "0                        1934   \n",
              "1                        2004   \n",
              "2  July 15, 2010 (2010-07-15)   \n",
              "3                     1915[1]   \n",
              "4      1972 (MacGibbon & Kee)   \n",
              "\n",
              "                                                plot  \\\n",
              "0  Set in Yorkshire and London in 1933, The 12.30...   \n",
              "1  The story begins with Surprise in the Strait o...   \n",
              "2  The book takes the form of an impressionistic,...   \n",
              "3  The story's narrator, Richard Hannay, arrives ...   \n",
              "4  The future in 334 has brought few technologica...   \n",
              "\n",
              "                        genre  \\\n",
              "0                     Mystery   \n",
              "1            Historical novel   \n",
              "2                         NaN   \n",
              "3             Adventure novel   \n",
              "4  Dystopian, science fiction   \n",
              "\n",
              "                                         description  \\\n",
              "0  The 12.30 from Croydon (U.S. title: Wilful and...   \n",
              "1  The Final Unfinished Voyage of Jack Aubrey is ...   \n",
              "2  30 Days in Sydney is a book written by Austral...   \n",
              "3  The Thirty-Nine Steps is a 1915 adventure nove...   \n",
              "4  334 is a 1972 dystopian science fiction novel ...   \n",
              "\n",
              "                   page_number  \\\n",
              "0                          NaN   \n",
              "1  144 first edition, hardback   \n",
              "2                          256   \n",
              "3                       253[1]   \n",
              "4                          201   \n",
              "\n",
              "                                      plot_embedding  \\\n",
              "0  [-7.74844224e-03  6.12177933e-03  5.04688220e-...   \n",
              "1  [-8.62098299e-03  3.64552019e-03  3.93931149e-...   \n",
              "2  [-9.58774984e-03  5.74548915e-03  3.51350172e-...   \n",
              "3  [-7.08229560e-03  5.32044983e-03  1.47258863e-...   \n",
              "4  [-6.85231388e-03  8.10605474e-03  2.11672275e-...   \n",
              "\n",
              "                               description_embedding  \n",
              "0  [-5.06153377e-03  7.36133289e-03  6.29157876e-...  \n",
              "1  [-8.25847313e-03  4.24632337e-03  3.32554360e-...  \n",
              "2  [-6.80910842e-03  7.29448535e-03  4.11202083e-...  \n",
              "3  [-6.32881746e-03  6.85635116e-03  2.43157730e-...  \n",
              "4  [-4.00138833e-03  5.97371580e-03  2.70546763e-...  "
            ],
            "text/html": [
              "\n",
              "  <div id=\"df-23839e91-a0c9-4ac2-aa1b-9cae6db5219d\" class=\"colab-df-container\">\n",
              "    <div>\n",
              "<style scoped>\n",
              "    .dataframe tbody tr th:only-of-type {\n",
              "        vertical-align: middle;\n",
              "    }\n",
              "\n",
              "    .dataframe tbody tr th {\n",
              "        vertical-align: top;\n",
              "    }\n",
              "\n",
              "    .dataframe thead th {\n",
              "        text-align: right;\n",
              "    }\n",
              "</style>\n",
              "<table border=\"1\" class=\"dataframe\">\n",
              "  <thead>\n",
              "    <tr style=\"text-align: right;\">\n",
              "      <th></th>\n",
              "      <th>book_name</th>\n",
              "      <th>author</th>\n",
              "      <th>year_of_publishing</th>\n",
              "      <th>plot</th>\n",
              "      <th>genre</th>\n",
              "      <th>description</th>\n",
              "      <th>page_number</th>\n",
              "      <th>plot_embedding</th>\n",
              "      <th>description_embedding</th>\n",
              "    </tr>\n",
              "  </thead>\n",
              "  <tbody>\n",
              "    <tr>\n",
              "      <th>0</th>\n",
              "      <td>The 12.30 from Croydon</td>\n",
              "      <td>Freeman Wills Crofts</td>\n",
              "      <td>1934</td>\n",
              "      <td>Set in Yorkshire and London in 1933, The 12.30...</td>\n",
              "      <td>Mystery</td>\n",
              "      <td>The 12.30 from Croydon (U.S. title: Wilful and...</td>\n",
              "      <td>NaN</td>\n",
              "      <td>[-7.74844224e-03  6.12177933e-03  5.04688220e-...</td>\n",
              "      <td>[-5.06153377e-03  7.36133289e-03  6.29157876e-...</td>\n",
              "    </tr>\n",
              "    <tr>\n",
              "      <th>1</th>\n",
              "      <td>The Final Unfinished Voyage of Jack Aubrey</td>\n",
              "      <td>Patrick O'Brian</td>\n",
              "      <td>2004</td>\n",
              "      <td>The story begins with Surprise in the Strait o...</td>\n",
              "      <td>Historical novel</td>\n",
              "      <td>The Final Unfinished Voyage of Jack Aubrey is ...</td>\n",
              "      <td>144 first edition, hardback</td>\n",
              "      <td>[-8.62098299e-03  3.64552019e-03  3.93931149e-...</td>\n",
              "      <td>[-8.25847313e-03  4.24632337e-03  3.32554360e-...</td>\n",
              "    </tr>\n",
              "    <tr>\n",
              "      <th>2</th>\n",
              "      <td>30 Days in Sydney</td>\n",
              "      <td>Peter Carey</td>\n",
              "      <td>July 15, 2010 (2010-07-15)</td>\n",
              "      <td>The book takes the form of an impressionistic,...</td>\n",
              "      <td>NaN</td>\n",
              "      <td>30 Days in Sydney is a book written by Austral...</td>\n",
              "      <td>256</td>\n",
              "      <td>[-9.58774984e-03  5.74548915e-03  3.51350172e-...</td>\n",
              "      <td>[-6.80910842e-03  7.29448535e-03  4.11202083e-...</td>\n",
              "    </tr>\n",
              "    <tr>\n",
              "      <th>3</th>\n",
              "      <td>The Thirty-Nine Steps</td>\n",
              "      <td>John Buchan</td>\n",
              "      <td>1915[1]</td>\n",
              "      <td>The story's narrator, Richard Hannay, arrives ...</td>\n",
              "      <td>Adventure novel</td>\n",
              "      <td>The Thirty-Nine Steps is a 1915 adventure nove...</td>\n",
              "      <td>253[1]</td>\n",
              "      <td>[-7.08229560e-03  5.32044983e-03  1.47258863e-...</td>\n",
              "      <td>[-6.32881746e-03  6.85635116e-03  2.43157730e-...</td>\n",
              "    </tr>\n",
              "    <tr>\n",
              "      <th>4</th>\n",
              "      <td>334 (novel)</td>\n",
              "      <td>Thomas M. Disch</td>\n",
              "      <td>1972 (MacGibbon &amp; Kee)</td>\n",
              "      <td>The future in 334 has brought few technologica...</td>\n",
              "      <td>Dystopian, science fiction</td>\n",
              "      <td>334 is a 1972 dystopian science fiction novel ...</td>\n",
              "      <td>201</td>\n",
              "      <td>[-6.85231388e-03  8.10605474e-03  2.11672275e-...</td>\n",
              "      <td>[-4.00138833e-03  5.97371580e-03  2.70546763e-...</td>\n",
              "    </tr>\n",
              "  </tbody>\n",
              "</table>\n",
              "</div>\n",
              "    <div class=\"colab-df-buttons\">\n",
              "\n",
              "  <div class=\"colab-df-container\">\n",
              "    <button class=\"colab-df-convert\" onclick=\"convertToInteractive('df-23839e91-a0c9-4ac2-aa1b-9cae6db5219d')\"\n",
              "            title=\"Convert this dataframe to an interactive table.\"\n",
              "            style=\"display:none;\">\n",
              "\n",
              "  <svg xmlns=\"http://www.w3.org/2000/svg\" height=\"24px\" viewBox=\"0 -960 960 960\">\n",
              "    <path d=\"M120-120v-720h720v720H120Zm60-500h600v-160H180v160Zm220 220h160v-160H400v160Zm0 220h160v-160H400v160ZM180-400h160v-160H180v160Zm440 0h160v-160H620v160ZM180-180h160v-160H180v160Zm440 0h160v-160H620v160Z\"/>\n",
              "  </svg>\n",
              "    </button>\n",
              "\n",
              "  <style>\n",
              "    .colab-df-container {\n",
              "      display:flex;\n",
              "      gap: 12px;\n",
              "    }\n",
              "\n",
              "    .colab-df-convert {\n",
              "      background-color: #E8F0FE;\n",
              "      border: none;\n",
              "      border-radius: 50%;\n",
              "      cursor: pointer;\n",
              "      display: none;\n",
              "      fill: #1967D2;\n",
              "      height: 32px;\n",
              "      padding: 0 0 0 0;\n",
              "      width: 32px;\n",
              "    }\n",
              "\n",
              "    .colab-df-convert:hover {\n",
              "      background-color: #E2EBFA;\n",
              "      box-shadow: 0px 1px 2px rgba(60, 64, 67, 0.3), 0px 1px 3px 1px rgba(60, 64, 67, 0.15);\n",
              "      fill: #174EA6;\n",
              "    }\n",
              "\n",
              "    .colab-df-buttons div {\n",
              "      margin-bottom: 4px;\n",
              "    }\n",
              "\n",
              "    [theme=dark] .colab-df-convert {\n",
              "      background-color: #3B4455;\n",
              "      fill: #D2E3FC;\n",
              "    }\n",
              "\n",
              "    [theme=dark] .colab-df-convert:hover {\n",
              "      background-color: #434B5C;\n",
              "      box-shadow: 0px 1px 3px 1px rgba(0, 0, 0, 0.15);\n",
              "      filter: drop-shadow(0px 1px 2px rgba(0, 0, 0, 0.3));\n",
              "      fill: #FFFFFF;\n",
              "    }\n",
              "  </style>\n",
              "\n",
              "    <script>\n",
              "      const buttonEl =\n",
              "        document.querySelector('#df-23839e91-a0c9-4ac2-aa1b-9cae6db5219d button.colab-df-convert');\n",
              "      buttonEl.style.display =\n",
              "        google.colab.kernel.accessAllowed ? 'block' : 'none';\n",
              "\n",
              "      async function convertToInteractive(key) {\n",
              "        const element = document.querySelector('#df-23839e91-a0c9-4ac2-aa1b-9cae6db5219d');\n",
              "        const dataTable =\n",
              "          await google.colab.kernel.invokeFunction('convertToInteractive',\n",
              "                                                    [key], {});\n",
              "        if (!dataTable) return;\n",
              "\n",
              "        const docLinkHtml = 'Like what you see? Visit the ' +\n",
              "          '<a target=\"_blank\" href=https://colab.research.google.com/notebooks/data_table.ipynb>data table notebook</a>'\n",
              "          + ' to learn more about interactive tables.';\n",
              "        element.innerHTML = '';\n",
              "        dataTable['output_type'] = 'display_data';\n",
              "        await google.colab.output.renderOutput(dataTable, element);\n",
              "        const docLink = document.createElement('div');\n",
              "        docLink.innerHTML = docLinkHtml;\n",
              "        element.appendChild(docLink);\n",
              "      }\n",
              "    </script>\n",
              "  </div>\n",
              "\n",
              "\n",
              "    <div id=\"df-a865a8a6-52b6-41de-8d49-3941c719e6c5\">\n",
              "      <button class=\"colab-df-quickchart\" onclick=\"quickchart('df-a865a8a6-52b6-41de-8d49-3941c719e6c5')\"\n",
              "                title=\"Suggest charts\"\n",
              "                style=\"display:none;\">\n",
              "\n",
              "<svg xmlns=\"http://www.w3.org/2000/svg\" height=\"24px\"viewBox=\"0 0 24 24\"\n",
              "     width=\"24px\">\n",
              "    <g>\n",
              "        <path d=\"M19 3H5c-1.1 0-2 .9-2 2v14c0 1.1.9 2 2 2h14c1.1 0 2-.9 2-2V5c0-1.1-.9-2-2-2zM9 17H7v-7h2v7zm4 0h-2V7h2v10zm4 0h-2v-4h2v4z\"/>\n",
              "    </g>\n",
              "</svg>\n",
              "      </button>\n",
              "\n",
              "<style>\n",
              "  .colab-df-quickchart {\n",
              "      --bg-color: #E8F0FE;\n",
              "      --fill-color: #1967D2;\n",
              "      --hover-bg-color: #E2EBFA;\n",
              "      --hover-fill-color: #174EA6;\n",
              "      --disabled-fill-color: #AAA;\n",
              "      --disabled-bg-color: #DDD;\n",
              "  }\n",
              "\n",
              "  [theme=dark] .colab-df-quickchart {\n",
              "      --bg-color: #3B4455;\n",
              "      --fill-color: #D2E3FC;\n",
              "      --hover-bg-color: #434B5C;\n",
              "      --hover-fill-color: #FFFFFF;\n",
              "      --disabled-bg-color: #3B4455;\n",
              "      --disabled-fill-color: #666;\n",
              "  }\n",
              "\n",
              "  .colab-df-quickchart {\n",
              "    background-color: var(--bg-color);\n",
              "    border: none;\n",
              "    border-radius: 50%;\n",
              "    cursor: pointer;\n",
              "    display: none;\n",
              "    fill: var(--fill-color);\n",
              "    height: 32px;\n",
              "    padding: 0;\n",
              "    width: 32px;\n",
              "  }\n",
              "\n",
              "  .colab-df-quickchart:hover {\n",
              "    background-color: var(--hover-bg-color);\n",
              "    box-shadow: 0 1px 2px rgba(60, 64, 67, 0.3), 0 1px 3px 1px rgba(60, 64, 67, 0.15);\n",
              "    fill: var(--button-hover-fill-color);\n",
              "  }\n",
              "\n",
              "  .colab-df-quickchart-complete:disabled,\n",
              "  .colab-df-quickchart-complete:disabled:hover {\n",
              "    background-color: var(--disabled-bg-color);\n",
              "    fill: var(--disabled-fill-color);\n",
              "    box-shadow: none;\n",
              "  }\n",
              "\n",
              "  .colab-df-spinner {\n",
              "    border: 2px solid var(--fill-color);\n",
              "    border-color: transparent;\n",
              "    border-bottom-color: var(--fill-color);\n",
              "    animation:\n",
              "      spin 1s steps(1) infinite;\n",
              "  }\n",
              "\n",
              "  @keyframes spin {\n",
              "    0% {\n",
              "      border-color: transparent;\n",
              "      border-bottom-color: var(--fill-color);\n",
              "      border-left-color: var(--fill-color);\n",
              "    }\n",
              "    20% {\n",
              "      border-color: transparent;\n",
              "      border-left-color: var(--fill-color);\n",
              "      border-top-color: var(--fill-color);\n",
              "    }\n",
              "    30% {\n",
              "      border-color: transparent;\n",
              "      border-left-color: var(--fill-color);\n",
              "      border-top-color: var(--fill-color);\n",
              "      border-right-color: var(--fill-color);\n",
              "    }\n",
              "    40% {\n",
              "      border-color: transparent;\n",
              "      border-right-color: var(--fill-color);\n",
              "      border-top-color: var(--fill-color);\n",
              "    }\n",
              "    60% {\n",
              "      border-color: transparent;\n",
              "      border-right-color: var(--fill-color);\n",
              "    }\n",
              "    80% {\n",
              "      border-color: transparent;\n",
              "      border-right-color: var(--fill-color);\n",
              "      border-bottom-color: var(--fill-color);\n",
              "    }\n",
              "    90% {\n",
              "      border-color: transparent;\n",
              "      border-bottom-color: var(--fill-color);\n",
              "    }\n",
              "  }\n",
              "</style>\n",
              "\n",
              "      <script>\n",
              "        async function quickchart(key) {\n",
              "          const quickchartButtonEl =\n",
              "            document.querySelector('#' + key + ' button');\n",
              "          quickchartButtonEl.disabled = true;  // To prevent multiple clicks.\n",
              "          quickchartButtonEl.classList.add('colab-df-spinner');\n",
              "          try {\n",
              "            const charts = await google.colab.kernel.invokeFunction(\n",
              "                'suggestCharts', [key], {});\n",
              "          } catch (error) {\n",
              "            console.error('Error during call to suggestCharts:', error);\n",
              "          }\n",
              "          quickchartButtonEl.classList.remove('colab-df-spinner');\n",
              "          quickchartButtonEl.classList.add('colab-df-quickchart-complete');\n",
              "        }\n",
              "        (() => {\n",
              "          let quickchartButtonEl =\n",
              "            document.querySelector('#df-a865a8a6-52b6-41de-8d49-3941c719e6c5 button');\n",
              "          quickchartButtonEl.style.display =\n",
              "            google.colab.kernel.accessAllowed ? 'block' : 'none';\n",
              "        })();\n",
              "      </script>\n",
              "    </div>\n",
              "    </div>\n",
              "  </div>\n"
            ],
            "application/vnd.google.colaboratory.intrinsic+json": {
              "type": "dataframe",
              "variable_name": "df_cleaned",
              "summary": "{\n  \"name\": \"df_cleaned\",\n  \"rows\": 2060,\n  \"fields\": [\n    {\n      \"column\": \"book_name\",\n      \"properties\": {\n        \"dtype\": \"string\",\n        \"num_unique_values\": 2030,\n        \"samples\": [\n          \"The Phantom Tollbooth\",\n          \"Lanark: A Life in Four Books\",\n          \"The Horse and His Boy\"\n        ],\n        \"semantic_type\": \"\",\n        \"description\": \"\"\n      }\n    },\n    {\n      \"column\": \"author\",\n      \"properties\": {\n        \"dtype\": \"category\",\n        \"num_unique_values\": 966,\n        \"samples\": [\n          \"Charles G. Finney\",\n          \"Richard Yates\",\n          \"James De Mille\"\n        ],\n        \"semantic_type\": \"\",\n        \"description\": \"\"\n      }\n    },\n    {\n      \"column\": \"year_of_publishing\",\n      \"properties\": {\n        \"dtype\": \"string\",\n        \"num_unique_values\": 1073,\n        \"samples\": [\n          \"October 1942\",\n          \"1925[1]\",\n          \"2011\"\n        ],\n        \"semantic_type\": \"\",\n        \"description\": \"\"\n      }\n    },\n    {\n      \"column\": \"plot\",\n      \"properties\": {\n        \"dtype\": \"string\",\n        \"num_unique_values\": 2030,\n        \"samples\": [\n          \"Milo is a boy bored by the world around him; every activity seems a waste of time.  He arrives home from another boring day at school to find a mysterious package. Among its contents are a small tollbooth and a map of \\\"the Lands Beyond\\\", illustrating the Kingdom of Wisdom (which will also guide the reader from its place on the endpapers of the book). Attached to the package is a note \\\"For Milo, who has plenty of time.\\\" Warned by an included sign to have his destination in mind, he decides without much thought to go to Dictionopolis, assuming this is a pretend game to be played on the floor of his room. He maneuvers through the tollbooth in his electric toy car and instantly finds himself driving on a road that is clearly not in his city apartment.\\n\\nMilo begins with Expectations, a pleasant place where he starts on Wisdom's road. In Expectations, he seeks directions from the Whether Man, who is full of endless talk. As Milo drives on, he daydreams and gets lost in the Doldrums, a colorless place where nothing ever happens. Milo soon joins the inhabitants, the Lethargarians, in killing time there, a pastime angrily interrupted by the arrival of Tock, a talking, oversized dog with an alarm clock on each side (a \\\"watchdog\\\"), who tells Milo that only by thinking can he get out of the Doldrums. Head abuzz with unaccustomed thoughts, Milo is soon back on his road, and Tock joins him on his journey through Wisdom.\\n\\nMilo and Tock travel to Dictionopolis, one of two capital cities of the divided Kingdom of Wisdom and home to King Azaz the Unabridged. They meet King Azaz's cabinet officials and visit the Word Market, where the words and letters are sold that empower the world. A fight between the Spelling Bee and the blustering Humbug breaks up the market, and Milo and Tock are arrested by the very short Officer Shrift. In prison, Milo meets Faintly Macabre, the Not-so-Wicked Which (not to be confused with Witch), long in charge of which words should be used in Wisdom. She tells him how the two rulers, King Azaz and his brother, the Mathemagician, had two adopted younger sisters, Rhyme and Reason, to whom everyone came to settle disputes. All lived in harmony until the rulers disagreed with the princesses' decision that letters (championed by Azaz) and numbers (by the Mathemagician) were equally important. They banished the princesses to the Castle in the Air and, since then, the land has had neither Rhyme nor Reason.\\n\\nMilo and Tock leave the dungeon. King Azaz hosts them at a banquet where the guests literally eat their words, served to them on plates. After the meal, King Azaz lets Milo and Tock talk themselves into a dangerous quest to rescue the princesses. Azaz flatters the Humbug into being their guide, and boy, dog and insect set off for the Mathemagician's capital of Digitopolis as they must gain his approval before they can begin their quest.\\n\\nAlong the way, they meet such characters as Alec Bings, a little boy suspended in the air who sees through things and who will grow down until he reaches the ground. He then meets the world's smallest giant, the world's biggest dwarf, the world's thinnest fat man, and the world's fattest thin man, who turn out to just be one regular man. Milo then loses time in substituting for Chroma the Great, a conductor whose orchestra creates the colors of the world.\\n\\nThey meet a twelve-sided creature called the Dodecahedron, who leads them to Digitopolis. There, they meet the Mathemagician, who is still angry at Azaz and who will not give his blessing to anything that his brother has approved. Milo maneuvers him into saying he will permit the quest if the boy can show the two have concurred on anything since they banished the princesses. To the number wizard's shock, Milo proves that the two have agreed to disagree, and the Mathemagician gives his reluctant consent.\\n\\nIn the Mountains of Ignorance, the journeyers contend with demons like the Terrible Trivium and the Gelatinous Giant. After overcoming obstacles and their own fears, they reach the Castle in the Air. Princesses Rhyme and Reason welcome Milo and agree to return to Wisdom. Unable to enter the castle, the demons cut it loose, letting it drift away, but Milo realizes Tock can carry them down because 'time flies'. The demons pursue, but the armies of Wisdom arrive and repel them. Rhyme and Reason heal the divisions in the old Kingdom of Wisdom, Azaz and the Mathemagician are reconciled, and all enjoy a three-day celebration.\\n\\nMilo says goodbye and drives back through the tollbooth. Suddenly he is back in his own room, and discovers he has been gone only an hour, though his journey seemed to take weeks. He awakens the next day with plans to return to the kingdom, but finds the tollbooth gone when he gets home from school. A note instead is there, \\\"For Milo, who now knows the way.\\\" The note states that the tollbooth is being sent to another child who needs help finding direction in life. Milo is somewhat disappointed but agrees and looks at a now-interesting world around him, concluding that even if he found a way back, he might not have time to go, for there is so much to do right where he is.\\n\\nArchitect Norton Juster was living in his hometown of Brooklyn, after three years in the Navy.[5] In June 1960, he gained a $5,000 grant from the Ford Foundation to write a children's book about cities.[6] Juster argued that the young baby boomers would soon have responsibility for the cities, and many lived in the suburbs and did not know them. In his proposal, he said he wanted \\\"to stimulate and heighten perception\\u00a0\\u2013 to help children notice and appreciate the visual world around them\\u00a0\\u2013 to help excite them and shape their interest in an environment they will eventually reshape.\\\"[7] Beginning with great enthusiasm, he ground to a halt with too many notes and too little progress. He took a weekend break with friends at Fire Island, and came back determined to put aside the cities book and seek inspiration in another writing project.[5]\\n\\nJuster's guilt over his lack of progress on the cities book had led him to write pieces of stories about a little boy named Milo,[9] which he began to develop into a book.\\nJuster quit his job so that he could work on the book.[10] His imagination fired by a boy who approached him on the street and with whom he discussed the nature of infinity, Juster wanted to finish the story about \\\"a boy who asked too many questions\\\" before returning to the book on cities.[11] Juster shared his house in Brooklyn Heights with cartoonist Jules Feiffer whose bedroom was immediately below, and who could hear him pacing in the night. Feiffer was surprised to learn that his friend's insomnia was not caused by the cities book, but by a book about a boy. Juster showed Feiffer the draft to date and, unbidden, the artist began sketching illustrations. Feiffer knew Judy Sheftel, who put deals together in the publishing trade and was his future bride. Sheftel got Jason Epstein, an innovative editor at Random House with a deep appreciation for children's literature, to agree to review the manuscript.[12] Some at Random House considered the book's vocabulary too difficult: at the time, educators advised against children's literature containing words the target audience did not already know, fearing the unfamiliar would discourage young learners.[5] Based on seven chapters of manuscript, plus a three-page outline of the rest of the story, Epstein bought the book.[13]\\n\\nSince Juster did the cooking for the housemates, if Feiffer wanted to eat, he had to do the drawings.[14] Feiffer quickly realized the book would require illustrations of the type and quality that John Tenniel had created for Lewis Carroll's Alice's Adventures in Wonderland and although a nationally known artist, doubted his competence to do the text justice.[15] Feiffer considers the double-spread illustration of demons late in the book to be a success and one of his favorites. It differs from his usual style (which would involve a white background), and instead uses Gustave Dor\\u00e9's drawings as an inspiration.[16]\\n\\nIt became a game, with Feiffer trying to draw things the way he wanted, and Juster trying to describe things that were impossible to sketch.[17] These included the Triple Demons of Compromise\\u2014one short and fat, one tall and thin, and the third exactly like the first two.[18] Feiffer got his revenge by depicting the author as the Whether Man, clad in a toga.[19]\\n\\nRepeated edits altered the protagonist's name (originally Tony), removed his parents entirely from the book, and deleted text attempting to describe how the tollbooth package had been delivered.  Milo's age was removed from the text\\u2014early drafts have him aged eight or nine\\u2014as Juster decided not to state it, lest potential readers decide they were too old to care.[20]\\n\\nSince no one has ever bothered to explain the importance of learning to Milo, he regards school as the biggest waste of time in his life.[21] Juster intended that the book speak to the importance of learning to love learning.[5] Teaching methods that might bore children, by memorization for example, are mocked in the book, as in the case of the Spelling Bee. Like the Bee, the Humbug's insult to his fellow insect goes over Milo's head, but possibly not the reader's: \\\"A slavish concern for the composition of words is the sign of a bankrupt intellect.\\\"[21][22] According to Mary Liston in her journal article on law in fantasy realms, \\\"The Phantom Tollbooth concerns the difference between education and wisdom and what processes are conducive to synthesizing both, so as to encourage an attitude of engagement, alertness, and responsibility within an increasingly autonomous individual.\\\"[23]\",\n          \"Lanark comprises four books, arranged in the order Three, One, Two, Four (there is also a Prologue before Book One, and an Epilogue four chapters before the end of the book).   In the Epilogue, the author explains this by saying that \\\"I want Lanark to be read in one order but eventually thought of in another\\\", and that the epilogue itself is \\\"too important\\\" to go at the end.[5]:\\u200a483\\u200a\\n\\nIn Book Three, a young man awakes alone in a train carriage. He has no memory of his past and picks his name from a strangely familiar photograph on the wall. He soon arrives in Unthank, a strange Glasgow-like  city in which there is no daylight and whose disappearing residents suffer from strange diseases, orifices growing on their limbs and body heat fading away. Lanark begins to associate with a group of twenty-somethings to whom he cannot fully relate and whose mores he cannot understand, and soon begins to suffer from dragonhide, a disease which turns his skin into scales as an external manifestation of his emotional repression. Lanark is eventually swallowed by a mouth in the earth, and awakes in the Institute, a sort of hospital which cures patients of their diseases but uses the hopeless cases for power and food. Upon learning this, Lanark is horrified and determines to leave.\\n\\nBooks One and Two constitute a realist Bildungsroman beginning in pre-war Glasgow, and tell the story of Duncan Thaw (\\\"based on myself, he was tougher and more honest\\\"), a difficult and precocious child born to impecunious and frustrated parents in the East End of Glasgow. The book follows Thaw's wartime evacuation, secondary education and his scholarship to the Glasgow School of Art, where his inability to form relationships with women and his obsessive artistic vision lead to his descent into madness and eventual suicide by drowning.\\n\\nBook Four sees Lanark begin a bizarre, dreamlike journey back to Unthank, which he finds on the point of total disintegration, wracked by political strife, avarice, paranoia and economic meltdown, all of which he is unable to prevent. In the course of the journey, during which he meets his author, he rapidly ages. He finally finds himself old, sitting in a hilltop cemetery as Unthank breaks down in an apocalypse of fire and flood, and, his time of death having been revealed to him, he ends the book calmly awaiting it.\\n\\nLanark could be viewed as Thaw in a personal Hell. (Thaw drowns in the sea; Lanark arrives in Unthank with the same belongings, and seashells and sand in his pockets.) The connection between the two narratives is ambiguous; Gray said that \\\"One is a highly exaggerated form of just about the everyday reality of the other\\\"[6] (for example, Thaw's eczema is mirrored by Lanark's skin disease 'dragonhide').  He also writes in the novel itself: \\\"The Thaw narrative shows a man dying because he is bad at loving. It is enclosed by [Lanark's] narrative which shows civilization collapsing for the same reason\\\"[5]:\\u200a484\\u200a and (spoken to Lanark) \\\"You are Thaw with the neurotic imagination trimmed off and built into the furniture of the world you occupy\\\".[5]:\\u200a493\\u200a He also writes: \\\"The plots of the Thaw and Lanark sections are independent of each other and cemented by typographical contrivances rather than formal necessity. A possible explanation is that the author thinks a heavy book will make a bigger splash than two light ones\\\".[5]:\\u200a493\\u200a\\n\\nOne of the most characteristically postmodern parts of the book is the Epilogue, in which Lanark meets the author in the guise of the character \\\"Nastler\\\". He makes the first two remarks about the book quoted above, and anticipates criticism of the work and of the Epilogue in particular, saying \\\"The critics will accuse me of self-indulgence, but I don't care\\\". An Index of Plagiarisms is printed in the margins of the discussion. For instance, Gray describes much of Lanark as an extended 'Difplag' (diffuse plagiarism) of Charles Kingsley's The Water Babies. Some of the supposed plagiarisms refer to non-existent chapters of the book.\\n\\nThe Unthank parts of the book may be considered as part of the \\\"social-commentary\\\" tradition of science fiction, and Lanark has often been compared with Nineteen Eighty-Four by George Orwell.[7]\\n\\nGray added an appendix to the 2001 edition of the novel, in which he included a brief biography and elaborated on some of the influences on and inspirations for the novel. He cited Kafka as a major influence on the atmosphere of the novel. He also referred to his own experiences in the media industry which he states is reflected in Lanark's numerous encounters in labyrinthine buildings with individuals talking in jargon. The Institute he describes as a combination of Wyndham Lewis's conception of Hell in Malign Fiesta along with three real-life structures: the London Underground, Stobhill Hospital in Glasgow and BBC Television Centre in London. More immediately evident inspiration can be seen in the cathedral and necropolis episodes in Unthank, whose proximity to an urban tangle of roads is mirrored in Glasgow's real-life Townhead area. Glasgow Cathedral is yards away from the Necropolis to the east and the M8 motorway (and unfinished Inner Ring Road) to the north and west. Gray said Glasgow Cathedral was the only location he purposefully visited to make notes about during the writing of the novel; all other locations he wrote about from memory.[8]\\n\\nGray began writing the novel as a student in 1954. Book One was written by 1963, but he was unsuccessful in getting it published.  The whole work was finished in 1976, typeset by the Kingsport Press in Kingsport, Tennessee, [9] and published in 1981 by the Scottish publisher Canongate Press. The novel was an immediate critical success.[10][11]\\n\\nAn adaptation of Lanark by Alastair Cording was staged by Glasgow's Tag Theatre Company at the Assembly Hall, Edinburgh, during the Edinburgh International Festival in August 1995.[12] An adaptation entitled Lanark: A Life in Three Acts, written by David Greig and directed by Graham Eatough, was produced and performed at the Edinburgh International Festival in 2015.[13][14]\\n\\nCraig, Cairns (1981), Going Down to Hell is Easy, review of Alasdair Gray's Lanark, in Murray, Glen (ed.), Cencrastus No. 6, Autumn 1981, pp. 19 - 21\",\n          \"Shasta is a boy who lives in southern Calormen with Arsheesh, an abusive fisherman, whom Shasta believes to be his father. A powerful nobleman demands hospitality one evening, and haggles with Arsheesh to buy Shasta as his slave. It emerges that Arsheesh is not Shasta's father, having found him in a washed-up boat as a baby. In the stable, Bree, the nobleman's stallion, astounds the boy by speaking. He tells Shasta that the nobleman is very cruel to his slaves, and suggests they both flee to his homeland of Narnia, from where he was captured as a foal. Shasta agrees, and they sneak away at night.\\n\\nAfter weeks of northwards travel, during which the two companions bond, a brief chase to escape lions leads to their meeting another pair of refugees: another Narnian Talking Horse, the mare Hwin, who like Bree desires to return home, and Aravis, a young noblewoman who wants to escape a political marriage to Ahoshta, the ugly Grand Vizier. Although Shasta and Aravis immediately dislike each other, the four decide to travel together. In Tashbaan, the capital of Calormen, a party of Narnians mistake Shasta for Corin, the prince of Archenland, a Narnian ally, who has gone missing. Taken from the others, Shasta overhears the Narnians planning to escape Calormen to prevent a forced marriage between Queen Susan and Rabadash, son of the Tisroc, the Calormen ruler. Shasta escapes when Corin returns, but not before learning of a hidden route through the desert.\\n\\nMeanwhile, Aravis is spotted by her friend Lasaraleen, who helps Aravis escape through the Tisroc's garden, although she cannot understand Aravis' motives. On the way, they overhear the Tisroc discussing the Narnians' escape with Rabadash and Ahoshta. The Tisroc gives Rabadash permission to raid Archenland and Narnia to kidnap Queen Susan while High King Peter is away battling giants in the north, but notes that he cannot openly support such a raid and will renounce Rabadash if he fails. The four fugitives reunite at a necropolis where Shasta has had supernatural dreams. Pooling their information, they set out across the desert along the hidden route to warn Archenland; they are again chased by a lion, which injures Aravis. \\n\\nA hermit tends to Aravis' wounds, while Shasta carries on, on foot. He finds Lune, King of Archenland, and warns him of the raiders. He is separated from Lune in thick fog and encounters an unseen presence, who claims to have been not only the lion who injured Aravis, but also the lion who caused the four to join forces, and even the one who guided Shasta's boat to Arsheesh. The presence disappears, and Shasta finds himself in Narnia. He again meets Corin, who is travelling southwards with the Narnian party (who escaped from Calormen successfully) to assist Archenland. The Narnians, led by King Edmund and Queen Lucy, arrive at the Archenland capital of Anvard, and defeat the Calormenes, who were unable to take the castle because of Shasta's warning. Rabadash is captured and most of his men are killed, including Bree's old master. In the aftermath, Aslan appears and turns Rabadash into a donkey after he refuses to accept defeat. His human form is restored when he returns to Tashbaan, but thereafter he is forbidden to travel more than ten miles from the city, on pain of permanent transformation. His reign as Tisroc is therefore very peaceful despite earning the nickname \\\"Rabadash the Ridiculous.\\\"\\n\\nLune realizes that Shasta is his son Cor, the long-lost identical twin of Prince Corin and the heir to the Archenland throne. Cor had been kidnapped as a baby in an attempt to thwart a prophecy which foretold that he would save Archenland from its greatest peril. He was lost at sea in the ensuing battle to rescue him, but Aslan made sure that the baby found his way to Arsheesh. Shasta's warning fulfilled the prophecy. Corin is delighted that Shasta is heir, as he did not want to be king. Aravis and Cor eventually marry and rule Archenland after Lune's death. Their son, Ram, becomes the most famous king of Archenland. Bree and Hwin found love separately after returning to Narnia and all four would reunite regularly.\\n\\nAfter meeting King Lune of Archenland and warning him of the impending Calormene invasion, Shasta becomes lost in a fog and separated from the Archenlanders. While walking in the fog, he senses a mysterious presence nearby.  Engaging in conversation with the unknown being, Shasta tells of his misfortunes, including twice being chased by lions. His companion, who turns out to be Aslan, responds as follows:\\n\\nThe incidents which Shasta perceived as misfortunes were orchestrated by Aslan, in his Divine Providence, for greater purposes.[6][7]\\n\\nBree and Shasta use the phrase \\\"Narnia and the North\\\" as their \\\"rallying cry\\\" as they make their escape from their life in Calormen. They are both motivated by a deep longing to find their way to their true homeland. In the setting of The Horse and His Boy, the reader finds a departure from the landscapes, culture, and people of the Narnian realms which have become familiar in the other books. The placement of the action in the realm of Calormen helps to convey a sense of \\\"unbelonging\\\" on the part of the characters and the reader, which reinforces the motif of longing for a true home.[8]\\n\\nThe association of Cor with horses, and his twin brother Corin with boxing, recalls the traditional associations of the Spartan twins Castor and Pollux of Greek mythology.[9]\\n\\nResearcher Ruth North has noted that the plot element of a sinful human being transformed into a donkey as a punishment and then restored to humanity as an act of Divine mercy is reminiscent of The Golden Ass by Apuleius, a classic of Latin literature.[10]\\n\\nBBC Radio 4 dramatised The Chronicles of Narnia, including The Horse and His Boy, in 1998. The dramatisation is entitled \\\"The Complete Chronicles of Narnia: The Classic BBC Radio 4 Full-Cast Dramatisations\\\".[11]\\n\\nFocus on the Family produced an audio dramatisation of The Horse and His Boy in 2000.[12]\\n\\nWalden Media made movie adaptations of The Lion, the Witch and the Wardrobe, Prince Caspian and The Voyage of the Dawn Treader. Walden Media obtained an option to make The Chronicles of Narnia: The Horse and His Boy in the future.[13]\\n\\nIn 2022, The Logos Theater, of Taylors, South Carolina, created a stage adaptation of The Horse and His Boy, with later performances at the Museum of the Bible[14] and Ark Encounter.[15]\"\n        ],\n        \"semantic_type\": \"\",\n        \"description\": \"\"\n      }\n    },\n    {\n      \"column\": \"genre\",\n      \"properties\": {\n        \"dtype\": \"category\",\n        \"num_unique_values\": 593,\n        \"samples\": [\n          \"War novel\",\n          \"Historical novel, speculative fiction\",\n          \"Dystopian[2]\"\n        ],\n        \"semantic_type\": \"\",\n        \"description\": \"\"\n      }\n    },\n    {\n      \"column\": \"description\",\n      \"properties\": {\n        \"dtype\": \"string\",\n        \"num_unique_values\": 2006,\n        \"samples\": [\n          \"The Toy Collector is a novel written by James Gunn, published by Bloomsbury Publishing in 2000. It is the story of a hospital orderly who steals drugs from the hospital which he sells to help keep his toy collection habit alive. Although the work is fictional, the name of the protagonist is James Gunn.\",\n          \"The Eagle Has Landed is a book by British writer Jack Higgins, set during World War II and first published in 1975.[1] It was quickly adapted into a British film of the same name, released in 1976.\",\n          \"Crossings is a 1982 novel that was written by American Danielle Steel. It is Steel's 13th novel. It was adapted into a six-part miniseries of the same name in 1986.[1]\"\n        ],\n        \"semantic_type\": \"\",\n        \"description\": \"\"\n      }\n    },\n    {\n      \"column\": \"page_number\",\n      \"properties\": {\n        \"dtype\": \"string\",\n        \"num_unique_values\": 1087,\n        \"samples\": [\n          \"69 pp\",\n          \"320 pp\",\n          \"186 pp\"\n        ],\n        \"semantic_type\": \"\",\n        \"description\": \"\"\n      }\n    },\n    {\n      \"column\": \"plot_embedding\",\n      \"properties\": {\n        \"dtype\": \"string\",\n        \"num_unique_values\": 2035,\n        \"samples\": [\n          \"[-7.45593803e-03  4.36405139e-03  3.78967496e-03 -1.11120800e-02\\n  1.17915850e-02 -3.94227542e-03 -1.07650342e-03  1.88385020e-03\\n  3.86333745e-03 -9.53086838e-03 -5.66795003e-03  4.59029991e-03\\n  5.79549698e-03 -4.48504370e-03 -1.18311157e-03 -6.25050234e-05\\n -2.93126516e-03 -4.15062858e-03 -2.76851840e-03 -4.44189785e-03\\n -8.21663532e-03  5.82575286e-03  2.93422537e-03  7.41312886e-03\\n -3.44438391e-04  2.02713138e-03  5.17138094e-03  9.62771941e-03\\n -5.86918276e-03  4.01250180e-03  2.95482040e-03 -2.44728010e-03\\n  1.31613361e-02 -8.20821733e-05 -1.04195693e-04  8.51480942e-03\\n -1.95912039e-03 -1.15441310e-03  1.01674919e-03  9.67480999e-04\\n  4.94090514e-03  2.00306699e-02  4.02927835e-04 -8.80865147e-04\\n  4.31676256e-03 -3.93476523e-03 -1.76596528e-04  6.70156581e-03\\n  1.16566732e-03  1.71231269e-03  1.58356968e-03  5.04934508e-03\\n -2.58251373e-03  4.26371209e-03 -1.07862568e-02  3.89530067e-03\\n  4.14267834e-03  2.23579560e-03  1.28284201e-03 -1.00906221e-02\\n  1.36442075e-04 -1.73013862e-02 -8.82152840e-03 -5.53654972e-03\\n  5.28672105e-03 -1.12180850e-02 -4.10603033e-03 -3.74557776e-03\\n  2.08430644e-03  4.15004836e-03  9.21873841e-03 -3.72802722e-03\\n -1.23840451e-04  6.14322862e-03 -1.40721863e-03  5.94155863e-03\\n -2.88512651e-03  1.61790196e-02 -5.48795611e-03 -3.67721193e-04\\n  4.07214696e-03 -6.88542752e-03  2.62867585e-02  2.79442361e-03\\n -3.19483364e-03 -9.33882664e-04  1.11917984e-02 -2.18802155e-03\\n  4.82484745e-03  2.48205685e-03 -3.03550716e-03  7.08512589e-03\\n -1.08957617e-02  1.88655674e-03  5.92800230e-03  4.84993470e-05\\n -8.92201264e-04  1.41015239e-02 -4.81361989e-03 -4.14411305e-03\\n -6.27393456e-05 -6.20070705e-03  8.12431984e-03  1.77977397e-03\\n -2.07294617e-03 -4.71216999e-03  6.98555121e-03 -6.00260496e-03\\n  2.60447338e-03 -1.15149794e-03  2.48781033e-03  5.70033211e-03\\n  6.40358031e-03  1.74536370e-03  5.53939608e-04 -7.05844164e-03\\n -4.18322161e-05  1.47462543e-03  5.68514457e-03  8.03927332e-03\\n -1.61595538e-03  1.02910297e-02  3.53565463e-03 -7.07156025e-03\\n -2.46272469e-03 -4.11334354e-03 -5.16262278e-03 -5.72779356e-03\\n -1.35992153e-03 -3.79810133e-03 -5.70744649e-03 -6.57500606e-03\\n -4.63070767e-03 -2.17286195e-03 -3.39403260e-03  1.91305892e-03\\n -3.51198774e-04 -2.84954160e-03  5.43005764e-03 -1.38697587e-03\\n -1.61472696e-03  9.69504472e-03 -2.59980978e-03  1.70951954e-03\\n  1.13114277e-02  3.33954440e-03 -2.10931222e-03 -1.53233099e-03\\n -5.75537328e-03  9.56385105e-04  6.94714673e-03 -3.08820349e-03\\n -4.76170890e-03  2.50315620e-03  7.71543186e-04  5.48843592e-02\\n  6.75069820e-03  1.46377794e-02  2.27844715e-03 -1.23154162e-03\\n  1.35414451e-02  5.51680289e-03  4.77540819e-03 -1.09689008e-03\\n -4.39560786e-03 -1.37154909e-03 -1.65051140e-03 -1.13366230e-03\\n  3.92340589e-03  4.90855053e-03  8.05174839e-03  2.51222262e-03\\n  2.42543151e-03 -5.98717015e-03 -3.60346283e-03 -4.49347589e-03\\n  1.05692772e-02  1.98607682e-04 -4.88241669e-03 -1.74303725e-03\\n  3.70329991e-03  4.73641744e-03 -7.58577976e-03 -1.67256698e-03\\n -6.97076879e-03  5.46136359e-03 -2.04166793e-03  7.09683588e-03\\n -1.41415244e-03  3.25505249e-03  4.71306453e-03  3.44351213e-03\\n  4.71274927e-03  2.16930592e-03  2.18496798e-03  7.15964008e-03\\n -2.22158455e-03 -1.98405934e-03  3.76905454e-03 -6.13830704e-03\\n  2.25406882e-04  1.84726168e-03  7.98077136e-03 -3.52437631e-03\\n -3.68566776e-04 -4.50294837e-03 -2.16179457e-03  3.43268528e-03\\n  3.84357804e-03 -4.02116450e-03 -3.05669243e-03  1.13440538e-02\\n  3.29135987e-03  9.45588760e-03  7.16581382e-03 -3.64085124e-03\\n  7.61969155e-03  9.38916951e-03  1.37309881e-03 -1.77305739e-03\\n  2.71532848e-03  2.36612349e-03  3.31347401e-04  2.75662678e-05\\n -1.78104162e-03  1.18277140e-03  4.15461604e-03  6.12626318e-04\\n -5.33534194e-06  3.10163666e-03 -2.06746464e-03  1.25101826e-03\\n  4.81398092e-05  1.74814078e-03  8.79390445e-03 -9.14970506e-03\\n  1.84053992e-04 -2.94155465e-03 -6.40749186e-03  3.55068105e-03\\n -4.90461430e-03  4.25894931e-03  8.36054143e-03  4.65962570e-03\\n  1.54483551e-03  1.92733645e-03  3.60434782e-03  4.72931052e-03\\n  7.00387172e-03  7.80382287e-03 -7.13248597e-03 -4.18893900e-03\\n -2.43574311e-03 -2.20741975e-04  4.71892254e-03 -3.74562945e-03\\n -3.03347199e-03 -2.46082013e-03 -4.65641497e-03 -3.74841946e-03\\n -9.12830234e-03 -4.97808028e-03 -3.69702280e-03  1.20353082e-03\\n -8.04813672e-03 -2.28684454e-04 -7.40455557e-03 -3.45605949e-04\\n  5.37181087e-03 -1.58396654e-03 -3.71130835e-03 -9.55656078e-03\\n  1.20440347e-03 -1.08572375e-03  2.90812692e-03 -1.19969838e-04\\n -3.53668211e-03  7.93702714e-03 -6.57998538e-03 -6.59851008e-04\\n -1.68411084e-03 -9.09836870e-03 -4.87542804e-03 -6.36548037e-04\\n  3.40204802e-03 -2.13546469e-03  8.11699370e-04 -5.08087920e-04\\n  1.94000243e-03  2.08819937e-03  3.91377136e-03  9.68021690e-04\\n -1.16462761e-03  2.76985322e-03 -4.34750505e-03 -1.32947799e-03\\n  8.85077845e-03 -2.21661013e-03  6.93693478e-03 -5.41970925e-03\\n -3.54357203e-03 -8.50365125e-03 -3.71548999e-03 -3.40190693e-03\\n  2.52192956e-03 -5.71209379e-03  3.87278997e-04 -1.01073366e-03\\n -8.70003598e-04 -3.45373584e-04 -3.47574381e-03 -6.02301257e-03\\n -1.10935317e-02  9.59049910e-03  1.45865697e-03 -4.04465041e-04\\n  7.92509504e-03 -5.24819223e-03  5.36369020e-03  6.73177012e-04\\n  2.38664355e-03  5.32526383e-03  8.02815054e-03 -3.10425530e-03\\n  3.22442851e-03  1.78017165e-03 -1.04193413e-03  8.17112217e-04\\n  3.84072633e-03  3.48969065e-02 -1.64458882e-02  3.71444831e-03\\n  1.14720315e-02 -1.79609854e-03  4.02393751e-03 -5.37139270e-03\\n  4.27900674e-03  9.42497514e-03  1.13496035e-02  1.47255920e-02\\n  1.59215461e-03  2.59582838e-03 -1.01726223e-02  1.19029905e-03\\n -5.14707004e-04  5.17794921e-04  2.41074758e-03 -3.91708687e-04\\n  7.08290725e-04  4.25668340e-03 -6.18823897e-03 -6.16453704e-04\\n  7.10548367e-04 -8.88767245e-04 -1.15753945e-04  8.30687582e-03\\n -3.37870931e-03  2.39520887e-04  4.64233290e-03 -1.50707606e-02\\n  5.03267301e-03  5.88658964e-04  1.75244757e-03 -1.42783485e-02\\n -1.83518475e-03 -5.43273427e-03 -6.84087677e-03  8.23083799e-03\\n -1.68007263e-03  3.02285445e-03  8.39314889e-03 -7.76750594e-03\\n  4.52614250e-03 -6.79359958e-03 -1.71850028e-03  6.24511251e-03\\n  1.37268205e-03  1.73126347e-04  8.78044590e-03  1.04269013e-02\\n -2.24633445e-03 -4.01665969e-03 -8.52313079e-03  5.12667466e-03\\n  6.49497518e-03  6.09672221e-04  5.55949693e-04 -3.16193770e-03\\n  6.90120924e-03  2.39935028e-03 -6.93418609e-04 -1.86799956e-03\\n -2.49497639e-03 -7.75231700e-03  6.45550480e-03  5.67454554e-04\\n -6.44692034e-03 -1.70117635e-02  3.54800234e-03 -2.54210853e-03\\n  2.51124823e-03  6.13838620e-03 -5.76581201e-03  6.80850935e-04\\n  5.38991345e-03 -1.70209340e-03 -2.74333172e-03 -2.55938037e-03\\n -5.50498534e-03 -9.02429782e-03  2.75883637e-03  7.36555038e-03\\n  5.46103064e-03 -5.04962262e-03  8.21458362e-03 -7.22558470e-03\\n  8.39477405e-03  2.78687617e-03  2.79953703e-04  3.11887218e-03\\n -1.95261312e-03  2.21673562e-03 -2.41739489e-03 -2.45988579e-03\\n -3.13470606e-03 -2.62067863e-03 -5.14046708e-03 -8.63129739e-03\\n -6.13353308e-03 -3.19937314e-03 -4.20628628e-03  5.37818298e-03\\n -4.39827470e-03  3.24393436e-03 -1.37596007e-03 -4.33547609e-03\\n -8.63479916e-04  4.68864432e-03 -2.25995993e-03 -9.20401700e-03\\n  1.81208842e-03 -1.44725165e-03  6.87496690e-03 -4.40526841e-04\\n -2.58532097e-03  1.69635518e-03  4.02191794e-03  7.58304819e-03\\n -3.01473495e-03 -6.79196417e-03  3.61061160e-04 -6.95264549e-04\\n -4.93887626e-03 -3.04246694e-02  6.03772234e-03  4.95342910e-03\\n  1.62039627e-03  2.33391556e-03 -1.23810945e-02  1.17767777e-05\\n -1.51915499e-03 -3.27279093e-03  6.50533987e-03 -2.15561595e-03\\n  6.55559590e-03 -6.02958677e-03 -1.34915086e-02 -4.73907217e-03\\n -1.65280246e-03 -1.34170215e-04  1.06890230e-02 -1.22777506e-04\\n -5.11106150e-03 -1.39482394e-02  8.96345731e-03 -4.06884728e-03\\n  2.25351402e-03  1.28887419e-03 -1.32976187e-04 -3.29789845e-03\\n -6.62782183e-03 -1.87717174e-04  3.60017247e-03  3.47657199e-03\\n -7.01673841e-03 -5.47961914e-04 -3.24482739e-04  7.07426574e-04\\n  9.51187965e-03 -3.41033039e-04 -4.43072477e-03 -6.18071482e-03\\n  8.85982253e-03  4.36723186e-03  1.46334218e-02 -3.70799704e-03\\n -9.85504594e-04  5.10041695e-03  1.08350357e-02  6.03765016e-03\\n  9.60893463e-04 -1.71452574e-03  1.46632548e-03  5.33454877e-04\\n  1.89379766e-03  4.29292535e-03 -4.49138787e-03 -2.42576445e-03\\n -4.61216690e-03  4.14611632e-03 -2.98379292e-03 -5.03773149e-03\\n  1.44427465e-02  4.34963091e-04  2.69932393e-03  4.07916697e-04\\n -3.13544995e-03 -3.43022845e-03 -9.52045724e-04 -1.11080892e-03\\n -6.63105911e-03 -4.98586742e-04  1.81409778e-04 -6.45467499e-03\\n -6.10357989e-03 -2.60154461e-03  3.66526045e-04  5.02930547e-04\\n  7.42244534e-03 -3.54756112e-03  6.09596958e-03 -7.46062724e-03\\n  8.97531025e-03  4.29752702e-03 -1.55585504e-03  2.95524416e-03\\n  9.88649670e-03  1.24342588e-03 -2.16982793e-03 -3.38785560e-03\\n -4.63482505e-03  1.21891859e-03  9.80053283e-03  1.36086904e-03\\n  8.65266845e-03  4.42584790e-03 -7.69414380e-03 -6.81049749e-03\\n  4.57046973e-03 -4.94246720e-04  1.11938117e-03 -3.40046920e-02\\n -2.06421106e-03  9.73016955e-03 -5.28914435e-03  1.33166008e-03\\n  6.14885893e-03  3.55909974e-03 -3.10531794e-03 -6.60573074e-04\\n -7.57376850e-03  1.28347585e-02 -1.48043458e-04  4.01327945e-03\\n -1.11755151e-02 -1.01213960e-03  5.97651210e-03 -2.94979615e-03\\n  8.46702314e-04  3.38860275e-03 -1.65012367e-02  5.90625627e-04\\n -3.62719502e-03  1.12360148e-02  1.55401358e-03  2.80945352e-03\\n  6.97210710e-03 -4.49223164e-03  7.49250362e-03  4.49229591e-03\\n -9.10552859e-04 -4.95427812e-04  4.37056506e-03 -4.38123243e-03\\n  6.68536359e-03  5.60546573e-03  5.26537839e-03  1.79960555e-03\\n  9.84948575e-01  5.48430998e-03  2.81321746e-03 -9.65270214e-03\\n  5.81753673e-03 -9.15250834e-03 -1.68420351e-03 -1.13170389e-02\\n  3.70394951e-03  7.85044301e-03 -7.70926301e-04 -3.66416061e-03\\n  4.25180828e-04 -1.09563144e-02  3.90841160e-03 -6.93310169e-04\\n -9.26006772e-03 -2.00211909e-03  5.31077210e-04 -3.64794722e-03\\n -1.88371248e-03  1.37498230e-03  4.30287374e-03  1.41815760e-03\\n -2.20729178e-03  1.78698287e-03  1.11089542e-03 -6.55148132e-03\\n -1.07992766e-03  3.38705751e-04 -3.96391051e-03  1.30683149e-03\\n  1.74978399e-03 -7.26115832e-04  2.18439358e-03  1.46893971e-03\\n  8.87993316e-04  5.25329867e-03  2.39348528e-03  4.92306286e-03\\n -8.82043212e-04  3.70608037e-03  2.05941708e-03  1.20844063e-03\\n  1.83720444e-03  6.65005716e-03  8.27527139e-03  7.46681262e-03\\n -3.78369959e-03  6.68397453e-03  8.28368310e-03 -8.71546566e-04\\n  4.30345209e-03  5.66000199e-05 -2.66145309e-03  5.47630945e-04\\n  2.34006997e-03 -4.39140899e-03  6.53888052e-03  1.09245731e-02\\n -8.64013471e-03  9.27582290e-03 -2.77315645e-04  7.43498188e-03\\n -5.32480842e-03  8.87134019e-03  8.77846684e-03  4.56338329e-03\\n -6.94289478e-03 -2.22867099e-03  1.34575553e-03 -7.09004886e-03\\n -6.91573694e-03 -3.75210482e-04  7.59331184e-03 -9.87620675e-04\\n  9.67423525e-03 -2.98462855e-03 -9.03587279e-05 -4.44419449e-03\\n -2.79874657e-03  4.26473049e-03  1.04053493e-03 -1.21781696e-03\\n  5.63549949e-03  2.82635237e-03  4.69324458e-03  3.57450172e-03\\n  3.25584249e-03 -9.62699670e-03  1.48757675e-03  3.34944716e-03\\n -6.33504882e-04 -2.95125064e-03  6.25817245e-03 -5.16299205e-03\\n  2.52825418e-03 -1.46958064e-02  7.09554600e-03  8.80050473e-03\\n -1.18758865e-02  8.18663277e-03 -1.97128626e-03  2.46346719e-03\\n  1.54340538e-04  3.32720089e-03 -3.68975196e-03  1.84285443e-03\\n -8.09935853e-04  7.56004651e-04  2.66994728e-04  4.25795000e-03\\n  7.42756110e-03 -9.95320082e-03  8.92279146e-04  5.96832903e-03\\n  4.20127390e-03 -2.64591700e-03  3.09251714e-03  5.10242349e-03\\n -9.98082943e-03 -1.80329836e-03  1.13918947e-03 -6.06765179e-03\\n -1.94417371e-03 -2.08280724e-03 -1.36325019e-03  4.79146279e-03\\n -5.89986378e-03 -9.85777238e-04  2.54201097e-03  4.37582890e-03\\n  4.43257065e-03 -1.04775187e-02  5.16013708e-03 -2.19470914e-03\\n -5.73156634e-03  5.12514915e-03  3.54073080e-03  3.82671575e-03\\n  2.78936845e-04 -4.39088233e-03 -6.76204124e-03 -1.11662801e-02\\n  3.67220724e-03  7.02210143e-03  6.54466823e-03  6.54873904e-03\\n  6.07767934e-03 -7.12455483e-03 -4.88968939e-03  2.03406624e-03\\n  6.73825946e-03  4.73387860e-04  1.83671678e-03 -2.88694492e-03\\n -3.80479987e-03  9.04352497e-03 -2.03344272e-03 -2.12004501e-03\\n  3.89400707e-03  6.31055376e-03  9.07569937e-03  8.18991847e-03\\n  6.82419818e-03  3.04189394e-03 -3.19207902e-03  4.36126022e-03\\n -1.40376145e-03 -9.17073266e-05  1.74780563e-03 -5.87473111e-03\\n -9.57677141e-03 -7.27840466e-03  7.30284303e-03  1.16123958e-02\\n  1.61093904e-03 -9.51046776e-03 -2.26408266e-03 -2.03520339e-03]\",\n          \"[-1.37570873e-02  8.10888316e-03  2.82867323e-03 -5.66649390e-03\\n  8.23477190e-03 -1.61568215e-03  8.36149964e-04 -1.77419325e-03\\n  8.12144671e-03 -8.85590073e-03 -3.15725175e-03  9.19486675e-03\\n  4.93418938e-03  5.36363295e-05  4.29676264e-04 -1.01920189e-02\\n -5.46027813e-03 -6.43049553e-03 -8.55279807e-03 -1.32768359e-02\\n -8.94146878e-03  1.78883492e-03  6.89473934e-03  1.65428612e-02\\n -2.61147041e-03  4.08515800e-03  1.20002758e-02  7.19431648e-03\\n -6.57980703e-03  8.36082792e-04 -8.40064196e-04 -7.77878147e-03\\n  1.31269181e-02  2.54210457e-03  3.25584016e-03  1.05644558e-02\\n -2.02347734e-03 -2.74261716e-03  6.43799314e-03  3.50769283e-03\\n  6.15688320e-03  2.27824431e-02  6.85466977e-04 -3.51277529e-03\\n  2.72790878e-03 -5.03492495e-03  1.01731822e-03  9.39704478e-03\\n  1.50340621e-03  4.59194789e-03  7.86626711e-04  1.87848031e-03\\n -6.46712445e-03  9.95020475e-03 -9.10083763e-03  1.07956836e-02\\n  4.25534090e-03 -1.23538589e-03  2.39062682e-03 -1.23824431e-02\\n  1.36062899e-03 -1.68440510e-02 -5.36551932e-03 -1.15360133e-02\\n  5.14654815e-03 -1.05264103e-02 -7.61261163e-03 -8.44279956e-03\\n -5.28955134e-04  5.35967946e-03  6.11897605e-03 -7.58898957e-03\\n -3.66656203e-03 -3.95835930e-04  6.05517707e-04 -3.64877284e-03\\n -3.59053491e-03  1.47990156e-02 -3.33963474e-03  4.08864318e-04\\n  8.47725105e-03 -4.18167235e-03  3.74490507e-02 -7.89145648e-04\\n -6.97341631e-04 -1.12213066e-03  7.65411975e-03  1.86463795e-03\\n  4.61109634e-03  3.72246653e-03 -4.03247494e-03  5.23684919e-03\\n -1.10984016e-02  5.36577264e-03  8.77156015e-03 -1.38390728e-03\\n -1.35182019e-03  1.16501208e-02 -4.28086333e-03 -8.90290085e-03\\n -6.46313885e-04 -3.76580819e-03  6.65249629e-03  5.12190396e-03\\n -5.25212009e-03 -2.17869785e-03  6.55484293e-03 -4.78382129e-03\\n  1.07572426e-03 -4.97241411e-03  2.17966270e-03  1.41074159e-03\\n  3.59291537e-03 -6.33116439e-03  1.35962293e-03 -3.73982545e-03\\n  8.79384534e-05  9.82287922e-04  5.97740570e-03  7.88566004e-03\\n -3.74818780e-03  3.03647970e-03  2.02377187e-03 -2.94542196e-03\\n -6.27881382e-04 -1.34728686e-03 -8.12431425e-03 -8.09269305e-03\\n  4.70811356e-04 -4.60689480e-04 -4.94731497e-03 -1.54101886e-02\\n  9.13109223e-04 -1.05465464e-04 -2.10957509e-03 -1.07904791e-03\\n -5.80592779e-03 -3.30383959e-03  3.49154975e-03 -1.59284065e-03\\n -1.84334553e-04  1.10077783e-02  1.88697665e-03  1.17310765e-03\\n  1.43133923e-02  8.60450231e-03 -2.77243252e-03 -1.16538827e-03\\n -8.81757704e-04 -1.78543886e-03  1.37406271e-02 -9.44918487e-03\\n -3.07198777e-03 -5.73687896e-04  2.16743909e-03  6.59725145e-02\\n  1.09586651e-02  1.59327500e-02 -2.57790601e-03 -5.31498808e-04\\n  1.97382029e-02  4.78084525e-03  2.66214833e-03 -4.71630227e-03\\n -9.17870551e-03 -2.31954549e-03 -2.64948769e-03 -1.41695607e-03\\n  4.90693422e-03  9.96678646e-05  6.96450705e-03 -1.81237899e-03\\n  7.67740468e-03 -3.80140101e-03 -6.56941906e-03 -5.24674170e-03\\n  6.50620274e-03  8.62772868e-05 -6.49628462e-03 -3.26097384e-03\\n  4.32532560e-03  6.15139678e-03 -5.28697763e-03 -1.89294724e-03\\n -5.03594056e-03  5.41822379e-03 -3.25236470e-03  3.39529174e-03\\n -2.92412192e-03  6.75646449e-03  1.11798719e-02  4.76997392e-03\\n  3.36457463e-03 -5.73157845e-03 -3.48329172e-03  1.15575260e-02\\n  9.09772876e-04 -1.62135495e-03  4.24700836e-03 -9.46335308e-03\\n  3.85641539e-03  4.56665223e-03  8.43311381e-03 -6.68181712e-03\\n  8.00703361e-04 -3.75282206e-03 -1.88619294e-03  3.30537325e-03\\n  1.81777123e-03 -5.32378326e-04 -3.53743299e-03  9.05460678e-03\\n  9.36273427e-04  3.68220778e-03  4.46160045e-03 -5.55039197e-03\\n  8.26003775e-03  4.10673255e-03  4.84599732e-03 -1.69700664e-03\\n  6.10530330e-03  9.93069145e-04 -5.01576392e-03 -2.62308354e-03\\n -4.55581956e-03 -9.08838818e-04  6.52671605e-03  2.79246573e-03\\n  3.94771667e-03  4.36414324e-04 -2.31958530e-03 -2.55942694e-03\\n  3.05145804e-04  4.85849474e-03  6.70750439e-03 -9.02979914e-03\\n -5.51596796e-03 -3.17658857e-03 -8.72461125e-03  1.54778990e-03\\n  1.11508404e-03  1.04497997e-02  8.36910494e-03  8.60190298e-03\\n  2.19086208e-03 -1.43842597e-04  8.52955971e-03  4.44683665e-03\\n  6.36459608e-03  4.53267619e-03 -8.25594459e-03 -2.75561446e-03\\n -4.56106523e-03  3.50056471e-05  4.64004418e-03 -6.08683149e-05\\n -3.06521170e-03 -7.54912442e-04 -8.48309044e-03 -6.50571100e-03\\n -9.91311390e-03 -9.52155911e-04 -9.41040489e-05  7.23496219e-03\\n -6.15706760e-03 -9.16820858e-03 -9.66278836e-03 -3.40524293e-03\\n  2.90848571e-03  6.02265762e-04 -2.32352735e-03 -1.22002931e-02\\n  4.24816227e-03 -1.03527762e-03  4.42014495e-03 -1.59473438e-03\\n  2.34178035e-03  3.07552214e-03 -9.08189546e-03  8.89175979e-04\\n -1.87801057e-03 -8.86975601e-03 -5.35673322e-03 -1.31545763e-03\\n  4.01046919e-03 -1.02632819e-03  1.17987127e-03  1.15171052e-03\\n  1.98320369e-03  2.43074819e-03  8.55095312e-03  3.70490085e-03\\n -5.33238170e-04  3.26093426e-03  1.44124235e-04 -1.27279374e-03\\n  9.82947089e-03  1.29722268e-03  7.08177313e-03 -7.06103491e-03\\n -6.07090630e-03 -4.60926909e-03 -1.43688987e-03 -5.59740840e-03\\n  3.74822179e-04 -8.25032766e-04  3.26901954e-03 -7.98251887e-04\\n  1.81678834e-03 -7.96312757e-04 -3.02641233e-03 -6.75534923e-03\\n -1.11786257e-02  1.22709302e-02  1.76895526e-03 -4.02190583e-03\\n  8.78953747e-03  1.25935266e-03  4.12198296e-03 -1.11545715e-03\\n -6.74382900e-04  8.26775189e-03  5.87518513e-03 -4.84698173e-03\\n  2.56228540e-03  3.62973078e-03 -1.48842169e-04  2.36529671e-03\\n -2.33636922e-04  3.63212861e-02 -2.03407109e-02  4.00525564e-03\\n  1.34487124e-02  1.03359681e-03 -1.40500849e-03 -5.07171825e-03\\n  5.45858219e-03  5.78904431e-03  1.24715250e-02  1.59180071e-02\\n  1.95877254e-03 -4.51539038e-03 -1.62230469e-02  8.16765800e-03\\n -1.71713415e-03  1.88742497e-03  4.36818227e-03 -2.24841293e-03\\n  1.07582600e-04  5.95443137e-03 -5.54163707e-03 -1.41089130e-03\\n  1.66453261e-04 -1.86410767e-03 -5.31338621e-04  5.23490785e-03\\n -1.30371843e-03 -6.01079024e-04  1.61607959e-03 -1.36121055e-02\\n  4.99513699e-03  2.53992761e-03  1.76931813e-03 -1.81829780e-02\\n -4.53590695e-03  5.35337138e-04 -4.92212083e-03  1.07517354e-02\\n -7.48269551e-04  9.06999130e-03  7.54180411e-03 -7.36977579e-03\\n  3.36951436e-03 -3.90365114e-03 -3.62075074e-03  4.18259902e-03\\n  4.02139546e-03 -5.03569259e-04  7.88153335e-03  1.10185621e-02\\n -4.31593601e-03 -2.76466785e-03 -7.27136340e-03  3.63604305e-03\\n  5.00062807e-03 -2.86040944e-03  1.21984817e-03 -5.19254245e-03\\n  4.77188686e-03  2.20249244e-03 -3.09971208e-03 -4.39401483e-03\\n -6.39032747e-04 -7.17508141e-03  6.88529620e-03  3.39190057e-03\\n -3.09158629e-03 -1.50339529e-02  1.23434770e-03 -4.34809877e-03\\n  2.76782084e-03  3.93125042e-03 -2.42285663e-03 -2.04723724e-03\\n  3.71212536e-03 -1.92516099e-03  1.76909647e-03 -5.52110188e-03\\n  4.12843692e-05 -5.12233982e-03  8.55740451e-04  8.01845081e-03\\n  6.17841864e-03 -6.63835835e-03  7.65669812e-03 -8.28588195e-03\\n  2.47198693e-03  3.88866011e-03 -7.58267939e-04 -3.05117900e-03\\n -3.01563577e-03  6.20590290e-03 -2.02210364e-03 -2.68363766e-03\\n -1.13094645e-03 -1.97085249e-03 -8.73472076e-03 -8.87759216e-03\\n -1.27000567e-02  1.25645346e-03 -3.48501233e-03  6.44308515e-03\\n -3.97658674e-03  5.22913761e-04 -4.77093877e-03 -2.36026011e-03\\n -3.02443048e-03  1.94287696e-03  2.37745559e-03 -1.43727157e-02\\n  4.42089653e-03 -5.21147670e-03  1.27103284e-03  9.08837467e-03\\n  1.27927575e-04 -9.19494505e-06  5.90394111e-03  7.21930014e-03\\n  8.24663206e-04 -7.17711737e-05 -2.81624054e-03  2.49583647e-03\\n -7.15275016e-03 -2.75115352e-02  8.08373652e-03  4.14389325e-03\\n -4.35985014e-04  8.35469575e-04 -9.49532725e-03  2.44344538e-03\\n -5.58743486e-04 -7.08140852e-03  1.04100993e-02 -2.61811819e-03\\n  5.88692375e-04 -9.59956460e-03 -1.48582067e-02 -5.36378566e-03\\n -3.42466845e-03 -3.41411633e-03  7.21391803e-03 -3.64286988e-03\\n -7.38807349e-03 -1.70874335e-02  1.05726821e-02 -5.47561212e-04\\n  3.56866117e-03  1.27302390e-03  3.73981311e-03 -1.41315418e-03\\n -6.04211027e-03 -7.75444278e-06  3.78765841e-03  4.83782403e-03\\n -1.10836113e-02 -3.19859153e-03  6.71536615e-03 -2.08889670e-03\\n  7.97973201e-03 -1.41407130e-03 -5.71901270e-04 -5.78252692e-03\\n  6.75370544e-03  7.02813827e-03  1.33533021e-02 -3.18026450e-03\\n  1.53192203e-03  6.86215609e-03  1.44931581e-02  5.04952949e-03\\n  1.10332714e-03  7.75068649e-04 -1.54605031e-03  6.21380704e-03\\n -6.76764175e-04  1.00546274e-02 -1.81986892e-03 -6.00579660e-04\\n -1.31935021e-03  9.31296265e-04 -5.91053504e-05 -3.01162666e-03\\n  1.56779252e-02  3.08005791e-03  5.19900909e-03 -1.02325249e-03\\n -1.88280828e-03 -6.37702760e-04 -4.56388283e-04 -5.09904884e-03\\n -1.04191829e-03 -7.07380334e-03  2.43504276e-03 -4.71176254e-03\\n -8.02214537e-03 -1.14400045e-03  1.54731399e-03 -3.52528389e-03\\n  1.28102917e-02 -3.33594996e-03 -6.56672695e-04 -1.72173255e-03\\n  1.17608262e-02  5.52478433e-03 -4.45178058e-03  3.45240743e-03\\n  1.21519985e-02  4.37179673e-03  5.20814350e-03 -6.88069640e-03\\n -7.14062201e-03 -2.81011267e-03  7.91790150e-03 -1.99456001e-03\\n  8.60694610e-03  5.95593918e-03 -3.04839504e-03 -6.37511024e-03\\n  5.58069535e-03 -2.44168891e-03  6.14999095e-04 -3.53207812e-02\\n -1.57538673e-03  8.03554058e-03 -8.05729907e-03 -1.97405810e-03\\n  2.74259062e-03  6.29109191e-03 -3.35711613e-03 -1.39950076e-03\\n -8.45189579e-03  1.56735070e-02  2.68995808e-03  2.88125500e-03\\n -7.96839688e-03 -1.17649196e-03  6.39415719e-03 -2.66138813e-03\\n -1.17335333e-06  3.41078849e-03 -1.31580420e-02  1.53018429e-03\\n -3.51835275e-03  2.96246633e-03 -1.71643018e-03  3.27152479e-03\\n  1.05003957e-02 -7.71677471e-04  2.98146787e-03  2.11813836e-03\\n -3.63204023e-03 -3.62311443e-03 -6.28349138e-04 -8.00091773e-03\\n  9.02508385e-03  4.29988513e-03  2.81636533e-03  3.05450615e-03\\n  9.80865359e-01  6.88224705e-03  3.42370127e-03 -9.05065611e-03\\n  6.91599539e-03 -4.08604275e-03 -3.27774161e-03 -6.50987960e-03\\n  4.21514211e-04  1.51783461e-02 -4.06995323e-03 -6.81443186e-03\\n -6.23612141e-05 -1.03564309e-02  1.94603985e-03 -4.22944175e-03\\n -9.60732996e-03 -3.82920727e-03 -4.32557799e-03 -3.51011148e-03\\n -8.67955759e-03  4.76021925e-03  5.63025568e-03 -2.07672874e-03\\n -6.76697912e-03  3.71060916e-03  2.45577423e-03 -6.83778943e-03\\n -1.64945296e-03  4.24948148e-03 -3.35046207e-03  4.06688452e-03\\n  7.05506420e-04 -1.74769748e-03  6.36866689e-03  1.14727579e-03\\n  8.31302907e-03  3.59643577e-03  5.35611203e-03  7.21578067e-03\\n -3.19628231e-03  1.17072184e-03  3.07557988e-03  4.26108250e-03\\n  7.69572973e-04  1.46767369e-03  6.93805749e-03  1.07552148e-02\\n  1.22991344e-03  9.77205485e-03  1.16723562e-02 -1.31135713e-03\\n  9.54896305e-03  4.14106855e-03  9.06057539e-04  6.22875243e-03\\n  1.42457453e-03 -8.17911979e-03  5.68273757e-03  8.52930732e-03\\n -1.01886475e-02  1.02168974e-02 -2.12464295e-03  1.03572551e-02\\n -3.36475787e-03  6.53551146e-03  5.51247876e-03  5.53831132e-03\\n -1.32571412e-02 -9.13916435e-03 -1.60596811e-03 -1.27414539e-02\\n -9.26681049e-03  5.68040181e-03  1.01992656e-02 -5.52486256e-03\\n  4.84673632e-03 -3.00729717e-03 -4.36385069e-03 -8.22455063e-03\\n -2.80395383e-03  3.83243291e-03  1.22060161e-03 -4.00618184e-03\\n  5.43956319e-03  2.57248222e-03  5.19351196e-03  7.77875120e-03\\n  3.17709940e-03 -9.88343731e-03  7.59535469e-03  3.39909852e-03\\n -4.51744813e-03 -3.40726506e-03  3.14358785e-03 -6.20548707e-03\\n  7.04686949e-03 -1.27290431e-02  8.59126262e-03  1.06884576e-02\\n -6.70869695e-03  5.57386724e-04 -3.47604556e-03  4.07310203e-03\\n  2.76108435e-03  8.42027459e-03 -2.83793104e-03 -3.12581612e-03\\n  8.97194026e-04  3.69456015e-03 -6.21265732e-03  6.54827105e-03\\n  1.25287846e-02 -6.24930672e-03 -8.05291813e-04  7.98643567e-03\\n  4.67900001e-03 -9.81006538e-04  5.79064572e-03  1.65026798e-03\\n -3.56556848e-03 -4.17579524e-03 -1.76514545e-03 -4.63579549e-03\\n -6.55675447e-03 -1.22141268e-03 -1.39076344e-03  9.88155790e-03\\n -9.62788239e-03  1.60980714e-03  2.01617088e-03 -7.91070110e-04\\n  4.88042505e-03 -9.55975987e-03  4.57584811e-03 -8.06232356e-03\\n -6.42375741e-03  8.82768945e-04  4.23959969e-03  7.48663442e-05\\n  3.26875760e-03 -6.39289618e-03 -6.88800588e-03 -7.92181864e-03\\n -1.61004474e-03  1.55023318e-02  3.81234288e-03  8.97126086e-03\\n  7.43835419e-03 -9.81532317e-03 -8.08615144e-03  6.13974035e-03\\n  6.74450817e-03 -1.09158200e-03  9.44417206e-06 -7.39488378e-03\\n -1.96636491e-03  9.60182026e-03 -1.41130364e-03  6.82055717e-04\\n  3.87741858e-03  4.29249695e-03  1.03860619e-02  8.13290849e-03\\n  5.36128180e-03  6.13079965e-03  2.38287332e-03 -4.93958732e-03\\n  4.13580006e-03  1.78514642e-03 -1.79205718e-03 -3.77531000e-03\\n -1.05523765e-02 -5.77895716e-03  7.81834032e-03  1.17201889e-02\\n  1.19327405e-03 -1.07312473e-02 -2.39443360e-03  1.48426543e-03]\",\n          \"[-8.44910461e-03  7.25925574e-03  2.52405507e-03 -9.68411192e-03\\n  8.79334286e-03 -5.22089330e-03 -1.37726718e-03  2.95792799e-03\\n  3.19278426e-03 -7.55459629e-03 -4.94541181e-03  2.24620802e-03\\n  4.75612236e-03 -2.66310270e-03  6.37869490e-03 -3.69816623e-03\\n -9.70980152e-03 -5.93704404e-03 -2.79510440e-03 -8.96218047e-03\\n -8.06052703e-03  8.70488759e-04  2.68087909e-03  1.13327317e-02\\n -6.43922621e-03  1.74067763e-03  7.71082705e-03  1.14216395e-02\\n -2.54460867e-03  4.70076362e-03 -1.22938922e-03 -7.81098288e-03\\n  1.01306308e-02  1.85963901e-04  2.12100963e-03  1.00822672e-02\\n  2.22565443e-03 -3.39611969e-03  1.30611181e-03  2.70573166e-03\\n  5.00033982e-03  1.93773527e-02 -1.71142851e-03 -2.68273451e-03\\n  3.05872387e-03 -2.25638878e-03  2.85355054e-04  7.17140688e-03\\n  2.36407024e-04  2.84117018e-03  1.56139431e-03  2.72743148e-03\\n -3.24620545e-04  8.07750621e-04 -6.88034762e-03  7.56417308e-03\\n  1.90191099e-03  2.43102177e-03  3.45572806e-03 -7.28434976e-03\\n -7.94156978e-04 -1.66480150e-02 -7.22296489e-03 -6.19892357e-03\\n  6.41879532e-03 -8.72867834e-03 -7.04254070e-03 -4.28436324e-03\\n -1.78770861e-04  5.14421053e-03  6.45871460e-03 -3.36858700e-03\\n -8.64087313e-04  3.46555794e-03  1.78822811e-04  2.96058715e-03\\n -5.48655959e-03  2.09548641e-02 -4.54463484e-03  1.85087696e-03\\n  6.71582483e-03 -4.18118015e-03  3.19508389e-02  1.30872161e-03\\n -3.62985418e-04 -5.48837846e-03  5.49897272e-03  3.02228821e-03\\n  3.83343524e-03  1.60511781e-03 -4.71092208e-04  6.41473848e-03\\n -9.22850054e-03  1.25447742e-03  3.55142169e-03  2.00307416e-03\\n -3.08492733e-03  3.54301371e-03 -3.23064881e-03 -5.82499243e-03\\n -2.35373504e-03 -6.38309401e-03 -9.77456337e-04  6.00673491e-03\\n -6.23527216e-03 -3.16328183e-03  6.64302032e-04 -2.75390642e-03\\n  7.80981500e-03 -4.34956746e-03  4.95741749e-03  3.98136239e-04\\n  3.68270371e-03 -3.11149430e-04 -1.83512794e-03 -5.93214179e-04\\n -2.14223983e-03  4.19219752e-04  5.43046044e-03  4.74829832e-03\\n -2.75616813e-03  2.52341316e-03  5.45331184e-03 -6.67721359e-03\\n -6.29724190e-03  6.93738461e-04 -9.07269306e-03 -5.59902610e-03\\n  4.85276920e-04 -1.62008137e-03 -2.42760894e-03 -8.05809349e-03\\n  3.19918821e-04  3.29193403e-03  7.13165558e-04 -8.43869988e-04\\n -1.71358103e-03 -2.99988734e-03 -7.27604725e-04 -1.31494727e-03\\n -1.53054262e-03  7.54180271e-03  4.79498040e-03  9.11281619e-04\\n  1.09081082e-02  2.63990089e-03 -1.85556617e-03 -3.64116114e-03\\n  3.67577042e-04 -4.06741444e-03  7.74777494e-03 -6.43455097e-03\\n -2.86808750e-03  2.09164084e-03 -3.13695869e-03  5.56893237e-02\\n  6.44851848e-03  1.36721032e-02 -1.29628205e-03  1.61719072e-04\\n  1.26310242e-02  3.16910492e-03  2.86797830e-03 -2.33302452e-03\\n -5.93758328e-03 -2.69378815e-03 -8.18376779e-04 -3.95057032e-05\\n  4.96390648e-03  9.12014744e-04  6.77037938e-03  8.92580952e-04\\n  4.30228561e-03 -3.32692219e-03 -6.17036736e-03 -3.52355768e-03\\n  6.19477639e-03 -2.05559446e-03 -6.49255374e-03 -1.42848585e-03\\n  7.33261555e-03  2.96717277e-03 -8.92861933e-03 -3.96335497e-03\\n -6.63214363e-03  2.89181666e-03  2.10492071e-04  2.97175895e-04\\n -4.65719076e-03  6.33530365e-03  3.62616917e-03  1.67168607e-03\\n  3.96633334e-03 -1.93012250e-03  1.68124365e-03  3.73340957e-03\\n -5.38262684e-05 -1.31059741e-03  5.91589324e-03 -9.08062980e-03\\n  2.97285453e-03 -5.63189737e-04  1.52246421e-02 -8.88400525e-03\\n  8.09760485e-03  1.62437020e-04  3.83413106e-04  3.48728662e-03\\n  3.27662914e-04 -4.20850096e-03 -1.08018296e-03  6.97562145e-03\\n  3.88203887e-03  5.97652933e-03  3.68428184e-03 -3.96577688e-03\\n  6.22248324e-03  1.09100863e-02  3.32024670e-03  1.90425329e-04\\n  4.60425112e-03  1.41702895e-03  5.58069209e-04  2.19810242e-03\\n -4.61499207e-03  4.92433377e-04  5.78479795e-03 -2.97919789e-04\\n  1.16024411e-03 -9.55372641e-04 -1.42577384e-03  5.85567497e-04\\n  5.97865181e-03  7.95502798e-04  8.16457719e-03 -7.38468952e-03\\n -4.20592073e-03 -3.62934428e-03 -7.86019117e-03  3.32141016e-03\\n -5.63411135e-03  5.87584265e-03  6.70842454e-03  4.79552848e-03\\n  2.61848234e-03  1.68317335e-03  3.10335262e-03  4.76091448e-03\\n  6.87857065e-03  4.39902442e-03 -3.12563288e-03 -3.76346405e-04\\n -3.09530436e-03 -3.68724740e-03 -2.45845469e-04 -2.67014815e-03\\n -9.62044764e-03 -4.34931077e-04 -5.05469367e-03 -1.28969364e-03\\n -8.11833516e-03 -6.89927163e-03 -3.33913369e-04  1.78063195e-03\\n -7.84769841e-03 -2.75888015e-03 -3.54407146e-03 -8.12320097e-04\\n  5.14455000e-03 -2.71973410e-03 -2.16161762e-03 -9.92856640e-03\\n  4.36080992e-03 -1.51242813e-04  3.37232766e-03  1.72360393e-03\\n -1.85507780e-03  3.15306592e-03 -7.04686530e-03  8.91360032e-05\\n -6.97793160e-03 -1.19376946e-02 -5.66809904e-03 -1.67895819e-03\\n -3.66720208e-03 -1.36058521e-03  4.01103345e-04 -3.84399923e-03\\n -1.79893151e-03  1.59658305e-03  5.38438559e-03  3.61606991e-03\\n -3.95935774e-03  3.74009879e-03 -9.37116201e-05 -2.58504791e-04\\n  1.04600480e-02 -1.38910091e-03  5.84177207e-03 -3.67609248e-03\\n -3.51220323e-03 -3.66188679e-03 -2.38678022e-03 -4.74317372e-03\\n -2.50516430e-04 -2.75692460e-03  1.14754320e-03 -3.38858878e-03\\n  3.29062296e-03  2.12345785e-03 -4.45954734e-03 -6.04655640e-03\\n -9.73826740e-03  7.23729283e-03  4.30251501e-04 -1.56847481e-03\\n  6.63758721e-03 -5.61731309e-03  2.14080187e-03  6.13627999e-05\\n -1.77352340e-03  6.83833798e-03  8.23392067e-03 -1.50383823e-03\\n  2.51658930e-04  5.54087618e-03 -1.38695061e-03  1.33757119e-03\\n  2.14461540e-03  3.46899778e-02 -1.86359156e-02  8.71980563e-03\\n  6.22211955e-03  5.99050848e-03  2.58028693e-03 -4.81358450e-03\\n  2.17764731e-03  6.59009349e-03  9.88290738e-03  1.13217114e-02\\n  3.57851619e-04  4.65032877e-03 -1.09474268e-02  3.52515839e-03\\n -1.53931353e-04 -3.38503579e-03  3.52973305e-03 -3.31771281e-03\\n -7.66336627e-04  3.60943167e-03 -1.87001028e-03  1.20341661e-03\\n  3.37039400e-03 -1.28995674e-03 -5.03214542e-04  6.39766455e-03\\n  1.86335004e-04 -2.28932826e-03  2.33003055e-03 -9.88182891e-03\\n  6.83202595e-03  3.52277374e-03  2.26720911e-03 -1.14401337e-02\\n  1.71178894e-03 -4.99197049e-03 -6.82659633e-03  8.28763843e-03\\n  7.33905879e-04  4.18881606e-03  7.89160654e-03 -4.70003486e-03\\n  3.55943484e-04 -1.89297437e-03 -2.06557801e-03  4.95151384e-03\\n  5.95903257e-03  8.00276001e-04  7.31146941e-03  1.31684085e-02\\n -4.44376143e-03 -2.17978191e-03 -5.70385205e-03  3.84273380e-03\\n  6.00227015e-03 -4.73015150e-03  1.94332446e-03 -5.80081600e-04\\n  2.41101952e-03  1.58023834e-03 -5.01502072e-03 -4.18767566e-03\\n  1.19448744e-03 -7.80516956e-03  6.03316491e-03  1.69936020e-03\\n -2.11769226e-03 -1.37175284e-02  2.32216087e-03 -5.68942213e-03\\n  1.80115574e-03  6.25014305e-03 -5.44205541e-03 -1.38195604e-03\\n  1.60269288e-03  1.49841909e-03 -3.50624323e-03 -7.93677475e-03\\n -4.94430278e-05 -1.71345950e-04  4.19526501e-03  6.61204010e-03\\n  5.07358275e-03 -1.39167451e-03  5.25407400e-03 -4.84207319e-03\\n  4.00615111e-03  1.61630649e-03  4.70127183e-04 -3.60044360e-04\\n -3.16422130e-03  2.12175399e-03  6.80168974e-04 -4.55346098e-03\\n  2.50272598e-04 -1.61605235e-03 -4.02207719e-03 -4.16766107e-03\\n -3.37894238e-03 -3.31113406e-04 -3.51034221e-03  6.76622801e-03\\n -4.87567158e-03  1.19345823e-04 -3.18697863e-03 -2.44948850e-03\\n -4.45917976e-04  4.76140622e-03  3.76216834e-03 -1.09608155e-02\\n  2.66662426e-03 -4.21740208e-03  6.04128744e-03  3.01665533e-03\\n -1.37495110e-03 -1.28528930e-03  8.93219374e-03  3.74152488e-03\\n -1.71772181e-03 -3.12872115e-03 -6.59633009e-03  3.59829399e-03\\n -9.59519576e-03 -2.74429135e-02  7.76619650e-03  9.07257316e-04\\n  4.58430406e-03  4.68618819e-04 -6.64690742e-03 -2.33367737e-03\\n  5.85788046e-04 -3.66647029e-03  7.76658393e-03 -4.63744113e-03\\n  1.64382870e-03 -5.16453339e-03 -8.51709954e-03 -2.79672630e-03\\n -4.09103377e-04 -1.70625316e-03  3.35968682e-03 -2.97667575e-03\\n -2.36813398e-03 -1.47908274e-02  4.07183869e-03 -3.83563829e-03\\n -1.19655195e-03  7.67550897e-04  2.35798187e-03 -3.58478772e-03\\n -1.06039981e-03  8.26863747e-04  5.28975157e-03  2.95580877e-03\\n -8.93871579e-03 -4.17765509e-03  8.79065774e-04  1.79627351e-03\\n  9.35010985e-03  1.19631342e-03 -8.58743326e-04 -5.52433683e-03\\n  5.23038395e-03  6.10157708e-03  1.48859089e-02 -1.22757209e-03\\n  1.73161447e-03  3.79745057e-03  8.32148455e-03  1.05859467e-03\\n -4.73622844e-04  2.47333432e-03 -1.97141827e-03  1.47429702e-03\\n  1.30268803e-03  7.59768626e-03 -4.73142229e-03 -2.84782960e-03\\n -4.04838379e-03  7.86262506e-04  1.86235062e-03  3.18814884e-03\\n  1.24547305e-02  2.71308958e-03  5.19120879e-03  4.12975671e-03\\n -4.69416426e-03  9.96189847e-05 -2.95267324e-03 -5.55912824e-03\\n -1.78651081e-03  2.73935427e-03  1.85427058e-03 -7.47353910e-03\\n -8.79859831e-03 -3.92663816e-04  2.71285971e-04 -2.58088228e-04\\n  1.08632836e-02 -5.82665810e-03  6.66223874e-04 -2.50819325e-03\\n  1.00643486e-02  9.41199542e-04  1.88488374e-03  4.51773964e-03\\n  1.09590311e-02  6.24066859e-04  2.51846993e-03 -4.13056416e-03\\n -4.87376889e-03  1.27286860e-03  7.85993319e-03 -4.90715320e-04\\n  6.82955282e-03  9.72654112e-03 -1.63133198e-03 -6.07300270e-03\\n  5.06166928e-03 -2.94387515e-04 -4.26203897e-03 -3.44355404e-02\\n -4.64927731e-03  5.16441837e-03  9.25488421e-04  2.12560422e-04\\n  7.43721565e-03  4.66920948e-03 -9.39242600e-05  1.96364382e-03\\n -3.63672012e-03  9.47246328e-03  6.56338758e-04  6.67221751e-03\\n -9.12540499e-03  3.08894203e-03  6.15604548e-03 -1.94154051e-03\\n -3.36047215e-03  4.92988294e-03 -1.00651123e-02 -2.61140842e-04\\n -3.22212791e-03  1.21554192e-02  2.61268974e-03  9.00328741e-04\\n  6.88380748e-03 -1.36385497e-03 -7.10372115e-04  4.68094600e-03\\n -1.40263885e-03  1.08510652e-03  1.04197033e-03 -8.83042905e-03\\n  4.79725748e-03  4.90035675e-03  1.24365126e-03  2.03917688e-03\\n  9.86263394e-01  8.71233549e-03  2.71841791e-03 -7.15404283e-03\\n  4.67275502e-03 -2.38372432e-03  3.04532063e-04 -8.23162775e-03\\n  2.47883401e-03  9.30543151e-03 -2.97578657e-03 -4.56376700e-03\\n -1.25193270e-03 -6.58244314e-03  1.23959943e-03 -4.50329448e-04\\n -9.10236780e-03 -5.79147739e-03  3.89536540e-03 -4.89023922e-04\\n -2.90483795e-03  5.87431365e-04  3.36169428e-03  6.40230603e-04\\n -6.16688468e-03  4.87977546e-03  2.51955516e-03 -7.78304925e-03\\n  6.05692447e-04  1.58434233e-03 -2.71731435e-04  1.31671783e-03\\n  2.74536991e-03 -3.92736867e-03  5.80994878e-03 -2.83139828e-03\\n  4.32483712e-03  3.51740443e-03  4.62872023e-03  5.16345911e-03\\n  2.59643723e-03  1.64250305e-04  4.17888910e-03  8.91918899e-04\\n  4.45189793e-03  5.18070487e-03  5.67167532e-03  4.87899873e-03\\n  9.94702219e-04  7.22110597e-03  1.07906545e-02 -4.15800000e-03\\n  6.66277250e-03  1.44973234e-03 -2.37604347e-03  1.89519522e-03\\n  4.06759372e-03 -6.19080616e-03  3.76542192e-03  9.75526683e-03\\n -1.84226874e-03  8.81910883e-03  1.42234587e-03  1.06015299e-02\\n -8.99008103e-03  3.61535640e-05  8.26513115e-03  7.87407253e-03\\n -4.53646854e-03 -2.86461506e-03 -9.52784030e-04 -8.99596699e-03\\n -5.25576714e-03  5.48365805e-03  5.50287869e-03 -2.74358667e-04\\n  9.27732792e-03  1.85186582e-04  1.41743664e-03 -4.31779027e-03\\n  3.83496314e-04  2.11152248e-03 -4.54801600e-03  3.82151082e-03\\n  1.08020031e-03  1.08118914e-03  4.74539958e-03  4.01940476e-03\\n  2.97170528e-03 -4.54830658e-03  4.02184611e-04  5.80208143e-03\\n  1.84957695e-03 -3.94575112e-03  1.46702968e-03 -6.23601023e-03\\n  3.21853207e-03 -8.41083471e-03  4.52486845e-03  9.67320427e-03\\n -8.09823535e-03  4.72712656e-03 -4.84222779e-03  2.66230199e-03\\n  5.88577415e-04  1.18242868e-03 -7.02498760e-03 -4.39274590e-04\\n  8.94653203e-04 -6.44531519e-06 -4.48891800e-03  8.85784626e-03\\n  7.04073813e-03 -2.82675633e-03 -2.48574442e-03  5.20202890e-03\\n  1.54736917e-03 -1.19145704e-03  1.94719434e-03  6.04576292e-03\\n -6.37802575e-03 -1.60775136e-03 -4.00385819e-04 -4.21710312e-03\\n -2.39581475e-03 -1.74270791e-03 -9.96358809e-04  7.42283976e-03\\n -8.29381496e-03 -1.57793483e-03 -9.27864749e-04  3.05477576e-03\\n  5.57011878e-03 -3.99700506e-03  4.37508989e-03 -2.84136506e-04\\n -5.35939448e-03  3.43973911e-03  5.05565573e-03  3.41602229e-03\\n -1.66680105e-03 -5.80314174e-03 -5.25271846e-03 -8.39906745e-03\\n -1.20010227e-03  1.08367661e-02  5.97165013e-03  8.15313775e-03\\n  2.04667193e-03 -8.28905217e-03 -2.72111548e-03  9.32255294e-03\\n  3.72873619e-03 -3.20641347e-03  6.25592330e-03 -4.43728501e-03\\n -2.54700403e-03  7.58194644e-03 -3.20054824e-03 -3.77374614e-04\\n  3.57078039e-03  3.00448807e-03  8.67488328e-03  8.04109313e-03\\n  1.63318589e-03  6.70159701e-04  1.00630394e-03  1.62778408e-04\\n  2.92459526e-03  3.37072299e-04 -4.30119908e-05 -8.71456170e-04\\n -8.72053392e-03 -5.55203017e-03  1.32873270e-03  1.04049677e-02\\n  5.57597319e-04 -6.17003581e-03  1.59725052e-04 -3.26413405e-03]\"\n        ],\n        \"semantic_type\": \"\",\n        \"description\": \"\"\n      }\n    },\n    {\n      \"column\": \"description_embedding\",\n      \"properties\": {\n        \"dtype\": \"string\",\n        \"num_unique_values\": 2011,\n        \"samples\": [\n          \"[-7.21127400e-03  6.18593022e-03 -1.82340236e-03 -5.92112215e-03\\n  7.03455787e-03  3.50298523e-03  1.69562246e-03 -3.22771375e-03\\n  7.62764411e-03 -1.74991377e-02 -1.00291288e-03 -1.68552855e-03\\n  6.50394848e-03 -4.77380119e-03  1.73738936e-03  2.43886490e-03\\n -6.44054823e-03  1.29740266e-03  3.85471540e-05 -1.16266441e-02\\n -6.44268934e-03  3.01824242e-04  6.77595846e-03  5.89872990e-03\\n -4.92811110e-03  2.19346816e-03  1.01791760e-02  1.02933599e-02\\n  6.61697239e-04  6.63102604e-03 -8.68814811e-03 -8.57758150e-03\\n  6.53050933e-03 -5.43194590e-03  1.34313115e-04  6.76215021e-03\\n  4.12240392e-03 -1.05937477e-03 -8.33204482e-03 -3.14173452e-03\\n -3.82531347e-04  1.59878246e-02 -9.05346358e-04  5.72313555e-04\\n  8.61948542e-03  1.87186268e-03  1.03527866e-03  5.89230983e-03\\n  3.45098367e-03  1.42713112e-03  1.31693576e-03  2.67381954e-04\\n -4.06415621e-03  2.14469689e-03 -1.00261541e-02  7.35605042e-03\\n -6.28395763e-04  8.66157282e-03  5.27718011e-03 -8.19542911e-04\\n -4.04623133e-04 -1.21425530e-02 -7.35728396e-03 -3.39792692e-03\\n  5.06473891e-03 -1.15533117e-02 -4.32718452e-03  3.22427397e-04\\n  6.88156066e-03  1.35536166e-03 -2.17702729e-03 -5.31146210e-03\\n -1.33924338e-03 -2.57974560e-03 -4.56052832e-03  4.09412105e-03\\n  2.82572070e-03  3.30459662e-02 -1.92862062e-03  2.18025455e-03\\n  7.11368909e-03 -7.04896729e-03  3.06777675e-02  1.00653404e-02\\n -1.89190311e-03 -1.13729702e-03  9.11753438e-03  1.46946020e-03\\n  3.00191878e-03 -8.52624886e-04  2.04508589e-03  1.04336403e-02\\n  2.94212048e-04  2.51231575e-03  3.81317572e-03 -3.28838505e-04\\n -3.63141182e-03  6.60591526e-04 -4.27436922e-03 -2.49593495e-03\\n -9.68658773e-04 -7.46848236e-04  4.62168967e-03  6.70399657e-03\\n -4.11499199e-03 -1.31104805e-03  1.11316249e-03 -4.42185346e-03\\n -6.65101688e-04 -3.12627107e-03 -5.66099363e-04  1.47979194e-03\\n  3.83608812e-03 -1.71335577e-03  5.78201842e-03 -1.27938949e-03\\n  3.86681384e-03  3.75821977e-03  4.64656437e-03  6.51427137e-04\\n -1.92849280e-03  3.91736208e-03  1.13479756e-02 -1.19730865e-03\\n -4.16986085e-03  2.72528827e-03 -3.10882134e-03 -6.29034173e-03\\n  5.03002293e-03  1.66399498e-03 -2.99544679e-03 -1.67693421e-02\\n  1.12553518e-02 -5.08017547e-05  2.96116807e-03  3.72101064e-03\\n -7.47778919e-04 -4.00932069e-04  2.87510175e-03  2.80173379e-03\\n -5.24179032e-03  1.26260740e-03  7.60444719e-03  8.47878307e-03\\n  1.31307524e-02 -1.60359929e-03 -4.58179478e-04 -5.66828763e-03\\n -2.52672727e-03  2.61092512e-03  1.08006429e-02 -8.79419968e-05\\n -1.94912113e-03  1.66302209e-03 -4.24095924e-04  4.07558642e-02\\n  1.56866573e-03  3.57642560e-03 -3.33205517e-03  3.16744344e-03\\n  8.92168097e-03 -2.78613786e-03  3.23398248e-03 -8.34800676e-03\\n  3.89339845e-03 -1.27332355e-03 -1.60519406e-03  4.40763950e-04\\n  1.35781243e-03  1.46716449e-03  9.33016744e-03  5.59046213e-03\\n  5.29513648e-03 -1.16876303e-03 -1.01141620e-03 -6.87883655e-03\\n -4.01341682e-03  6.03926601e-04 -9.76464897e-03  7.73670210e-04\\n  1.78903446e-03  2.47489801e-03 -3.15907015e-03 -3.84574465e-04\\n  3.33224447e-03  3.91516462e-03 -5.10104757e-04 -6.26003428e-04\\n  3.17620789e-03  1.50733220e-04  5.02532208e-03 -7.11127417e-04\\n -2.73444620e-03 -4.74651810e-03  3.80035304e-03  9.81005747e-03\\n  2.25365889e-04 -3.27868992e-03  8.66322964e-03 -6.08999655e-03\\n  1.99984363e-03  1.93388620e-03  8.70904699e-03 -4.05870751e-03\\n  1.15299765e-02 -4.94285021e-04 -4.30157129e-03  8.55642185e-03\\n -4.73844400e-03  7.17605173e-04 -2.47058459e-03  5.91148064e-03\\n -2.93253665e-03  2.69180932e-03 -1.08783029e-03 -6.56167557e-03\\n  2.66484520e-03 -2.38038949e-03  2.74964585e-03 -8.14568717e-03\\n  4.66950517e-03  7.43179349e-03  8.59756983e-05  1.18614349e-03\\n -5.77226933e-03  3.53310117e-03  4.16008057e-03  3.12461192e-03\\n  4.19803616e-03 -2.60031945e-03 -1.51156844e-03  5.07163769e-03\\n -3.89306078e-04  3.79688019e-04  8.52852035e-03 -1.12752998e-02\\n  1.70770253e-03  9.90501489e-04 -1.31781923e-03 -1.11443980e-03\\n -4.75512445e-03  5.71078062e-03  3.18363332e-03  9.45492648e-03\\n -3.03646456e-03  4.84802341e-03  7.64823402e-04  2.69207428e-03\\n  3.56990006e-03  6.94495207e-03 -1.72383303e-03  1.66337437e-03\\n  1.73191214e-03 -1.47839880e-03  7.09508313e-03 -2.80763907e-03\\n -7.10899709e-03  2.45434954e-03 -2.46538944e-03 -1.91155210e-04\\n -8.40346981e-03 -1.69319799e-03  3.12430505e-03 -1.55368517e-03\\n -4.86300513e-03 -7.17842486e-03 -1.19375922e-02  4.79929708e-03\\n  4.62861033e-03  2.41384003e-03 -5.20288013e-04 -7.70289125e-03\\n -2.36662989e-03  3.12063191e-03  3.47331096e-03  7.68342987e-04\\n -3.42043117e-03 -5.76838478e-03 -7.83497840e-03 -2.33199238e-03\\n  4.29061754e-03 -2.48935586e-03 -3.95170320e-03 -4.00030892e-03\\n  2.69356329e-04 -2.77981133e-04 -1.14056130e-03  3.54826683e-03\\n -6.83746068e-04  2.87686980e-05  2.23496789e-03 -2.40737293e-03\\n  2.35644460e-04  4.85668844e-03 -2.59701954e-03  3.26056429e-03\\n  8.45721643e-03 -2.66280933e-03 -2.37658294e-03 -7.84501713e-03\\n -1.55890721e-03 -1.29351197e-02 -6.55994145e-03 -2.09646719e-03\\n  6.25554752e-03 -2.95295753e-03 -1.51834311e-03 -2.60563218e-03\\n -2.65506934e-03  3.05494922e-03 -6.58881525e-03  3.05846729e-03\\n -3.12628457e-03  6.95709651e-03 -3.14621895e-04 -2.77051958e-03\\n  2.24796287e-03 -6.45333389e-03  1.93920417e-03  1.46321021e-03\\n -1.53275754e-03  4.00970131e-03  6.91285217e-03 -4.92882077e-03\\n  3.04767855e-06  4.49416228e-03  3.94220464e-03 -2.33940873e-03\\n  4.93704062e-03  2.56054848e-02 -1.33349085e-02  9.64962784e-03\\n  5.03215753e-03  4.72705113e-03  8.59504472e-03 -1.04199571e-03\\n -7.20272656e-04 -4.48574137e-05  5.95980743e-03  1.42085589e-02\\n -1.38518913e-03 -1.44490087e-03 -6.68251188e-03  1.89898012e-03\\n -4.98857070e-03  4.18982049e-03  2.49909773e-03 -3.96789704e-03\\n -2.43299478e-03  3.04606417e-03 -6.72346586e-03  2.69377418e-03\\n -2.02118442e-03 -4.87089995e-03  2.15969258e-03  8.69166665e-03\\n  7.45234126e-03  2.24452093e-03 -2.21690978e-03 -6.27744477e-03\\n -2.97348452e-05 -3.88964475e-03 -3.83307436e-03 -8.67808145e-03\\n  5.99111721e-04 -1.99676069e-04 -1.89840957e-03  3.28129390e-03\\n -2.31178268e-03  7.30025861e-03  7.53655424e-03 -3.86847788e-03\\n  3.37157655e-03 -2.88956496e-03 -5.93821239e-03  1.85766059e-03\\n -8.28935998e-04  3.02013406e-03  2.63738888e-03  1.08647700e-02\\n -3.31235887e-03  6.29952818e-04 -6.43619569e-03  3.86231090e-03\\n  2.01390265e-03 -5.78140048e-03  4.35602386e-03  1.35222147e-03\\n  1.25814322e-02  5.31129818e-03 -5.52645011e-04 -5.59722865e-03\\n -5.23535116e-03 -1.04778493e-02  6.02344330e-03  1.98629685e-03\\n -3.75838391e-03 -4.52233152e-03  1.13303692e-03 -7.89169129e-03\\n  2.96337972e-03  1.59236835e-03 -4.66387626e-03 -9.66711668e-04\\n  2.82218563e-03  5.43669704e-03 -6.55441219e-03  2.15846323e-03\\n -6.00355503e-04 -2.38399650e-03  4.05154144e-03  8.22277367e-03\\n  5.54697122e-04 -8.70451704e-03 -6.22821215e-04 -5.99999214e-03\\n  4.03299276e-03  1.22488709e-04 -3.93510936e-03 -2.68667541e-03\\n -2.23926222e-03  1.77147580e-04 -1.92831422e-03 -2.81418255e-03\\n -5.22000110e-03  4.54779045e-04 -1.75381417e-03 -9.21401661e-03\\n -8.72244686e-03 -3.45396600e-03 -5.90358488e-03  3.85177415e-03\\n -6.86162245e-03  1.77153328e-03 -1.85638526e-03 -5.64153772e-03\\n  1.29665236e-03  7.38735311e-04  1.29816486e-04 -7.22914236e-03\\n  1.38102949e-03 -7.89381191e-03  2.63856910e-03  2.73906393e-03\\n -2.18496099e-03 -7.90772785e-04  5.39700547e-03  4.72898610e-05\\n -6.10529864e-03  4.45368560e-03  1.84107514e-03  2.50608870e-03\\n -6.33259024e-03 -3.10230795e-02  7.00925011e-03  5.38491830e-03\\n  4.40512598e-03 -2.84653914e-04 -7.37188803e-03  3.15605989e-03\\n  1.02055620e-03  1.61491160e-03  1.03912288e-02 -2.36893189e-03\\n  4.86811390e-03 -2.35593016e-03 -4.22160095e-03  2.17518513e-03\\n -3.66937224e-04  1.30464323e-03  2.55772029e-03  5.39489230e-03\\n -9.72244481e-04 -1.28742605e-02  4.76611592e-03 -8.03773932e-04\\n -4.25033970e-03  3.35304579e-03 -5.17398305e-03 -4.63716313e-03\\n -7.99478404e-03 -2.24902807e-03  6.15881896e-03  3.88938148e-04\\n -2.53199600e-03  4.60567564e-04 -3.24735697e-03  2.33181613e-03\\n -2.14903872e-03 -4.27322183e-03 -2.49919947e-03 -3.26630077e-03\\n  4.57413774e-03  4.64263931e-03  1.41422758e-02 -6.98859803e-03\\n  9.43280384e-03  6.46316621e-04  8.45290814e-03  5.09031303e-03\\n  6.31996011e-03 -6.50934270e-03 -7.15300906e-04  2.74288375e-03\\n -1.15942641e-03  6.64264848e-03 -3.38862324e-03 -4.37862240e-03\\n  5.78472624e-03 -5.63374069e-03  2.64665531e-03  1.89169403e-03\\n  1.12263523e-02  4.01737913e-03 -1.29014708e-03 -2.69638561e-03\\n -2.62722513e-03 -2.63017137e-03 -3.24685313e-03 -5.95625304e-03\\n -4.97710984e-03 -5.22995461e-03  1.43867114e-03  1.24266162e-03\\n -4.06315876e-03 -3.46396072e-03 -5.29965851e-03  9.61361511e-04\\n  9.61264316e-03 -6.38687238e-03 -2.60654930e-03 -9.11223143e-03\\n  9.11198463e-03  2.37511005e-03 -7.07017723e-04  7.56704574e-03\\n  8.37310310e-03  3.27329407e-03  9.83779319e-04 -4.20245621e-03\\n -3.63516016e-03  1.55712711e-03  6.01205882e-03 -5.87215926e-03\\n  6.44633453e-03  7.16133788e-03  9.88697400e-04 -2.88588530e-03\\n  5.00794267e-03  2.77827354e-03  4.68327571e-03 -4.23443615e-02\\n -2.80829659e-03  1.03853093e-02 -4.78800153e-03  2.29104058e-04\\n -1.85791170e-03  4.32226015e-03 -1.01681601e-03  1.71680131e-03\\n -3.59897921e-03  8.19020625e-03  9.77842975e-03  4.50900337e-03\\n -8.16168170e-03  1.06531708e-02  3.08373664e-03 -3.93930543e-03\\n -6.32145861e-03  9.28453228e-04 -1.31793972e-02 -9.76930372e-04\\n -5.31561207e-03  1.23431263e-02  5.84165566e-04 -5.73195470e-03\\n  1.18303783e-02  7.72216532e-04  4.03537741e-03 -5.92536700e-04\\n  1.65513877e-04  5.23521518e-03  3.75752710e-03 -5.33253420e-03\\n  4.95565310e-03  1.26471056e-03  3.76409991e-03 -3.06407775e-04\\n  9.86422181e-01  7.40081770e-03  6.10353425e-03 -4.39526048e-03\\n  4.65702033e-03 -6.07181294e-03  5.87041723e-04 -9.74271633e-03\\n  4.13284404e-03  5.62362745e-03  6.13601471e-04 -9.61244013e-03\\n -4.90595726e-03 -8.24651308e-03  1.98640279e-03 -4.60966164e-03\\n -4.95346216e-03  4.81627503e-05  8.45135283e-03 -3.10293469e-03\\n -9.98759642e-03 -1.50559326e-05  2.66288035e-03 -3.70683731e-03\\n -7.85514805e-03  2.58224667e-03  3.81926983e-03 -3.92463803e-03\\n  3.34630167e-04  5.54499635e-03 -7.28154730e-04  1.46626995e-03\\n  4.19429736e-03 -1.69271813e-03  6.61557680e-03  4.11038147e-03\\n -1.63229578e-03 -1.44327292e-04  5.42588823e-04  1.07101037e-03\\n  1.28979713e-03  8.86453898e-04  2.51257396e-03  8.12422251e-04\\n  2.89333868e-03  2.03439570e-03  5.14986645e-03  1.01243267e-02\\n -2.53336923e-03  5.44767734e-03  4.41046292e-03 -5.75958751e-03\\n  6.16829144e-03  1.56481459e-03  2.40182635e-04 -3.03231506e-03\\n  4.92835650e-03 -1.09225779e-03  4.37764404e-03  7.46218720e-03\\n -4.13759612e-03  9.70463175e-03  4.27646702e-03  6.37517835e-04\\n  1.50105124e-03  7.42788985e-03  9.62211285e-03  1.75182498e-03\\n -6.98845927e-03 -1.75866485e-03  3.60518508e-03 -4.89208382e-03\\n -1.17962854e-03  8.17020409e-05  5.32555208e-03 -5.64626826e-04\\n  8.14920198e-03 -4.36277874e-03  7.73281266e-04 -4.14713798e-03\\n  8.48504074e-04  1.01067359e-03 -5.59784705e-03 -3.49982904e-04\\n -2.56273226e-04 -8.72923527e-04 -3.13766504e-04  6.80015050e-03\\n -3.24641075e-03 -1.53200235e-02 -4.75843530e-03  2.72789109e-03\\n  3.87760374e-04 -7.18438881e-04  2.66190944e-03 -4.11271304e-03\\n  3.58015718e-03 -1.01196133e-02  7.22865714e-03  2.99188029e-03\\n -9.65916272e-03  5.13338670e-03  1.73697050e-03  1.05170449e-02\\n  1.35350885e-04 -2.07741046e-03  5.44594193e-04  3.94927850e-03\\n  1.30202307e-03  2.62430264e-03 -1.99124054e-03  4.85784095e-03\\n  4.28701052e-03 -4.66345437e-03  3.66686122e-03  9.80050955e-03\\n  4.05567029e-04 -4.21138899e-03  4.32994450e-03  8.27640854e-03\\n -6.83670165e-03 -3.26070003e-03 -7.10674375e-03  1.04449096e-03\\n -1.22123794e-03 -2.26076855e-03 -1.23792316e-03  3.17105721e-03\\n -3.84668144e-03  1.62853149e-03 -8.63665773e-04  8.23250599e-03\\n  5.59164071e-03  7.26649305e-03  8.94167367e-03 -5.01103408e-04\\n  1.50634689e-04  5.61332889e-03  2.20302981e-03  7.70413363e-03\\n -2.35497416e-03 -2.31463951e-03  2.42596446e-03 -1.04482546e-02\\n  1.43339264e-03  2.89234938e-03  6.33764430e-04 -2.60710716e-03\\n  3.66144371e-03 -1.68938219e-04 -6.69875368e-03  9.05438513e-03\\n  6.26222137e-03 -3.90304206e-03  1.21528411e-03 -6.40438776e-03\\n -5.71002660e-04  1.29297823e-02  2.30593351e-03 -2.14966526e-03\\n  7.96316843e-03 -9.59354080e-03  8.99357256e-03  2.74257548e-03\\n  1.42683496e-03  3.60745192e-03  1.84489123e-03 -9.23590094e-04\\n -1.51666033e-03 -2.71509605e-04 -1.57527241e-03 -4.69976617e-03\\n -4.63655824e-03 -7.46846339e-03 -1.92946091e-03  3.69389704e-03\\n  8.23540986e-03 -8.21387582e-03  3.88361886e-03 -8.30594636e-03]\",\n          \"[-5.62556367e-03  6.34984300e-03 -1.67375372e-03 -9.07491054e-03\\n  8.13774019e-03  2.50082696e-03  9.52922914e-04 -3.92188458e-03\\n  9.20706801e-03 -1.55978184e-02 -7.07481697e-04  1.80923834e-03\\n  5.67740062e-03 -8.60510580e-03  2.27016490e-03  9.02496395e-05\\n -9.61173326e-03  1.12046639e-03 -3.73861578e-04 -1.09846788e-02\\n -5.53704379e-03 -6.50924572e-04  5.68613084e-03  6.62583578e-03\\n -4.34020488e-03  1.96589367e-03  7.58700958e-03  1.02772573e-02\\n -2.95758387e-03  8.61883163e-03 -6.41946634e-03 -3.61019792e-03\\n  8.48976243e-03 -5.70250303e-03  2.55117798e-03  3.05348635e-03\\n  5.83886821e-03 -1.30693463e-03 -5.68182161e-03 -2.77162157e-03\\n  3.43302439e-04  1.58088189e-02 -2.20596534e-03 -1.18485675e-03\\n  8.17466155e-03  1.18389528e-03  3.36519908e-04  6.36619003e-03\\n  2.74453615e-03  8.99257197e-04  2.87158485e-03  3.37329839e-04\\n -7.53097283e-03  2.59064673e-03 -8.48778058e-03  9.05482750e-03\\n  2.03437987e-04  5.11617539e-03  2.88836658e-03  7.99157657e-04\\n  2.32160019e-04 -1.50022963e-02 -8.03429075e-03 -6.09646132e-03\\n  4.52219229e-03 -1.09985657e-02 -2.93359836e-03 -6.39710051e-04\\n  8.72199330e-03  7.44703412e-03  2.39465560e-04 -4.03499557e-03\\n -1.57986695e-04 -2.50799744e-03 -5.90934651e-03  4.40430408e-03\\n  1.44925248e-03  3.14161368e-02 -1.98535668e-03  1.37321092e-03\\n  5.89704281e-03 -5.90348104e-03  3.60485502e-02  5.46418130e-03\\n -3.59738874e-03  2.55901762e-03  8.64486117e-03  3.38466465e-03\\n  1.49281777e-03 -4.25944012e-03  1.52672164e-03  1.02403052e-02\\n  1.77555819e-04  2.37606768e-03  3.27491458e-03  2.31809914e-03\\n -2.96361768e-03  7.14544998e-03 -6.79831905e-03 -3.60976183e-03\\n -1.39971543e-03 -5.90514450e-04  9.36865900e-03  5.42009110e-03\\n -4.56886506e-03 -9.94494185e-05  3.65011045e-03 -4.63520037e-03\\n -7.06670224e-04 -3.37936869e-03  2.85680499e-03  1.41832791e-03\\n  7.60051748e-03  4.39671741e-04  4.93127527e-03 -1.15200144e-03\\n  2.48454371e-03  2.47029075e-03  3.57315643e-03  3.21049080e-03\\n  9.02501750e-04  5.89072611e-03  1.10396435e-02 -3.62047856e-03\\n -2.43687537e-03 -1.04150160e-04 -5.32269105e-03 -4.46290337e-03\\n  2.82605295e-03  2.47887941e-03 -1.38898601e-03 -1.43333497e-02\\n  1.02865687e-02  2.90914066e-03  2.72487011e-03  4.34790272e-03\\n -1.35535386e-03 -6.04799995e-03 -1.40843331e-03  3.19832773e-03\\n -8.24256241e-03  3.42551339e-03  6.15370413e-03  1.11461412e-02\\n  1.18593005e-02 -2.36777519e-03 -2.70195247e-04 -4.99594118e-03\\n -6.38375583e-04  2.46146756e-05  1.11566419e-02 -1.41625025e-03\\n -1.32178378e-04  3.81818460e-03  2.92059529e-04  4.84485216e-02\\n  1.91328884e-03  6.76689250e-03 -2.86741718e-03  1.22165668e-03\\n  1.10458406e-02 -2.88259704e-03  4.18102089e-03 -8.33595823e-03\\n -2.38516065e-03 -9.28112655e-04  1.49304105e-03  5.55396022e-04\\n -5.33195271e-05  2.09550490e-03  8.49228818e-03  3.78238317e-03\\n  4.96887928e-03 -8.12625105e-04 -2.54726969e-03 -7.12479698e-03\\n  6.11790223e-04  3.50037776e-03 -9.88441426e-03  1.10381647e-04\\n  4.11961088e-03  5.12898341e-03 -5.47664985e-03 -2.35542702e-03\\n  2.42425431e-03  6.39433553e-03  7.07643863e-04  1.27160701e-03\\n  1.86442013e-03 -3.20281181e-03  5.28171472e-03 -5.92868775e-04\\n -9.23087238e-04 -3.69630288e-03  2.06229021e-03  1.18393200e-02\\n  6.08107366e-04 -2.06008856e-03  3.77489650e-03 -6.46032346e-03\\n  2.76937499e-03  4.78972634e-03  1.01462761e-02 -4.08010324e-03\\n  9.86077823e-03 -9.36661905e-04 -1.33799750e-03  6.85091224e-03\\n -2.12880177e-03  1.04650576e-03 -2.09478149e-03  6.69899443e-03\\n  1.98776764e-03  5.17645106e-03 -1.16781343e-03 -4.21694620e-03\\n  3.83188226e-03 -2.44294014e-03  3.81904282e-03 -7.73273548e-03\\n  4.38296515e-03  5.83570683e-03 -6.23357366e-04  2.90467194e-03\\n -3.43045499e-03  1.52687635e-03  6.88507268e-03  2.28520273e-03\\n  3.81963328e-03 -3.28218611e-03 -2.75199395e-03  6.33604079e-03\\n -1.42084900e-03  1.58444734e-03  8.52641836e-03 -1.28679378e-02\\n -1.49064837e-03  1.05452526e-03 -3.00176267e-04  2.47239647e-03\\n -6.93166442e-03  5.09412261e-03  2.27075745e-03  8.90245661e-03\\n  3.38307902e-04  6.75528124e-03  3.11912363e-03  3.45393270e-03\\n  1.43879303e-03  7.88131356e-03 -3.32022109e-03  8.57891631e-04\\n -5.03566931e-04 -4.27567400e-03  4.26034071e-03 -3.27709271e-03\\n -8.16653483e-03  1.05099345e-03 -7.69254926e-04 -6.80537720e-04\\n -1.03293713e-02 -2.20772927e-03  4.25707316e-03 -2.82660848e-03\\n -6.02613622e-03 -4.44238586e-03 -9.71585792e-03  4.68312996e-03\\n  6.10839622e-03 -7.22653931e-05 -1.88733032e-03 -9.00809281e-03\\n -3.59642901e-03  3.40798870e-03  6.33819262e-03  6.17209007e-04\\n -3.21049988e-03 -4.27069003e-03 -8.95614922e-03 -9.23387241e-04\\n  2.01520976e-03 -4.45668120e-03 -3.90802417e-03 -4.81486600e-03\\n  5.16979606e-04 -4.79929498e-04 -1.91550213e-03  3.32046038e-04\\n -2.16980960e-04  5.07464493e-03  2.48138770e-03 -1.67165336e-03\\n  1.81156001e-03  1.67779857e-03 -1.38468074e-03  3.16320895e-03\\n  9.21385642e-03 -2.07059924e-03  4.70194536e-05 -7.01400917e-03\\n -4.38403711e-03 -1.28765330e-02 -6.44900883e-03 -2.07322114e-03\\n  4.21057781e-03 -5.30527905e-03 -1.26761908e-03  9.80919693e-04\\n -2.21657194e-03  2.50921492e-03 -6.50932360e-03  2.04425235e-03\\n -6.02562912e-03  1.09978719e-02  1.80202813e-04 -2.47069472e-03\\n  5.63337514e-03 -6.16672309e-03  3.64440586e-03  4.25594253e-03\\n -3.10343312e-04  8.49920977e-03  6.09177444e-03 -6.82163564e-03\\n  1.59678923e-03  3.00267339e-03  4.73401695e-03 -2.85404478e-03\\n  2.53319833e-03  2.91605052e-02 -1.22990878e-02  9.45482496e-03\\n  5.57834236e-03  1.71513669e-03  8.80135130e-03  2.93505233e-04\\n  2.74063554e-03  2.00063759e-03  5.15543064e-03  1.50973406e-02\\n -1.44005753e-03  2.64451909e-03 -6.84570009e-03 -1.66921862e-04\\n -4.62978380e-03  4.46817372e-03  8.40339344e-04 -3.74294375e-03\\n -2.21423199e-03  4.46434692e-03 -4.97181248e-03  5.53348975e-04\\n -5.01545379e-03 -2.28905352e-03  1.13083108e-03  9.47324932e-03\\n  7.41238892e-03  1.33565429e-03 -2.92749912e-03 -5.62865427e-03\\n  2.27048644e-03 -3.77879664e-03 -3.48347053e-03 -6.90311287e-03\\n -5.91659278e-04 -2.80192733e-04 -4.15396760e-04  3.42841656e-03\\n -1.28842448e-03  7.54436431e-03  8.34692549e-03 -4.34035249e-03\\n  2.03966885e-03 -8.32292309e-04 -4.21832176e-03  1.39580481e-03\\n -2.08639167e-03  2.25641252e-03  1.81817345e-03  1.12173883e-02\\n -3.79575114e-03 -1.35849637e-03 -5.72399003e-03  4.71428828e-03\\n  5.25898021e-03 -4.47368482e-03 -1.69549676e-04  1.51405533e-04\\n  1.41929155e-02  3.23382003e-04 -1.78590941e-03 -7.66043877e-03\\n -5.13297366e-03 -8.99794511e-03  6.98145432e-03 -5.47987001e-04\\n -3.08365095e-03 -9.85435769e-03  2.59390287e-03 -8.04706942e-03\\n  1.69961329e-03  4.92942287e-03 -3.84443626e-03  1.04201236e-03\\n  4.84787946e-04  4.34127729e-03 -6.26300881e-03  2.95492704e-03\\n -1.89133512e-03 -4.06040391e-03  2.51064729e-03  9.98572912e-03\\n  4.68013721e-04 -1.05392439e-02 -1.02582120e-03 -7.31985876e-03\\n  6.30763173e-03  4.83394455e-04 -6.97935699e-03 -9.82305617e-04\\n -3.88783589e-03  1.00714969e-04 -3.60227190e-03 -3.36584030e-03\\n -4.39050375e-03 -1.25556742e-03 -1.90770009e-03 -9.06738546e-03\\n -6.25115586e-03 -5.28836390e-03 -3.43103358e-03  4.38639522e-03\\n -6.03916729e-03  1.16910937e-03 -3.24347452e-03 -6.95349183e-03\\n  1.98139041e-03  9.27081928e-05 -1.62249408e-03 -8.66725668e-03\\n -5.03738644e-04 -5.20947715e-03  3.61401215e-03  1.82251877e-03\\n -3.82682960e-03 -1.15790172e-03  5.76943392e-03  2.50113290e-03\\n -9.29159392e-03  7.70955172e-04  1.75153418e-03  4.67204349e-03\\n -7.38649257e-03 -3.93084772e-02  7.60467630e-03  3.13742459e-03\\n  1.44573208e-03 -2.48708064e-03 -1.02371918e-02  5.30848233e-03\\n -7.38173141e-04  4.65153425e-04  1.16850659e-02  1.92104621e-04\\n  3.93334311e-03 -2.41810898e-03 -3.20310239e-03  2.56451545e-03\\n -5.29370643e-03  3.12373345e-03  3.39244120e-03  4.94961441e-03\\n -1.86775578e-03 -1.01433210e-02  3.67368408e-03 -3.00550344e-03\\n -3.78672878e-04  5.08011878e-03 -3.00122844e-03 -6.52275607e-03\\n -7.37660378e-03 -2.31956411e-03  5.14606573e-03  8.51199497e-04\\n -2.82453746e-03 -1.61255139e-03 -1.64079806e-03 -1.43972342e-03\\n  1.83465832e-03 -3.72076733e-03 -3.30647337e-03  2.18081390e-04\\n  6.99818553e-03  4.44369065e-03  1.44665753e-02 -8.05435795e-03\\n  7.39099132e-03 -6.34303666e-04  9.11541376e-03  4.24352847e-03\\n  5.50903287e-03 -6.49085594e-03  1.36611355e-03  1.28427858e-03\\n -1.09360192e-03  6.76708110e-03 -5.86849358e-03 -2.93288240e-03\\n  2.73117842e-03 -3.16815288e-03  3.75569076e-03  2.12346227e-03\\n  1.35088377e-02  3.42017668e-03 -2.91552969e-05 -2.45424826e-03\\n -2.87885987e-03 -9.09319788e-04 -8.94117285e-04 -3.56591609e-03\\n -5.49543742e-03 -5.60172321e-03  5.48835378e-04 -1.55782420e-03\\n -6.83859736e-03 -3.49388598e-03 -1.91856595e-03  1.47676002e-03\\n  8.03542417e-03 -6.53439993e-03  8.75198573e-04 -6.42786827e-03\\n  1.03579583e-02  1.83941238e-03  4.29194799e-04  1.01071848e-02\\n  6.64387550e-03  4.90187015e-03 -2.57744384e-03 -6.06712513e-03\\n -4.49294737e-03  2.96269264e-03  2.72045727e-03 -3.02487146e-03\\n  1.03767337e-02  2.71792384e-03 -1.76418514e-03 -6.22122642e-03\\n  2.54519400e-03 -8.87859729e-04  4.11908748e-03 -4.57776338e-02\\n -4.96045221e-03  9.07383207e-03 -3.94842308e-03 -1.26520614e-03\\n -3.03611532e-03  1.49685526e-04 -4.06272040e-04  9.81780700e-04\\n -4.57135821e-03  9.36985761e-03  7.08641903e-03  1.98894273e-03\\n -9.52632912e-03  8.61089770e-03  3.58497142e-03 -6.33279036e-04\\n -3.07924906e-03 -6.21830171e-04 -1.61424167e-02  2.45550298e-04\\n -4.83127497e-03  1.34430286e-02  8.24477873e-04 -5.82349952e-03\\n  1.35028539e-02 -2.55800737e-03  4.79098270e-03 -1.10967201e-04\\n -1.28024793e-03  5.33979386e-03  3.78260133e-03 -4.80719516e-03\\n  7.36198993e-03  4.88004601e-03  1.02084572e-03 -3.95174045e-03\\n  9.84803200e-01  8.53148568e-03  3.04631190e-03 -4.44327947e-03\\n  3.27297742e-03 -5.61986398e-03  2.80705211e-03 -5.19330334e-03\\n  6.16506021e-03  7.22741336e-03  2.67657655e-04 -6.03866996e-03\\n -2.49581039e-03 -8.77386518e-03  5.48900943e-03 -3.78567004e-03\\n -4.89946268e-03 -1.49791711e-03  5.24704345e-03 -3.32112750e-03\\n -6.72325352e-03  4.46197204e-03  3.21511575e-03  6.34502503e-04\\n -8.04425124e-03 -2.71552545e-03  1.04544405e-03 -2.98169209e-03\\n -9.88431158e-04  2.60714279e-03 -5.32552274e-03  6.33577234e-04\\n  3.91535927e-03 -2.33460287e-05  1.21552614e-03  5.70099335e-03\\n  2.46718735e-03  2.91097537e-03  1.43842131e-03  1.79289863e-03\\n  2.45204777e-04  5.26937516e-03 -9.68112494e-04  4.88178758e-03\\n  4.13799845e-03  2.23881332e-03  4.53747343e-03  1.19323349e-02\\n -3.93856782e-03  6.97833858e-03  4.70486842e-03 -5.57861244e-03\\n  7.22641870e-03  2.11915188e-03  1.33914116e-04 -3.53669235e-03\\n  3.44524602e-03 -2.06285343e-03  7.64465751e-03  5.82999643e-03\\n -5.33714192e-03  9.20542795e-03  4.56079794e-03  1.22183096e-03\\n  1.54265855e-03  7.12980377e-03  9.24106222e-03  2.74888729e-03\\n -8.09609517e-03 -1.39249011e-03  1.52371090e-03 -5.52900368e-03\\n -3.65622365e-03 -3.23244510e-03  8.58878531e-03 -5.14747482e-03\\n  1.24991024e-02 -1.92730618e-03  7.24727521e-04 -3.61243519e-03\\n -2.76870443e-03  8.00459122e-04 -6.40113279e-03 -2.83472100e-03\\n  4.61593177e-03  4.37841401e-04  2.02694465e-03  7.96304550e-03\\n -5.84705453e-03 -1.66258942e-02 -4.38894285e-03  8.42072070e-03\\n  7.93604355e-04 -4.14245203e-03  3.21110780e-03 -3.53241968e-03\\n  3.51828337e-03 -9.89533868e-03  7.36932829e-03  4.24551638e-03\\n -8.40207096e-03  4.81108529e-03 -1.66525785e-03  1.18005937e-02\\n -1.58635993e-03 -2.03737943e-03 -1.02474599e-03  2.83107650e-03\\n  4.53722809e-04  6.89700420e-04 -3.19772377e-03  3.29501112e-03\\n  4.40319069e-03 -5.20756328e-03  3.49418679e-03  9.97663755e-03\\n  2.46975105e-03 -3.24808131e-03  5.86661324e-03  6.89308718e-03\\n -7.61321327e-03 -7.57101132e-03 -4.45618900e-03  1.90073950e-03\\n -3.02352407e-03 -1.07897248e-03 -1.01203332e-03  5.82881318e-03\\n -4.55256458e-03  2.32033373e-04 -8.58237763e-05  8.76429863e-03\\n  5.19654248e-03 -9.64297506e-04  9.47553385e-03  1.03786308e-03\\n  2.25422802e-04  8.75934772e-03  6.04326418e-03  5.57603501e-03\\n -4.47867531e-03 -4.17632656e-03  1.48608291e-03 -1.32633103e-02\\n  2.70340033e-03 -2.90704588e-03 -7.38399976e-05  5.10236016e-04\\n  5.43128652e-03 -2.42044474e-03 -4.61990386e-03  9.36802756e-03\\n  8.55955947e-03 -1.73442834e-03  1.58507342e-03 -8.23359285e-03\\n  1.05291151e-03  1.16985301e-02 -3.49327660e-04 -2.36795473e-04\\n  7.84347113e-03 -5.80102252e-03  8.49317387e-03  4.39441623e-03\\n  4.98309406e-03  2.31573894e-03  1.99089455e-03 -1.34577928e-03\\n -4.42547724e-03  3.07138253e-05 -8.69494455e-04 -4.30226512e-03\\n -5.55885071e-03 -7.59780733e-03  2.36137328e-03  4.30232706e-03\\n  5.88580035e-03 -3.82235553e-03  2.93816812e-03 -9.02716536e-03]\",\n          \"[-7.35006435e-03  7.96358846e-03  1.31000672e-03 -6.94590621e-03\\n  7.75313750e-03  7.50909501e-04  9.67765460e-04 -6.34439872e-04\\n  7.77536910e-03 -1.33130690e-02 -1.08477450e-03  8.98489088e-04\\n  2.97152647e-03 -5.70873497e-03  3.23046581e-03  1.52298063e-03\\n -9.64562409e-03  2.03965930e-03  1.05804577e-03 -1.09985638e-02\\n -8.91758222e-03  3.31340195e-03  2.87249149e-03  6.35067187e-03\\n -3.74530395e-03  2.45755003e-03  6.74792053e-03  1.05977608e-02\\n -7.59412709e-04  8.90874024e-03 -6.49020681e-03 -7.49274483e-03\\n  7.57534895e-03 -6.41960744e-03  1.40953914e-03  4.62855957e-03\\n  3.51766124e-03 -3.24832532e-03 -8.04878213e-03 -1.13123422e-03\\n  3.45779257e-03  1.65598206e-02 -3.74800619e-03  3.02320579e-03\\n  4.57528746e-03 -8.67208058e-04  6.19741972e-04  4.52892669e-03\\n  2.52003432e-03  1.39952183e-03  1.89046748e-03  3.27454298e-03\\n -4.65491740e-03  2.00048485e-03 -8.81870091e-03  8.19390547e-03\\n -2.57781241e-04  3.25626158e-03  4.90704365e-03  1.69754715e-03\\n -6.35418284e-04 -1.41167231e-02 -5.48059633e-03 -3.04710376e-03\\n  3.81819392e-03 -1.09798731e-02 -2.11951975e-03  8.05898337e-04\\n  5.66396862e-03  3.12047009e-03 -4.33077192e-04 -5.43972058e-03\\n -8.77444108e-04 -4.93143406e-03 -4.75165434e-03  3.28185246e-03\\n  3.95323290e-03  2.77789366e-02  6.29500137e-04  4.45578340e-03\\n  6.11823145e-03 -6.39574369e-03  2.79963017e-02  5.30504575e-03\\n -2.87331361e-03  3.33719916e-04  7.12171011e-03 -7.97821631e-05\\n  4.94200084e-03 -1.08028355e-03  2.24615214e-03  9.13807657e-03\\n  1.00328389e-05  1.88891648e-03  4.84038889e-03  3.05490452e-03\\n -2.01770407e-03 -6.98902586e-04 -4.18938603e-03 -5.38333319e-03\\n  9.24189109e-04 -9.12008516e-04  6.01740880e-03  6.44765561e-03\\n -3.60864564e-03  1.67307560e-03  4.84461780e-04 -3.79641075e-03\\n  8.90186988e-04 -2.71848636e-03  2.38571176e-03  2.42144288e-03\\n  3.83545412e-03  7.53097527e-04  4.61671548e-03 -2.47412152e-03\\n  1.23759033e-03  3.60640045e-03  5.14321961e-03  3.24844685e-03\\n  1.25321187e-03  3.46282171e-03  1.31063955e-02 -4.86460282e-03\\n -4.11256729e-03  1.02550187e-03 -3.00803012e-03 -5.20317582e-03\\n  3.66528868e-03  1.97668560e-03 -3.91390314e-03 -1.31085319e-02\\n  1.03378398e-02 -9.24109831e-04  2.09070463e-03  4.07756539e-03\\n -3.88640747e-03 -2.37747864e-03  1.85251574e-03  3.67472065e-04\\n -6.91784825e-03  9.88581218e-04  5.17834863e-03  7.55782146e-03\\n  9.85965412e-03 -3.05044977e-03 -1.13138009e-03 -2.95139197e-03\\n -9.80137964e-04 -9.44016327e-04  9.84742772e-03 -1.24481041e-03\\n -1.73769437e-03  3.22897173e-03  4.05420084e-03  4.68659773e-02\\n -1.04792102e-03  4.97830892e-03 -5.46848075e-03  3.73712205e-03\\n  1.12639777e-02 -9.35878896e-04  3.06539703e-03 -5.42423548e-03\\n  4.21926816e-05  1.48668274e-04 -5.45818475e-04 -1.80631864e-03\\n  8.11513222e-04  2.15419545e-03  8.37729406e-03  4.93406272e-03\\n  5.19737601e-03 -1.51474751e-03 -3.58443800e-03 -5.22737671e-03\\n -1.41833327e-04  2.20990460e-03 -9.93495435e-03  6.46827684e-04\\n  5.16367471e-03  5.33366017e-03 -4.98519745e-03 -2.67535960e-03\\n -9.95773240e-04  5.28432196e-03 -2.63089692e-04  1.64549588e-03\\n  2.46298476e-03 -1.30678446e-03  5.17486036e-03 -1.30378886e-03\\n -2.39373581e-03 -3.15973768e-03  2.78272247e-03  9.83854756e-03\\n  2.16460740e-03 -7.01476121e-03  7.56921340e-03 -6.66525913e-03\\n  4.30865493e-03  1.77598686e-03  8.33489373e-03 -5.81770204e-03\\n  1.00863045e-02 -1.18828763e-03 -2.01752502e-03  6.12127269e-03\\n -2.89450516e-03 -1.35483884e-03 -4.05433960e-03  5.25221368e-03\\n -3.57808848e-03  2.78590503e-03 -1.06465234e-03 -6.26519136e-03\\n  3.32348840e-03  2.46994104e-03  2.84051988e-03 -7.71527458e-03\\n  6.41270494e-03  7.07442965e-03 -4.74303408e-04  1.16350153e-03\\n -3.56202153e-03  7.00896664e-04  4.17462178e-03  2.06746883e-03\\n  4.68283519e-03 -3.38679180e-03 -2.04566983e-03  4.64572804e-03\\n  2.81052256e-04 -7.03085563e-04  6.20267773e-03 -1.15033826e-02\\n  1.50410016e-03 -4.12068584e-05 -1.77675916e-03  4.32840869e-04\\n -8.68643541e-03  4.05807747e-03  2.60960544e-03  7.92590063e-03\\n -2.46206019e-03  4.11085412e-03  4.52852715e-03  4.29994147e-03\\n -6.87899825e-04  7.68176839e-03 -2.94724223e-03  2.26737466e-03\\n  5.99094259e-04 -3.83331394e-03  4.16624593e-03 -2.49274564e-03\\n -8.24653916e-03  2.58174958e-03  9.57741460e-04  1.42236811e-03\\n -7.72884814e-03 -3.56228394e-03  2.19543558e-03 -1.43348018e-03\\n -5.86591614e-03 -5.11381868e-03 -9.90085956e-03  8.98203638e-04\\n  6.09871652e-03 -5.32107952e-04 -9.15765180e-04 -8.90045241e-03\\n -1.05934741e-03  1.21303252e-03  4.69207251e-03  1.83799281e-03\\n -3.01800319e-03 -4.67040949e-03 -8.33853986e-03 -1.85603555e-03\\n  1.15680601e-03 -3.77042452e-03 -6.04981557e-03 -4.91482113e-03\\n  7.07909756e-04 -1.40244756e-05 -4.69839259e-04  1.60861365e-03\\n -2.65977182e-03  4.48567607e-03  5.06488374e-03 -3.59770842e-03\\n  8.73165496e-04  2.68420880e-03 -3.91423935e-03  4.43912577e-03\\n  8.39416217e-03 -3.36126983e-03 -7.51952641e-04 -6.01563137e-03\\n -3.55792674e-03 -1.20026069e-02 -8.47792625e-03 -2.75659491e-03\\n  6.11346168e-03 -3.05707892e-03 -2.29393481e-03 -1.17127027e-04\\n -1.17203488e-03 -1.71300417e-04 -6.87214686e-03 -5.67518466e-04\\n -5.94443223e-03  9.63952206e-03 -1.42225123e-03 -4.29135421e-03\\n  3.32986610e-03 -5.75259048e-03  5.60168689e-03  1.19021127e-03\\n -1.03156734e-03  9.12629534e-03  8.95188935e-03 -3.97921773e-03\\n -2.66120979e-03  4.30553546e-03  5.28464885e-03 -1.99754303e-03\\n  2.73971888e-03  2.84677353e-02 -1.09600490e-02  8.46334640e-03\\n  5.80797810e-03  4.05312609e-03  8.32050294e-03  4.73216292e-04\\n  9.05804045e-05  1.57789316e-03  7.24589359e-03  1.17256008e-02\\n -1.79090363e-03  2.77918275e-03 -6.19467022e-03  7.65491044e-04\\n -3.09267710e-03  2.07300670e-03  4.35560505e-04 -2.11734325e-03\\n  4.46354306e-06  1.87883957e-03 -5.57974260e-03  1.45798444e-03\\n -5.04539954e-03 -3.24188569e-03  2.10441742e-03  6.87863817e-03\\n  6.92626834e-03  1.57195644e-03 -1.46430370e-03 -5.86393988e-03\\n  1.99311948e-03 -3.48902377e-03 -2.77489331e-03 -7.53911491e-03\\n  3.19495471e-03 -9.00380604e-04 -2.21566093e-04  9.94608388e-04\\n -7.54434266e-04  5.14951488e-03  7.58814067e-03 -1.22872368e-03\\n  1.52738567e-03  2.38719265e-04 -3.76378256e-03  1.39493239e-03\\n -2.89197545e-04  3.31701338e-03  1.89769163e-03  1.22535350e-02\\n -2.93353177e-03  1.47121330e-03 -4.98438021e-03  4.91648354e-03\\n  5.51781431e-03 -4.14988259e-03  1.78428704e-03  1.38854596e-03\\n  1.09945899e-02  3.71427718e-03 -7.80877832e-04 -6.89181359e-03\\n -6.50941115e-03 -1.07965143e-02  7.68717518e-03 -4.78371279e-04\\n -2.40632379e-03 -1.06557850e-02  2.75012059e-03 -8.87729321e-03\\n  3.06604523e-03  4.49102744e-03 -5.16740838e-03 -1.66305384e-04\\n  4.97233530e-04  3.99320619e-03 -5.72891580e-03  2.39730929e-03\\n  9.46893764e-04 -1.10627036e-03  2.33387947e-03  6.86866278e-03\\n -3.55072174e-04 -7.15741375e-03 -2.59415689e-03 -8.29431694e-03\\n  6.91036880e-03 -1.99847668e-03 -2.55346298e-03 -2.27517006e-03\\n -2.17420072e-03  1.30001118e-03 -1.50230678e-03 -1.44801650e-03\\n -3.65733751e-03  1.21748191e-04 -5.79302607e-04 -9.75794345e-03\\n -6.58005197e-03 -3.34828882e-03 -1.65468326e-03  4.16402239e-03\\n -5.63741708e-03  2.27784296e-03 -1.47799298e-03 -4.98523004e-03\\n  1.53683266e-03  4.21214267e-04 -2.28382950e-03 -1.05501926e-02\\n  1.32917054e-03 -3.89131228e-03  5.01861935e-03  3.06286360e-03\\n -3.29532987e-03  2.72280583e-03  5.94532397e-03 -4.65790828e-04\\n -5.33841504e-03  5.08499623e-04  3.69826169e-03  3.41937505e-03\\n -6.17065141e-03 -3.04348823e-02  5.29690366e-03  1.10812113e-03\\n  4.02405392e-03  7.13849804e-05 -8.47052410e-03  5.17913979e-03\\n -2.49413005e-03  1.50710670e-03  9.86138452e-03 -1.44226500e-03\\n  4.23984043e-03 -1.84605038e-03 -6.03337074e-03  3.72675643e-03\\n -1.79488023e-04  1.90665154e-03  1.71389547e-03  1.26835867e-03\\n  8.24284623e-04 -1.02743655e-02  5.29326452e-03 -2.08902429e-03\\n -2.82215793e-03  4.19051712e-03 -5.33257890e-03 -6.40362035e-03\\n -6.96877250e-03 -1.06072181e-03  4.98402584e-03 -1.28211788e-04\\n -3.69209819e-03  8.52919300e-04 -1.76632486e-03  1.99524220e-03\\n  2.43985350e-03 -1.37065863e-03 -1.37358147e-03 -2.34786468e-03\\n  4.87769442e-03  3.43788462e-03  1.50937391e-02 -5.35508059e-03\\n  4.00861353e-03  4.88768041e-04  4.92843147e-03  4.73368214e-03\\n  5.41342748e-03 -4.45367815e-03  3.36852879e-03  1.62314682e-03\\n -1.04710995e-03  4.94611776e-03 -3.48482537e-03 -2.73237680e-03\\n  1.47564267e-03 -1.08998804e-03  2.43472052e-03  2.19504070e-03\\n  1.40597066e-02  3.26941186e-03  1.56308670e-04 -1.30014517e-03\\n -3.18291690e-03 -1.83443388e-03 -1.49860675e-03 -6.84835250e-03\\n -3.44969612e-03 -1.91799097e-03 -7.37851195e-04 -1.20601058e-03\\n -5.92445536e-03 -3.78403068e-03 -5.26488619e-03  1.16037112e-03\\n  9.33416560e-03 -5.50563820e-03 -1.32516900e-03 -6.33984851e-03\\n  1.03970803e-02  2.62362370e-03  7.04928942e-04  6.89347414e-03\\n  6.70121750e-03  3.26174847e-03 -6.67468266e-05 -4.00228659e-03\\n -4.16575233e-03 -1.35082053e-04  8.67369212e-03 -4.91042482e-03\\n  7.52288150e-03  6.07412169e-03 -2.67943920e-04 -3.71267414e-03\\n  2.78471806e-03  9.41761420e-04  1.34233886e-03 -4.13150750e-02\\n -4.67643142e-03  8.12401436e-03 -2.87837582e-03 -2.56259809e-04\\n -3.72521929e-04  6.04790519e-04 -2.70393048e-03 -1.22424419e-04\\n -2.23241001e-03  7.17142550e-03  6.50604675e-03  1.68039673e-03\\n -6.69241184e-03  1.07105533e-02  5.04251150e-03 -7.16311217e-04\\n -6.44463487e-03  1.08357240e-03 -1.37531329e-02 -4.77599126e-04\\n -4.97230655e-03  1.10384561e-02  6.61405153e-04 -2.31694919e-03\\n  9.47759673e-03  5.92511438e-04  4.54649143e-03  1.52333290e-03\\n -2.54946854e-03  5.18433424e-03  5.38343051e-03 -6.33091107e-03\\n  4.66165598e-03  3.81387281e-03  2.97629950e-03 -1.22450024e-03\\n  9.87247050e-01  7.15977093e-03  3.31202219e-03 -2.27742107e-03\\n  4.32816613e-03 -3.44038871e-03  1.32340146e-03 -7.31355231e-03\\n  3.07583436e-03  7.44445436e-03 -1.48106177e-04 -6.87043322e-03\\n -4.52406006e-03 -6.42835069e-03  2.15961901e-03 -4.53789998e-03\\n -6.27377396e-03 -2.70287064e-03  6.96847308e-03 -1.09272485e-03\\n -4.71012900e-03  1.60394295e-03  2.74456036e-03 -1.28301769e-03\\n -5.86810615e-03  1.81100634e-03  9.15876648e-04 -3.00878915e-03\\n -1.51905254e-03  3.30840843e-03 -6.86148938e-04 -6.72250520e-04\\n  5.04530827e-03 -1.40966254e-03  4.28122375e-03  4.65617469e-03\\n -8.71076845e-05  3.93458549e-03  2.06798068e-04  2.20773695e-03\\n  2.64133001e-03  2.72562262e-03  1.89778081e-03  2.59057805e-03\\n  2.99851527e-03  1.28122931e-03  3.02133500e-03  7.80317653e-03\\n -3.08692688e-03  4.30806819e-03  5.39882993e-03 -4.69820574e-03\\n  7.37229967e-03  3.45529919e-03  8.69455689e-04 -3.27614811e-03\\n  3.38071398e-03 -3.49251297e-03  7.35757221e-03  6.55801129e-03\\n -6.25980645e-03  9.52884369e-03  3.29375267e-03  2.23212945e-03\\n -5.64360002e-04  6.25522342e-03  7.65956659e-03  4.70613502e-03\\n -8.59968551e-03 -2.02317978e-03  3.27506615e-03 -5.85392723e-03\\n -2.94048782e-03  1.15368643e-03  6.99596386e-03 -3.67799075e-03\\n  1.34629430e-02 -2.40582507e-03  1.35732733e-03 -1.56181736e-03\\n  7.41840107e-04  2.07606470e-03 -5.26561635e-03 -5.54904225e-04\\n  8.35906365e-04 -4.25876322e-04  5.28430939e-03  5.81055833e-03\\n -4.23458777e-03 -1.25548607e-02 -3.95413861e-03  7.26034818e-03\\n  2.58977688e-03 -3.29246302e-03  2.25382950e-03 -2.50532827e-03\\n  1.68727781e-03 -7.35767698e-03  6.38232892e-03  5.07276552e-03\\n -8.16181023e-03  3.92764760e-03 -1.73700799e-03  1.10661471e-02\\n -2.98789091e-04 -3.71477986e-03  7.08749169e-04  2.12332117e-03\\n  1.17485062e-03  1.72528985e-03 -3.49686551e-03  4.32757335e-03\\n  4.77758702e-03 -4.38758638e-03  1.14335597e-03  9.50963795e-03\\n  1.18440366e-03 -2.94691557e-03  4.73075174e-03  7.43204914e-03\\n -6.55227900e-03 -4.87639336e-03 -5.45430882e-03  1.77868246e-03\\n -1.58959057e-03 -1.98974716e-03 -4.47426399e-04  5.81383146e-03\\n -4.17180406e-03 -5.70156553e-04 -5.97710314e-04  5.96158206e-03\\n  6.09372184e-03  2.37167673e-03  8.36027879e-03  1.84042240e-03\\n  1.37597113e-03  6.45072758e-03  2.21406436e-03  6.22973591e-03\\n -1.47473998e-03 -1.52591278e-03 -1.11297669e-03 -1.39568299e-02\\n  2.19864189e-03  2.75690062e-03  7.99159752e-04  1.01001898e-03\\n  3.59557732e-03 -1.80885172e-03 -5.86902257e-03  9.61999875e-03\\n  5.64609235e-03 -2.24818359e-03  8.04057869e-04 -5.04765939e-03\\n  2.16796435e-03  1.03180166e-02 -6.71122223e-04 -2.87055946e-03\\n  8.84469878e-03 -9.54114553e-03  7.52418954e-03  4.98519419e-03\\n  2.79462128e-03  2.46176822e-03  1.27830496e-03 -5.58174099e-04\\n -3.69223393e-03  9.30425536e-04 -1.47172506e-03 -3.78192822e-03\\n -4.55764309e-03 -7.49009848e-03  1.15774071e-03  5.17109223e-03\\n  7.71527924e-03 -8.06036778e-03  2.89863208e-03 -9.16495547e-03]\"\n        ],\n        \"semantic_type\": \"\",\n        \"description\": \"\"\n      }\n    }\n  ]\n}"
            }
          },
          "metadata": {},
          "execution_count": 28
        }
      ]
    },
    {
      "cell_type": "markdown",
      "source": [
        "# **Averaging strategy**"
      ],
      "metadata": {
        "id": "MycQq1lQyNBA"
      }
    },
    {
      "cell_type": "code",
      "source": [
        "#эмбеддинги для сюжета и описания объединяем, находим среднее\n",
        "#пото уже косинусное растояние считает между объединенным эмбеддингом\n",
        "#и тем, что пользователь ввел\n",
        "\n",
        "def find_similar_books(user_description, df_cleaned, top_n=3):\n",
        "  user_embedding = get_single_embedding(user_description)\n",
        "  if user_embedding is None:\n",
        "    return \"Invalid description provided\"\n",
        "\n",
        "  similarities = []\n",
        "  valid_indices = []\n",
        "\n",
        "  for idx, (desc_emb, plot_emb) in enumerate(zip(df_cleaned[\"description_embedding\"], df_cleaned[\"plot_embedding\"])):\n",
        "    if desc_emb is None:\n",
        "      book_embedding = np.array(plot_emb)\n",
        "    elif plot_emb is None:\n",
        "      book_embedding = np.array(desc_emb)\n",
        "    else:\n",
        "      book_embedding = (np.array(desc_emb) + np.array(plot_emb)) / 2\n",
        "\n",
        "    similarity = cosine_similarity(user_embedding.reshape(1, -1), book_embedding.reshape(1, -1))[0][0]\n",
        "    similarities.append(similarity)\n",
        "    valid_indices.append(idx)\n",
        "\n",
        "  if not similarities:\n",
        "    return \"No valid embeddings found\"\n",
        "\n",
        "  similarities = np.array(similarities)\n",
        "  top_indices = np.argsort(similarities)[-top_n:][::-1]\n",
        "\n",
        "  recommendations = df_cleaned.iloc[[valid_indices[i] for i in top_indices]][[\"book_name\", \"author\", \"genre\"]].copy()\n",
        "  recommendations[\"similarity_score\"] = similarities[top_indices]\n",
        "\n",
        "  return recommendations"
      ],
      "metadata": {
        "id": "lsI1PPa7yMWz"
      },
      "execution_count": null,
      "outputs": []
    },
    {
      "cell_type": "code",
      "source": [
        "user_input = \"A young wizard discovers his magical heritage and attends a school of magic while facing a dark lord\"\n",
        "recommended_books = find_similar_books(user_input, df_cleaned)\n",
        "print(recommended_books)"
      ],
      "metadata": {
        "id": "B-9Im072yNeL",
        "colab": {
          "base_uri": "https://localhost:8080/"
        },
        "outputId": "1973da19-ab8a-4f37-bd46-340da125339a"
      },
      "execution_count": null,
      "outputs": [
        {
          "output_type": "stream",
          "name": "stdout",
          "text": [
            "                      book_name              author  \\\n",
            "400           A Crown of Swords       Robert Jordan   \n",
            "1701           Strange Gateways   E. Hoffmann Price   \n",
            "1488  A Rendezvous in Averoigne  Clark Ashton Smith   \n",
            "\n",
            "                                 genre  similarity_score  \n",
            "400                            Fantasy          0.997513  \n",
            "1701                   Fantasy, horror          0.997489  \n",
            "1488  Science fiction, Fantasy, Horror          0.997344  \n"
          ]
        }
      ]
    },
    {
      "cell_type": "code",
      "source": [
        "user_input = \"Historical novel about brave women and obstacles they have to overcome\"\n",
        "recommended_books = find_similar_books(user_input, df_cleaned)\n",
        "print(recommended_books)"
      ],
      "metadata": {
        "colab": {
          "base_uri": "https://localhost:8080/"
        },
        "id": "szwSEvXL_kqW",
        "outputId": "f09afc02-4c5c-4f0f-9f8d-0e0985fb7cec"
      },
      "execution_count": null,
      "outputs": [
        {
          "output_type": "stream",
          "name": "stdout",
          "text": [
            "                      book_name              author  \\\n",
            "1488  A Rendezvous in Averoigne  Clark Ashton Smith   \n",
            "1057            Lonesome Places      August Derleth   \n",
            "1701           Strange Gateways   E. Hoffmann Price   \n",
            "\n",
            "                                 genre  similarity_score  \n",
            "1488  Science fiction, Fantasy, Horror          0.998425  \n",
            "1057                   Fantasy, Horror          0.998352  \n",
            "1701                   Fantasy, horror          0.998324  \n"
          ]
        }
      ]
    },
    {
      "cell_type": "code",
      "source": [
        "user_input = \"story about animals and their friendship with humans\"\n",
        "recommended_books = find_similar_books(user_input, df_cleaned)\n",
        "print(recommended_books)"
      ],
      "metadata": {
        "colab": {
          "base_uri": "https://localhost:8080/"
        },
        "id": "jNn3zzfx_qlx",
        "outputId": "aed649a8-599c-42d5-c94d-23c8527d95c8"
      },
      "execution_count": null,
      "outputs": [
        {
          "output_type": "stream",
          "name": "stdout",
          "text": [
            "                                book_name             author  \\\n",
            "1701                     Strange Gateways  E. Hoffmann Price   \n",
            "1741                 Tales from Underwood    David H. Keller   \n",
            "1732  Synthesis & Other Virtual Realities     Mary Rosenblum   \n",
            "\n",
            "                                 genre  similarity_score  \n",
            "1701                   Fantasy, horror          0.998080  \n",
            "1741  Fantasy, horror, science fiction          0.997983  \n",
            "1732                   Science fiction          0.997951  \n"
          ]
        }
      ]
    },
    {
      "cell_type": "code",
      "source": [
        "user_input = \"I want to read some sad book about war and love. Medieval ages, epic battles and drama\"\n",
        "recommended_books = find_similar_books(user_input, df_cleaned)\n",
        "print(recommended_books)"
      ],
      "metadata": {
        "colab": {
          "base_uri": "https://localhost:8080/"
        },
        "id": "6_fXihEI_q-P",
        "outputId": "66fb32b5-7d71-4c79-897f-1f4d5f685c1d"
      },
      "execution_count": null,
      "outputs": [
        {
          "output_type": "stream",
          "name": "stdout",
          "text": [
            "                    book_name        author          genre  similarity_score\n",
            "675               Forest Mage    Robin Hobb  Fantasy novel          0.997211\n",
            "1881  The Two Sisters (novel)   H. E. Bates            NaN          0.997134\n",
            "515            Dream Children  A. N. Wilson          Novel          0.997119\n"
          ]
        }
      ]
    },
    {
      "cell_type": "code",
      "source": [
        "user_input = \"Book about space travelers, discovery of mysterious planets inhabited by strange life forms\"\n",
        "recommended_books = find_similar_books(user_input, df_cleaned)\n",
        "print(recommended_books)"
      ],
      "metadata": {
        "colab": {
          "base_uri": "https://localhost:8080/"
        },
        "id": "t8ma0UyZ_rdS",
        "outputId": "06f64da8-6979-4849-bf6c-65d5835a26ae"
      },
      "execution_count": null,
      "outputs": [
        {
          "output_type": "stream",
          "name": "stdout",
          "text": [
            "                      book_name             author            genre  \\\n",
            "1155  Memories of the Space Age      J. G. Ballard  Science fiction   \n",
            "1701           Strange Gateways  E. Hoffmann Price  Fantasy, horror   \n",
            "47          The Aliens of Earth        Nancy Kress  Science fiction   \n",
            "\n",
            "      similarity_score  \n",
            "1155          0.998344  \n",
            "1701          0.998341  \n",
            "47            0.998209  \n"
          ]
        }
      ]
    },
    {
      "cell_type": "markdown",
      "source": [
        "# **Weighted strategy**"
      ],
      "metadata": {
        "id": "R2y02o10yRVQ"
      }
    },
    {
      "cell_type": "code",
      "source": [
        "#все как в прошлый раз, но попробуем применить веса для эмбеддингов,\n",
        "#потому что описание не всегда идет о самой книге, иногда оно идет про какие-то\n",
        "#награды и тд, что сильно отдаляет от сюжета\n",
        "\n",
        "desc_weight = 0\n",
        "plot_weight = 1\n",
        "\n",
        "def find_similar_books(user_description, df_cleaned, top_n=3):\n",
        "  user_embedding = get_single_embedding(user_description)\n",
        "  if user_embedding is None:\n",
        "    return \"Invalid description provided\"\n",
        "\n",
        "  similarities = []\n",
        "  valid_indices = []\n",
        "\n",
        "  for idx, (desc_emb, plot_emb) in enumerate(zip(df_cleaned[\"description_embedding\"], df_cleaned[\"plot_embedding\"])):\n",
        "    book_embedding = np.array(plot_emb)\n",
        "\n",
        "    similarity = cosine_similarity(user_embedding.reshape(1, -1), book_embedding.reshape(1, -1))[0][0]\n",
        "    similarities.append(similarity)\n",
        "    valid_indices.append(idx)\n",
        "\n",
        "  if not similarities:\n",
        "    return \"No valid embeddings found\"\n",
        "\n",
        "  similarities = np.array(similarities)\n",
        "  top_indices = np.argsort(similarities)[-top_n:][::-1]\n",
        "\n",
        "  recommendations = df_cleaned.iloc[[valid_indices[i] for i in top_indices]][[\"book_name\", \"author\", \"genre\"]].copy()\n",
        "  recommendations[\"similarity_score\"] = similarities[top_indices]\n",
        "\n",
        "  return recommendations"
      ],
      "metadata": {
        "id": "LFFTYugzyPGF"
      },
      "execution_count": null,
      "outputs": []
    },
    {
      "cell_type": "code",
      "source": [
        "user_input = \"A young wizard discovers his magical heritage and attends a school of magic while facing a dark lord\"\n",
        "recommended_books = find_similar_books(user_input, df_cleaned)\n",
        "print(recommended_books)"
      ],
      "metadata": {
        "id": "u4qy0Oi1yTGB",
        "colab": {
          "base_uri": "https://localhost:8080/"
        },
        "outputId": "6ecfa3e0-76ff-4ab5-e7d2-74d5a5d18905"
      },
      "execution_count": null,
      "outputs": [
        {
          "output_type": "stream",
          "name": "stdout",
          "text": [
            "                                         book_name  \\\n",
            "400                              A Crown of Swords   \n",
            "370  Conan the Adventurer (short story collection)   \n",
            "515                                 Dream Children   \n",
            "\n",
            "                                      author              genre  \\\n",
            "400                            Robert Jordan            Fantasy   \n",
            "370  Robert E. Howard and L. Sprague de Camp  Sword and sorcery   \n",
            "515                             A. N. Wilson              Novel   \n",
            "\n",
            "     similarity_score  \n",
            "400          0.997351  \n",
            "370          0.997225  \n",
            "515          0.997191  \n"
          ]
        }
      ]
    },
    {
      "cell_type": "code",
      "source": [
        "user_input = \"Historical novel about brave women and obstacles they have to overcome\"\n",
        "recommended_books = find_similar_books(user_input, df_cleaned)\n",
        "print(recommended_books)"
      ],
      "metadata": {
        "colab": {
          "base_uri": "https://localhost:8080/"
        },
        "id": "vTv6mT35A0OH",
        "outputId": "1e393f78-46cd-4cf0-eb75-3e8f882cc40e"
      },
      "execution_count": null,
      "outputs": [
        {
          "output_type": "stream",
          "name": "stdout",
          "text": [
            "                   book_name  \\\n",
            "400        A Crown of Swords   \n",
            "578     Evermore (anthology)   \n",
            "1502  The Rim of the Unknown   \n",
            "\n",
            "                                                 author  \\\n",
            "400                                       Robert Jordan   \n",
            "578   edited by James Robert Smith and Stephen Mark ...   \n",
            "1502                                 Frank Belknap Long   \n",
            "\n",
            "                                 genre  similarity_score  \n",
            "400                            Fantasy          0.998053  \n",
            "578               horror short stories          0.997994  \n",
            "1502  Fantasy, horror, science fiction          0.997988  \n"
          ]
        }
      ]
    },
    {
      "cell_type": "code",
      "source": [
        "user_input = \"story about animals and their friendship with humans\"\n",
        "recommended_books = find_similar_books(user_input, df_cleaned)\n",
        "print(recommended_books)"
      ],
      "metadata": {
        "colab": {
          "base_uri": "https://localhost:8080/"
        },
        "id": "5-Gf_vQwA2Ln",
        "outputId": "ece13e8a-a6aa-4fec-822e-0b4f7e14c6ad"
      },
      "execution_count": null,
      "outputs": [
        {
          "output_type": "stream",
          "name": "stdout",
          "text": [
            "                                  book_name  \\\n",
            "1155              Memories of the Space Age   \n",
            "1651  Something About Cats and Other Pieces   \n",
            "578                    Evermore (anthology)   \n",
            "\n",
            "                                                 author  \\\n",
            "1155                                      J. G. Ballard   \n",
            "1651                                    H. P. Lovecraft   \n",
            "578   edited by James Robert Smith and Stephen Mark ...   \n",
            "\n",
            "                                 genre  similarity_score  \n",
            "1155                   Science fiction          0.997952  \n",
            "1651  Fantasy, horror, science fiction          0.997836  \n",
            "578               horror short stories          0.997733  \n"
          ]
        }
      ]
    },
    {
      "cell_type": "code",
      "source": [
        "user_input = \"I want to read some sad book about war and love. Medieval ages, epic battles and drama\"\n",
        "recommended_books = find_similar_books(user_input, df_cleaned)\n",
        "print(recommended_books)"
      ],
      "metadata": {
        "colab": {
          "base_uri": "https://localhost:8080/"
        },
        "id": "ygoAnXqSA3mg",
        "outputId": "b20d5235-f792-4259-8462-10b7a37ab492"
      },
      "execution_count": null,
      "outputs": [
        {
          "output_type": "stream",
          "name": "stdout",
          "text": [
            "                 book_name         author  genre  similarity_score\n",
            "1219            My Cleaner     Maggie Gee    NaN          0.997030\n",
            "515         Dream Children   A. N. Wilson  Novel          0.996952\n",
            "191   The Blessing (novel)  Nancy Mitford    NaN          0.996853\n"
          ]
        }
      ]
    },
    {
      "cell_type": "code",
      "source": [
        "user_input = \"Book about space travelers, discovery of mysterious planets inhabited by strange life forms\"\n",
        "recommended_books = find_similar_books(user_input, df_cleaned)\n",
        "print(recommended_books)"
      ],
      "metadata": {
        "colab": {
          "base_uri": "https://localhost:8080/"
        },
        "id": "GwMf3j6jA4zl",
        "outputId": "1c0bea9e-df16-486d-c53a-0eb8e8df7cd5"
      },
      "execution_count": null,
      "outputs": [
        {
          "output_type": "stream",
          "name": "stdout",
          "text": [
            "                       book_name          author            genre  \\\n",
            "1155   Memories of the Space Age   J. G. Ballard  Science fiction   \n",
            "280   The Casebook of Solar Pons  August Derleth        Detective   \n",
            "47           The Aliens of Earth     Nancy Kress  Science fiction   \n",
            "\n",
            "      similarity_score  \n",
            "1155          0.998155  \n",
            "280           0.997987  \n",
            "47            0.997966  \n"
          ]
        }
      ]
    }
  ]
}